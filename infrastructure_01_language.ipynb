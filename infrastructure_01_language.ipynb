{
 "cells": [
  {
   "cell_type": "markdown",
   "metadata": {},
   "source": [
    "# Инфраструктура Python. Введение в язык Python"
   ]
  },
  {
   "cell_type": "markdown",
   "metadata": {},
   "source": [
    "Этот файл имееть целью познакомить читателя с языком программирования Python и изобилием доступных для него библиотек, позволяющих решать широкий спектр задач. Для многих библиотек приведены сниппеты кода, решающие какую-нибудь распространенную задачу. Ссылкой на этот файл можно отвечать на вопрос «почему стоит перейти на Python».\n",
    "\n",
    "Я описываю Python 2.7 из состава Anaconda на 64-битной Windows 7. Python 2 используется, потому что это стабильный язык, и потому что все обновления в Python 3 не решают основных проблем питона (быстродействие и многопоточность), новые возможности языка незначительны, а писать код становится ощутимо неудобнее. В качестве среды описывается Jupyter, который можно пощупать онлайн https://try.jupyter.org/ .\n",
    "\n",
    "Полная документация по Python 2.7 https://docs.python.org/2.7/contents.html"
   ]
  },
  {
   "cell_type": "markdown",
   "metadata": {},
   "source": [
    "## Установка"
   ]
  },
  {
   "cell_type": "markdown",
   "metadata": {},
   "source": [
    "Оптимальным способом для знакомства с Python и его инфраструктурой является пакет Anaconda, включающий в себя большинство популярных библиотек https://docs.anaconda.com/anaconda/packages/py2.7_win-64 и интерактивная среда IPython, входящая в него.\n",
    "\n",
    "1. Скачать https://www.anaconda.com/download/ 64-битный установщик версии 2.7 (примерно 500 МБ), установить для текущего пользователя\n",
    "2. Запустить IPython командой `ipython notebook` в консоли"
   ]
  },
  {
   "cell_type": "markdown",
   "metadata": {},
   "source": [
    "Для сборки многих библиотек Python, включающих исходный код на C/C++ нужно поставить Visual C++ Compiler for Python 2.7 (из Visual Studio 2008, 84 МБ) https://www.microsoft.com/en-us/download/details.aspx?id=44266 . (Для справки: он устанавливается в `c:\\Users\\User\\AppData\\Local\\Programs\\Common\\Microsoft\\Visual C++ for Python\\9.0\\VC\\bin\\x86_amd64\\` ). Команду установки таких библиотек `pip install [library-name]` следует исполнять из пункта Microsoft Visual C++ Compiler Package for Python 2.7\\Visual C++ 2008 64-bit Command Prompt в меню Пуск.\n",
    "\n",
    "Если вы ищете приключений и используете не 2.7, смотрите нужную версию компилятора на вики https://wiki.python.org/moin/WindowsCompilers\n",
    "\n",
    "Сборка некоторых библиотек настолько запутана, что проще воспользоваться готовыми билдами отсюда https://www.lfd.uci.edu/~gohlke/pythonlibs/"
   ]
  },
  {
   "cell_type": "markdown",
   "metadata": {},
   "source": [
    "## Введение в IPython"
   ]
  },
  {
   "cell_type": "markdown",
   "metadata": {},
   "source": [
    "IPython (с развитием и поддержкой других языков он называется еще и Jupyter) позволяет создавать в браузере файлы с расширением .ipynb, хранящие набор ячеек. Часть из них это текст, описывающий происходящее, с поддержкой разметки markdown https://ru.wikipedia.org/wiki/Markdown, математических формул в [синтаксисе $\\LaTeX$](https://ru.wikipedia.org/wiki/%D0%92%D0%B8%D0%BA%D0%B8%D0%BF%D0%B5%D0%B4%D0%B8%D1%8F:%D0%A4%D0%BE%D1%80%D0%BC%D1%83%D0%BB%D1%8B), вставки изображений. Другие позволяют вставлять код и исполнять его нажатием Shift-Enter. При этом вывод кода из In-ячейки и значение последнего выражения (если оно существует) отображается в связанной Out-ячейке. Пример:"
   ]
  },
  {
   "cell_type": "code",
   "execution_count": 1,
   "metadata": {
    "collapsed": false
   },
   "outputs": [
    {
     "name": "stdout",
     "output_type": "stream",
     "text": [
      "Hello, world!\n"
     ]
    },
    {
     "data": {
      "text/plain": [
       "4"
      ]
     },
     "execution_count": 1,
     "metadata": {},
     "output_type": "execute_result"
    }
   ],
   "source": [
    "print \"Hello, world!\"\n",
    "2 + 2"
   ]
  },
  {
   "cell_type": "markdown",
   "metadata": {},
   "source": [
    "Если вывод нужно подавить, можно использовать `;` в конце ячейки"
   ]
  },
  {
   "cell_type": "code",
   "execution_count": 2,
   "metadata": {
    "collapsed": false
   },
   "outputs": [],
   "source": [
    "2 + 2;"
   ]
  },
  {
   "cell_type": "markdown",
   "metadata": {},
   "source": [
    "Дополнительное удобство IPython в том, что по нажатию Shift-Tab можно получить всплывающую подсказку со справкой о функции, в имени которой стоит курсор. Похожий результат дает исполнение ячейки"
   ]
  },
  {
   "cell_type": "code",
   "execution_count": 3,
   "metadata": {
    "collapsed": true
   },
   "outputs": [],
   "source": [
    "?len"
   ]
  },
  {
   "cell_type": "markdown",
   "metadata": {},
   "source": [
    "Простые строковые литералы в ячейке IPython это массивы байт в кодировке UTF-8"
   ]
  },
  {
   "cell_type": "code",
   "execution_count": 4,
   "metadata": {
    "collapsed": false
   },
   "outputs": [
    {
     "name": "stdout",
     "output_type": "stream",
     "text": [
      "5 12\n"
     ]
    }
   ],
   "source": [
    "print len('Hello'), len('Привет')"
   ]
  },
  {
   "cell_type": "markdown",
   "metadata": {},
   "source": [
    "Существует много «магических» команд, которые могут менять или дополнять смысл ячейки. Например:\n",
    "\n",
    "* `%%time` измеряет время, затраченное на исполнение ячейки;\n",
    "* `%%timeit` измеряет время исполнения многократным повтором\n",
    "* `%whos` показывает переменные в глобальной видимости, их тип и значение"
   ]
  },
  {
   "cell_type": "code",
   "execution_count": 5,
   "metadata": {
    "collapsed": false
   },
   "outputs": [
    {
     "name": "stdout",
     "output_type": "stream",
     "text": [
      "Wall time: 618 ms\n"
     ]
    }
   ],
   "source": [
    "%%time\n",
    "from time import sleep\n",
    "sleep(0.618033)"
   ]
  },
  {
   "cell_type": "code",
   "execution_count": 6,
   "metadata": {
    "collapsed": false
   },
   "outputs": [
    {
     "name": "stdout",
     "output_type": "stream",
     "text": [
      "10000 loops, best of 3: 39.3 µs per loop\n"
     ]
    }
   ],
   "source": [
    "%%timeit\n",
    "('a' * 1000000)[768768]"
   ]
  },
  {
   "cell_type": "code",
   "execution_count": 7,
   "metadata": {
    "collapsed": false
   },
   "outputs": [
    {
     "name": "stdout",
     "output_type": "stream",
     "text": [
      "Variable   Type                          Data/Info\n",
      "--------------------------------------------------\n",
      "sleep      builtin_function_or_method    <built-in function sleep>\n"
     ]
    }
   ],
   "source": [
    "%whos"
   ]
  },
  {
   "cell_type": "markdown",
   "metadata": {},
   "source": [
    "Одной из самых распространенных магических команд является `%pylab inline`, превращающая IPython в подобие CAS, добавляя в глобальное пространство имен массу функций из `numpy`, `matplotlib` и других."
   ]
  },
  {
   "cell_type": "code",
   "execution_count": 8,
   "metadata": {
    "collapsed": false
   },
   "outputs": [
    {
     "name": "stdout",
     "output_type": "stream",
     "text": [
      "Populating the interactive namespace from numpy and matplotlib\n"
     ]
    }
   ],
   "source": [
    "%pylab inline"
   ]
  },
  {
   "cell_type": "markdown",
   "metadata": {},
   "source": [
    "а именно\n",
    "\n",
    "```python\n",
    "import numpy\n",
    "import matplotlib\n",
    "from matplotlib import pylab, mlab, pyplot\n",
    "np = numpy\n",
    "plt = pyplot\n",
    "\n",
    "from IPython.display import display\n",
    "from IPython.core.pylabtools import figsize, getfigs\n",
    "\n",
    "from pylab import *\n",
    "from numpy import *  \n",
    "```"
   ]
  },
  {
   "cell_type": "markdown",
   "metadata": {},
   "source": [
    "Во многих примерах кода используются импорты вида `import numpy as np` или `import matplotlib.pyplot as plt`. Я рекомендую избегать этого Вонни-стайл программирования и либо импортировать все имена Scientific Python стека в глобальную область видимости (в блокноте IPython), либо полностью писать путь библиотечного импорта (в отдельных .py файлах)."
   ]
  },
  {
   "cell_type": "markdown",
   "metadata": {},
   "source": [
    "Помимо Python, можно исполнять команды оболочки, используя префикс `!`"
   ]
  },
  {
   "cell_type": "code",
   "execution_count": 9,
   "metadata": {
    "collapsed": false
   },
   "outputs": [
    {
     "name": "stdout",
     "output_type": "stream",
     "text": [
      "\n",
      "Pinging 8.8.8.8 with 32 bytes of data:\n",
      "Reply from 8.8.8.8: bytes=32 time=28ms TTL=55\n",
      "Reply from 8.8.8.8: bytes=32 time=28ms TTL=55\n",
      "Reply from 8.8.8.8: bytes=32 time=27ms TTL=55\n",
      "Reply from 8.8.8.8: bytes=32 time=30ms TTL=55\n",
      "\n",
      "Ping statistics for 8.8.8.8:\n",
      "    Packets: Sent = 4, Received = 4, Lost = 0 (0% loss),\n",
      "Approximate round trip times in milli-seconds:\n",
      "    Minimum = 27ms, Maximum = 30ms, Average = 28ms\n"
     ]
    }
   ],
   "source": [
    "!ping 8.8.8.8"
   ]
  },
  {
   "cell_type": "markdown",
   "metadata": {},
   "source": [
    "## Markdown"
   ]
  },
  {
   "cell_type": "markdown",
   "metadata": {},
   "source": [
    "Для текстовых ячеек используется Markdown. [Официальная документация](http://daringfireball.net/projects/markdown/syntax). Код отмечают 4 пробелами слева, инлайновый — бэктиками. *Курсив*, **жирный**, ~~зачеркнутый~~, `inline-code`. Заголовки предваряются нужным числом #.\n",
    "\n",
    "    *курсив* **жирный** ~~зачеркнутый~~ `inline-code`\n",
    "\n",
    "1. Нумерованный список\n",
    "1. В начале ставится 1.\n",
    "\n",
    "\n",
    "* Ненумерованный список\n",
    "* В начале ставится `*`\n",
    "\n",
    "С \\$ или \\$\\$ можно писать $\\LaTeX$."
   ]
  },
  {
   "cell_type": "markdown",
   "metadata": {},
   "source": [
    "Можно вставлять Python-код с подсветкой (а можно использовать это для отключения ячеек)\n",
    "    ```python\n",
    "    if a % 2 == 0:\n",
    "        print \"a = %d is even\" % a\n",
    "    ```\n",
    "```python\n",
    "if a % 2 == 0:\n",
    "    print \"a = %d is even\" % a\n",
    "```"
   ]
  },
  {
   "cell_type": "markdown",
   "metadata": {},
   "source": [
    "Цитаты\n",
    "\n",
    "    > He said *this*.\n",
    "    > I said *that*.\n",
    "\n",
    "> He said *this*.\n",
    "> I said *that*."
   ]
  },
  {
   "cell_type": "markdown",
   "metadata": {},
   "source": [
    "Таблицы\n",
    "\n",
    "    | This | is   |\n",
    "    |------|------|\n",
    "    |   a  | table|\n",
    "\n",
    "| This | is   |\n",
    "|------|------|\n",
    "|   a  | table|"
   ]
  },
  {
   "cell_type": "markdown",
   "metadata": {},
   "source": [
    "## Введение в программирование на Python"
   ]
  },
  {
   "cell_type": "markdown",
   "metadata": {},
   "source": [
    "Если вы знаете Python, этот раздел можно пропустить. Если вы умеете программировать, но не знакомы с синтаксисом Python, можно прочитать алгоритм Трабба Пардо-Кнута и пропустить раздел."
   ]
  },
  {
   "cell_type": "code",
   "execution_count": 10,
   "metadata": {
    "collapsed": false
   },
   "outputs": [
    {
     "name": "stdout",
     "output_type": "stream",
     "text": [
      "Enter number 1: \n",
      "1\n",
      "Enter number 2: \n",
      "2\n",
      "Enter number 3: \n",
      "3\n",
      "Enter number 4: \n",
      "4\n",
      "Enter number 5: \n",
      "5\n",
      "Enter number 6: \n",
      "6\n",
      "Enter number 7: \n",
      "7\n",
      "Enter number 8: \n",
      "8\n",
      "Enter number 9: \n",
      "9\n",
      "Enter number 10: \n",
      "10\n",
      "Enter number 11: \n",
      "11\n",
      "11.0 is too large\n",
      "10.0 is too large\n",
      "9.0 is too large\n",
      "8.0 is too large\n",
      "7.0 is too large\n",
      "6.0 is too large\n",
      "5.0 is too large\n",
      "322.0\n",
      "136.732050808\n",
      "41.4142135624\n",
      "6.0\n"
     ]
    }
   ],
   "source": [
    "from math import sqrt, fabs\n",
    "\n",
    "l = []\n",
    "while len(l) < 11:\n",
    "    try:\n",
    "        x = float(input(\"Enter number {}: \\n\".format(len(l) + 1)))\n",
    "    except:\n",
    "        print \"Not a valid number\"\n",
    "    l.append(float(x))\n",
    "\n",
    "l.reverse()\n",
    "\n",
    "for i in l:\n",
    "    result = sqrt(fabs(i)) + 5.0 * i**3.0\n",
    "    if result < 400:\n",
    "        print result\n",
    "    else:\n",
    "        print \"{} is too large\".format(i)"
   ]
  },
  {
   "cell_type": "markdown",
   "metadata": {},
   "source": [
    "Программирование это написание кода на языке программирования — последовательности инструкций, понятных специальной программе-компилятору, которая преобразует корректный код (согласно синтаксису языка программирования) в машинный код, простейшие инструкции, который может последовательно исполнять центральный процессор компьютера. В процессе работы программа может обращаться к данным в оперативной памяти, данным на накопителе информации (например, жестком диске), с помощью операционной системы взаимодействовать с устройствами.\n",
    "\n",
    "Машинный код умеет выполнять арифметические вычисления, обращаясь к данным в памяти или регистрах процессора, обращаться к портам оборудования, выполнять переход между разными своими кусками в зависимости от результатов вычислений и примерно все. Каждый императивный язык программирования устроен по тому же принципу: он позволяет вычислять арифметические выражения (такие как 2 + 2 `*` 2, с операторами `+ - * / %` (взятие остатка) `**` (возведение в степень) `^` (побитовое XOR) и другими), вводить-выводить данные (например, оператором `print` как в примере выше), управлять последовательностью исполнения, вводя высокоуровневые конструкции условия, цикла и функции, которые реализовываются в машинном коде просто передачей управления по определенному адресу.\n",
    "\n",
    "Значительная (чаще всего подавляющая) часть кода, который выполняется процессором при исполнении какой-либо программы, написана не автором программы, а другими программистами, которые писали операционную систему, прикладные библиотеки, драйверы оборудования."
   ]
  },
  {
   "cell_type": "markdown",
   "metadata": {},
   "source": [
    "## Последовательное выполнение"
   ]
  },
  {
   "cell_type": "markdown",
   "metadata": {},
   "source": [
    "В отсутствие инструкций управления исполнением (условия, циклы, функции) строки кода исполняется последовательно, по очереди, одна за другой, с первой до последней"
   ]
  },
  {
   "cell_type": "code",
   "execution_count": 11,
   "metadata": {
    "collapsed": false
   },
   "outputs": [
    {
     "name": "stdout",
     "output_type": "stream",
     "text": [
      "Hello, flask\n",
      "add water\n",
      "add concentrated sulfuric acid\n"
     ]
    }
   ],
   "source": [
    "print \"Hello, flask\"\n",
    "print \"add water\"\n",
    "print \"add concentrated sulfuric acid\""
   ]
  },
  {
   "cell_type": "markdown",
   "metadata": {},
   "source": [
    "Данные модифицируются в ходе исполнения программы исполняющимися инструкциями. Данные хранятся в оперативной памяти, для обращения к ним используют переменные — имена, задаваемые программистом (обычно несущие понятный читателю-человеку смысл), связанные со значением. Для присваивания используется оператор `=`, который помещает в переменную слева от него значение выражения справа от него. Присваивание не связано с математическим равенством, для проверки равенства в Python используется `==`."
   ]
  },
  {
   "cell_type": "code",
   "execution_count": 12,
   "metadata": {
    "collapsed": false
   },
   "outputs": [
    {
     "name": "stdout",
     "output_type": "stream",
     "text": [
      "1\n",
      "42\n",
      "2\n",
      "False\n"
     ]
    }
   ],
   "source": [
    "var = 1\n",
    "print var\n",
    "var = var * 42\n",
    "print var\n",
    "var = var / 15\n",
    "print var\n",
    "print var == 3"
   ]
  },
  {
   "cell_type": "markdown",
   "metadata": {},
   "source": [
    "Обратите внимание, что деление целых чисел оператором `/` происходит целочисленно. Если нужно иное, можно использовать вещественные числа, которые с некоторыми ограничениями по точности способны представить дробные числа."
   ]
  },
  {
   "cell_type": "code",
   "execution_count": 13,
   "metadata": {
    "collapsed": false
   },
   "outputs": [
    {
     "name": "stdout",
     "output_type": "stream",
     "text": [
      "2.8 2.8\n"
     ]
    }
   ],
   "source": [
    "print 42.0 / 15, float(42) / 15"
   ]
  },
  {
   "cell_type": "code",
   "execution_count": 14,
   "metadata": {
    "collapsed": false
   },
   "outputs": [
    {
     "name": "stdout",
     "output_type": "stream",
     "text": [
      "2 2.0 2.5 1 -1 -3 2\n"
     ]
    }
   ],
   "source": [
    "print 5/2, 5.//2, 5./2, -5%2, -5%-2, -5/2, -5/-2"
   ]
  },
  {
   "cell_type": "markdown",
   "metadata": {},
   "source": [
    "Выражения вида `var = var * 42` можно записать сокращенно"
   ]
  },
  {
   "cell_type": "code",
   "execution_count": 15,
   "metadata": {
    "collapsed": false
   },
   "outputs": [
    {
     "name": "stdout",
     "output_type": "stream",
     "text": [
      "42\n"
     ]
    }
   ],
   "source": [
    "var = 1\n",
    "var *= 42\n",
    "print var"
   ]
  },
  {
   "cell_type": "markdown",
   "metadata": {},
   "source": [
    "Python имеет встроенную длинную арифметику"
   ]
  },
  {
   "cell_type": "code",
   "execution_count": 16,
   "metadata": {
    "collapsed": false
   },
   "outputs": [
    {
     "data": {
      "text/plain": [
       "10715086071862673209484250490600018105614048117055336074437503883703510511249361224931983788156958581275946729175531468251871452856923140435984577574698574803934567774824230985421074605062371141877954182153046474983581941267398767559165543946077062914571196477686542167660429831652624386837205668069376L"
      ]
     },
     "execution_count": 16,
     "metadata": {},
     "output_type": "execute_result"
    }
   ],
   "source": [
    "2 ** 1000"
   ]
  },
  {
   "cell_type": "code",
   "execution_count": 17,
   "metadata": {
    "collapsed": false
   },
   "outputs": [
    {
     "data": {
      "text/plain": [
       "1001"
      ]
     },
     "execution_count": 17,
     "metadata": {},
     "output_type": "execute_result"
    }
   ],
   "source": [
    "(2 ** 1000).bit_length()"
   ]
  },
  {
   "cell_type": "markdown",
   "metadata": {},
   "source": [
    "## Условие"
   ]
  },
  {
   "cell_type": "markdown",
   "metadata": {},
   "source": [
    "Условия позволяют исполнять тот или иной код в зависимости от значения логического выражения, которое, как правило, состоит из арифметических действий, вызовов функций и логических операторов сравнения, таких как `==`, `!=` (неравенство), `<`, `<=`, `>`, `>=` и булевых операторов `and`, `not`, `or`. В Python отступы в таких составных инструкциях обязательны."
   ]
  },
  {
   "cell_type": "code",
   "execution_count": 18,
   "metadata": {
    "collapsed": false
   },
   "outputs": [
    {
     "name": "stdout",
     "output_type": "stream",
     "text": [
      "a = 42 is even\n"
     ]
    }
   ],
   "source": [
    "a = 42\n",
    "if a % 2 == 0:\n",
    "    print \"a = %d is even\" % a\n",
    "else:\n",
    "    print \"a = %d is odd\" % a"
   ]
  },
  {
   "cell_type": "markdown",
   "metadata": {},
   "source": [
    "Часть с `else` может быть опущена, несколько альтернатив могут быть рассмотрены с помощью `elif`"
   ]
  },
  {
   "cell_type": "code",
   "execution_count": 19,
   "metadata": {
    "collapsed": false
   },
   "outputs": [
    {
     "name": "stdout",
     "output_type": "stream",
     "text": [
      "three\n"
     ]
    }
   ],
   "source": [
    "a = 3\n",
    "if a > 3 or a <= 0:\n",
    "    print 'a is incorrect'\n",
    "\n",
    "if a == 1:\n",
    "    print 'one'\n",
    "elif a == 2:\n",
    "    print 'two'\n",
    "elif a == 3:\n",
    "    print 'three'"
   ]
  },
  {
   "cell_type": "markdown",
   "metadata": {},
   "source": [
    "Условие используется в питоновом аналоге тернарного оператора `condition ? if_true : if_false` из C++"
   ]
  },
  {
   "cell_type": "code",
   "execution_count": 20,
   "metadata": {
    "collapsed": false
   },
   "outputs": [
    {
     "name": "stdout",
     "output_type": "stream",
     "text": [
      "even\n"
     ]
    }
   ],
   "source": [
    "s = 'even' if 42 % 2 == 0 else 'odd'\n",
    "print s"
   ]
  },
  {
   "cell_type": "markdown",
   "metadata": {},
   "source": [
    "## Цикл"
   ]
  },
  {
   "cell_type": "markdown",
   "metadata": {},
   "source": [
    "Цикл это самая сложная конструкция в программировании. Циклы исполняют некоторый набор инструкций (тело цикла) несколько раз (возможно ноль, возможно бесконечно, известное или неизвестное заранее число раз). Форма цикла `for` исполняет инструкции для каждого элемента в каком-нибудь списке (или для каждого ключа в словаре); форма `while` пока верно какое-нибудь условие."
   ]
  },
  {
   "cell_type": "code",
   "execution_count": 21,
   "metadata": {
    "collapsed": false
   },
   "outputs": [
    {
     "name": "stdout",
     "output_type": "stream",
     "text": [
      "3\n",
      "14\n",
      "15\n"
     ]
    }
   ],
   "source": [
    "for a in [3, 14, 15]:\n",
    "    print a"
   ]
  },
  {
   "cell_type": "code",
   "execution_count": 22,
   "metadata": {
    "collapsed": false
   },
   "outputs": [
    {
     "name": "stdout",
     "output_type": "stream",
     "text": [
      "0\n",
      "1\n",
      "2\n"
     ]
    }
   ],
   "source": [
    "for a in range(3):\n",
    "    print a"
   ]
  },
  {
   "cell_type": "markdown",
   "metadata": {},
   "source": [
    "Функция `range` повсеместно используется для генерации списков индексов в массивах. Если нужно очень много итераций цикла, лучше использовать `xrange`, которая вместо длинного списка, жрущего память, возвращает итератор."
   ]
  },
  {
   "cell_type": "code",
   "execution_count": 23,
   "metadata": {
    "collapsed": false
   },
   "outputs": [
    {
     "name": "stdout",
     "output_type": "stream",
     "text": [
      "[0, 1, 2, 3, 4]\n",
      "[2, 3, 4, 5, 6, 7]\n",
      "[1, 3, 5, 7, 9]\n"
     ]
    }
   ],
   "source": [
    "print range(5)\n",
    "print range(2, 8)\n",
    "print range(1, 10, 2)"
   ]
  },
  {
   "cell_type": "code",
   "execution_count": 24,
   "metadata": {
    "collapsed": false
   },
   "outputs": [
    {
     "name": "stdout",
     "output_type": "stream",
     "text": [
      "  1   2   3   4   5   6   7   8   9\n",
      "  2   4   6   8  10  12  14  16  18\n",
      "  3   6   9  12  15  18  21  24  27\n",
      "  4   8  12  16  20  24  28  32  36\n",
      "  5  10  15  20  25  30  35  40  45\n",
      "  6  12  18  24  30  36  42  48  54\n",
      "  7  14  21  28  35  42  49  56  63\n",
      "  8  16  24  32  40  48  56  64  72\n",
      "  9  18  27  36  45  54  63  72  81\n"
     ]
    }
   ],
   "source": [
    "for i in range(1, 10):\n",
    "    for j in range(1, 10):\n",
    "        print '%3d' % (i * j),\n",
    "    print"
   ]
  },
  {
   "cell_type": "markdown",
   "metadata": {},
   "source": [
    "Если по какой-то причине нужно досрочно выйти из цикла или текущей итерации, используют, соответственно `break` и `continue`"
   ]
  },
  {
   "cell_type": "code",
   "execution_count": 25,
   "metadata": {
    "collapsed": false
   },
   "outputs": [
    {
     "name": "stdout",
     "output_type": "stream",
     "text": [
      "9\n"
     ]
    }
   ],
   "source": [
    "a = [3, 1, 4, 1, 5, 9, 2, 6]\n",
    "for digit in a:\n",
    "    if digit > 5:\n",
    "        print digit\n",
    "        break"
   ]
  },
  {
   "cell_type": "code",
   "execution_count": 26,
   "metadata": {
    "collapsed": false
   },
   "outputs": [
    {
     "name": "stdout",
     "output_type": "stream",
     "text": [
      "10 9 8 7 6 5 4 3 2 1 0 Rocket booster ignition and liftoff!\n"
     ]
    }
   ],
   "source": [
    "a = 11\n",
    "while a > 0:\n",
    "    a -= 1\n",
    "    print a,\n",
    "print \"Rocket booster ignition and liftoff!\""
   ]
  },
  {
   "cell_type": "markdown",
   "metadata": {},
   "source": [
    "## Массивы"
   ]
  },
  {
   "cell_type": "markdown",
   "metadata": {},
   "source": [
    "Массивы, как правило, используются в сочетании с циклами для обработки набора однотипных данных.\n",
    "\n",
    "К отдельному элементу массива можно обратиться, используя имя переменной массива и целочисленное неотрицательное выражение (индекс) в квадратных скобках. Для массива индекс должен быть от 0 до длины массива &minus; 1, иначе выскочит исключение `IndexError: list index out of range`. Получить длину массива можно функцией `len`. Вместо `arr[len(arr) - 1]` можно написать `arr[-1]` итп\n",
    "\n",
    "Сами массивы можно записать как последовательность элементов через запятую в квадратных скобках."
   ]
  },
  {
   "cell_type": "code",
   "execution_count": 27,
   "metadata": {
    "collapsed": false
   },
   "outputs": [
    {
     "name": "stdout",
     "output_type": "stream",
     "text": [
      "[1, 2, 3, 4]\n",
      "3\n",
      "2\n"
     ]
    }
   ],
   "source": [
    "a = range(1, 5)\n",
    "print a\n",
    "print a[1 + 1]\n",
    "print a[-3]"
   ]
  },
  {
   "cell_type": "code",
   "execution_count": 28,
   "metadata": {
    "collapsed": false
   },
   "outputs": [
    {
     "name": "stdout",
     "output_type": "stream",
     "text": [
      "mon tue wed thu fri sat sun\n"
     ]
    }
   ],
   "source": [
    "a = ['mon', 'tue', 'wed', 'thu', 'fri', 'sat', 'sun']\n",
    "for i in range(len(a)):\n",
    "    print a[i],"
   ]
  },
  {
   "cell_type": "markdown",
   "metadata": {},
   "source": [
    "С частями массивов удобно работать, используя срезы (слайсы) вида `arr[start:end:step]`, где `:step` может быть опущен, а пропуск `start` и/или `end` задает край массива"
   ]
  },
  {
   "cell_type": "code",
   "execution_count": 29,
   "metadata": {
    "collapsed": false
   },
   "outputs": [
    {
     "name": "stdout",
     "output_type": "stream",
     "text": [
      "[2, 3, 4, 5, 6]\n",
      "[1, 2, 3, 4]\n",
      "[1, 3, 5]\n",
      "[2, 4]\n",
      "[6, 5, 4, 3, 2, 1]\n"
     ]
    }
   ],
   "source": [
    "a = [1,2,3,4,5,6]\n",
    "print a[1:]\n",
    "print a[:-2]\n",
    "print a[::2]\n",
    "print a[1:4:2]\n",
    "print a[::-1]"
   ]
  },
  {
   "cell_type": "markdown",
   "metadata": {},
   "source": [
    "Python определяет несколько удобных операций над массивами"
   ]
  },
  {
   "cell_type": "code",
   "execution_count": 30,
   "metadata": {
    "collapsed": false
   },
   "outputs": [
    {
     "name": "stdout",
     "output_type": "stream",
     "text": [
      "[1, 1, 1, 1, 1]\n",
      "[1, 2, 3, 4]\n",
      "True\n"
     ]
    }
   ],
   "source": [
    "print [1] * 5\n",
    "print [1, 2] + [3, 4]\n",
    "print 5 in [1,2,3,4,5]"
   ]
  },
  {
   "cell_type": "markdown",
   "metadata": {},
   "source": [
    "С осторожностью используйте `*`, мутабельные объекты (вроде списков или словарей) он копирует по ссылке и изменение одного элемента получившегося массива меняет их все."
   ]
  },
  {
   "cell_type": "code",
   "execution_count": 31,
   "metadata": {
    "collapsed": false
   },
   "outputs": [
    {
     "name": "stdout",
     "output_type": "stream",
     "text": [
      "[0, 0, 2, 0, 0]\n",
      "[[0, 1, 0, 0, 0], [0, 1, 0, 0, 0], [0, 1, 0, 0, 0], [0, 1, 0, 0, 0], [0, 1, 0, 0, 0]]\n",
      "379523912 379523912\n",
      "[[0, 0, 0, 0, 0], [0, 1, 0, 0, 0], [0, 0, 0, 0, 0], [0, 0, 0, 0, 0], [0, 0, 0, 0, 0]]\n"
     ]
    }
   ],
   "source": [
    "arr = [0] * 5\n",
    "arr[2] = 2\n",
    "print arr\n",
    "\n",
    "arr = [[0] * 5] * 5\n",
    "arr[1][1] = 1\n",
    "print arr\n",
    "print id(arr[0]), id(arr[1])\n",
    "\n",
    "arr = [[0] * 5 for i in range(5)]\n",
    "arr[1][1] = 1\n",
    "print arr"
   ]
  },
  {
   "cell_type": "markdown",
   "metadata": {},
   "source": [
    "Копирование объектов не по ссылке возможно с использованием встроенной библиотеки `copy`. Функция `copy` копирует только внешний объект, `deepcopy` рекурсивно все, на что он ссылается. Короткие строки все равно не копируются, а хранятся в пуле."
   ]
  },
  {
   "cell_type": "code",
   "execution_count": 32,
   "metadata": {
    "collapsed": true
   },
   "outputs": [],
   "source": [
    "from copy import copy, deepcopy"
   ]
  },
  {
   "cell_type": "code",
   "execution_count": 33,
   "metadata": {
    "collapsed": false
   },
   "outputs": [
    {
     "name": "stdout",
     "output_type": "stream",
     "text": [
      "379525128 48825888\n",
      "68655624 [379525128L, 48825888L]\n",
      "68655624 [379525128L, 48825888L]\n",
      "379589128 [379525128L, 48825888L]\n",
      "355782408 [378503752L, 48825888L]\n"
     ]
    }
   ],
   "source": [
    "s1 = ['abc', 'def']\n",
    "s2 = 'ghi'\n",
    "print id(s1), id(s2)\n",
    "a = [s1, s2]\n",
    "b = a\n",
    "c = copy(a)\n",
    "d = deepcopy(a)\n",
    "print id(a), map(id, a)\n",
    "print id(b), map(id, b)\n",
    "print id(c), map(id, c)\n",
    "print id(d), map(id, d)"
   ]
  },
  {
   "cell_type": "markdown",
   "metadata": {},
   "source": [
    "В список можно добавлять элементы по одному"
   ]
  },
  {
   "cell_type": "code",
   "execution_count": 34,
   "metadata": {
    "collapsed": false
   },
   "outputs": [
    {
     "name": "stdout",
     "output_type": "stream",
     "text": [
      "[1, 2, 3, 4]\n"
     ]
    }
   ],
   "source": [
    "arr = [1,2,3]\n",
    "arr.append(4)\n",
    "print arr"
   ]
  },
  {
   "cell_type": "markdown",
   "metadata": {},
   "source": [
    "Из списка (и других коллекций) можно удалять элементы и срезы"
   ]
  },
  {
   "cell_type": "code",
   "execution_count": 35,
   "metadata": {
    "collapsed": false
   },
   "outputs": [
    {
     "name": "stdout",
     "output_type": "stream",
     "text": [
      "[1, 2, 5, 6]\n"
     ]
    }
   ],
   "source": [
    "arr = [1,2,3,4,5,6]\n",
    "del arr[2:4]\n",
    "print arr"
   ]
  },
  {
   "cell_type": "markdown",
   "metadata": {},
   "source": [
    "Кортеж это иммутабельный список"
   ]
  },
  {
   "cell_type": "code",
   "execution_count": 36,
   "metadata": {
    "collapsed": false
   },
   "outputs": [
    {
     "name": "stdout",
     "output_type": "stream",
     "text": [
      "0 1 1 2 3 5 8 13 21 34 55 89 144 233 377 610 987 1597 2584 4181\n"
     ]
    }
   ],
   "source": [
    "a, b = 0, 1\n",
    "for i in range(20):\n",
    "    print a,\n",
    "    a, b = b, a + b"
   ]
  },
  {
   "cell_type": "markdown",
   "metadata": {},
   "source": [
    "Чаще всего кортежи используются для распаковки какой-нибудь итерируемой последовательности (возможно, вложенной)"
   ]
  },
  {
   "cell_type": "code",
   "execution_count": 37,
   "metadata": {
    "collapsed": false
   },
   "outputs": [
    {
     "name": "stdout",
     "output_type": "stream",
     "text": [
      "1 2 3\n"
     ]
    }
   ],
   "source": [
    "a, (b, c) = [1, (2, 3)]\n",
    "print a, b, c"
   ]
  },
  {
   "cell_type": "markdown",
   "metadata": {},
   "source": [
    "## List comprehension"
   ]
  },
  {
   "cell_type": "markdown",
   "metadata": {},
   "source": [
    "Часто цикл используется для генерации массива. Python предусматривает для этого специальный синтаксис"
   ]
  },
  {
   "cell_type": "code",
   "execution_count": 38,
   "metadata": {
    "collapsed": false
   },
   "outputs": [
    {
     "name": "stdout",
     "output_type": "stream",
     "text": [
      "[1, 4, 9, 16, 25, 36, 49, 64, 81, 100]\n"
     ]
    }
   ],
   "source": [
    "arr = [i ** 2 for i in range(1, 11)]\n",
    "print arr"
   ]
  },
  {
   "cell_type": "markdown",
   "metadata": {},
   "source": [
    "Аналогично можно сгенерировать и словарь или множество. Циклы и условия пишутся в том же порядке, в каком были бы записаны в коде заполнения коллекции"
   ]
  },
  {
   "cell_type": "code",
   "execution_count": 39,
   "metadata": {
    "collapsed": false
   },
   "outputs": [
    {
     "name": "stdout",
     "output_type": "stream",
     "text": [
      "{0: 0, 1: 0, 2: 0, 3: 9, 4: 9, 5: 9, 6: 36, 7: 36, 8: 36, 9: 81, 10: 81, 11: 81, 12: 144, 13: 144, 14: 144, 15: 225, 16: 225, 17: 225, 18: 324, 19: 324, 20: 324, 21: 441, 22: 441, 23: 441, 24: 576, 25: 576, 26: 576, 27: 729, 28: 729, 29: 729}\n"
     ]
    }
   ],
   "source": [
    "d = {i + j : i ** 2 for i in range(30) if i % 3 == 0 for j in range(3)}\n",
    "print d"
   ]
  },
  {
   "cell_type": "code",
   "execution_count": 40,
   "metadata": {
    "collapsed": true
   },
   "outputs": [],
   "source": [
    "import nltk\n",
    "alice = nltk.corpus.gutenberg.raw('carroll-alice.txt')\n",
    "words = nltk.tokenize.word_tokenize(alice)"
   ]
  },
  {
   "cell_type": "code",
   "execution_count": 41,
   "metadata": {
    "collapsed": false
   },
   "outputs": [
    {
     "name": "stdout",
     "output_type": "stream",
     "text": [
      "set([u'quietly', u'quicker', u'quiver', u'quickly', u'queer-shaped', u'question', u'quiet', u'queer-looking', u'quarrelling', u'queerest', u'quarrelled', u'questions', u'queer', u'quick', u'questions.', u'quite', u'quarrel'])\n"
     ]
    }
   ],
   "source": [
    "print {word for word in words if word[0] == 'q'}"
   ]
  },
  {
   "cell_type": "markdown",
   "metadata": {},
   "source": [
    "Вместе с функциями `all` и `any` list comprehension позволяет проверять довольно сложные условия"
   ]
  },
  {
   "cell_type": "code",
   "execution_count": 42,
   "metadata": {
    "collapsed": false
   },
   "outputs": [
    {
     "name": "stdout",
     "output_type": "stream",
     "text": [
      "False\n",
      "True\n"
     ]
    }
   ],
   "source": [
    "print all([ch in 'aeiou' for ch in 'work'])\n",
    "print any([ch in 'aeiou' for ch in 'work'])"
   ]
  },
  {
   "cell_type": "markdown",
   "metadata": {},
   "source": [
    "## Функции и библиотеки"
   ]
  },
  {
   "cell_type": "markdown",
   "metadata": {},
   "source": [
    "Функции позволяют группировать инструкции и вычисления, зависящие от некоторого набора переменных (формальные параметры) вместе под одним именем, а позже вызывать их с набором конкретных значений (фактические параметры). Большинство библиотек предлагают обширные наборы функций, которые можно вызывать из своего кода, если импортировать эту библиотеку, сделав имена из нее доступными. Посмотреть имена модуля можно функцией `dir`."
   ]
  },
  {
   "cell_type": "code",
   "execution_count": 43,
   "metadata": {
    "collapsed": false
   },
   "outputs": [
    {
     "data": {
      "text/plain": [
       "0.8414709848078965"
      ]
     },
     "execution_count": 43,
     "metadata": {},
     "output_type": "execute_result"
    }
   ],
   "source": [
    "import math\n",
    "math.sin(1.0)"
   ]
  },
  {
   "cell_type": "code",
   "execution_count": 44,
   "metadata": {
    "collapsed": false
   },
   "outputs": [
    {
     "name": "stdout",
     "output_type": "stream",
     "text": [
      "-1.0\n"
     ]
    }
   ],
   "source": [
    "from math import cos, pi\n",
    "print cos(pi)"
   ]
  },
  {
   "cell_type": "code",
   "execution_count": 45,
   "metadata": {
    "collapsed": false
   },
   "outputs": [
    {
     "name": "stdout",
     "output_type": "stream",
     "text": [
      "['__doc__', '__name__', '__package__', 'acos', 'acosh', 'asin', 'asinh', 'atan', 'atan2', 'atanh', 'ceil', 'copysign', 'cos', 'cosh', 'degrees', 'e', 'erf', 'erfc', 'exp', 'expm1', 'fabs', 'factorial', 'floor', 'fmod', 'frexp', 'fsum', 'gamma', 'hypot', 'isinf', 'isnan', 'ldexp', 'lgamma', 'log', 'log10', 'log1p', 'modf', 'pi', 'pow', 'radians', 'sin', 'sinh', 'sqrt', 'tan', 'tanh', 'trunc']\n"
     ]
    }
   ],
   "source": [
    "print dir(math)"
   ]
  },
  {
   "cell_type": "markdown",
   "metadata": {},
   "source": [
    "Python ищет библиотеки в текущей папке, `%USERPROFILE%\\Anaconda2\\Lib\\site-packages\\` и некоторых других (см. `sys.path`). Но модуль можно загрузить и с произвольного пути, используя встроенную библиотеку `imp`."
   ]
  },
  {
   "cell_type": "code",
   "execution_count": 46,
   "metadata": {
    "collapsed": false
   },
   "outputs": [
    {
     "name": "stdout",
     "output_type": "stream",
     "text": [
      "['__builtins__', '__doc__', '__file__', '__name__', '__package__', 'simple_function']\n"
     ]
    }
   ],
   "source": [
    "import imp\n",
    "simple_module = imp.load_source('simple_module', 'files/simple_module.py')\n",
    "print dir(simple_module)"
   ]
  },
  {
   "cell_type": "code",
   "execution_count": 47,
   "metadata": {
    "collapsed": false
   },
   "outputs": [
    {
     "name": "stdout",
     "output_type": "stream",
     "text": [
      "7\n",
      "14\n"
     ]
    },
    {
     "data": {
      "text/plain": [
       "(2, 3)"
      ]
     },
     "execution_count": 47,
     "metadata": {},
     "output_type": "execute_result"
    }
   ],
   "source": [
    "def own_function(a, b):\n",
    "    print a + b\n",
    "    return a / b\n",
    "\n",
    "a = own_function(5, 2)\n",
    "b = own_function(11, 3)\n",
    "a, b"
   ]
  },
  {
   "cell_type": "markdown",
   "metadata": {},
   "source": [
    "Если функция ничего не возвращает, она возвращает `None`."
   ]
  },
  {
   "cell_type": "markdown",
   "metadata": {},
   "source": [
    "Функция может возвращать несколько значений, кортежем, которые могут быть тут же распакованы специальным синтаксисом присваивания кортежей. Аналогично можно сделать и в цикле. Функция `enumerate` преобразует массив элементов в массив кортежей (индекс, элемент)"
   ]
  },
  {
   "cell_type": "code",
   "execution_count": 48,
   "metadata": {
    "collapsed": false
   },
   "outputs": [
    {
     "name": "stdout",
     "output_type": "stream",
     "text": [
      "5 10 15 20\n",
      "#0 0 0 0 0\n",
      "#1 1 2 3 4\n",
      "#2 2 4 6 8\n",
      "#3 3 6 9 12\n",
      "#4 4 8 12 16\n"
     ]
    }
   ],
   "source": [
    "def fn(a):\n",
    "    return a, a*2, a*3, a*4\n",
    "\n",
    "a, b, c, d = fn(5)\n",
    "print a, b, c, d\n",
    "\n",
    "corteges = [fn(i) for i in range(5)]\n",
    "for i, (a, b, c, d) in enumerate(corteges):\n",
    "    print '#' + str(i), a, b, c, d"
   ]
  },
  {
   "cell_type": "markdown",
   "metadata": {},
   "source": [
    "Короткую однострочную функцию можно записать сразу же, где она потребовалась, вместо имени. Строки, списки/кортежи сортируются лексикографически."
   ]
  },
  {
   "cell_type": "code",
   "execution_count": 49,
   "metadata": {
    "collapsed": false
   },
   "outputs": [
    {
     "data": {
      "text/plain": [
       "[2, 4, 6, 1, 3, 5]"
      ]
     },
     "execution_count": 49,
     "metadata": {},
     "output_type": "execute_result"
    }
   ],
   "source": [
    "sorted([1, 2, 3, 4, 5, 6], key=lambda x: (x % 2, x))"
   ]
  },
  {
   "cell_type": "markdown",
   "metadata": {},
   "source": [
    "Вместо лямбд иногда можно передавать функции, соответствующие какому-нибудь оператору"
   ]
  },
  {
   "cell_type": "code",
   "execution_count": 50,
   "metadata": {
    "collapsed": false
   },
   "outputs": [
    {
     "name": "stdout",
     "output_type": "stream",
     "text": [
      "[-1, -2, -3]\n",
      "[2, 6, 12]\n",
      "['a1b1', 'a2b2', 'a3b3', 'a4b4']\n"
     ]
    }
   ],
   "source": [
    "import operator\n",
    "print map(operator.neg, [1, 2, 3])\n",
    "print map(operator.mul, [1, 2, 3], [2, 3, 4])\n",
    "print map(operator.add, 'a1 a2 a3 a4'.split(), 'b1 b2 b3 b4'.split())"
   ]
  },
  {
   "cell_type": "code",
   "execution_count": 51,
   "metadata": {
    "collapsed": false
   },
   "outputs": [
    {
     "data": {
      "text/plain": [
       "[[2, 1, 4], [0, 2, 2], [1, 3, 2]]"
      ]
     },
     "execution_count": 51,
     "metadata": {},
     "output_type": "execute_result"
    }
   ],
   "source": [
    "sorted([[0,2,2], [2,1,4], [1,3,2]], key=operator.itemgetter(1))"
   ]
  },
  {
   "cell_type": "markdown",
   "metadata": {},
   "source": [
    "Python поддерживает дефолтные аргументы, которые будут приняты, если не были указаны при вызове; именованые аргументы, чтобы задавать аргументы в произвольной последовательности (должны идти после всех неименованых)"
   ]
  },
  {
   "cell_type": "code",
   "execution_count": 52,
   "metadata": {
    "collapsed": false
   },
   "outputs": [
    {
     "name": "stdout",
     "output_type": "stream",
     "text": [
      "5 4 3.14 4.6692\n",
      "1 42 3.14 2.5029\n"
     ]
    }
   ],
   "source": [
    "def abcd(a, b=42, c=3.14, d=4.6692):\n",
    "    print a, b, c, d\n",
    "\n",
    "abcd(5, 4)\n",
    "abcd(1, d=2.5029)"
   ]
  },
  {
   "cell_type": "markdown",
   "metadata": {},
   "source": [
    "Поддерживаются так же преобразование списков/кортежей и словарей в списки аргументов и наоборот"
   ]
  },
  {
   "cell_type": "code",
   "execution_count": 53,
   "metadata": {
    "collapsed": false
   },
   "outputs": [
    {
     "name": "stdout",
     "output_type": "stream",
     "text": [
      "1 2 3 4\n",
      "1 42 3.14 2.5029\n"
     ]
    }
   ],
   "source": [
    "arr = [1, 2, 3, 4]\n",
    "d = {'a': 1, 'd': 2.5029}\n",
    "abcd(*arr)\n",
    "abcd(**d)"
   ]
  },
  {
   "cell_type": "code",
   "execution_count": 54,
   "metadata": {
    "collapsed": false
   },
   "outputs": [
    {
     "name": "stdout",
     "output_type": "stream",
     "text": [
      "(1, 2, 3) {'another': 'two', 'arg': 'one'}\n"
     ]
    }
   ],
   "source": [
    "def any_args(*args, **kwargs):\n",
    "    print args, kwargs\n",
    "\n",
    "any_args(1, 2, 3, arg='one', another='two')"
   ]
  },
  {
   "cell_type": "markdown",
   "metadata": {},
   "source": [
    "Ключевое слово `global` дает возможность менять глобальную переменную внутри функции"
   ]
  },
  {
   "cell_type": "code",
   "execution_count": 55,
   "metadata": {
    "collapsed": false
   },
   "outputs": [
    {
     "name": "stdout",
     "output_type": "stream",
     "text": [
      "42\n",
      "42\n"
     ]
    }
   ],
   "source": [
    "x = 42\n",
    "def foo():\n",
    "    print x\n",
    "\n",
    "foo()\n",
    "print x"
   ]
  },
  {
   "cell_type": "code",
   "execution_count": 56,
   "metadata": {
    "collapsed": false
   },
   "outputs": [
    {
     "ename": "UnboundLocalError",
     "evalue": "local variable 'x' referenced before assignment",
     "output_type": "error",
     "traceback": [
      "\u001b[1;31m---------------------------------------------------------------------------\u001b[0m",
      "\u001b[1;31mUnboundLocalError\u001b[0m                         Traceback (most recent call last)",
      "\u001b[1;32m<ipython-input-56-7c0073274033>\u001b[0m in \u001b[0;36m<module>\u001b[1;34m()\u001b[0m\n\u001b[0;32m      4\u001b[0m     \u001b[0mx\u001b[0m \u001b[1;33m=\u001b[0m \u001b[1;36m43\u001b[0m\u001b[1;33m\u001b[0m\u001b[0m\n\u001b[0;32m      5\u001b[0m \u001b[1;33m\u001b[0m\u001b[0m\n\u001b[1;32m----> 6\u001b[1;33m \u001b[0mfoo\u001b[0m\u001b[1;33m(\u001b[0m\u001b[1;33m)\u001b[0m\u001b[1;33m\u001b[0m\u001b[0m\n\u001b[0m\u001b[0;32m      7\u001b[0m \u001b[1;32mprint\u001b[0m \u001b[0mx\u001b[0m\u001b[1;33m\u001b[0m\u001b[0m\n",
      "\u001b[1;32m<ipython-input-56-7c0073274033>\u001b[0m in \u001b[0;36mfoo\u001b[1;34m()\u001b[0m\n\u001b[0;32m      1\u001b[0m \u001b[0mx\u001b[0m \u001b[1;33m=\u001b[0m \u001b[1;36m42\u001b[0m\u001b[1;33m\u001b[0m\u001b[0m\n\u001b[0;32m      2\u001b[0m \u001b[1;32mdef\u001b[0m \u001b[0mfoo\u001b[0m\u001b[1;33m(\u001b[0m\u001b[1;33m)\u001b[0m\u001b[1;33m:\u001b[0m\u001b[1;33m\u001b[0m\u001b[0m\n\u001b[1;32m----> 3\u001b[1;33m     \u001b[1;32mprint\u001b[0m \u001b[0mx\u001b[0m\u001b[1;33m\u001b[0m\u001b[0m\n\u001b[0m\u001b[0;32m      4\u001b[0m     \u001b[0mx\u001b[0m \u001b[1;33m=\u001b[0m \u001b[1;36m43\u001b[0m\u001b[1;33m\u001b[0m\u001b[0m\n\u001b[0;32m      5\u001b[0m \u001b[1;33m\u001b[0m\u001b[0m\n",
      "\u001b[1;31mUnboundLocalError\u001b[0m: local variable 'x' referenced before assignment"
     ]
    }
   ],
   "source": [
    "x = 42\n",
    "def foo():\n",
    "    print x\n",
    "    x = 43\n",
    "\n",
    "foo()\n",
    "print x"
   ]
  },
  {
   "cell_type": "code",
   "execution_count": 57,
   "metadata": {
    "collapsed": false
   },
   "outputs": [
    {
     "name": "stdout",
     "output_type": "stream",
     "text": [
      "42\n",
      "43\n"
     ]
    }
   ],
   "source": [
    "x = 42\n",
    "def foo():\n",
    "    global x\n",
    "    print x\n",
    "    x = 43\n",
    "\n",
    "foo()\n",
    "print x"
   ]
  },
  {
   "cell_type": "markdown",
   "metadata": {},
   "source": [
    "Функции допускают частичное применение"
   ]
  },
  {
   "cell_type": "code",
   "execution_count": 58,
   "metadata": {
    "collapsed": false
   },
   "outputs": [
    {
     "data": {
      "text/plain": [
       "(7, 5)"
      ]
     },
     "execution_count": 58,
     "metadata": {},
     "output_type": "execute_result"
    }
   ],
   "source": [
    "from functools import partial\n",
    "def fn(a, b):\n",
    "    return a, b\n",
    "u = partial(fn, b=5)\n",
    "u(7)"
   ]
  },
  {
   "cell_type": "markdown",
   "metadata": {},
   "source": [
    "Возвращаемое значение функции можно закэшировать декоратором `lru_cache`, бэкпортированным из Python 3"
   ]
  },
  {
   "cell_type": "code",
   "execution_count": 59,
   "metadata": {
    "collapsed": false
   },
   "outputs": [],
   "source": [
    "from backports.functools_lru_cache import lru_cache\n",
    "import time\n",
    "@lru_cache(maxsize=10)\n",
    "def long_calculations(n):\n",
    "    time.sleep(1.0)\n",
    "    return n * 42"
   ]
  },
  {
   "cell_type": "code",
   "execution_count": 60,
   "metadata": {
    "collapsed": false
   },
   "outputs": [
    {
     "name": "stdout",
     "output_type": "stream",
     "text": [
      "Wall time: 1 s\n"
     ]
    },
    {
     "data": {
      "text/plain": [
       "42"
      ]
     },
     "execution_count": 60,
     "metadata": {},
     "output_type": "execute_result"
    }
   ],
   "source": [
    "%%time\n",
    "long_calculations(1)"
   ]
  },
  {
   "cell_type": "code",
   "execution_count": 61,
   "metadata": {
    "collapsed": false
   },
   "outputs": [
    {
     "name": "stdout",
     "output_type": "stream",
     "text": [
      "Wall time: 0 ns\n"
     ]
    },
    {
     "data": {
      "text/plain": [
       "42"
      ]
     },
     "execution_count": 61,
     "metadata": {},
     "output_type": "execute_result"
    }
   ],
   "source": [
    "%%time\n",
    "long_calculations(1)"
   ]
  },
  {
   "cell_type": "markdown",
   "metadata": {},
   "source": [
    "## Генераторы"
   ]
  },
  {
   "cell_type": "markdown",
   "metadata": {},
   "source": [
    "Существует способ возвращать из функции значения по мере их вычисления, он называется генераторы. При каждом «возврате» исполнение функции приостанавливается и исполняется код, который захотел получить от генератора очередное значение."
   ]
  },
  {
   "cell_type": "code",
   "execution_count": 62,
   "metadata": {
    "collapsed": false
   },
   "outputs": [
    {
     "name": "stdout",
     "output_type": "stream",
     "text": [
      "I got 0\n",
      "I live again\n",
      "I got 1\n",
      "I live again\n",
      "I got 4\n",
      "I live again\n",
      "I got 9\n",
      "I live again\n",
      "I got 16\n",
      "I live again\n"
     ]
    }
   ],
   "source": [
    "def generator(n):\n",
    "    for i in range(n):\n",
    "        yield i ** 2\n",
    "        print 'I live again'\n",
    "        \n",
    "for square in generator(5):\n",
    "    print 'I got', square"
   ]
  },
  {
   "cell_type": "markdown",
   "metadata": {},
   "source": [
    "Цикл `for k in gen` исполняет `gen.next()` до исключения `StopIteration`."
   ]
  },
  {
   "cell_type": "markdown",
   "metadata": {},
   "source": [
    "Генератор может не только испускать, но и поглощать значения. Для этого вместо `gen.next` используют `gen.send` с одним аргументом, который передает текущему застывшему `yield` данные и возвращает очередное значение от следующего `yield`."
   ]
  },
  {
   "cell_type": "code",
   "execution_count": 63,
   "metadata": {
    "collapsed": false
   },
   "outputs": [
    {
     "name": "stdout",
     "output_type": "stream",
     "text": [
      "generator sent 0\n",
      "0\n",
      "generator rcvd 0\n",
      "generator sent 1\n",
      "generator rcvd None\n",
      "generator sent 2\n",
      "2\n",
      "generator rcvd 4\n",
      "generator sent 3\n",
      "generator rcvd None\n",
      "generator sent 4\n",
      "4\n",
      "generator rcvd 16\n",
      "Got from the caller [0, 4, 16]\n",
      "StopIteration\n"
     ]
    }
   ],
   "source": [
    "def generator():\n",
    "    sent = []\n",
    "    for i in range(5):\n",
    "        print 'generator sent', i\n",
    "        got = yield i\n",
    "        print 'generator rcvd', got\n",
    "        if not got is None:\n",
    "            sent.append(got)\n",
    "    print 'Got from the caller', sent\n",
    "\n",
    "gen = generator()\n",
    "for k in gen:\n",
    "    print k\n",
    "    try:\n",
    "        gen.send(k ** 2)\n",
    "    except StopIteration:\n",
    "        print 'StopIteration'\n",
    "        pass"
   ]
  },
  {
   "cell_type": "markdown",
   "metadata": {},
   "source": [
    "## Типы данных"
   ]
  },
  {
   "cell_type": "markdown",
   "metadata": {},
   "source": [
    "Python умеет оперировать с данными различных типов, основными из которых являются целые числа (неограниченного размера (на самом деле ограниченного RAM)), вещественные числа, комплексные числа, булевы значения `True` и `False`, строки, массивы, кортежи, множества, словари."
   ]
  },
  {
   "cell_type": "code",
   "execution_count": 64,
   "metadata": {
    "collapsed": false
   },
   "outputs": [],
   "source": [
    "import math"
   ]
  },
  {
   "cell_type": "code",
   "execution_count": 65,
   "metadata": {
    "collapsed": false
   },
   "outputs": [
    {
     "name": "stdout",
     "output_type": "stream",
     "text": [
      "90\n",
      "2037035976334486086268445688409378161051468393665936250636140449354381299763336706183397376\n",
      "900000.0\n",
      "\n",
      "(-1+0j)\n",
      "0.0 1.0\n",
      "2.66514414269 (-0.709608865302-2.56893918955j) 2.66514414269\n",
      "\n",
      "Hello world \n",
      "of \"multiline string literals\"\n",
      "skip first newline\n",
      "\n",
      "[1, 2, 3, 4, 5, 6]\n",
      "(1, 2, 3, 4)\n",
      "set([1, 2, 3, 4])\n",
      "set([1, 2, 3, 4])\n",
      "{1: 'one', 2: 'two', 3: 'three'}\n",
      "{'three': 3, 'two': 2, 'one': 1}\n",
      "\n",
      "None\n"
     ]
    }
   ],
   "source": [
    "print 1 + 2 + 0x3D + 0b11010\n",
    "print 2 ** 300\n",
    "print 1e6 - 100000.0\n",
    "print\n",
    "print 1j * 1j\n",
    "print 1j.real, 1j.imag\n",
    "print 2 ** math.sqrt(2), (-2 + 0j) ** math.sqrt(2), abs((-2 + 0j) ** math.sqrt(2))\n",
    "print\n",
    "print \"Hello\" + ' world ' + '''\n",
    "of \"multiline string literals\"'''\n",
    "print '''\\\n",
    "skip first newline'''\n",
    "print\n",
    "print [1, 2, 3] + [4, 5, 6]\n",
    "print (1, 2, 3) + (4,)\n",
    "print set([1, 2, 3, 1, 2, 3, 4])\n",
    "print {1, 2, 3, 1, 2, 3, 4}\n",
    "print {1: 'one', 2: 'two', 3: 'three'}\n",
    "print dict(one=1, two=2, three=3)\n",
    "print\n",
    "print None"
   ]
  },
  {
   "cell_type": "markdown",
   "metadata": {},
   "source": [
    "Для краткости выражения равные `None`, `0`, `0.0`, `0j`, `''`, `()`, `[]`, `{}` в `if` считаются `False`"
   ]
  },
  {
   "cell_type": "code",
   "execution_count": 66,
   "metadata": {
    "collapsed": false
   },
   "outputs": [
    {
     "name": "stdout",
     "output_type": "stream",
     "text": [
      "There is no 8n\n"
     ]
    }
   ],
   "source": [
    "arr = [x for x in [3, 1, 4, 1, 5, 9, 2, 6] if x % 8 == 0]\n",
    "if arr:\n",
    "    print 'There is 8n'\n",
    "else:\n",
    "    print 'There is no 8n'"
   ]
  },
  {
   "cell_type": "code",
   "execution_count": 67,
   "metadata": {
    "collapsed": false
   },
   "outputs": [
    {
     "name": "stdout",
     "output_type": "stream",
     "text": [
      "<type 'dict'>\n",
      "True\n",
      "'literal-like string representation\\n'\n"
     ]
    }
   ],
   "source": [
    "print type({1: 'one'})\n",
    "print type({1: 'one'}) == dict\n",
    "print repr('literal-like string representation\\n')"
   ]
  },
  {
   "cell_type": "markdown",
   "metadata": {},
   "source": [
    "Типы преобразуются друг в друга"
   ]
  },
  {
   "cell_type": "code",
   "execution_count": 68,
   "metadata": {
    "collapsed": false
   },
   "outputs": [
    {
     "name": "stdout",
     "output_type": "stream",
     "text": [
      "123 63 42\n",
      "0b10000 020 0x10\n",
      "3\n",
      "3.0\n",
      "'123'\n"
     ]
    }
   ],
   "source": [
    "print int('123'), int('3F', 16), int('0b101010', 0)\n",
    "print bin(16), oct(16), hex(16)\n",
    "print int(3.14)\n",
    "print float(3)\n",
    "print repr(str(123))"
   ]
  },
  {
   "cell_type": "code",
   "execution_count": 69,
   "metadata": {
    "collapsed": false
   },
   "outputs": [
    {
     "name": "stdout",
     "output_type": "stream",
     "text": [
      "(1, 2, 3)\n",
      "[1, 2, 3]\n"
     ]
    }
   ],
   "source": [
    "print tuple([1,2,3])\n",
    "print list((1,2,3))"
   ]
  },
  {
   "cell_type": "code",
   "execution_count": 70,
   "metadata": {
    "collapsed": false
   },
   "outputs": [
    {
     "name": "stdout",
     "output_type": "stream",
     "text": [
      "[('a', 1), ('b', 2), ('c', 3)]\n",
      "{'a': 1, 'c': 3, 'b': 2}\n"
     ]
    }
   ],
   "source": [
    "print zip('abc', [1,2,3])\n",
    "print dict(zip('abc', [1,2,3]))"
   ]
  },
  {
   "cell_type": "markdown",
   "metadata": {},
   "source": [
    "## Декораторы"
   ]
  },
  {
   "cell_type": "markdown",
   "metadata": {},
   "source": [
    "Декораторы это способ расширить поведение функции, исполнив не ее, а `decorator_value(function_name)`, вычисленный один раз, при встрече объявления. При старте программы вызывается декоратор (в примере возвращаемый вызовом `decor('smth', description='hello')`), который возвращает функцию, которую следует вызывать вместо `foo`. Таким образом, `foo(5)` превращается в:\n",
    "\n",
    "```python\n",
    "cached_fn = dec('smth', description='hello')(foo) # real_dec(foo) = wrapper с захваченным f=foo\n",
    "cached_fn(5) # wrapper(5)\n",
    "```"
   ]
  },
  {
   "cell_type": "code",
   "execution_count": 71,
   "metadata": {
    "collapsed": false
   },
   "outputs": [
    {
     "name": "stdout",
     "output_type": "stream",
     "text": [
      "registered ('smth',) {'description': 'hello'}\n",
      "app start\n",
      "call 5 /call\n",
      "call 6 /call\n"
     ]
    }
   ],
   "source": [
    "def decor(*args, **kwargs):\n",
    "    print 'registered', args, kwargs\n",
    "    def real_dec(f):\n",
    "        def wrapper(*args, **kwargs):\n",
    "            print 'call',\n",
    "            f(*args, **kwargs)\n",
    "            print '/call'\n",
    "        return wrapper\n",
    "    return real_dec\n",
    "\n",
    "@decor('smth', description='hello')\n",
    "def foo(n):\n",
    "    print n,\n",
    "\n",
    "print 'app start'\n",
    "foo(5)\n",
    "foo(6)"
   ]
  },
  {
   "cell_type": "markdown",
   "metadata": {},
   "source": [
    "Чтобы декоратор не портил имя и докстринг функции, используют `functools.wraps`"
   ]
  },
  {
   "cell_type": "code",
   "execution_count": 72,
   "metadata": {
    "collapsed": false
   },
   "outputs": [
    {
     "name": "stdout",
     "output_type": "stream",
     "text": [
      "example 1 __name__: wrapper\n",
      "example 1 __doc__ : None\n",
      "example 2 __name__: example2\n",
      "example 2 __doc__ : Docstring 2\n"
     ]
    }
   ],
   "source": [
    "from functools import wraps\n",
    "\n",
    "def my_decorator_without_wraps(f):\n",
    "    def wrapper(*args, **kwargs):\n",
    "        return f(*args, **kwargs)\n",
    "    return wrapper\n",
    "\n",
    "def my_decorator(f):\n",
    "    @wraps(f)\n",
    "    def wrapper(*args, **kwargs):\n",
    "        return f(*args, **kwargs)\n",
    "    return wrapper\n",
    "\n",
    "\n",
    "@my_decorator_without_wraps\n",
    "def example1():\n",
    "    \"\"\"Docstring 1\"\"\"\n",
    "    return 'example 1'\n",
    "    \n",
    "@my_decorator\n",
    "def example2():\n",
    "    \"\"\"Docstring 2\"\"\"\n",
    "    return 'example 2'\n",
    "\n",
    "\n",
    "print 'example 1 __name__:', example1.__name__\n",
    "print 'example 1 __doc__ :', example1.__doc__\n",
    "print 'example 2 __name__:', example2.__name__\n",
    "print 'example 2 __doc__ :', example2.__doc__"
   ]
  },
  {
   "cell_type": "markdown",
   "metadata": {},
   "source": [
    "## Исключения"
   ]
  },
  {
   "cell_type": "markdown",
   "metadata": {},
   "source": [
    "В ходе исполнения Python может сталкиваться с различными неприятностями, например, обращение к несуществующей переменной (`NameError`), элементу списка (`IndexError`) или словаря (`KeyError`), деление на ноль (`ZeroDivisionError`), недоступность сетевого сервера (например, `ConnectionError`) или импортируемой библиотеки (`ImportError`).\n",
    "\n",
    "В этих случаях для сигнализации невозможности продолжать нормальное исполнение программы бросается исключение (exception), объект с некоторой информацией об ошибке (экземпляр некоторого наследника класса `Exception`), и происходит изменение хода исполнения программы. В случае отсутствия обработчика исключения (блочной инструкции `try`-`except`-`finally`) происходит выход из программы с выводом объекта исключения, при наличии — переход в блок `except` (с наиболее подходящим типом исключения). При наличии блока `finally` происходит исполнение кода в нем, независимо от того, было бы выброшено исключение или нет. В блоке `except` можно произвести обработку, игнорирование, выброс нового или передачу старого исключения выше.\n",
    "\n",
    "Некоторые исключения, происходящие на этапе парсинга кода (такие как `SyntaxError` или `IndentationError`), отловить невозможно."
   ]
  },
  {
   "cell_type": "code",
   "execution_count": 73,
   "metadata": {
    "collapsed": false
   },
   "outputs": [
    {
     "ename": "Exception",
     "evalue": "wat",
     "output_type": "error",
     "traceback": [
      "\u001b[1;31m---------------------------------------------------------------------------\u001b[0m",
      "\u001b[1;31mException\u001b[0m                                 Traceback (most recent call last)",
      "\u001b[1;32m<ipython-input-73-c2cda297f6ef>\u001b[0m in \u001b[0;36m<module>\u001b[1;34m()\u001b[0m\n\u001b[1;32m----> 1\u001b[1;33m \u001b[1;32mraise\u001b[0m \u001b[0mException\u001b[0m\u001b[1;33m(\u001b[0m\u001b[1;34m'wat'\u001b[0m\u001b[1;33m)\u001b[0m\u001b[1;33m\u001b[0m\u001b[0m\n\u001b[0m",
      "\u001b[1;31mException\u001b[0m: wat"
     ]
    }
   ],
   "source": [
    "raise Exception('wat')"
   ]
  },
  {
   "cell_type": "code",
   "execution_count": 74,
   "metadata": {
    "collapsed": false
   },
   "outputs": [
    {
     "name": "stdout",
     "output_type": "stream",
     "text": [
      "in except\n",
      "<type 'exceptions.ImportError'> No module named blabla\n",
      "in finally\n"
     ]
    }
   ],
   "source": [
    "try:\n",
    "    import blabla\n",
    "except Exception as e:\n",
    "    print 'in except'\n",
    "    print type(e), e\n",
    "finally:\n",
    "    print 'in finally'"
   ]
  },
  {
   "cell_type": "code",
   "execution_count": 75,
   "metadata": {
    "collapsed": false
   },
   "outputs": [
    {
     "name": "stdout",
     "output_type": "stream",
     "text": [
      "in finally\n"
     ]
    },
    {
     "ename": "Exception",
     "evalue": "WAT",
     "output_type": "error",
     "traceback": [
      "\u001b[1;31m---------------------------------------------------------------------------\u001b[0m",
      "\u001b[1;31mException\u001b[0m                                 Traceback (most recent call last)",
      "\u001b[1;32m<ipython-input-75-ae46e52ac42d>\u001b[0m in \u001b[0;36m<module>\u001b[1;34m()\u001b[0m\n\u001b[0;32m      2\u001b[0m     \u001b[1;32mraise\u001b[0m \u001b[0mException\u001b[0m\u001b[1;33m(\u001b[0m\u001b[1;34m'wat'\u001b[0m\u001b[1;33m)\u001b[0m\u001b[1;33m\u001b[0m\u001b[0m\n\u001b[0;32m      3\u001b[0m \u001b[1;32mexcept\u001b[0m\u001b[1;33m:\u001b[0m\u001b[1;33m\u001b[0m\u001b[0m\n\u001b[1;32m----> 4\u001b[1;33m     \u001b[1;32mraise\u001b[0m \u001b[0mException\u001b[0m\u001b[1;33m(\u001b[0m\u001b[1;34m'WAT'\u001b[0m\u001b[1;33m)\u001b[0m\u001b[1;33m\u001b[0m\u001b[0m\n\u001b[0m\u001b[0;32m      5\u001b[0m \u001b[1;32mfinally\u001b[0m\u001b[1;33m:\u001b[0m\u001b[1;33m\u001b[0m\u001b[0m\n\u001b[0;32m      6\u001b[0m     \u001b[1;32mprint\u001b[0m \u001b[1;34m'in finally'\u001b[0m\u001b[1;33m\u001b[0m\u001b[0m\n",
      "\u001b[1;31mException\u001b[0m: WAT"
     ]
    }
   ],
   "source": [
    "try:\n",
    "    raise Exception('wat')\n",
    "except:\n",
    "    raise Exception('WAT')\n",
    "finally:\n",
    "    print 'in finally'"
   ]
  },
  {
   "cell_type": "code",
   "execution_count": 76,
   "metadata": {
    "collapsed": false
   },
   "outputs": [
    {
     "name": "stdout",
     "output_type": "stream",
     "text": [
      "in finally\n"
     ]
    },
    {
     "ename": "Exception",
     "evalue": "wat",
     "output_type": "error",
     "traceback": [
      "\u001b[1;31m---------------------------------------------------------------------------\u001b[0m",
      "\u001b[1;31mException\u001b[0m                                 Traceback (most recent call last)",
      "\u001b[1;32m<ipython-input-76-14d67c850a67>\u001b[0m in \u001b[0;36m<module>\u001b[1;34m()\u001b[0m\n\u001b[0;32m      1\u001b[0m \u001b[1;32mtry\u001b[0m\u001b[1;33m:\u001b[0m\u001b[1;33m\u001b[0m\u001b[0m\n\u001b[1;32m----> 2\u001b[1;33m     \u001b[1;32mraise\u001b[0m \u001b[0mException\u001b[0m\u001b[1;33m(\u001b[0m\u001b[1;34m'wat'\u001b[0m\u001b[1;33m)\u001b[0m\u001b[1;33m\u001b[0m\u001b[0m\n\u001b[0m\u001b[0;32m      3\u001b[0m \u001b[1;32mexcept\u001b[0m\u001b[1;33m:\u001b[0m\u001b[1;33m\u001b[0m\u001b[0m\n\u001b[0;32m      4\u001b[0m     \u001b[1;32mraise\u001b[0m\u001b[1;33m\u001b[0m\u001b[0m\n\u001b[0;32m      5\u001b[0m \u001b[1;32mfinally\u001b[0m\u001b[1;33m:\u001b[0m\u001b[1;33m\u001b[0m\u001b[0m\n",
      "\u001b[1;31mException\u001b[0m: wat"
     ]
    }
   ],
   "source": [
    "try:\n",
    "    raise Exception('wat')\n",
    "except:\n",
    "    raise\n",
    "finally:\n",
    "    print 'in finally'"
   ]
  },
  {
   "cell_type": "code",
   "execution_count": 77,
   "metadata": {
    "collapsed": false
   },
   "outputs": [
    {
     "name": "stdout",
     "output_type": "stream",
     "text": [
      "<type 'exceptions.IndexError'> list index out of range\n",
      "<type 'exceptions.KeyError'> 'key'\n",
      "<type 'exceptions.TypeError'> string indices must be integers, not str\n",
      "<type 'exceptions.TypeError'> 'int' object has no attribute '__getitem__'\n"
     ]
    }
   ],
   "source": [
    "arr = []\n",
    "dic = dict()\n",
    "s = ''\n",
    "num = 42\n",
    "for cont, idx in [(arr, 0), (dic, 'key'), (s, '?'), (num, 0)]:\n",
    "    try:\n",
    "        print cont[idx]\n",
    "    except KeyError as e:\n",
    "        print type(e), e\n",
    "    except IndexError as e:\n",
    "        print type(e), e\n",
    "    except Exception as e:\n",
    "        print type(e), e"
   ]
  },
  {
   "cell_type": "markdown",
   "metadata": {},
   "source": [
    "## Контексты"
   ]
  },
  {
   "cell_type": "markdown",
   "metadata": {},
   "source": [
    "Память в Python управляется сборщиком мусора со счетчиком ссылок. Для ресурсов (например, дескрипторов открытых файлов) такая неявная схема не подходит, потому что сборщик мусора не гарантирует, когда он закроет ресурс. Чтобы обойти эту проблему, Python поддерживает контексты.\n",
    "\n",
    "Блок `with expr as a:` использует в качестве `a` результат выражения `expr.__enter__()` и в конце блока в любом случае вызывает `expr.__exit__(typ, value, traceback)` с параметрами выброшенного исключения или `None,None,None` если исключения не было"
   ]
  },
  {
   "cell_type": "code",
   "execution_count": 78,
   "metadata": {
    "collapsed": false
   },
   "outputs": [
    {
     "name": "stdout",
     "output_type": "stream",
     "text": [
      "begin\n",
      "context init\n",
      "enter\n",
      "work\n",
      "exit None None None\n",
      "context close\n",
      "end\n"
     ]
    }
   ],
   "source": [
    "class context:\n",
    "    def __init__(self):\n",
    "        print 'context init'\n",
    "    def __enter__(self):\n",
    "        print 'enter'\n",
    "        return self\n",
    "    def __exit__(self, typ, value, traceback):\n",
    "        print 'exit', typ, value, traceback\n",
    "        self.close()\n",
    "    def work(self):\n",
    "        print 'work'\n",
    "    def close(self):\n",
    "        print 'context close'\n",
    "\n",
    "print 'begin'\n",
    "with context() as ctx:\n",
    "    ctx.work()\n",
    "print 'end'"
   ]
  },
  {
   "cell_type": "markdown",
   "metadata": {},
   "source": [
    "Чтобы избежать бойлерплейта при написании контекстов, можно использовать встроенную библиотеку `contextlib`."
   ]
  },
  {
   "cell_type": "code",
   "execution_count": 79,
   "metadata": {
    "collapsed": false
   },
   "outputs": [
    {
     "name": "stdout",
     "output_type": "stream",
     "text": [
      "before\n",
      "42\n",
      "after\n"
     ]
    }
   ],
   "source": [
    "import contextlib\n",
    "\n",
    "@contextlib.contextmanager\n",
    "def ctx(n):\n",
    "    print 'before'\n",
    "    yield n\n",
    "    print 'after'\n",
    "\n",
    "with ctx(42) as n:\n",
    "    print n"
   ]
  },
  {
   "cell_type": "markdown",
   "metadata": {},
   "source": [
    "Часто контексты используются, чтобы вызывать `.close()` у некоторого ресурса, даже если произошло исключение."
   ]
  },
  {
   "cell_type": "code",
   "execution_count": 80,
   "metadata": {
    "collapsed": false
   },
   "outputs": [
    {
     "name": "stdout",
     "output_type": "stream",
     "text": [
      "work\n",
      "closed\n"
     ]
    },
    {
     "ename": "Exception",
     "evalue": "break",
     "output_type": "error",
     "traceback": [
      "\u001b[1;31m---------------------------------------------------------------------------\u001b[0m",
      "\u001b[1;31mException\u001b[0m                                 Traceback (most recent call last)",
      "\u001b[1;32m<ipython-input-80-d80f1d4533f0>\u001b[0m in \u001b[0;36m<module>\u001b[1;34m()\u001b[0m\n\u001b[0;32m      5\u001b[0m \u001b[1;32mwith\u001b[0m \u001b[0mcontextlib\u001b[0m\u001b[1;33m.\u001b[0m\u001b[0mclosing\u001b[0m\u001b[1;33m(\u001b[0m\u001b[0mA\u001b[0m\u001b[1;33m(\u001b[0m\u001b[1;33m)\u001b[0m\u001b[1;33m)\u001b[0m \u001b[1;32mas\u001b[0m \u001b[0ma\u001b[0m\u001b[1;33m:\u001b[0m\u001b[1;33m\u001b[0m\u001b[0m\n\u001b[0;32m      6\u001b[0m     \u001b[1;32mprint\u001b[0m \u001b[1;34m'work'\u001b[0m\u001b[1;33m\u001b[0m\u001b[0m\n\u001b[1;32m----> 7\u001b[1;33m     \u001b[1;32mraise\u001b[0m \u001b[0mException\u001b[0m\u001b[1;33m(\u001b[0m\u001b[1;34m'break'\u001b[0m\u001b[1;33m)\u001b[0m\u001b[1;33m\u001b[0m\u001b[0m\n\u001b[0m",
      "\u001b[1;31mException\u001b[0m: break"
     ]
    }
   ],
   "source": [
    "class A:\n",
    "    def close(self):\n",
    "        print 'closed'\n",
    "\n",
    "with contextlib.closing(A()) as a:\n",
    "    print 'work'\n",
    "    raise Exception('break')"
   ]
  },
  {
   "cell_type": "markdown",
   "metadata": {},
   "source": [
    "## Инструкция `pass`"
   ]
  },
  {
   "cell_type": "markdown",
   "metadata": {},
   "source": [
    "Поскольку в Python отступы важны, существует способ иметь пустое тело блока и отступ одновременно."
   ]
  },
  {
   "cell_type": "code",
   "execution_count": 81,
   "metadata": {
    "collapsed": false
   },
   "outputs": [
    {
     "ename": "IndentationError",
     "evalue": "expected an indented block (<ipython-input-81-5065c5f5ce4f>, line 4)",
     "output_type": "error",
     "traceback": [
      "\u001b[1;36m  File \u001b[1;32m\"<ipython-input-81-5065c5f5ce4f>\"\u001b[1;36m, line \u001b[1;32m4\u001b[0m\n\u001b[1;33m    else:\u001b[0m\n\u001b[1;37m       ^\u001b[0m\n\u001b[1;31mIndentationError\u001b[0m\u001b[1;31m:\u001b[0m expected an indented block\n"
     ]
    }
   ],
   "source": [
    "a = 42\n",
    "if a % 2:\n",
    "    \n",
    "else:\n",
    "    print a"
   ]
  },
  {
   "cell_type": "code",
   "execution_count": 82,
   "metadata": {
    "collapsed": false
   },
   "outputs": [
    {
     "name": "stdout",
     "output_type": "stream",
     "text": [
      "42\n"
     ]
    }
   ],
   "source": [
    "a = 42\n",
    "if a % 2:\n",
    "    pass\n",
    "else:\n",
    "    print a"
   ]
  },
  {
   "cell_type": "markdown",
   "metadata": {},
   "source": [
    "## Инструкция `assert`"
   ]
  },
  {
   "cell_type": "markdown",
   "metadata": {},
   "source": [
    "Инструкция `assert` служит для проверки инварианта. Если он не соблюдается, бросается исключение `AssertionError`."
   ]
  },
  {
   "cell_type": "code",
   "execution_count": 83,
   "metadata": {
    "collapsed": false
   },
   "outputs": [
    {
     "name": "stdout",
     "output_type": "stream",
     "text": [
      "(3.0, 2.0)\n"
     ]
    },
    {
     "ename": "AssertionError",
     "evalue": "",
     "output_type": "error",
     "traceback": [
      "\u001b[1;31m---------------------------------------------------------------------------\u001b[0m",
      "\u001b[1;31mAssertionError\u001b[0m                            Traceback (most recent call last)",
      "\u001b[1;32m<ipython-input-83-82bd54004cdb>\u001b[0m in \u001b[0;36m<module>\u001b[1;34m()\u001b[0m\n\u001b[0;32m      8\u001b[0m \u001b[1;33m\u001b[0m\u001b[0m\n\u001b[0;32m      9\u001b[0m \u001b[1;32mprint\u001b[0m \u001b[0msolve_quadratic_equation\u001b[0m\u001b[1;33m(\u001b[0m\u001b[1;36m1\u001b[0m\u001b[1;33m,\u001b[0m \u001b[1;33m-\u001b[0m\u001b[1;36m5\u001b[0m\u001b[1;33m,\u001b[0m \u001b[1;36m6\u001b[0m\u001b[1;33m)\u001b[0m\u001b[1;33m\u001b[0m\u001b[0m\n\u001b[1;32m---> 10\u001b[1;33m \u001b[1;32mprint\u001b[0m \u001b[0msolve_quadratic_equation\u001b[0m\u001b[1;33m(\u001b[0m\u001b[1;36m0\u001b[0m\u001b[1;33m,\u001b[0m \u001b[1;33m-\u001b[0m\u001b[1;36m5\u001b[0m\u001b[1;33m,\u001b[0m \u001b[1;36m6\u001b[0m\u001b[1;33m)\u001b[0m\u001b[1;33m\u001b[0m\u001b[0m\n\u001b[0m",
      "\u001b[1;32m<ipython-input-83-82bd54004cdb>\u001b[0m in \u001b[0;36msolve_quadratic_equation\u001b[1;34m(a, b, c)\u001b[0m\n\u001b[0;32m      2\u001b[0m \u001b[1;33m\u001b[0m\u001b[0m\n\u001b[0;32m      3\u001b[0m \u001b[1;32mdef\u001b[0m \u001b[0msolve_quadratic_equation\u001b[0m\u001b[1;33m(\u001b[0m\u001b[0ma\u001b[0m\u001b[1;33m,\u001b[0m \u001b[0mb\u001b[0m\u001b[1;33m,\u001b[0m \u001b[0mc\u001b[0m\u001b[1;33m)\u001b[0m\u001b[1;33m:\u001b[0m\u001b[1;33m\u001b[0m\u001b[0m\n\u001b[1;32m----> 4\u001b[1;33m     \u001b[1;32massert\u001b[0m \u001b[0ma\u001b[0m \u001b[1;33m!=\u001b[0m \u001b[1;36m0\u001b[0m\u001b[1;33m\u001b[0m\u001b[0m\n\u001b[0m\u001b[0;32m      5\u001b[0m     \u001b[0md\u001b[0m \u001b[1;33m=\u001b[0m \u001b[0mb\u001b[0m \u001b[1;33m**\u001b[0m \u001b[1;36m2\u001b[0m \u001b[1;33m-\u001b[0m \u001b[1;36m4\u001b[0m \u001b[1;33m*\u001b[0m \u001b[0ma\u001b[0m \u001b[1;33m*\u001b[0m \u001b[0mc\u001b[0m\u001b[1;33m\u001b[0m\u001b[0m\n\u001b[0;32m      6\u001b[0m     \u001b[1;32massert\u001b[0m \u001b[0md\u001b[0m \u001b[1;33m>=\u001b[0m \u001b[1;36m0\u001b[0m\u001b[1;33m\u001b[0m\u001b[0m\n",
      "\u001b[1;31mAssertionError\u001b[0m: "
     ]
    }
   ],
   "source": [
    "from math import sqrt\n",
    "\n",
    "def solve_quadratic_equation(a, b, c):\n",
    "    assert a != 0\n",
    "    d = b ** 2 - 4 * a * c\n",
    "    assert d >= 0\n",
    "    return (-b + sqrt(d)) / (2 * a), (-b - sqrt(d)) / (2 * a)    \n",
    "\n",
    "print solve_quadratic_equation(1, -5, 6)\n",
    "print solve_quadratic_equation(0, -5, 6)"
   ]
  },
  {
   "cell_type": "markdown",
   "metadata": {},
   "source": [
    "## ООП"
   ]
  },
  {
   "cell_type": "markdown",
   "metadata": {},
   "source": [
    "Python поддерживает объектно-ориентированное программирование, позволяя объявлять классы и создавать объекты этих классов. Класс это объединенные в одну сущность данные (поля) и методы их обработки, которые, как правило, сохраняют некоторый инвариант, свойственный сущности. Методы обращаются к полям и другим методам посредством ссылки `self`, передаваемой первым аргументом."
   ]
  },
  {
   "cell_type": "code",
   "execution_count": 84,
   "metadata": {
    "collapsed": false
   },
   "outputs": [
    {
     "name": "stdout",
     "output_type": "stream",
     "text": [
      "42\n",
      "42\n"
     ]
    }
   ],
   "source": [
    "class Sample:\n",
    "    def __init__(self, x):\n",
    "        self.x = x\n",
    "    def show(self):\n",
    "        print self.x\n",
    "\n",
    "sample = Sample(42)\n",
    "sample.show()\n",
    "print sample.x"
   ]
  },
  {
   "cell_type": "markdown",
   "metadata": {},
   "source": [
    "Кроме обычных методов, вызываемых у объекта-экземпляра класса, Python имеет методы класса и статические методы. Методы класса принимают вместо ссылки `self` на экземпляр переменную, хранящую сам класс. Это используется, например, для создания дополнительных наследуемых конструкторов. Статические методы не принимают вообще никаких аргументов об экземпляре или классе. Вызывать методы класса и статические методы можно как у экземпляра, так и у класса."
   ]
  },
  {
   "cell_type": "code",
   "execution_count": 85,
   "metadata": {
    "collapsed": false
   },
   "outputs": [
    {
     "name": "stdout",
     "output_type": "stream",
     "text": [
      "Sample static\n",
      "__main__.Sample\n"
     ]
    }
   ],
   "source": [
    "class Sample:\n",
    "    @staticmethod\n",
    "    def show_static():\n",
    "        print 'Sample static'\n",
    "    @classmethod\n",
    "    def show_class(cls):\n",
    "        print cls\n",
    "\n",
    "Sample.show_static()\n",
    "Sample.show_class()"
   ]
  },
  {
   "cell_type": "markdown",
   "metadata": {},
   "source": [
    "Объекты пользовательских классов могут поддерживать операторы и некоторые другие конструкции, если в классе объявлен соответствующий магический метод. Таблица наиболее полезных (полный список https://docs.python.org/2/reference/datamodel.html#special-method-names):"
   ]
  },
  {
   "cell_type": "markdown",
   "metadata": {},
   "source": [
    "<table>\n",
    "<tr><td>Конструкция<td>Магический метод</tr>\n",
    "<tr><td>`a + b`<td>`def __add__(self, b):` или `def __radd__(self, a):` (right)</tr>\n",
    "<tr><td>`a += b`<td>`def __iadd__(self, b):` (in-place)</tr>\n",
    "<tr><td colspan=\"2\">Аналогично `sub mul div mov pow lshift rshift and xor or`</tr>\n",
    "<tr><td>`-a`<td>`def __neg__(self): ...`</tr>\n",
    "<tr><td>`~a`<td>`def __invert__(self): ...`</tr>\n",
    "<tr><td>`repr(obj)`<td>`def __repr__(self): ...`</tr>\n",
    "<tr><td>`print obj`<td>`def __str__(self): ...`</tr>\n",
    "<tr><td>`<, <=, >, >=, ==, !=`<td>`\n",
    "@functools.total_ordering\n",
    "class A:\n",
    "    def __eq__(self, rhs): ...\n",
    "    def __lt__(self, rhs): ...\n",
    "`\n",
    "</tr>\n",
    "<tr><td>`{obj: 'value'}`<td>`def __hash__(self): return hash((self.field, ...))`</tr>\n",
    "<tr><td>`obj(...)`<td>`def __call__(self, *args, **args): ...`</tr>\n",
    "<tr><td>`obj.missing = 42\n",
    "print obj.missing`<td>\n",
    "`def __setattr__(self, name, value):\n",
    "    if name in self.__dict__:\n",
    "        self.__dict__[name] = value\n",
    "    else:\n",
    "        print name, value\n",
    "def __getattr__(self, name): return name`\n",
    "</tr>\n",
    "<tr><td>`len(obj)`<td>`def __len__(self): ...`</tr>\n",
    "<tr><td>`arg in obj`<td>`def __contains__(self, arg): ...`</tr>\n",
    "<tr><td>`obj[...]`<td>`def __getitem__(self, key): ...\n",
    "def __setitem__(self, key, value): ...\n",
    "def __delitem__(self, key): ...`</tr>\n",
    "<tr><td>`for i in obj:`<td>\n",
    "`def __iter__(self):\n",
    "    ...\n",
    "    yield value\n",
    "    ...`</tr>\n",
    "</table>"
   ]
  },
  {
   "cell_type": "markdown",
   "metadata": {},
   "source": [
    "Python поддерживает наследование, в том числе множественное. Чтобы всем было удобнее, бывают old-stype и new-style классы. New-style классы имеют `object` в качестве предка, если других предков нет. Профит от них в том, что `type(Cls)` и `type(obj)` возвращают более консистентные результаты, кроме того, new-style классы имеют поле `.__mro__`, хранящее порядок разрешения методов (method resolution order)."
   ]
  },
  {
   "cell_type": "code",
   "execution_count": 86,
   "metadata": {
    "collapsed": false
   },
   "outputs": [],
   "source": [
    "class A(object):\n",
    "    def show(self): print 'A'\n",
    "class B(object):\n",
    "    def show(self): print 'B'\n",
    "class C(A, B):\n",
    "    def show(self): print 'C'\n",
    "class D(C):\n",
    "    def show(self): print 'D'"
   ]
  },
  {
   "cell_type": "code",
   "execution_count": 87,
   "metadata": {
    "collapsed": false
   },
   "outputs": [
    {
     "name": "stdout",
     "output_type": "stream",
     "text": [
      "D\n"
     ]
    }
   ],
   "source": [
    "D().show()"
   ]
  },
  {
   "cell_type": "code",
   "execution_count": 88,
   "metadata": {
    "collapsed": false
   },
   "outputs": [
    {
     "data": {
      "text/plain": [
       "(__main__.D, __main__.C, __main__.A, __main__.B, object)"
      ]
     },
     "execution_count": 88,
     "metadata": {},
     "output_type": "execute_result"
    }
   ],
   "source": [
    "D.__mro__"
   ]
  },
  {
   "cell_type": "markdown",
   "metadata": {},
   "source": [
    "Обращения к полям можно обернуть в методы, используя декоратор `property`."
   ]
  },
  {
   "cell_type": "code",
   "execution_count": 89,
   "metadata": {
    "collapsed": false
   },
   "outputs": [
    {
     "name": "stdout",
     "output_type": "stream",
     "text": [
      "age setter\n",
      "age getter\n",
      "16\n",
      "age deleter\n"
     ]
    }
   ],
   "source": [
    "class Human(object):\n",
    "    @property\n",
    "    def age(self):\n",
    "        print 'age getter'\n",
    "        return self._age\n",
    "    @age.setter\n",
    "    def age(self, age):\n",
    "        print 'age setter'\n",
    "        self._age = age\n",
    "    @age.deleter\n",
    "    def age(self):\n",
    "        print 'age deleter'\n",
    "        del self._age\n",
    "\n",
    "human = Human()\n",
    "human.age = 16\n",
    "print human.age\n",
    "del human.age"
   ]
  },
  {
   "cell_type": "markdown",
   "metadata": {},
   "source": [
    "## Таблицы символов"
   ]
  },
  {
   "cell_type": "markdown",
   "metadata": {},
   "source": [
    "Python поддерживает преобразование строк в символы"
   ]
  },
  {
   "cell_type": "code",
   "execution_count": 90,
   "metadata": {
    "collapsed": false,
    "scrolled": true
   },
   "outputs": [
    {
     "name": "stdout",
     "output_type": "stream",
     "text": [
      "disp union1d all dist viridis sca savez _i58 sleep atleast_2d sci poly1d ptp Subplot frange PackageLoader rayleigh fft2 xkcd rec2csv ix_ resize ylabel iinfo norm FLOATING_POINT_SUPPORT division digit issubsctype MultipleLocator mlab busdaycalendar pkgload mpl unicode0 moveaxis thetagrids choice ERR_RAISE _i61 matrix_power void0 tri lapack_lite diag_indices window_hanning array_equal FormatStrFormatter _i25 _i22 longest_contiguous_ones colors uint32 _i13 _i12 True_ _i10 _i17 _i16 _i15 _i14 indices entropy loads float_power set_numeric_ops pmt rfftfreq nanstd diag_indices_from object0 ishold argpartition plt FPE_OVERFLOW Circle n index_exp append seterrobj spectral nanargmax hstack typename YearLocator diag pyplot axes ERR_WARN uniform polyfit phase_spectrum violinplot install_repl_displayhook memmap axvline irfftn twiny twinx contourf full fmax num2epoch matplotlib l2norm pause sinh unicode_ rgrids b legend trunc box vstack rc_context ERR_PRINT rcParams IndexDateFormatter MO asscalar LogLocator binomial broken_barh poisson HourLocator less_equal l1norm BUFSIZE ginput abcd FR _58 shuffle RAISE csingle dtype unsignedinteger fftshift fastCopyAndTranspose num2date silent_list bitwise_and divmod uintc _i30 Line2D select ticklabel_format deg2rad plot nditer eye figure kron newbuffer positive axhspan busday_offset xticks standard_gamma lstsq print_function _i33 MAXDIMS clabel setxor1d _i34 rk4 fftfreq ifft2 longdouble vlines zeros_like _i62 _i63 _i60 blackman int_asbuffer uint8 _i64 _i65 flag nanmean my_decorator_without_wraps linspace _i32 hold mirr uint64 autumn ma idx f hist2d Text isneginf true_divide det SU DateLocator SHIFT_DIVIDEBYZERO SA finfo scatter Out Normalize spy MinuteLocator quiver any_args triu_indices subplot2grid int_ get_sparse_matrix setp add_newdoc seterrcall sample logical_or minimum own_function WRAP deepcopy tan rms_flat eigvalsh pink winter gcf gci csd RRuleLocator six _i80 polymul hot minorticks_off get_ipython get_figlabels tile array_str axis pinv LogFormatter gca product int16 s_ mat fv arccos docstring decor ifftn asanyarray uint Human negative_binomial npv colormaps types flatnonzero a amin correlate getfigs fromstring pylab_setup left_shift TickHelper subplots searchsorted barbs int64 block array_repr words s1 _i79 long_calculations __ GridSpec get_array_wrap nancumprod xlim rand MONTHLY over intersect1d cosh window_none can_cast ppmt show_config cumsum ravel roots s2 Widget outer intc c fix stineman_interp busday_count cla AxisError gen strpdate2num _i59 standard_exponential subplot_tool choose _i _i38 FPE_INVALID recfromcsv fill_diagonal cool get_fignums exception_to_str SECONDLY logaddexp2 greater suptitle get_backend drange number nancumsum polyint _88 arctan2 Arrow datetime64 complexfloating is_numlike _i50 ndindex ctypeslib waitforbuttonpress PZERO array_equiv MonthLocator asfarray _i46 solve_quadratic_equation nanmedian radians _1 sin _17 fliplr alen recarray dist_point_to_segment _i73 unpackbits _47 bone mean longlong poly_below square isvector ogrid MAY_SHARE_BOUNDS nanargmin r_ hanning operator _i78 connect _i72 str_ margins allclose extract partial float16 uninstall_repl_displayhook ulonglong matrix asarray fftn IndexLocator streamplot void _i28 rc _i26 rec _i24 arange datetime_as_string plotting math _i21 get_cmap log2 date2num __builtins__ rec_join acorr cumproduct diagonal atleast_1d meshgrid eventplot linalg column_stack put ___ remainder isreal get_scale_docs _51 row_stack expm1 dirichlet deprecated insert semilogx semilogy ndfromtxt matmul place DataSource newaxis yticks epoch2num signedinteger ndim copper irfft ranf subplots_adjust rint fill_between Axes MaxNLocator rank little_endian ldexp lognormal lookfor hfft array vsplit common_type size logical_xor _i51 geterrcall figimage jet figaspect sometrue exp2 imshow axhline bool8 logaddexp msort alltrue zeros fn inferno pcolor mintypecode LogFormatterExponent subplot _49 B nansum bool_ _43 inexact D nanpercentile broadcast copyto short arctanh einsum_path rfft typecodes locator_params savetxt copy False_ _i69 std segments_intersect not_equal fromfunction greater_equal tril_indices_from timedelta64 double require rate triplot i _iii num xlabel nested_iters _i11 k getbuffer xcorr slogdet simple_module clip tripcolor _i27 half promote_types tricontour isinteractive eigvals seed triu_indices_from conjugate clim ylim draw_all asfortranarray binary_repr _60 angle _i9 _i8 _i7 _i6 _i5 _i4 _i3 _i2 _i1 figlegend ERR_LOG right_shift take set_state demean FixedFormatter geomspace boxplot SecondLocator logseries byte_bounds trace warnings any Button shares_memory compress isnan histogramdd _i88 _i89 beta flatiter amap multiply np mask_indices detrend_none cbrt amax _i86 _i87 logical_not average partition nltk _i75 _i74 _i77 _i76 _i71 nbytes _ii _ih dic axvspan rollaxis dot int0 pylab _i23 WE nanprod longfloat draw_if_interactive show text random random_integers datetime get_plot_commands stackplot rot90 example2 find _i20 wraps FigureCanvasBase randn savefig title FPE_UNDERFLOW frexp errstate PolarAxes nanmin DAILY UFUNC_BUFSIZE_DEFAULT center_matrix SHIFT_OVERFLOW dsplit infty plotfile ModuleDeprecationWarning get ispower2 NZERO ceil ones add_newdoc_ufunc geometric ihfft gray qr bar heaviside ediff1d median geterr convolve nan_to_num logistic weibull x cycler where rcParamsDefault fftsurr arr SHIFT_UNDERFLOW human argmax minorticks_on prctile flip complex64 polyder result LogFormatterMathtext imread close DayLocator Formatter is_string_like contour rad2deg NullFormatter autoscale get_xyz_where irr sctypeDict hist bivariate_normal NINF isnat min_scalar_type count_nonzero sort_complex typeNA concatenate C imsave _i48 _i49 vdot bincount copysign may_share_memory sctypes transpose style _i42 _i41 detrend_linear corrcoef fromregex imp vector_lengths vectorize AutoLocator _i43 _i44 isrealobj trim_zeros WEEKLY cos detrend log1p DateFormatter equal display _i39 Locator LinAlgError float_ deprecate vander _i31 geterrobj s interactive _i35 clf _i37 _i36 wald fromiter prctile_rank _i29 cm tril ndarray fft solve poly loglog bitwise_or figtext norm_flat tricontourf table cohere normpdf set_printoptions iterable quit get_include pv tensordot piecewise rfftn invert UFUNC_PYVALS_NAME fftpack_lite sinc SHIFT_INVALID ubyte c_ _i47 matrix_rank degrees switch_backend numpy __doc__ empty VisibleDeprecationWarning find_common_type random_sample A longest_ones irfft2 arcsin sctypeNA imag sctype2char singlecomplex savez_compressed sort bytes _i40 csv2rec MachAr apply_along_axis new_figure_manager tight_layout reciprocal tanh tracemalloc_domain dstack float64 Sample angle_spectrum colorbar cast gumbel rfft2 eig packbits contextlib issctype mgrid lru_cache Slider vonmises ushort cont Polygon helper empty_like unicode_literals ctx einsum _i85 signbit cond chisquare magnitude_spectrum conj asmatrix floating setdiff1d bitwise_xor WeekdayLocator fabs cumprod generic reshape NaN cross sqrt __package__ longcomplex poly_between pad split getp floor_divide __version__ format_parser nextafter exponential dedent polyval context SubplotTool flipud i0 permutation disconnect iscomplexobj sys ion quiverkey _exit_code array2string ComplexWarning mafromtxt bartlett polydiv histogram2d stack identity safe_eval ifft cov Figure byte randint trapz PINF rec_drop_fields recfromtxt add_newdocs In ipmt object_ RankWarning ascontiguousarray summer hexbin absolute less putmask apply_over_axes get_state NAN absolute_import typeDict shape ch _i19 setbufsize _i90 cfloat divide detrend_mean isscalar foo generator standard_normal get_current_fig_manager character bench source add uint16 hlines ufunc save plasma Annotation float32 real int32 path_length tril_indices around cbook lexsort get_scale_names complex_ load psd datestr2num test grid issubclass_ atleast_3d nper corteges integer unique mod _sh modf broadcast_to bitwise_not plot_date laplace getbufsize isfortran alice get_printoptions asarray_chkfinite pcolormesh figsize barh sign _dh findobj spring in1d NullLocator real_if_close l FuncFormatter rcdefaults magma hypot logical_and rrule diff diagflat matshow isfinite MINUTELY nonzero kaiser ifftshift uint0 _16 inside_poly normal my_decorator flatten is_closed_polygon polysub exit Rectangle fromfile prod nanmax LinearLocator tensorinv who fmod power array_split zipf stem ioff step percentile hsv example1 FPE_DIVIDEBYZERO __name__ subtract _ mx2num frompyfunc multinomial frombuffer iscomplex Artist fill_betweenx multivariate_normal add_docstring argsort relativedelta fmin bytes_ gamma ScalarFormatter is_busday arcsinh CLIP exp_safe _i57 _i56 _i55 _i54 _i53 _i52 __builtin__ negative annotate d ndenumerate intp _i81 standard_cauchy _i82 standard_t HOURLY arrow _i83 Infinity log _i84 cdouble complex128 tick_params round_ broadcast_arrays inner var slopes log10 ones_like hypergeometric uintp unwrap interp _i68 triangular noncentral_chisquare histogram issubdtype maximum_sctype flexible e squeeze int8 multi_dot cholesky info seterr argmin _i18 fignum_exists genfromtxt rec_append_fields j maximum hamming record obj2sctype _61 clongdouble sum isin euler_gamma arccosh _oh delete YEARLY digitize clongfloat MAY_SHARE_EXACT yscale inv specgram pie _i45 char single isposinf set_cmap hsplit ScalarType noncentral_f triu inf fill expand_dims pareto logspace floor polyadd TU nan TooHardError emath arctan bmat unravel_index prism isclose ERR_DEFAULT TH xscale pi register_cmap roll string0 _i70 compare_chararrays polar draw repeat nanvar exp deprecate_with_doc ALLOW_THREADS _i66 time errorbar ravel_multi_index _i67 string_ isinf spacing Inf fftpack delaxes griddata distances_along_curve movavg ERR_CALL datetime_data nipy_spectral svd ERR_IGNORE chararray full_like result_type gradient base_repr eigh u argwhere loadtxt set_string_function swapaxes FixedLocator tensorsolve\n"
     ]
    }
   ],
   "source": [
    "print ' '.join(globals().keys())"
   ]
  },
  {
   "cell_type": "code",
   "execution_count": 91,
   "metadata": {
    "collapsed": false
   },
   "outputs": [
    {
     "name": "stdout",
     "output_type": "stream",
     "text": [
      "{'a': 42, 'arg': 123}\n"
     ]
    }
   ],
   "source": [
    "def foo(arg):\n",
    "    a = 42\n",
    "    print locals()\n",
    "foo(123)"
   ]
  },
  {
   "cell_type": "code",
   "execution_count": 92,
   "metadata": {
    "collapsed": false
   },
   "outputs": [
    {
     "data": {
      "text/plain": [
       "'ABC'"
      ]
     },
     "execution_count": 92,
     "metadata": {},
     "output_type": "execute_result"
    }
   ],
   "source": [
    "getattr('abc', 'upper')()"
   ]
  },
  {
   "cell_type": "code",
   "execution_count": 93,
   "metadata": {
    "collapsed": false
   },
   "outputs": [
    {
     "data": {
      "text/plain": [
       "False"
      ]
     },
     "execution_count": 93,
     "metadata": {},
     "output_type": "execute_result"
    }
   ],
   "source": [
    "hasattr('abc', 'Upper')"
   ]
  },
  {
   "cell_type": "markdown",
   "metadata": {},
   "source": [
    "## Программирование снаружи IPython"
   ]
  },
  {
   "cell_type": "markdown",
   "metadata": {},
   "source": [
    "Иногда нужно написать свою библиотеку или отдельный `.py`-файл. В начале такого файла следует написать\n",
    "\n",
    "```python\n",
    "# -*- coding: utf-8 -*-\n",
    "```\n",
    "    \n",
    "чтобы интерпретатор был готов к кодировке этого файла. В конце обычно используется сниппет вида\n",
    "\n",
    "```python\n",
    "if __name__ == '__main__':\n",
    "    main()\n",
    "```\n",
    "    \n",
    "который позволяет `.py` файлу исполнять программу, если его запустили `python filename.py`, либо предоставлять API, если его используют как библиотеку `import filename`.\n",
    "\n",
    "Если в библиотеке один файл, его можно положить в текущую папку или в корень `c:\\Users\\User\\Anaconda2\\Lib\\site-packages\\`. Если файлов несколько, следует создать папку `libname` там же, в ней файл `__init__.py`, в котором прописать все нужные `import`, например, \n",
    "\n",
    "```python\n",
    "from .foldername.filename import *\n",
    "```"
   ]
  },
  {
   "cell_type": "markdown",
   "metadata": {},
   "source": [
    "В условиях джаджа используются строки вида\n",
    "\n",
    "```python\n",
    "n = int(raw_input()) # Для ввода одного целого числа в строке\n",
    "a, b, c = map(int, raw_input().split()) # Для ввода нескольких целых чисел в строке\n",
    "arr = map(int, raw_input().split()) # Для ввода массива чисел в строке\n",
    "\n",
    "print answer # Для вывода с переводом строки после\n",
    "print ' '.join(map(str, result_arr)) # Для вывода элементов массива чисел через пробел\n",
    "```\n",
    "\n",
    "В Python 3 есть незначительные отличия\n",
    "\n",
    "```python\n",
    "n = int(input())\n",
    "arr = list(map(int, input().split()))\n",
    "\n",
    "print(answer)\n",
    "```\n",
    "\n",
    "из подводных камней Python 3 можно упомянуть\n",
    "\n",
    "* `print` требует писать скобки;\n",
    "* `input` вместо `raw_input`;\n",
    "* многие функции, например, `range` или `map`, возвращают итератор вместо списка, что требует добавлять `list(...)` вокруг;\n",
    "* по умолчанию используются юникодные строки, усложняющие работу с файлами и другими источниками массивов байт, для которых используется синтаксис литералов `b'...'`;\n",
    "* нормальное поведение целочисленного деления `/` изменено на дурацкое, для нормального поведения используется `//`.\n",
    "\n",
    "Если ввод-вывод на джадже файловый, то\n",
    "\n",
    "```python\n",
    "with open('task.in', 'rb') as fp:\n",
    "    n = int(fp.read())\n",
    "    \n",
    "with open('task.out', 'wb') as fp:\n",
    "    fp.write(str(answer) + '\\n')\n",
    "```"
   ]
  }
 ],
 "metadata": {
  "kernelspec": {
   "display_name": "Python 2",
   "language": "python",
   "name": "python2"
  },
  "language_info": {
   "codemirror_mode": {
    "name": "ipython",
    "version": 2
   },
   "file_extension": ".py",
   "mimetype": "text/x-python",
   "name": "python",
   "nbconvert_exporter": "python",
   "pygments_lexer": "ipython2",
   "version": "2.7.12"
  }
 },
 "nbformat": 4,
 "nbformat_minor": 2
}
