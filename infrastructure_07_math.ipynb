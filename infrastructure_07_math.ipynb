{
 "cells": [
  {
   "cell_type": "markdown",
   "metadata": {},
   "source": [
    "# Инфраструктура Python. Математика, численные вычисления"
   ]
  },
  {
   "cell_type": "markdown",
   "metadata": {},
   "source": [
    "## math"
   ]
  },
  {
   "cell_type": "code",
   "execution_count": 4,
   "metadata": {
    "collapsed": false
   },
   "outputs": [
    {
     "name": "stdout",
     "output_type": "stream",
     "text": [
      " __doc__ __name__ __package__ acos acosh asin asinh atan atan2 atanh ceil copysign cos cosh degrees e erf erfc exp expm1 fabs factorial floor fmod frexp fsum gamma hypot isinf isnan ldexp lgamma log log10 log1p modf pi pow radians sin sinh sqrt tan tanh trunc\n"
     ]
    }
   ],
   "source": [
    "import math\n",
    "print ' '.join(dir(math))"
   ]
  },
  {
   "cell_type": "code",
   "execution_count": 397,
   "metadata": {
    "collapsed": false
   },
   "outputs": [
    {
     "name": "stdout",
     "output_type": "stream",
     "text": [
      "120 120.0 Совпадение? Не думаю.\n"
     ]
    }
   ],
   "source": [
    "print math.factorial(5), math.gamma(5 + 1), 'Совпадение? Не думаю.'"
   ]
  },
  {
   "cell_type": "code",
   "execution_count": 179,
   "metadata": {
    "collapsed": false
   },
   "outputs": [
    {
     "name": "stdout",
     "output_type": "stream",
     "text": [
      "Гипотенуза египетского треугольника 5.0  угол на точку (3,4) 0.643501108793\n"
     ]
    }
   ],
   "source": [
    "print 'Гипотенуза египетского треугольника', math.hypot(3, 4), ' угол на точку (3,4)', math.atan2(3, 4)"
   ]
  },
  {
   "cell_type": "code",
   "execution_count": 7,
   "metadata": {
    "collapsed": false
   },
   "outputs": [
    {
     "name": "stdout",
     "output_type": "stream",
     "text": [
      " 2.71828182846 0.69314718056 3.14159265359 nan True\n"
     ]
    }
   ],
   "source": [
    "print math.e, math.log(2.0), math.pi, float('nan'), math.isnan(float('nan'))"
   ]
  },
  {
   "cell_type": "code",
   "execution_count": 4,
   "metadata": {
    "collapsed": false
   },
   "outputs": [
    {
     "name": "stdout",
     "output_type": "stream",
     "text": [
      "3.14159 101000.0\n"
     ]
    }
   ],
   "source": [
    "print round(math.pi, 5), round(100500, -3)"
   ]
  },
  {
   "cell_type": "code",
   "execution_count": 394,
   "metadata": {
    "collapsed": false
   },
   "outputs": [
    {
     "name": "stdout",
     "output_type": "stream",
     "text": [
      "23/76\n",
      "3\n"
     ]
    }
   ],
   "source": [
    "from fractions import Fraction, gcd\n",
    "print Fraction(123, 456) + Fraction(5, 152)\n",
    "print gcd(123, 456)"
   ]
  },
  {
   "cell_type": "markdown",
   "metadata": {},
   "source": [
    "Функции из `math` работать с комплексными числами не хотят, но можно использовать `numpy`."
   ]
  },
  {
   "cell_type": "code",
   "execution_count": 17,
   "metadata": {
    "collapsed": false
   },
   "outputs": [
    {
     "name": "stdout",
     "output_type": "stream",
     "text": [
      "(0.207879576351+0j) (1.57079632679+2.0634370689j)\n"
     ]
    }
   ],
   "source": [
    "import numpy\n",
    "print 1j ** 1j, numpy.arcsin(4 + 0j)"
   ]
  },
  {
   "cell_type": "markdown",
   "metadata": {},
   "source": [
    "## scipy.special"
   ]
  },
  {
   "cell_type": "markdown",
   "metadata": {},
   "source": [
    "Специальные математические функции родом из матфизов и терверов сокрыты в https://docs.scipy.org/doc/scipy/reference/special.html"
   ]
  },
  {
   "cell_type": "code",
   "execution_count": 419,
   "metadata": {
    "collapsed": false
   },
   "outputs": [
    {
     "name": "stdout",
     "output_type": "stream",
     "text": [
      "(1.28794208736+0j) (4.6692+0j)\n"
     ]
    }
   ],
   "source": [
    "import scipy.special\n",
    "x = scipy.special.lambertw(4.6692)\n",
    "print x, x * exp(x)"
   ]
  },
  {
   "cell_type": "code",
   "execution_count": 424,
   "metadata": {
    "collapsed": false
   },
   "outputs": [
    {
     "name": "stdout",
     "output_type": "stream",
     "text": [
      "1.64493406685 1.64493406685 1.64493306685\n"
     ]
    }
   ],
   "source": [
    "print scipy.special.zeta(2), math.pi ** 2 / 6, sum(i ** (-2) for i in range(1, 1000000))"
   ]
  },
  {
   "cell_type": "code",
   "execution_count": 426,
   "metadata": {
    "collapsed": false
   },
   "outputs": [
    {
     "data": {
      "text/plain": [
       "252.0"
      ]
     },
     "execution_count": 426,
     "metadata": {},
     "output_type": "execute_result"
    }
   ],
   "source": [
    "scipy.special.binom(10, 5)"
   ]
  },
  {
   "cell_type": "code",
   "execution_count": 451,
   "metadata": {
    "collapsed": false
   },
   "outputs": [
    {
     "data": {
      "image/png": "[encoded data removed]",
      "text/plain": [
       "<matplotlib.figure.Figure at 0x26ad2d30>"
      ]
     },
     "metadata": {},
     "output_type": "display_data"
    }
   ],
   "source": [
    "xx = linspace(-4, 4)\n",
    "plot(xx, scipy.special.erf(xx));"
   ]
  },
  {
   "cell_type": "markdown",
   "metadata": {},
   "source": [
    "## random и статистика"
   ]
  },
  {
   "cell_type": "code",
   "execution_count": 2,
   "metadata": {
    "collapsed": false
   },
   "outputs": [],
   "source": [
    "import random\n",
    "import numpy"
   ]
  },
  {
   "cell_type": "code",
   "execution_count": 39,
   "metadata": {
    "collapsed": false
   },
   "outputs": [
    {
     "name": "stdout",
     "output_type": "stream",
     "text": [
      "BPF LOG4 NV_MAGICCONST RECIP_BPF Random SG_MAGICCONST SystemRandom TWOPI WichmannHill betavariate choice division expovariate gammavariate gauss getrandbits getstate jumpahead lognormvariate normalvariate paretovariate randint random randrange sample seed setstate shuffle triangular uniform vonmisesvariate weibullvariate\n"
     ]
    }
   ],
   "source": [
    "print ' '.join([name for name in dir(random) if not name.startswith('_')])"
   ]
  },
  {
   "cell_type": "markdown",
   "metadata": {},
   "source": [
    "Чтобы последовательность случайных чисел повторялась между запусками блокнота, что важно для reproducible research, следует всегда указывать seed источника случайных чисел. Python использует Mersenne twister."
   ]
  },
  {
   "cell_type": "code",
   "execution_count": 40,
   "metadata": {
    "collapsed": false
   },
   "outputs": [],
   "source": [
    "random.seed(0)"
   ]
  },
  {
   "cell_type": "code",
   "execution_count": 41,
   "metadata": {
    "collapsed": false
   },
   "outputs": [
    {
     "data": {
      "text/plain": [
       "0.8444218515250481"
      ]
     },
     "execution_count": 41,
     "metadata": {},
     "output_type": "execute_result"
    }
   ],
   "source": [
    "random.random()"
   ]
  },
  {
   "cell_type": "code",
   "execution_count": 42,
   "metadata": {
    "collapsed": false
   },
   "outputs": [
    {
     "data": {
      "text/plain": [
       "[5, 3, 2, 4, 3, 5, 2, 3, 4, 6]"
      ]
     },
     "execution_count": 42,
     "metadata": {},
     "output_type": "execute_result"
    }
   ],
   "source": [
    "dice = [random.randint(1, 6) for i in range(10)]\n",
    "dice"
   ]
  },
  {
   "cell_type": "markdown",
   "metadata": {},
   "source": [
    "либо"
   ]
  },
  {
   "cell_type": "code",
   "execution_count": 9,
   "metadata": {
    "collapsed": false
   },
   "outputs": [
    {
     "name": "stdout",
     "output_type": "stream",
     "text": [
      "[5 1 4 4 4 2 4 3 5 1]\n",
      "[-0.10321885  0.4105985   0.14404357  1.45427351  0.76103773]\n",
      "[ 0.07103606  0.0871293   0.0202184   0.83261985  0.77815675]\n",
      "[4, 2, 5, 3, 1]\n"
     ]
    }
   ],
   "source": [
    "numpy.random.seed(0)\n",
    "print numpy.random.randint(1, 6, (10,))\n",
    "print numpy.random.randn(5)\n",
    "print numpy.random.random(5)\n",
    "a = [1, 2, 3, 4, 5]\n",
    "numpy.random.shuffle(a)\n",
    "print a"
   ]
  },
  {
   "cell_type": "markdown",
   "metadata": {},
   "source": [
    "Не используйте ГПСЧ в криптографических целях."
   ]
  },
  {
   "cell_type": "code",
   "execution_count": 43,
   "metadata": {
    "collapsed": false
   },
   "outputs": [
    {
     "name": "stdout",
     "output_type": "stream",
     "text": [
      "37 2 6 3.7 3.5 1.26885775404 1.61\n"
     ]
    }
   ],
   "source": [
    "print sum(dice), min(dice), max(dice), numpy.mean(dice), numpy.median(dice), numpy.std(dice), numpy.var(dice)"
   ]
  },
  {
   "cell_type": "code",
   "execution_count": 46,
   "metadata": {
    "collapsed": false
   },
   "outputs": [
    {
     "name": "stdout",
     "output_type": "stream",
     "text": [
      "[2.0, 2.8000000000000003, 3.0, 3.0, 3.5, 4.0, 4.2999999999999998, 5.0, 5.0999999999999996]\n"
     ]
    }
   ],
   "source": [
    "print [numpy.percentile(dice, k) for k in range(10, 100, 10)]"
   ]
  },
  {
   "cell_type": "code",
   "execution_count": 49,
   "metadata": {
    "collapsed": false
   },
   "outputs": [
    {
     "name": "stdout",
     "output_type": "stream",
     "text": [
      "1.61\n",
      "1.26885775404\n",
      "1.26885775404\n",
      "1.33749350985\n",
      "1.33749350985\n"
     ]
    }
   ],
   "source": [
    "mean_square_deviation = numpy.mean((dice - numpy.mean(dice)) ** 2)\n",
    "print mean_square_deviation\n",
    "\n",
    "print numpy.std(dice) # Смещенная оценка\n",
    "print numpy.sqrt(mean_square_deviation)\n",
    "\n",
    "print numpy.std(dice, ddof=1) # Несмещенная оценка /(n-ddof)\n",
    "print numpy.sqrt(mean_square_deviation * len(dice) / (len(dice) - 1))"
   ]
  },
  {
   "cell_type": "markdown",
   "metadata": {},
   "source": [
    "## numpy"
   ]
  },
  {
   "cell_type": "markdown",
   "metadata": {},
   "source": [
    "### Задание массивов"
   ]
  },
  {
   "cell_type": "code",
   "execution_count": 12,
   "metadata": {
    "collapsed": false
   },
   "outputs": [
    {
     "name": "stdout",
     "output_type": "stream",
     "text": [
      "Populating the interactive namespace from numpy and matplotlib\n"
     ]
    },
    {
     "name": "stderr",
     "output_type": "stream",
     "text": [
      "WARNING: pylab import has clobbered these variables: ['random']\n",
      "`%matplotlib` prevents importing * from pylab and numpy\n"
     ]
    }
   ],
   "source": [
    "%pylab inline"
   ]
  },
  {
   "cell_type": "markdown",
   "metadata": {},
   "source": [
    "Numpy предоставляет довольно щедрый набор способов генерации n-мерных массивов"
   ]
  },
  {
   "cell_type": "code",
   "execution_count": 3,
   "metadata": {
    "collapsed": false
   },
   "outputs": [
    {
     "name": "stdout",
     "output_type": "stream",
     "text": [
      "[[1 2 3]\n",
      " [4 5 6]]\n",
      "(2L, 3L) int32\n",
      "6\n",
      "[2 5]\n"
     ]
    }
   ],
   "source": [
    "U = array([[1,2,3],[4,5,6]])\n",
    "print U\n",
    "print U.shape, U.dtype\n",
    "print U[1,2]\n",
    "print U[:,1]"
   ]
  },
  {
   "cell_type": "code",
   "execution_count": 11,
   "metadata": {
    "collapsed": false
   },
   "outputs": [
    {
     "name": "stdout",
     "output_type": "stream",
     "text": [
      "[0 0 0 0 0]\n",
      "[[0 0 0]\n",
      " [0 0 0]]\n",
      "[[ 1.  1.  1.]\n",
      " [ 1.  1.  1.]]\n",
      "[[ 1.  0.  0.  0.]\n",
      " [ 0.  1.  0.  0.]\n",
      " [ 0.  0.  1.  0.]\n",
      " [ 0.  0.  0.  1.]]\n",
      "[[ 1.  0.  0.]\n",
      " [ 0.  1.  0.]\n",
      " [ 0.  0.  1.]]\n",
      "[[ 1.+0.j  0.+0.j  0.+0.j]\n",
      " [ 0.+0.j  2.+0.j  0.+0.j]\n",
      " [ 0.+0.j  0.+0.j  3.+0.j]]\n"
     ]
    }
   ],
   "source": [
    "print zeros(5, dtype=int)\n",
    "print zeros((2,3), 'i')\n",
    "print ones((2,3))\n",
    "print eye(4, 4)\n",
    "print identity(3)\n",
    "print diag([1, 2, 3]).astype(complex)"
   ]
  },
  {
   "cell_type": "code",
   "execution_count": 6,
   "metadata": {
    "collapsed": false
   },
   "outputs": [
    {
     "name": "stdout",
     "output_type": "stream",
     "text": [
      "[0 1 2 3 4] [3 5 7 9]\n",
      "[ 0.          0.02040816  0.04081633  0.06122449  0.08163265  0.10204082\n",
      "  0.12244898  0.14285714  0.16326531  0.18367347  0.20408163  0.2244898\n",
      "  0.24489796  0.26530612  0.28571429  0.30612245  0.32653061  0.34693878\n",
      "  0.36734694  0.3877551   0.40816327  0.42857143  0.44897959  0.46938776\n",
      "  0.48979592  0.51020408  0.53061224  0.55102041  0.57142857  0.59183673\n",
      "  0.6122449   0.63265306  0.65306122  0.67346939  0.69387755  0.71428571\n",
      "  0.73469388  0.75510204  0.7755102   0.79591837  0.81632653  0.83673469\n",
      "  0.85714286  0.87755102  0.89795918  0.91836735  0.93877551  0.95918367\n",
      "  0.97959184  1.        ]\n",
      "[   1.            1.77827941    3.16227766    5.62341325   10.           17.7827941\n",
      "   31.6227766    56.23413252  100.        ]\n"
     ]
    }
   ],
   "source": [
    "print arange(5), arange(3, 11, 2)\n",
    "print linspace(0, 1) # По умолчанию 50 чисел\n",
    "print logspace(0, 2, num=9)"
   ]
  },
  {
   "cell_type": "markdown",
   "metadata": {},
   "source": [
    "Больше возможностей задавать массивы"
   ]
  },
  {
   "cell_type": "code",
   "execution_count": 309,
   "metadata": {
    "collapsed": false
   },
   "outputs": [
    {
     "data": {
      "text/plain": [
       "array([1, 1, 1, 2, 2, 2, 3, 3, 3])"
      ]
     },
     "execution_count": 309,
     "metadata": {},
     "output_type": "execute_result"
    }
   ],
   "source": [
    "arr = [1,2,3]\n",
    "repeat(arr, 3)"
   ]
  },
  {
   "cell_type": "code",
   "execution_count": 228,
   "metadata": {
    "collapsed": false
   },
   "outputs": [
    {
     "data": {
      "text/plain": [
       "array([1, 2, 3, 1, 2, 3, 1, 2, 3])"
      ]
     },
     "execution_count": 228,
     "metadata": {},
     "output_type": "execute_result"
    }
   ],
   "source": [
    "tile(arr, 3)"
   ]
  },
  {
   "cell_type": "code",
   "execution_count": 229,
   "metadata": {
    "collapsed": false
   },
   "outputs": [
    {
     "data": {
      "text/plain": [
       "array([[1, 2, 3, 1, 2, 3, 1, 2, 3],\n",
       "       [1, 2, 3, 1, 2, 3, 1, 2, 3]])"
      ]
     },
     "execution_count": 229,
     "metadata": {},
     "output_type": "execute_result"
    }
   ],
   "source": [
    "tile(arr, (2, 3))"
   ]
  },
  {
   "cell_type": "code",
   "execution_count": 247,
   "metadata": {
    "collapsed": true
   },
   "outputs": [],
   "source": [
    "a = array([1,2,3,4])\n",
    "b = array([1,4,9,16])\n",
    "c = array([1,8,27,64])"
   ]
  },
  {
   "cell_type": "code",
   "execution_count": 256,
   "metadata": {
    "collapsed": false
   },
   "outputs": [
    {
     "data": {
      "text/plain": [
       "array([[ 1,  1,  1],\n",
       "       [ 2,  4,  8],\n",
       "       [ 3,  9, 27],\n",
       "       [ 4, 16, 64]])"
      ]
     },
     "execution_count": 256,
     "metadata": {},
     "output_type": "execute_result"
    }
   ],
   "source": [
    "c_[a, b, c]"
   ]
  },
  {
   "cell_type": "code",
   "execution_count": 241,
   "metadata": {
    "collapsed": false,
    "scrolled": true
   },
   "outputs": [
    {
     "data": {
      "text/plain": [
       "array([[ 1,  2,  3,  4],\n",
       "       [ 1,  4,  9, 16],\n",
       "       [ 1,  8, 27, 64]])"
      ]
     },
     "execution_count": 241,
     "metadata": {},
     "output_type": "execute_result"
    }
   ],
   "source": [
    "r_[a, b, c]"
   ]
  },
  {
   "cell_type": "code",
   "execution_count": 16,
   "metadata": {
    "collapsed": false
   },
   "outputs": [
    {
     "data": {
      "text/plain": [
       "array([[ 0,  0,  0,  0,  0,  0,  0,  0,  0,  0],\n",
       "       [ 0,  1,  2,  3,  4,  5,  6,  7,  8,  9],\n",
       "       [ 0,  2,  4,  6,  8, 10, 12, 14, 16, 18],\n",
       "       [ 0,  3,  6,  9, 12, 15, 18, 21, 24, 27],\n",
       "       [ 0,  4,  8, 12, 16, 20, 24, 28, 32, 36],\n",
       "       [ 0,  5, 10, 15, 20, 25, 30, 35, 40, 45],\n",
       "       [ 0,  6, 12, 18, 24, 30, 36, 42, 48, 54],\n",
       "       [ 0,  7, 14, 21, 28, 35, 42, 49, 56, 63],\n",
       "       [ 0,  8, 16, 24, 32, 40, 48, 56, 64, 72],\n",
       "       [ 0,  9, 18, 27, 36, 45, 54, 63, 72, 81]])"
      ]
     },
     "execution_count": 16,
     "metadata": {},
     "output_type": "execute_result"
    }
   ],
   "source": [
    "a = fromfunction(lambda i,j: i*j, (10,10), dtype=int)\n",
    "a"
   ]
  },
  {
   "cell_type": "markdown",
   "metadata": {},
   "source": [
    "### Экспорт-импорт"
   ]
  },
  {
   "cell_type": "markdown",
   "metadata": {},
   "source": [
    "Массивы numpy можно сохранять в:\n",
    "* текстовый формат (числа, разделенные пробелами) `numpy.savetxt`;\n",
    "* в бинарный формат, где после заголовка данные идут в порядке как в памяти `numpy.save` (расширение `.npy`);\n",
    "* в бинарный формат, но внутри zip-архива `numpy.savez` или `numpy.savez_compressed`, если нужно сжатие (расширение `.npz`). Этот вариант позволяет сохранить несколько массивов в один файл."
   ]
  },
  {
   "cell_type": "code",
   "execution_count": 62,
   "metadata": {
    "collapsed": false
   },
   "outputs": [],
   "source": [
    "numpy.savetxt('numpy.txt', a)\n",
    "numpy.save('numpy', a)\n",
    "numpy.savez('numpy', arr=a)\n",
    "numpy.savez_compressed('numpy_compressed', arr=a)"
   ]
  },
  {
   "cell_type": "code",
   "execution_count": 63,
   "metadata": {
    "collapsed": false
   },
   "outputs": [
    {
     "data": {
      "text/plain": [
       "['numpy.npy', 'numpy.npz', 'numpy.txt', 'numpy_compressed.npz']"
      ]
     },
     "execution_count": 63,
     "metadata": {},
     "output_type": "execute_result"
    }
   ],
   "source": [
    "import glob\n",
    "glob.glob('numpy*')"
   ]
  },
  {
   "cell_type": "code",
   "execution_count": 65,
   "metadata": {
    "collapsed": false
   },
   "outputs": [
    {
     "name": "stdout",
     "output_type": "stream",
     "text": [
      "(10L, 10L)\n",
      "(10L, 10L)\n",
      "(10L, 10L)\n",
      "(10L, 10L)\n"
     ]
    }
   ],
   "source": [
    "print numpy.loadtxt('numpy.txt').shape\n",
    "print numpy.load('numpy.npy').shape\n",
    "print numpy.load('numpy.npz')['arr'].shape\n",
    "print numpy.load('numpy_compressed.npz')['arr'].shape"
   ]
  },
  {
   "cell_type": "markdown",
   "metadata": {},
   "source": [
    "### Арифметика, индексирование, условия"
   ]
  },
  {
   "cell_type": "markdown",
   "metadata": {},
   "source": [
    "Библиотеки `numpy` и `scipy` переопределяют многие математические функции и операторы, чтобы они действовали поэлементно, и в значительной мере дублируют друг друга. Код с использованием векторных операций почти всегда тысячекратно быстрее, чем проходы циклами, и приближается по быстродействию к нативным языкам, поэтому нужно использовать их всегда, когда это только возможно."
   ]
  },
  {
   "cell_type": "code",
   "execution_count": 65,
   "metadata": {
    "collapsed": false
   },
   "outputs": [
    {
     "name": "stdout",
     "output_type": "stream",
     "text": [
      "[[0 1]\n",
      " [3 4]]\n",
      "[[0 3]\n",
      " [1 4]]\n",
      "[[  0.    5.5]\n",
      " [ 16.5  22. ]]\n",
      "[[ 0.          1.        ]\n",
      " [ 1.73205081  2.        ]]\n",
      "[[0 2]\n",
      " [6 8]]\n"
     ]
    }
   ],
   "source": [
    "M = array([[0,1],[3,4]])\n",
    "print M\n",
    "print M.T\n",
    "print M * 5.5\n",
    "print sqrt(M)\n",
    "print M + M"
   ]
  },
  {
   "cell_type": "markdown",
   "metadata": {},
   "source": [
    "Слайсы"
   ]
  },
  {
   "cell_type": "code",
   "execution_count": 110,
   "metadata": {
    "collapsed": false
   },
   "outputs": [
    {
     "name": "stdout",
     "output_type": "stream",
     "text": [
      "[[0 0 0 0 0 0 0]\n",
      " [0 1 1 1 1 1 0]\n",
      " [0 1 2 2 2 1 0]\n",
      " [0 1 2 3 2 1 0]\n",
      " [0 1 2 2 2 1 0]\n",
      " [0 1 1 1 1 1 0]\n",
      " [0 0 0 0 0 0 0]]\n",
      "\n",
      "[[5 5 5 5 5 5 5]\n",
      " [5 1 1 1 1 1 5]\n",
      " [5 1 2 2 2 1 5]\n",
      " [5 1 2 5 2 1 5]\n",
      " [5 1 2 2 2 1 5]\n",
      " [5 1 1 1 1 1 5]\n",
      " [5 5 5 5 5 5 5]]\n"
     ]
    }
   ],
   "source": [
    "a = zeros((7,7), int)\n",
    "a[1:-1, 1:-1] = 1\n",
    "a[2:-2, 2:-2] = 2\n",
    "a[3,3] = 3\n",
    "print a\n",
    "print\n",
    "a[(a == 0) | (a == 3)] = 5\n",
    "print a"
   ]
  },
  {
   "cell_type": "markdown",
   "metadata": {},
   "source": [
    "Индексирование списками"
   ]
  },
  {
   "cell_type": "code",
   "execution_count": 169,
   "metadata": {
    "collapsed": false
   },
   "outputs": [
    {
     "name": "stdout",
     "output_type": "stream",
     "text": [
      "[[ 0 42  0  0  0 42  0]\n",
      " [42  0  0  0  0  0 42]\n",
      " [ 0  0  0  0  0  0  0]\n",
      " [ 0  0  0  0  0  0  0]\n",
      " [ 0  0  0  0  0  0  0]\n",
      " [ 0  0  0  0  0  0  0]\n",
      " [ 0  0  0  0  0  0  0]]\n"
     ]
    }
   ],
   "source": [
    "a = zeros((7,7), int)\n",
    "a[[0,1,0,1], [1,0,-2,-1]] = 42\n",
    "print a"
   ]
  },
  {
   "cell_type": "markdown",
   "metadata": {},
   "source": [
    "Булево индексирование, индексы True в массиве"
   ]
  },
  {
   "cell_type": "code",
   "execution_count": 55,
   "metadata": {
    "collapsed": false
   },
   "outputs": [
    {
     "name": "stdout",
     "output_type": "stream",
     "text": [
      "[1 2 3 4 5 6 7]\n",
      "[False  True False  True  True  True False]\n",
      "[2 4 5 6]\n",
      "(array([1, 3, 4, 5], dtype=int64),)\n"
     ]
    }
   ],
   "source": [
    "a = arange(1, 8)\n",
    "print a\n",
    "mask = (a % 2 == 0) | (a == 5)\n",
    "print mask\n",
    "print a[mask]\n",
    "print where(mask)"
   ]
  },
  {
   "cell_type": "code",
   "execution_count": 56,
   "metadata": {
    "collapsed": false
   },
   "outputs": [
    {
     "data": {
      "text/plain": [
       "(False, True)"
      ]
     },
     "execution_count": 56,
     "metadata": {},
     "output_type": "execute_result"
    }
   ],
   "source": [
    "all(mask), any(mask)"
   ]
  },
  {
   "cell_type": "code",
   "execution_count": 1,
   "metadata": {
    "collapsed": false
   },
   "outputs": [
    {
     "name": "stdout",
     "output_type": "stream",
     "text": [
      "Populating the interactive namespace from numpy and matplotlib\n"
     ]
    }
   ],
   "source": [
    "%pylab inline"
   ]
  },
  {
   "cell_type": "code",
   "execution_count": 2,
   "metadata": {
    "collapsed": false
   },
   "outputs": [
    {
     "data": {
      "text/plain": [
       "array([101, 101, 101, 102, 103])"
      ]
     },
     "execution_count": 2,
     "metadata": {},
     "output_type": "execute_result"
    }
   ],
   "source": [
    "take([100, 101, 102, 103], [1, 1, 1, 2, 3])"
   ]
  },
  {
   "cell_type": "code",
   "execution_count": 5,
   "metadata": {
    "collapsed": false
   },
   "outputs": [
    {
     "data": {
      "text/plain": [
       "array([666, 101, 102, 667])"
      ]
     },
     "execution_count": 5,
     "metadata": {},
     "output_type": "execute_result"
    }
   ],
   "source": [
    "arr = array([100, 101, 102, 103])\n",
    "put(arr, [0, 3], [666, 667, 668])\n",
    "arr"
   ]
  },
  {
   "cell_type": "code",
   "execution_count": 105,
   "metadata": {
    "collapsed": false
   },
   "outputs": [
    {
     "data": {
      "text/plain": [
       "array([False,  True,  True, False,  True, False,  True], dtype=bool)"
      ]
     },
     "execution_count": 105,
     "metadata": {},
     "output_type": "execute_result"
    }
   ],
   "source": [
    "in1d(a, [2, 3, 5, 7]) # [elem in B for elem in A]"
   ]
  },
  {
   "cell_type": "markdown",
   "metadata": {},
   "source": [
    "Выбор (под)массива по условию или по индексу"
   ]
  },
  {
   "cell_type": "code",
   "execution_count": 58,
   "metadata": {
    "collapsed": true
   },
   "outputs": [],
   "source": [
    "which = array([1, 0, 1, 2])"
   ]
  },
  {
   "cell_type": "code",
   "execution_count": 59,
   "metadata": {
    "collapsed": false
   },
   "outputs": [
    {
     "data": {
      "text/plain": [
       "array([ 6, -3,  8,  9])"
      ]
     },
     "execution_count": 59,
     "metadata": {},
     "output_type": "execute_result"
    }
   ],
   "source": [
    "where(which == 0, [-2,-3,-4,-5], [6,7,8,9]) # [B[i] if A[i] else C[i] for i in enumerate(A)]"
   ]
  },
  {
   "cell_type": "code",
   "execution_count": 61,
   "metadata": {
    "collapsed": false
   },
   "outputs": [
    {
     "data": {
      "text/plain": [
       "array([  6,  -3,   8, 103])"
      ]
     },
     "execution_count": 61,
     "metadata": {},
     "output_type": "execute_result"
    }
   ],
   "source": [
    "choose(which, [[-2,-3,-4,-5], [6,7,8,9], [100,101,102,103]]) # [B[elem] for elem in A]"
   ]
  },
  {
   "cell_type": "markdown",
   "metadata": {},
   "source": [
    "### Изменение формы"
   ]
  },
  {
   "cell_type": "code",
   "execution_count": 121,
   "metadata": {
    "collapsed": false
   },
   "outputs": [
    {
     "data": {
      "text/plain": [
       "array([1, 2, 3, 4])"
      ]
     },
     "execution_count": 121,
     "metadata": {},
     "output_type": "execute_result"
    }
   ],
   "source": [
    "a = array([1,2,3,4])\n",
    "a"
   ]
  },
  {
   "cell_type": "code",
   "execution_count": 122,
   "metadata": {
    "collapsed": false
   },
   "outputs": [
    {
     "data": {
      "text/plain": [
       "array([[1, 2, 3, 4]])"
      ]
     },
     "execution_count": 122,
     "metadata": {},
     "output_type": "execute_result"
    }
   ],
   "source": [
    "a2d = a[newaxis,:]\n",
    "a2d"
   ]
  },
  {
   "cell_type": "code",
   "execution_count": 123,
   "metadata": {
    "collapsed": false
   },
   "outputs": [
    {
     "data": {
      "text/plain": [
       "array([[1],\n",
       "       [2],\n",
       "       [3],\n",
       "       [4]])"
      ]
     },
     "execution_count": 123,
     "metadata": {},
     "output_type": "execute_result"
    }
   ],
   "source": [
    "a2d.T"
   ]
  },
  {
   "cell_type": "code",
   "execution_count": 121,
   "metadata": {
    "collapsed": false
   },
   "outputs": [
    {
     "name": "stdout",
     "output_type": "stream",
     "text": [
      "[[1 2 3 4]\n",
      " [5 6 7 8]]\n",
      "[[1 2]\n",
      " [3 4]\n",
      " [5 6]\n",
      " [7 8]]\n",
      "[1 2 3 4 5 6 7 8]\n",
      "[[[1 2 3 4]\n",
      "  [5 6 7 8]]]\n",
      "[[1 5]\n",
      " [2 6]\n",
      " [3 7]\n",
      " [4 8]]\n",
      "[[1 5]\n",
      " [2 6]\n",
      " [3 7]\n",
      " [4 8]]\n"
     ]
    }
   ],
   "source": [
    "a = array([[1,2,3,4],[5,6,7,8]])\n",
    "print a\n",
    "print a.reshape((4, -1))\n",
    "print a.ravel()\n",
    "print a[newaxis, :, :]\n",
    "print a.swapaxes(0, 1)\n",
    "print a.transpose(1, 0)"
   ]
  },
  {
   "cell_type": "markdown",
   "metadata": {},
   "source": [
    "### Агрегирующие функции"
   ]
  },
  {
   "cell_type": "markdown",
   "metadata": {},
   "source": [
    "Агрегирующие функции из состава `numpy` убирают одну или несколько осей (номера исчезающих осей задаются аргументом `axis`) в многомерном массиве"
   ]
  },
  {
   "cell_type": "code",
   "execution_count": null,
   "metadata": {
    "collapsed": true
   },
   "outputs": [],
   "source": [
    "from numpy import array, diag\n",
    "M = array([[0,1],[3,4]])"
   ]
  },
  {
   "cell_type": "code",
   "execution_count": 174,
   "metadata": {
    "collapsed": false
   },
   "outputs": [
    {
     "name": "stdout",
     "output_type": "stream",
     "text": [
      "[[0 1]\n",
      " [3 4]]\n",
      "max = 4\n",
      "argmax = flat 3 indices (1, 1)\n",
      "[3 4]\n",
      "[1 4]\n",
      "8\n",
      "[3 5]\n",
      "[1 7]\n"
     ]
    }
   ],
   "source": [
    "print M\n",
    "print 'max =', amax(M) # или numpy.max\n",
    "print 'argmax = flat', argmax(M), 'indices', unravel_index(argmax(M), M.shape) \n",
    "print amax(M, axis=0)\n",
    "print amax(M, axis=1)\n",
    "print sum(M)\n",
    "print sum(M, axis=0)\n",
    "print sum(M, axis=1)"
   ]
  },
  {
   "cell_type": "code",
   "execution_count": 2,
   "metadata": {
    "collapsed": false
   },
   "outputs": [
    {
     "data": {
      "text/plain": [
       "array([3, 3, 3, 3, 4, 5, 6, 7, 7, 7])"
      ]
     },
     "execution_count": 2,
     "metadata": {},
     "output_type": "execute_result"
    }
   ],
   "source": [
    "clip(arange(10), a_min=3, a_max=7)"
   ]
  },
  {
   "cell_type": "code",
   "execution_count": 154,
   "metadata": {
    "collapsed": false
   },
   "outputs": [
    {
     "data": {
      "text/plain": [
       "array([1, 1, 1, 2])"
      ]
     },
     "execution_count": 154,
     "metadata": {},
     "output_type": "execute_result"
    }
   ],
   "source": [
    "diff([1, 2, 3, 4, 6])"
   ]
  },
  {
   "cell_type": "code",
   "execution_count": 102,
   "metadata": {
    "collapsed": false
   },
   "outputs": [
    {
     "data": {
      "text/plain": [
       "array([ 1,  3,  6, 10, 16])"
      ]
     },
     "execution_count": 102,
     "metadata": {},
     "output_type": "execute_result"
    }
   ],
   "source": [
    "cumsum([1, 2, 3, 4, 6])"
   ]
  },
  {
   "cell_type": "markdown",
   "metadata": {},
   "source": [
    "### Операции, связанные с сортировкой"
   ]
  },
  {
   "cell_type": "code",
   "execution_count": 128,
   "metadata": {
    "collapsed": false
   },
   "outputs": [
    {
     "data": {
      "text/plain": [
       "array([0, 2, 1, 3], dtype=int64)"
      ]
     },
     "execution_count": 128,
     "metadata": {},
     "output_type": "execute_result"
    }
   ],
   "source": [
    "argsort(array([1,2,1,8]))"
   ]
  },
  {
   "cell_type": "code",
   "execution_count": 53,
   "metadata": {
    "collapsed": false
   },
   "outputs": [
    {
     "data": {
      "text/plain": [
       "array(['a', 'c', 'd', 'i', 'n', 'o', 'r', 't'],\n",
       "      dtype='|S1')"
      ]
     },
     "execution_count": 53,
     "metadata": {},
     "output_type": "execute_result"
    }
   ],
   "source": [
    "unique(list('coordination'))"
   ]
  },
  {
   "cell_type": "code",
   "execution_count": 52,
   "metadata": {
    "collapsed": false
   },
   "outputs": [
    {
     "data": {
      "text/plain": [
       "(array(['a', 'c', 'd', 'i', 'n', 'o', 'r', 't'],\n",
       "       dtype='|S1'), array([1, 5, 5, 6, 2, 3, 4, 0, 7, 3, 5, 4], dtype=int64))"
      ]
     },
     "execution_count": 52,
     "metadata": {},
     "output_type": "execute_result"
    }
   ],
   "source": [
    "unique(list('coordination'), return_inverse=True)"
   ]
  },
  {
   "cell_type": "code",
   "execution_count": 69,
   "metadata": {
    "collapsed": false
   },
   "outputs": [
    {
     "data": {
      "text/plain": [
       "array([4, 5, 6, 7, 3], dtype=int64)"
      ]
     },
     "execution_count": 69,
     "metadata": {},
     "output_type": "execute_result"
    }
   ],
   "source": [
    "searchsorted(list('acdinort'), list('north'))"
   ]
  },
  {
   "cell_type": "markdown",
   "metadata": {},
   "source": [
    "Первый шаг сортировки подсчетом"
   ]
  },
  {
   "cell_type": "code",
   "execution_count": 125,
   "metadata": {
    "collapsed": false
   },
   "outputs": [
    {
     "data": {
      "text/plain": [
       "array([2, 3, 4], dtype=int64)"
      ]
     },
     "execution_count": 125,
     "metadata": {},
     "output_type": "execute_result"
    }
   ],
   "source": [
    "bincount([0, 0, 1, 1, 1, 2, 2, 2, 2])"
   ]
  },
  {
   "cell_type": "markdown",
   "metadata": {},
   "source": [
    "### Матричные операции"
   ]
  },
  {
   "cell_type": "markdown",
   "metadata": {
    "collapsed": true
   },
   "source": [
    "Cкалярное и векторное умножение векторов, поэлементное умножение матриц, матричное умножение"
   ]
  },
  {
   "cell_type": "code",
   "execution_count": 85,
   "metadata": {
    "collapsed": false
   },
   "outputs": [
    {
     "name": "stdout",
     "output_type": "stream",
     "text": [
      "25\n",
      "[-3  6 -3]\n",
      "5.0\n",
      "[[4 6]\n",
      " [6 4]]\n",
      "[[ 1.  1.  1.]\n",
      " [ 2.  2.  2.]\n",
      " [ 3.  3.  3.]]\n"
     ]
    }
   ],
   "source": [
    "print dot([3,4], [3,4])\n",
    "print cross([1,2,3], [4,5,6])\n",
    "print norm([3,4])\n",
    "print array([[1,2],[3,4]]) * array([[4,3],[2,1]])\n",
    "print dot(diag([1,2,3]), ones((3, 3)))"
   ]
  },
  {
   "cell_type": "code",
   "execution_count": 378,
   "metadata": {
    "collapsed": false
   },
   "outputs": [
    {
     "name": "stdout",
     "output_type": "stream",
     "text": [
      "[[-1.33333333  0.33333333]\n",
      " [ 1.          0.        ]]\n",
      "[[ -1.33333333e+00   3.33333333e-01]\n",
      " [  1.00000000e+00   6.64621824e-17]]\n",
      "[[ 1.  0.]\n",
      " [ 0.  1.]]\n"
     ]
    }
   ],
   "source": [
    "print inv(M)\n",
    "print pinv(M) # Псевдообратная Мура-Пенроуза\n",
    "print dot(inv(M), M)"
   ]
  },
  {
   "cell_type": "markdown",
   "metadata": {},
   "source": [
    "Определитель"
   ]
  },
  {
   "cell_type": "code",
   "execution_count": 67,
   "metadata": {
    "collapsed": false
   },
   "outputs": [
    {
     "name": "stdout",
     "output_type": "stream",
     "text": [
      "[[0 0 0 1 0 0 0 0 0 0 0 0 0 0 0 0 0 0 0 0 0 1 1 1 0 0 0 0 0]\n",
      " [0 0 0 1 0 0 0 0 0 0 0 1 0 0 0 0 0 0 1 0 0 0 1 0 0 0 1 0 0]\n",
      " [0 1 1 1 0 0 1 1 0 0 1 1 1 1 0 0 0 1 0 1 0 0 1 0 0 1 0 1 0]\n",
      " [1 0 0 1 0 1 0 0 1 0 0 1 0 0 0 0 0 1 0 1 0 0 1 0 0 1 0 1 0]\n",
      " [1 0 0 1 0 1 1 1 1 0 0 1 0 0 0 0 0 1 1 1 0 0 0 0 0 1 1 1 0]\n",
      " [1 0 0 1 0 1 0 0 0 0 0 1 0 0 0 0 1 0 0 0 1 0 0 0 1 0 0 0 1]\n",
      " [0 1 1 1 0 0 1 1 1 0 0 0 1 1 0 0 1 0 0 0 1 0 0 0 1 0 0 0 1]]\n",
      "107572.0\n"
     ]
    }
   ],
   "source": [
    "A = matrix([map(int, line.split()) for line in '''\\\n",
    "0 0 0 1 0 0 0 0 0 0 0 0 0 0 0 0 0 0 0 0 0 1 1 1 0 0 0 0 0\n",
    "0 0 0 1 0 0 0 0 0 0 0 1 0 0 0 0 0 0 1 0 0 0 1 0 0 0 1 0 0\n",
    "0 1 1 1 0 0 1 1 0 0 1 1 1 1 0 0 0 1 0 1 0 0 1 0 0 1 0 1 0\n",
    "1 0 0 1 0 1 0 0 1 0 0 1 0 0 0 0 0 1 0 1 0 0 1 0 0 1 0 1 0\n",
    "1 0 0 1 0 1 1 1 1 0 0 1 0 0 0 0 0 1 1 1 0 0 0 0 0 1 1 1 0\n",
    "1 0 0 1 0 1 0 0 0 0 0 1 0 0 0 0 1 0 0 0 1 0 0 0 1 0 0 0 1\n",
    "0 1 1 1 0 0 1 1 1 0 0 0 1 1 0 0 1 0 0 0 1 0 0 0 1 0 0 0 1\n",
    "'''.splitlines()])\n",
    "print A\n",
    "\n",
    "print det(A * A.T)"
   ]
  },
  {
   "cell_type": "markdown",
   "metadata": {},
   "source": [
    "Решение матриц"
   ]
  },
  {
   "cell_type": "code",
   "execution_count": 47,
   "metadata": {
    "collapsed": false
   },
   "outputs": [
    {
     "data": {
      "text/plain": [
       "array([ 2.,  1.])"
      ]
     },
     "execution_count": 47,
     "metadata": {},
     "output_type": "execute_result"
    }
   ],
   "source": [
    "solve([[1, 1], [1, 2]], [3, 4])"
   ]
  },
  {
   "cell_type": "markdown",
   "metadata": {},
   "source": [
    "Собственные числа и соответствующие собственные вектора"
   ]
  },
  {
   "cell_type": "code",
   "execution_count": 323,
   "metadata": {
    "collapsed": false
   },
   "outputs": [
    {
     "data": {
      "text/plain": [
       "array([-0.64575131,  4.64575131])"
      ]
     },
     "execution_count": 323,
     "metadata": {},
     "output_type": "execute_result"
    }
   ],
   "source": [
    "eigvals(M)"
   ]
  },
  {
   "cell_type": "code",
   "execution_count": 152,
   "metadata": {
    "collapsed": false
   },
   "outputs": [
    {
     "data": {
      "text/plain": [
       "(array([-0.64575131,  4.64575131]), array([[-0.84007078, -0.21043072],\n",
       "        [ 0.54247681, -0.97760877]]))"
      ]
     },
     "execution_count": 152,
     "metadata": {},
     "output_type": "execute_result"
    }
   ],
   "source": [
    "eig(M)"
   ]
  },
  {
   "cell_type": "markdown",
   "metadata": {},
   "source": [
    "Матричная экспонента"
   ]
  },
  {
   "cell_type": "code",
   "execution_count": 379,
   "metadata": {
    "collapsed": false
   },
   "outputs": [
    {
     "data": {
      "text/plain": [
       "array([[  1.        ,   2.71828183],\n",
       "       [ 20.08553692,  54.59815003]])"
      ]
     },
     "execution_count": 379,
     "metadata": {},
     "output_type": "execute_result"
    }
   ],
   "source": [
    "exp(M) # поэлементная"
   ]
  },
  {
   "cell_type": "code",
   "execution_count": 381,
   "metadata": {
    "collapsed": false
   },
   "outputs": [
    {
     "data": {
      "text/plain": [
       "array([[ 13.16926161,  19.5818311 ],\n",
       "       [ 58.7454933 ,  91.49658601]])"
      ]
     },
     "execution_count": 381,
     "metadata": {},
     "output_type": "execute_result"
    }
   ],
   "source": [
    "scipy.linalg.expm(M) # матричная"
   ]
  },
  {
   "cell_type": "markdown",
   "metadata": {},
   "source": [
    "### Тензорные операции с einsum"
   ]
  },
  {
   "cell_type": "markdown",
   "metadata": {},
   "source": [
    "Произвольные тензорные свертки возможны с использованием хитрого синтаксиса форматной строки `numpy.einsum`. Сначала через запятую перечисляется столько же групп букв, сколько аргументов, кроме строки, у `einsum`. Аргументы с индексами из соответствующих групп (`...` заменяет недостающие до размерности аргумента) перемножаются. Для букв, которые повторяются, слева от произведения ставится $\\sum$ по этим индексам. Уникальные буквы становятся размерностями результата. Если в строке `einsum` в конце есть `->` с группой букв, то суммирование проводится по буквам, которых там нет, а индексы результата расставляются согласно их порядку."
   ]
  },
  {
   "cell_type": "code",
   "execution_count": 29,
   "metadata": {
    "collapsed": false
   },
   "outputs": [
    {
     "name": "stdout",
     "output_type": "stream",
     "text": [
      "[[1 2]\n",
      " [3 4]]\n",
      "[[2 1]\n",
      " [1 2]]\n"
     ]
    }
   ],
   "source": [
    "A = array([[1,2],[3,4]])\n",
    "B = array([[2,1],[1,2]])\n",
    "print A\n",
    "print B"
   ]
  },
  {
   "cell_type": "code",
   "execution_count": 33,
   "metadata": {
    "collapsed": false
   },
   "outputs": [
    {
     "data": {
      "text/plain": [
       "5"
      ]
     },
     "execution_count": 33,
     "metadata": {},
     "output_type": "execute_result"
    }
   ],
   "source": [
    "einsum('ii', A)"
   ]
  },
  {
   "cell_type": "markdown",
   "metadata": {},
   "source": [
    "$R = \\sum_i A_{ii} = \\mathrm{tr} A = 1 + 4 = 5$"
   ]
  },
  {
   "cell_type": "code",
   "execution_count": 43,
   "metadata": {
    "collapsed": false
   },
   "outputs": [
    {
     "data": {
      "text/plain": [
       "10"
      ]
     },
     "execution_count": 43,
     "metadata": {},
     "output_type": "execute_result"
    }
   ],
   "source": [
    "einsum('ii,ii', A, B)"
   ]
  },
  {
   "cell_type": "markdown",
   "metadata": {},
   "source": [
    "$R = \\sum_i A_{ii} B_{ii} = 1 \\times 2 + 4 \\times 2 = 10$"
   ]
  },
  {
   "cell_type": "code",
   "execution_count": 31,
   "metadata": {
    "collapsed": false
   },
   "outputs": [
    {
     "data": {
      "text/plain": [
       "15"
      ]
     },
     "execution_count": 31,
     "metadata": {},
     "output_type": "execute_result"
    }
   ],
   "source": [
    "einsum('ij,ij', A, B)"
   ]
  },
  {
   "cell_type": "markdown",
   "metadata": {},
   "source": [
    "$R = \\sum_{i, j} A_{ij} B_{ij} = 1 \\times 2 + 2 \\times 1 + 3 \\times 1 + 4 \\times 2 = 15$"
   ]
  },
  {
   "cell_type": "code",
   "execution_count": 41,
   "metadata": {
    "collapsed": false
   },
   "outputs": [
    {
     "data": {
      "text/plain": [
       "array([[2, 2],\n",
       "       [3, 8]])"
      ]
     },
     "execution_count": 41,
     "metadata": {},
     "output_type": "execute_result"
    }
   ],
   "source": [
    "einsum('ij,ij->ij', A, B)"
   ]
  },
  {
   "cell_type": "markdown",
   "metadata": {},
   "source": [
    "$R_{ij} = A_{ij} B_{ij} \\Leftrightarrow R = A \\odot B$"
   ]
  },
  {
   "cell_type": "code",
   "execution_count": 13,
   "metadata": {
    "collapsed": false
   },
   "outputs": [
    {
     "data": {
      "text/plain": [
       "array([[ 4,  5],\n",
       "       [10, 11]])"
      ]
     },
     "execution_count": 13,
     "metadata": {},
     "output_type": "execute_result"
    }
   ],
   "source": [
    "dot(A, B)"
   ]
  },
  {
   "cell_type": "code",
   "execution_count": 19,
   "metadata": {
    "collapsed": false
   },
   "outputs": [
    {
     "data": {
      "text/plain": [
       "array([[ 4,  5],\n",
       "       [10, 11]])"
      ]
     },
     "execution_count": 19,
     "metadata": {},
     "output_type": "execute_result"
    }
   ],
   "source": [
    "einsum('ik,kj', A, B)"
   ]
  },
  {
   "cell_type": "markdown",
   "metadata": {},
   "source": [
    "$R_{ij} = \\sum_{k} A_{ik} B_{kj} \\Leftrightarrow R = AB$"
   ]
  },
  {
   "cell_type": "code",
   "execution_count": 20,
   "metadata": {
    "collapsed": false
   },
   "outputs": [
    {
     "data": {
      "text/plain": [
       "array([[[[2, 1],\n",
       "         [1, 2]],\n",
       "\n",
       "        [[4, 2],\n",
       "         [2, 4]]],\n",
       "\n",
       "\n",
       "       [[[6, 3],\n",
       "         [3, 6]],\n",
       "\n",
       "        [[8, 4],\n",
       "         [4, 8]]]])"
      ]
     },
     "execution_count": 20,
     "metadata": {},
     "output_type": "execute_result"
    }
   ],
   "source": [
    "einsum('ij,kl', A, B)"
   ]
  },
  {
   "cell_type": "markdown",
   "metadata": {},
   "source": [
    "$R_{ijkl} = A_{ij} B_{kl} \\Leftrightarrow R = A \\otimes B$"
   ]
  },
  {
   "cell_type": "code",
   "execution_count": 35,
   "metadata": {
    "collapsed": false
   },
   "outputs": [
    {
     "data": {
      "text/plain": [
       "array([[ 5, 11],\n",
       "       [11, 25]])"
      ]
     },
     "execution_count": 35,
     "metadata": {},
     "output_type": "execute_result"
    }
   ],
   "source": [
    "dot(A, A.T)"
   ]
  },
  {
   "cell_type": "code",
   "execution_count": 34,
   "metadata": {
    "collapsed": false
   },
   "outputs": [
    {
     "data": {
      "text/plain": [
       "array([[ 5, 11],\n",
       "       [11, 25]])"
      ]
     },
     "execution_count": 34,
     "metadata": {},
     "output_type": "execute_result"
    }
   ],
   "source": [
    "einsum('ik,jk', A, A)"
   ]
  },
  {
   "cell_type": "markdown",
   "metadata": {},
   "source": [
    "$R_{ij} = \\sum_k A_{ik} A_{jk} \\Leftrightarrow R = A A^T$"
   ]
  },
  {
   "cell_type": "code",
   "execution_count": 36,
   "metadata": {
    "collapsed": false
   },
   "outputs": [
    {
     "data": {
      "text/plain": [
       "array([[10, 14],\n",
       "       [14, 20]])"
      ]
     },
     "execution_count": 36,
     "metadata": {},
     "output_type": "execute_result"
    }
   ],
   "source": [
    "dot(A.T, A)"
   ]
  },
  {
   "cell_type": "code",
   "execution_count": 40,
   "metadata": {
    "collapsed": false
   },
   "outputs": [
    {
     "data": {
      "text/plain": [
       "array([ 9, 49])"
      ]
     },
     "execution_count": 40,
     "metadata": {},
     "output_type": "execute_result"
    }
   ],
   "source": [
    "einsum('ki,kj->k', A, A)"
   ]
  },
  {
   "cell_type": "markdown",
   "metadata": {},
   "source": [
    "$R_k = \\sum_{i,j} A_{ki} A_{kj} = \\sum_i A_{ki} \\sum_j A_{kj} = \\left( \\sum_i A_{ki} \\right)^2 = [(1+2)^2, (3+4)^2] = [9, 49]$"
   ]
  },
  {
   "cell_type": "markdown",
   "metadata": {
    "collapsed": true
   },
   "source": [
    "todo poly, polyval, roots, polymul, polydiv"
   ]
  },
  {
   "cell_type": "markdown",
   "metadata": {},
   "source": [
    "### Подгонометрия"
   ]
  },
  {
   "cell_type": "markdown",
   "metadata": {},
   "source": [
    "Метод наименьших квадратов, МНК. Третий параметр отвечает за степень подгоняемого полинома. Если нужен R-value или p-value для линейной регрессии, можно использовать `scipy.stats.linregress`."
   ]
  },
  {
   "cell_type": "code",
   "execution_count": 119,
   "metadata": {
    "collapsed": false
   },
   "outputs": [
    {
     "name": "stdout",
     "output_type": "stream",
     "text": [
      "y = 2.067290 * x + 2.823364\n",
      "LinregressResult(slope=2.0672897196261681, intercept=2.8233644859813083, rvalue=0.99808601031951683, pvalue=0.0019139896804831751, stderr=0.090572272445500743)\n"
     ]
    },
    {
     "data": {
      "image/png": "[encoded data removed]",
      "text/plain": [
       "<matplotlib.figure.Figure at 0x1a82ed30>"
      ]
     },
     "metadata": {},
     "output_type": "display_data"
    }
   ],
   "source": [
    "x = [1,2,3,4.5]\n",
    "y = [5,6.7,9.2,12.1]\n",
    "a, b = polyfit(x, y, 1)\n",
    "print 'y = %f * x + %f' % (a, b)\n",
    "print scipy.stats.linregress(x, y)\n",
    "\n",
    "plot(x, y, 'ro')\n",
    "xx = linspace(0.5, 5)\n",
    "plot(xx, a * xx + b); # или plot(xx, polyval([a, b], xx));"
   ]
  },
  {
   "cell_type": "markdown",
   "metadata": {},
   "source": [
    "Методы оптимизации из `scipy.optimize` могут подогнать произвольную функцию"
   ]
  },
  {
   "cell_type": "markdown",
   "metadata": {},
   "source": [
    "todo\n",
    "import scipy.optimize\n",
    "anneal"
   ]
  },
  {
   "cell_type": "code",
   "execution_count": 3,
   "metadata": {
    "collapsed": true
   },
   "outputs": [],
   "source": [
    "import scipy.stats\n",
    "from scipy.optimize import curve_fit"
   ]
  },
  {
   "cell_type": "code",
   "execution_count": 216,
   "metadata": {
    "collapsed": true
   },
   "outputs": [],
   "source": [
    "numpy.random.seed(0)"
   ]
  },
  {
   "cell_type": "code",
   "execution_count": 5,
   "metadata": {
    "collapsed": false
   },
   "outputs": [
    {
     "name": "stdout",
     "output_type": "stream",
     "text": [
      "2.83040880267 -0.52531728019\n",
      "Should be 2.78 -0.54\n"
     ]
    },
    {
     "data": {
      "image/png": "[encoded data removed]",
      "text/plain": [
       "<matplotlib.figure.Figure at 0x172506a0>"
      ]
     },
     "metadata": {},
     "output_type": "display_data"
    }
   ],
   "source": [
    "def fn(x, a, b): return a / (x + b)\n",
    "\n",
    "xx = linspace(1, 5)\n",
    "yy = 2.78 / (xx - 0.54) + randn(len(xx)) * 0.1\n",
    "\n",
    "(a, b), _ = curve_fit(fn, xx, yy)\n",
    "print a, b\n",
    "print 'Should be', 2.78, -0.54\n",
    "\n",
    "scatter(xx, yy, c='r', alpha=0.6)\n",
    "plot(xx, fn(xx, a, b));"
   ]
  },
  {
   "cell_type": "code",
   "execution_count": 10,
   "metadata": {
    "collapsed": false
   },
   "outputs": [
    {
     "name": "stdout",
     "output_type": "stream",
     "text": [
      "0.422635888562 -0.573057075764 0.972212416003\n",
      "Should be 0.398942280401 -0.5 1.02\n"
     ]
    },
    {
     "data": {
      "image/png": "[encoded data removed]",
      "text/plain": [
       "<matplotlib.figure.Figure at 0x1aebf978>"
      ]
     },
     "metadata": {},
     "output_type": "display_data"
    }
   ],
   "source": [
    "def fn(x, a, b, c):\n",
    "    return a * exp(b * (x - c) ** 2)\n",
    "\n",
    "xx = array(sorted(rand(100) * 6 - 3))\n",
    "yy = scipy.stats.norm.pdf(xx - 1.02) + randn(len(xx)) * 0.07\n",
    "\n",
    "(a, b, c), _ = curve_fit(fn, xx, yy, maxfev=5000, bounds=(-5, 5))\n",
    "print a, b, c\n",
    "print 'Should be', 1/sqrt(2*pi), -0.5, 1.02\n",
    "plot(xx, fn(xx, 0.398942280401, -0.5, 1.02), 'g--')\n",
    "\n",
    "scatter(xx, yy, c='r', alpha=0.6)\n",
    "xx = linspace(-3, 3)\n",
    "plot(xx, fn(xx, a, b, c));"
   ]
  },
  {
   "cell_type": "markdown",
   "metadata": {},
   "source": [
    "### Интерполяция линейная и полиномом Лагранжа"
   ]
  },
  {
   "cell_type": "code",
   "execution_count": 120,
   "metadata": {
    "collapsed": false
   },
   "outputs": [
    {
     "name": "stdout",
     "output_type": "stream",
     "text": [
      "[ 0.5  -3.75  8.75 -5.5 ]\n"
     ]
    },
    {
     "data": {
      "image/png": "[encoded data removed]",
      "text/plain": [
       "<matplotlib.figure.Figure at 0x211bc080>"
      ]
     },
     "metadata": {},
     "output_type": "display_data"
    }
   ],
   "source": [
    "import scipy.interpolate\n",
    "\n",
    "xs = [1, 2, 3, 4]\n",
    "ys = [0, 1, 0.5, 1.5]\n",
    "xx = linspace(1, 4)\n",
    "\n",
    "scatter(xs, ys, c='r')\n",
    "plot(xx, interp(xx, xs, ys));\n",
    "\n",
    "poly = scipy.interpolate.lagrange(xs, ys)\n",
    "print poly.coeffs\n",
    "plot(xx, poly(xx));"
   ]
  },
  {
   "cell_type": "markdown",
   "metadata": {},
   "source": [
    "### Численное интегрирование"
   ]
  },
  {
   "cell_type": "code",
   "execution_count": 320,
   "metadata": {
    "collapsed": false
   },
   "outputs": [
    {
     "name": "stdout",
     "output_type": "stream",
     "text": [
      "1.77245385091 1.42026367818e-08\n",
      "Should be sqrt(pi) = 1.77245385091\n"
     ]
    }
   ],
   "source": [
    "val, abserr = scipy.integrate.quad(lambda x: exp(-x ** 2), -Inf, Inf)\n",
    "print val, abserr\n",
    "\n",
    "import sympy\n",
    "from sympy import var, oo\n",
    "x = var('x')\n",
    "print 'Should be', sympy.integrate(sympy.exp(-x ** 2), (x, -oo, oo)), '=', sqrt(pi)"
   ]
  },
  {
   "cell_type": "markdown",
   "metadata": {},
   "source": [
    "todo ode, odeint"
   ]
  },
  {
   "cell_type": "markdown",
   "metadata": {},
   "source": [
    "### Дискретное преобразование Фурье"
   ]
  },
  {
   "cell_type": "markdown",
   "metadata": {},
   "source": [
    "Преобразование Фурье. Сигнал содержит шум и две синусоидальные компоненты на 7 и 30 Гц. Частота дискретизации (число отсчетов в секунду) `Fs` = 100 Гц. БПФ показывает частоты до `Fs/2`, горизонтальное разрешение спектрограммы `(npts - NFFT) / (NFFT - noverlap) + 1`, вертикальное разрешение `NFFT`, где `NFFT` — ширина окна БПФ, а `noverlap` — ширина их пересечений."
   ]
  },
  {
   "cell_type": "code",
   "execution_count": 102,
   "metadata": {
    "collapsed": false
   },
   "outputs": [
    {
     "data": {
      "image/png": "[encoded data removed]",
      "text/plain": [
       "<matplotlib.figure.Figure at 0x1f897198>"
      ]
     },
     "metadata": {},
     "output_type": "display_data"
    }
   ],
   "source": [
    "from scipy.fftpack import fft, fftfreq\n",
    "\n",
    "duration = 3\n",
    "Fs = 100\n",
    "npts = Fs * duration\n",
    "t = linspace(0, duration, npts)\n",
    "signal = 10 * sin(2 * pi * 30.0 * t) + 5 * sin(2 * pi * 7.0 * t) + 2 * rand(npts)\n",
    "\n",
    "FFT = abs(fft(signal))\n",
    "freqs = fftfreq(npts, 1./Fs)\n",
    "\n",
    "\n",
    "figure(figsize=(16,12))\n",
    "subplot(311)\n",
    "xlim([0, 3])\n",
    "xlabel('time')\n",
    "ylabel('amplitude')\n",
    "plot(t, signal)\n",
    "\n",
    "subplot(312)\n",
    "xlim([0, 50])\n",
    "ylim([0, 100])\n",
    "ylim([0.1, 1e4])\n",
    "yscale('log')\n",
    "xlabel('frequency')\n",
    "ylabel('amplitude')\n",
    "plot(freqs[:npts/2], FFT[:npts/2]);\n",
    "axvline(x=7.0, ls='--', c='gray')\n",
    "axvline(x=30.0, ls='--', c='gray')\n",
    "\n",
    "subplot(313)\n",
    "xlabel('time')\n",
    "ylabel('frequency')\n",
    "specgram(signal, 64, Fs=Fs, noverlap=48)\n",
    "colorbar();"
   ]
  },
  {
   "cell_type": "markdown",
   "metadata": {
    "collapsed": true
   },
   "source": [
    "todo Какой-нибудь сеточный метод моделирования"
   ]
  },
  {
   "cell_type": "markdown",
   "metadata": {
    "collapsed": true
   },
   "source": [
    "### Матстат"
   ]
  },
  {
   "cell_type": "code",
   "execution_count": 105,
   "metadata": {
    "collapsed": true
   },
   "outputs": [],
   "source": [
    "import scipy.stats"
   ]
  },
  {
   "cell_type": "code",
   "execution_count": 163,
   "metadata": {
    "collapsed": false
   },
   "outputs": [
    {
     "name": "stdout",
     "output_type": "stream",
     "text": [
      "105\n",
      "alpha anglit arcsine argus bernoulli beta betaprime binom boltzmann bradford burr burr12 cauchy chi chi2 cosine dgamma dlaplace dweibull erlang expon exponnorm exponpow exponweib f fatiguelife fisk foldcauchy foldnorm frechet_l frechet_r gamma gausshyper genexpon genextreme gengamma genhalflogistic genlogistic gennorm genpareto geom gilbrat gompertz gumbel_l gumbel_r halfcauchy halfgennorm halflogistic halfnorm hypergeom hypsecant invgamma invgauss invweibull johnsonsb johnsonsu kappa3 kappa4 ksone kstwobign laplace levy levy_l levy_stable loggamma logistic loglaplace lognorm logser lomax maxwell mielke nakagami nbinom ncf nct ncx2 norm pareto pearson3 planck poisson powerlaw powerlognorm powernorm randint rayleigh rdist recipinvgauss reciprocal rice semicircular skellam skew_norm t trapz triang truncexpon truncnorm tukeylambda uniform vonmises wald wrapcauchy zipf\n"
     ]
    }
   ],
   "source": [
    "distrs = [k[:-4] for k, v in scipy.stats.distributions.__dict__.items() if type(v) == type and k.endswith('_gen')]\n",
    "print len(distrs)\n",
    "print ' '.join(sorted(distrs))"
   ]
  },
  {
   "cell_type": "code",
   "execution_count": 106,
   "metadata": {
    "collapsed": false
   },
   "outputs": [
    {
     "data": {
      "image/png": "[encoded data removed]",
      "text/plain": [
       "<matplotlib.figure.Figure at 0x20debd68>"
      ]
     },
     "metadata": {},
     "output_type": "display_data"
    }
   ],
   "source": [
    "rnd = scipy.stats.norm.rvs(size=(50,), loc=0, scale=1, random_state=0)\n",
    "\n",
    "xx = linspace(-3, 3)\n",
    "scatter(rnd, [0] * 50);\n",
    "plot(xx, scipy.stats.norm.pdf(xx), label='PDF');\n",
    "plot(xx, scipy.stats.norm.cdf(xx), label='CDF');\n",
    "legend();"
   ]
  },
  {
   "cell_type": "markdown",
   "metadata": {},
   "source": [
    "todo A.flatten() # make copy"
   ]
  },
  {
   "cell_type": "markdown",
   "metadata": {},
   "source": [
    "todo \n",
    "\n",
    "    проверки статистических гипотез\n",
    "\n",
    "    from scipy.stats import gaussian_kde, rv_continuous, rv_discrete\n",
    "    from scipy.stats.tests import test_discrete_basic\n",
    "    pearsonr\n",
    "    spearmanr\n",
    "\n",
    "    scipy.stats.entropy(pk, qk=None, base=None)\n",
    "    Calculate the entropy of a distribution for given probability values.\n",
    "    If only probabilities pk are given, the entropy is calculated as S = -sum(pk * log(pk), axis=0).\n",
    "    If qk is not None, then compute the Kullback-Leibler divergence S = sum(pk * log(pk / qk), axis=0).\n",
    "    This routine will normalize pk and qk if they don’t sum to 1.\n",
    "\n",
    "    scipy.stats.ttest_ind(a, b, axis=0, equal_var=True)\n",
    "    The test measures whether the average (expected) value differs significantly across samples. If we observe a large p-value, for example larger than 0.05 or 0.1, then we cannot reject the null hypothesis of identical average scores. If the p-value is smaller than the threshold, e.g. 1%, 5% or 10%, then we reject the null hypothesis of equal averages.\n",
    "\n",
    "    scipy.stats.ttest_1samp(a, popmean, axis=0)[source]\n",
    "    Calculates the T-test for the mean of ONE group of scores.\n",
    "    This is a two-sided test for the null hypothesis that the expected value (mean) of a sample of independent observations a is equal to the given population mean, popmean.\n",
    "\n",
    "    scipy.stats.kstest(rvs, cdf, args=(), N=20, alternative='two-sided', mode='approx')[source]\n",
    "    Perform the Kolmogorov-Smirnov test for goodness of fit.\n",
    "    This performs a test of the distribution G(x) of an observed random variable against a given distribution F(x). Under the null hypothesis the two distributions are identical, G(x)=F(x). The alternative hypothesis can be either ‘two-sided’ (default), ‘less’ or ‘greater’. The KS test is only valid for continuous distributions.\n",
    "\n",
    "    scipy.stats.ranksums(x, y)[source]\n",
    "    Compute the Wilcoxon rank-sum statistic for two samples.\n",
    "    The Wilcoxon rank-sum test tests the null hypothesis that two sets of measurements are drawn from the same distribution. The alternative hypothesis is that values in one sample are more likely to be larger than the values in the other sample."
   ]
  },
  {
   "cell_type": "markdown",
   "metadata": {},
   "source": [
    "    corrcoef(x)\n",
    "    x : array_like\n",
    "        A 1-D or 2-D array containing multiple variables and observations.\n",
    "        Each row of `m` represents a variable, and each column a single\n",
    "        observation of all those variables.\n",
    "    cov"
   ]
  },
  {
   "cell_type": "markdown",
   "metadata": {},
   "source": [
    "todo\n",
    "\n",
    "    from scipy import signal, weave\n",
    "    from scipy.spatial.distance import cosine, pdist, cdist, squareform"
   ]
  },
  {
   "cell_type": "markdown",
   "metadata": {},
   "source": [
    "todo\n",
    "\n",
    "    from scipy.sparse import *, csr_matrix\n",
    "    def show_sparse_bytes(a):\n",
    "        print((a.data.nbytes, a.indptr.nbytes, a.indices.nbytes), a.data.nbytes + a.indptr.nbytes + a.indices.nbytes)"
   ]
  },
  {
   "cell_type": "markdown",
   "metadata": {},
   "source": [
    "todo численная геометрия (shapely? CGAL?)"
   ]
  },
  {
   "cell_type": "markdown",
   "metadata": {},
   "source": [
    "todo scipy.spatial: Delaunay ConvexHull Voronoi"
   ]
  },
  {
   "cell_type": "markdown",
   "metadata": {},
   "source": [
    "todo https://docs.scipy.org/doc/scipy/reference/constants.html"
   ]
  }
 ],
 "metadata": {
  "kernelspec": {
   "display_name": "Python 2",
   "language": "python",
   "name": "python2"
  },
  "language_info": {
   "codemirror_mode": {
    "name": "ipython",
    "version": 2
   },
   "file_extension": ".py",
   "mimetype": "text/x-python",
   "name": "python",
   "nbconvert_exporter": "python",
   "pygments_lexer": "ipython2",
   "version": "2.7.12"
  }
 },
 "nbformat": 4,
 "nbformat_minor": 2
}
