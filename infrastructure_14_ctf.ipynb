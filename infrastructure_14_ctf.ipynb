{
 "cells": [
  {
   "cell_type": "markdown",
   "metadata": {},
   "source": [
    "# Инфраструктура Python. CTF"
   ]
  },
  {
   "cell_type": "markdown",
   "metadata": {},
   "source": [
    "## CTF: машинный код"
   ]
  },
  {
   "cell_type": "markdown",
   "metadata": {},
   "source": [
    "todo Скриптование x64dbg? Immunity? IDAPython? Как бы прикрутить гейт между IPython и IDAPython, чтобы писать плагины и получать результаты их исполнения в нотебуке?\n",
    "\n",
    "todo Frida? какой-нибудь аналог ProcMon?\n",
    "\n",
    "todo pwn https://docs.pwntools.com/en/stable/about.html"
   ]
  },
  {
   "cell_type": "markdown",
   "metadata": {},
   "source": [
    "Ассемблерирование — библиотека `keystone`."
   ]
  },
  {
   "cell_type": "markdown",
   "metadata": {},
   "source": [
    "```\n",
    "качается инсталлер с сайта http://www.keystone-engine.org/\n",
    "```"
   ]
  },
  {
   "cell_type": "markdown",
   "metadata": {},
   "source": [
    "Пример вычисления факториала с https://godbolt.org/ clang 6.0.0"
   ]
  },
  {
   "cell_type": "code",
   "execution_count": 4,
   "metadata": {
    "collapsed": false
   },
   "outputs": [
    {
     "name": "stdout",
     "output_type": "stream",
     "text": [
      "00000000: 55 48 89 E5 89 7D FC C7  45 F8 01 00 00 00 C7 45  UH...}..E......E\n",
      "00000010: F4 01 00 00 00 8B 45 F4  3B 45 FC 7F 15 8B 45 F4  ......E.;E....E.\n",
      "00000020: 0F AF 45 F8 89 45 F8 8B  45 F4 83 C0 01 89 45 F4  ..E..E..E.....E.\n",
      "00000030: EB E3 8B 45 F8 5D C3 6F  6D 67 00                 ...E.].omg.\n"
     ]
    }
   ],
   "source": [
    "import keystone\n",
    "import hexdump\n",
    "\n",
    "code = '''\n",
    "  push rbp\n",
    "  mov rbp, rsp\n",
    "  mov dword ptr [rbp - 4], edi\n",
    "  mov dword ptr [rbp - 8], 1\n",
    "  mov dword ptr [rbp - 12], 1\n",
    ".LBB0_1: # =>This Inner Loop Header: Depth=1\n",
    "  mov eax, dword ptr [rbp - 12]\n",
    "  cmp eax, dword ptr [rbp - 4]\n",
    "  jg .LBB0_4\n",
    "  mov eax, dword ptr [rbp - 12]\n",
    "  imul eax, dword ptr [rbp - 8]\n",
    "  mov dword ptr [rbp - 8], eax\n",
    "  mov eax, dword ptr [rbp - 12]\n",
    "  add eax, 1\n",
    "  mov dword ptr [rbp - 12], eax\n",
    "  jmp .LBB0_1\n",
    ".LBB0_4:\n",
    "  mov eax, dword ptr [rbp - 8]\n",
    "  pop rbp\n",
    "  ret\n",
    ".byte 0x6f,0x6d,0x67,0\n",
    "'''\n",
    "\n",
    "ks = keystone.Ks(keystone.KS_ARCH_X86, keystone.KS_MODE_64)\n",
    "binary, count = ks.asm(code)\n",
    "binary = ''.join(map(chr, binary))\n",
    "hexdump.hexdump(binary)"
   ]
  },
  {
   "cell_type": "markdown",
   "metadata": {},
   "source": [
    "И можно забыть о https://defuse.ca/online-x86-assembler.htm"
   ]
  },
  {
   "cell_type": "markdown",
   "metadata": {},
   "source": [
    "Дизассемблерирование — библиотека `capstone`."
   ]
  },
  {
   "cell_type": "markdown",
   "metadata": {},
   "source": [
    "```\n",
    "pip install capstone-windows\n",
    "может потребоваться переместить capstone.dll\n",
    "```"
   ]
  },
  {
   "cell_type": "code",
   "execution_count": 2,
   "metadata": {
    "collapsed": false
   },
   "outputs": [
    {
     "name": "stdout",
     "output_type": "stream",
     "text": [
      "00:  31c0                  xor    eax, eax                 \n",
      "02:  48bbd19d9691d08c97ff  movabs rbx, -0x68732f6e69622f   \n",
      "0c:  48f7db                neg    rbx                      \n",
      "0f:  53                    push   rbx                      \n",
      "10:  54                    push   rsp                      \n",
      "11:  5f                    pop    rdi                      \n",
      "12:  99                    cdq                             \n",
      "13:  52                    push   rdx                      \n",
      "14:  57                    push   rdi                      \n",
      "15:  54                    push   rsp                      \n",
      "16:  5e                    pop    rsi                      \n",
      "17:  b03b                  mov    al, 0x3b                 \n",
      "19:  0f05                  syscall                          \n"
     ]
    }
   ],
   "source": [
    "import capstone\n",
    "\n",
    "# http://shell-storm.org/shellcode/files/shellcode-806.php\n",
    "sploet = '\\x31\\xc0\\x48\\xbb\\xd1\\x9d\\x96\\x91\\xd0\\x8c\\x97\\xff\\x48\\xf7\\xdb\\x53\\x54\\x5f\\x99\\x52\\x57\\x54\\x5e\\xb0\\x3b\\x0f\\x05'\n",
    "\n",
    "pp = capstone.Cs(capstone.CS_ARCH_X86, capstone.CS_MODE_64)\n",
    "for i in pp.disasm(sploet, 0):\n",
    "    print '%02x:  %-21s %-6s %-25s' % (i.address, str(i.bytes).encode('hex'), i.mnemonic, i.op_str)"
   ]
  },
  {
   "cell_type": "markdown",
   "metadata": {},
   "source": [
    "Можно включить режим, в котором `capstone` сопровождает каждую инструкцию деталями ее разбора."
   ]
  },
  {
   "cell_type": "code",
   "execution_count": 5,
   "metadata": {
    "collapsed": false
   },
   "outputs": [
    {
     "name": "stdout",
     "output_type": "stream",
     "text": [
      "00:  55                    push   rbp                         \n",
      "01:  4889e5                mov    rbp, rsp                    \n",
      "04:  897dfc                mov    dword ptr [rbp - 4], edi    ; n\n",
      "07:  c745f801000000        mov    dword ptr [rbp - 8], 1      ; result\n",
      "0e:  c745f401000000        mov    dword ptr [rbp - 0xc], 1    ; i\n",
      "15:  8b45f4                mov    eax, dword ptr [rbp - 0xc]  ; i\n",
      "18:  3b45fc                cmp    eax, dword ptr [rbp - 4]    ; n\n",
      "1b:  7f15                  jg     0x32                        \n",
      "1d:  8b45f4                mov    eax, dword ptr [rbp - 0xc]  ; i\n",
      "20:  0faf45f8              imul   eax, dword ptr [rbp - 8]    ; result\n",
      "24:  8945f8                mov    dword ptr [rbp - 8], eax    ; result\n",
      "27:  8b45f4                mov    eax, dword ptr [rbp - 0xc]  ; i\n",
      "2a:  83c001                add    eax, 1                      \n",
      "2d:  8945f4                mov    dword ptr [rbp - 0xc], eax  ; i\n",
      "30:  ebe3                  jmp    0x15                        \n",
      "32:  8b45f8                mov    eax, dword ptr [rbp - 8]    ; result\n",
      "35:  5d                    pop    rbp                         \n",
      "36:  c3                    ret                                \n",
      "37:  6f                    outsd  dx, dword ptr [rsi]         \n",
      "38:  6d                    insd   dword ptr [rdi], dx         \n"
     ]
    }
   ],
   "source": [
    "def detect_variable(instr):\n",
    "    for op in instr.operands:\n",
    "        if op.type == capstone.x86.X86_OP_MEM and op.mem.base == capstone.x86.X86_REG_RBP:\n",
    "            return '; ' + {-4: 'n', -8: 'result', -12: 'i'}[op.mem.disp]\n",
    "    return ''\n",
    "\n",
    "pp = capstone.Cs(capstone.CS_ARCH_X86, capstone.CS_MODE_64)\n",
    "pp.detail = True\n",
    "for i in pp.disasm(binary, 0):\n",
    "    print '%02x:  %-21s %-6s %-26s  %s' % (i.address, str(i.bytes).encode('hex'), i.mnemonic, i.op_str, detect_variable(i))"
   ]
  },
  {
   "cell_type": "markdown",
   "metadata": {},
   "source": [
    "Эмуляция — `unicorn`"
   ]
  },
  {
   "cell_type": "markdown",
   "metadata": {},
   "source": [
    "todo Установка"
   ]
  },
  {
   "cell_type": "code",
   "execution_count": 171,
   "metadata": {
    "collapsed": true
   },
   "outputs": [],
   "source": [
    "import unicorn"
   ]
  },
  {
   "cell_type": "code",
   "execution_count": 387,
   "metadata": {
    "collapsed": false
   },
   "outputs": [
    {
     "name": "stdout",
     "output_type": "stream",
     "text": [
      "01c0\n",
      "Calculations result = 42\n"
     ]
    }
   ],
   "source": [
    "CODE = ''.join(map(chr, keystone.Ks(keystone.KS_ARCH_X86, keystone.KS_MODE_64).asm('add eax, eax')[0]))\n",
    "print CODE.encode('hex')\n",
    "\n",
    "mu = unicorn.Uc(unicorn.UC_ARCH_X86, unicorn.UC_MODE_64)\n",
    "mu.mem_map(ADDRESS, 2 * 1024 * 1024, unicorn.UC_PROT_ALL)\n",
    "mu.mem_write(ADDRESS, CODE)\n",
    "mu.reg_write(unicorn.x86_const.UC_X86_REG_RAX, 21)\n",
    "mu.emu_start(ADDRESS, ADDRESS + len(CODE))\n",
    "\n",
    "print 'Calculations result =', mu.reg_read(unicorn.x86_const.UC_X86_REG_EAX)"
   ]
  },
  {
   "cell_type": "code",
   "execution_count": 270,
   "metadata": {
    "collapsed": false,
    "scrolled": true
   },
   "outputs": [
    {
     "name": "stdout",
     "output_type": "stream",
     "text": [
      "Emulation start\n",
      "----------------------------------------\n",
      "01000000: 55              push rbp\n",
      "eax = 00000000 rbp = 00000000 rsp = 01010000\n",
      "----------------------------------------\n",
      "01000001: 4889e5          mov rbp, rsp\n",
      "eax = 00000000 rbp = 00000000 rsp = 0100FFF8\n",
      "----------------------------------------\n",
      "01000004: 897dfc          mov dword ptr [rbp - 4], edi\n",
      "eax = 00000000 rbp = 0100FFF8 rsp = 0100FFF8\n",
      "----------------------------------------\n",
      "01000007: c745f801000000  mov dword ptr [rbp - 8], 1\n",
      "eax = 00000000 rbp = 0100FFF8 rsp = 0100FFF8\n",
      "----------------------------------------\n",
      "0100000e: c745f401000000  mov dword ptr [rbp - 0xc], 1\n",
      "eax = 00000000 rbp = 0100FFF8 rsp = 0100FFF8\n",
      "----------------------------------------\n",
      "01000015: 8b45f4          mov eax, dword ptr [rbp - 0xc]\n",
      "eax = 00000000 rbp = 0100FFF8 rsp = 0100FFF8\n",
      "----------------------------------------\n",
      "01000018: 3b45fc          cmp eax, dword ptr [rbp - 4]\n",
      "eax = 00000001 rbp = 0100FFF8 rsp = 0100FFF8\n",
      "----------------------------------------\n",
      "0100001b: 7f15            jg 0x17\n",
      "eax = 00000001 rbp = 0100FFF8 rsp = 0100FFF8\n",
      "----------------------------------------\n",
      "0100001d: 8b45f4          mov eax, dword ptr [rbp - 0xc]\n",
      "eax = 00000001 rbp = 0100FFF8 rsp = 0100FFF8\n",
      "----------------------------------------\n",
      "01000020: 0faf45f8        imul eax, dword ptr [rbp - 8]\n",
      "eax = 00000001 rbp = 0100FFF8 rsp = 0100FFF8\n",
      "----------------------------------------\n",
      "01000024: 8945f8          mov dword ptr [rbp - 8], eax\n",
      "eax = 00000001 rbp = 0100FFF8 rsp = 0100FFF8\n",
      "----------------------------------------\n",
      "01000027: 8b45f4          mov eax, dword ptr [rbp - 0xc]\n",
      "eax = 00000001 rbp = 0100FFF8 rsp = 0100FFF8\n",
      "----------------------------------------\n",
      "0100002a: 83c001          add eax, 1\n",
      "eax = 00000001 rbp = 0100FFF8 rsp = 0100FFF8\n",
      "----------------------------------------\n",
      "0100002d: 8945f4          mov dword ptr [rbp - 0xc], eax\n",
      "eax = 00000002 rbp = 0100FFF8 rsp = 0100FFF8\n",
      "----------------------------------------\n",
      "01000030: ebe3            jmp 0xffffffffffffffe5\n",
      "eax = 00000002 rbp = 0100FFF8 rsp = 0100FFF8\n",
      "----------------------------------------\n",
      "01000015: 8b45f4          mov eax, dword ptr [rbp - 0xc]\n",
      "eax = 00000002 rbp = 0100FFF8 rsp = 0100FFF8\n",
      "----------------------------------------\n",
      "01000018: 3b45fc          cmp eax, dword ptr [rbp - 4]\n",
      "eax = 00000002 rbp = 0100FFF8 rsp = 0100FFF8\n",
      "----------------------------------------\n",
      "0100001b: 7f15            jg 0x17\n",
      "eax = 00000002 rbp = 0100FFF8 rsp = 0100FFF8\n",
      "----------------------------------------\n",
      "0100001d: 8b45f4          mov eax, dword ptr [rbp - 0xc]\n",
      "eax = 00000002 rbp = 0100FFF8 rsp = 0100FFF8\n",
      "----------------------------------------\n",
      "01000020: 0faf45f8        imul eax, dword ptr [rbp - 8]\n",
      "eax = 00000002 rbp = 0100FFF8 rsp = 0100FFF8\n",
      "----------------------------------------\n",
      "01000024: 8945f8          mov dword ptr [rbp - 8], eax\n",
      "eax = 00000002 rbp = 0100FFF8 rsp = 0100FFF8\n",
      "----------------------------------------\n",
      "01000027: 8b45f4          mov eax, dword ptr [rbp - 0xc]\n",
      "eax = 00000002 rbp = 0100FFF8 rsp = 0100FFF8\n",
      "----------------------------------------\n",
      "0100002a: 83c001          add eax, 1\n",
      "eax = 00000002 rbp = 0100FFF8 rsp = 0100FFF8\n",
      "----------------------------------------\n",
      "0100002d: 8945f4          mov dword ptr [rbp - 0xc], eax\n",
      "eax = 00000003 rbp = 0100FFF8 rsp = 0100FFF8\n",
      "----------------------------------------\n",
      "01000030: ebe3            jmp 0xffffffffffffffe5\n",
      "eax = 00000003 rbp = 0100FFF8 rsp = 0100FFF8\n",
      "----------------------------------------\n",
      "01000015: 8b45f4          mov eax, dword ptr [rbp - 0xc]\n",
      "eax = 00000003 rbp = 0100FFF8 rsp = 0100FFF8\n",
      "----------------------------------------\n",
      "01000018: 3b45fc          cmp eax, dword ptr [rbp - 4]\n",
      "eax = 00000003 rbp = 0100FFF8 rsp = 0100FFF8\n",
      "----------------------------------------\n",
      "0100001b: 7f15            jg 0x17\n",
      "eax = 00000003 rbp = 0100FFF8 rsp = 0100FFF8\n",
      "----------------------------------------\n",
      "0100001d: 8b45f4          mov eax, dword ptr [rbp - 0xc]\n",
      "eax = 00000003 rbp = 0100FFF8 rsp = 0100FFF8\n",
      "----------------------------------------\n",
      "01000020: 0faf45f8        imul eax, dword ptr [rbp - 8]\n",
      "eax = 00000003 rbp = 0100FFF8 rsp = 0100FFF8\n",
      "----------------------------------------\n",
      "01000024: 8945f8          mov dword ptr [rbp - 8], eax\n",
      "eax = 00000006 rbp = 0100FFF8 rsp = 0100FFF8\n",
      "----------------------------------------\n",
      "01000027: 8b45f4          mov eax, dword ptr [rbp - 0xc]\n",
      "eax = 00000006 rbp = 0100FFF8 rsp = 0100FFF8\n",
      "----------------------------------------\n",
      "0100002a: 83c001          add eax, 1\n",
      "eax = 00000003 rbp = 0100FFF8 rsp = 0100FFF8\n",
      "----------------------------------------\n",
      "0100002d: 8945f4          mov dword ptr [rbp - 0xc], eax\n",
      "eax = 00000004 rbp = 0100FFF8 rsp = 0100FFF8\n",
      "----------------------------------------\n",
      "01000030: ebe3            jmp 0xffffffffffffffe5\n",
      "eax = 00000004 rbp = 0100FFF8 rsp = 0100FFF8\n",
      "----------------------------------------\n",
      "01000015: 8b45f4          mov eax, dword ptr [rbp - 0xc]\n",
      "eax = 00000004 rbp = 0100FFF8 rsp = 0100FFF8\n",
      "----------------------------------------\n",
      "01000018: 3b45fc          cmp eax, dword ptr [rbp - 4]\n",
      "eax = 00000004 rbp = 0100FFF8 rsp = 0100FFF8\n",
      "----------------------------------------\n",
      "0100001b: 7f15            jg 0x17\n",
      "eax = 00000004 rbp = 0100FFF8 rsp = 0100FFF8\n",
      "----------------------------------------\n",
      "0100001d: 8b45f4          mov eax, dword ptr [rbp - 0xc]\n",
      "eax = 00000004 rbp = 0100FFF8 rsp = 0100FFF8\n",
      "----------------------------------------\n",
      "01000020: 0faf45f8        imul eax, dword ptr [rbp - 8]\n",
      "eax = 00000004 rbp = 0100FFF8 rsp = 0100FFF8\n",
      "----------------------------------------\n",
      "01000024: 8945f8          mov dword ptr [rbp - 8], eax\n",
      "eax = 00000018 rbp = 0100FFF8 rsp = 0100FFF8\n",
      "----------------------------------------\n",
      "01000027: 8b45f4          mov eax, dword ptr [rbp - 0xc]\n",
      "eax = 00000018 rbp = 0100FFF8 rsp = 0100FFF8\n",
      "----------------------------------------\n",
      "0100002a: 83c001          add eax, 1\n",
      "eax = 00000004 rbp = 0100FFF8 rsp = 0100FFF8\n",
      "----------------------------------------\n",
      "0100002d: 8945f4          mov dword ptr [rbp - 0xc], eax\n",
      "eax = 00000005 rbp = 0100FFF8 rsp = 0100FFF8\n",
      "----------------------------------------\n",
      "01000030: ebe3            jmp 0xffffffffffffffe5\n",
      "eax = 00000005 rbp = 0100FFF8 rsp = 0100FFF8\n",
      "----------------------------------------\n",
      "01000015: 8b45f4          mov eax, dword ptr [rbp - 0xc]\n",
      "eax = 00000005 rbp = 0100FFF8 rsp = 0100FFF8\n",
      "----------------------------------------\n",
      "01000018: 3b45fc          cmp eax, dword ptr [rbp - 4]\n",
      "eax = 00000005 rbp = 0100FFF8 rsp = 0100FFF8\n",
      "----------------------------------------\n",
      "0100001b: 7f15            jg 0x17\n",
      "eax = 00000005 rbp = 0100FFF8 rsp = 0100FFF8\n",
      "----------------------------------------\n",
      "0100001d: 8b45f4          mov eax, dword ptr [rbp - 0xc]\n",
      "eax = 00000005 rbp = 0100FFF8 rsp = 0100FFF8\n",
      "----------------------------------------\n",
      "01000020: 0faf45f8        imul eax, dword ptr [rbp - 8]\n",
      "eax = 00000005 rbp = 0100FFF8 rsp = 0100FFF8\n",
      "----------------------------------------\n",
      "01000024: 8945f8          mov dword ptr [rbp - 8], eax\n",
      "eax = 00000078 rbp = 0100FFF8 rsp = 0100FFF8\n",
      "----------------------------------------\n",
      "01000027: 8b45f4          mov eax, dword ptr [rbp - 0xc]\n",
      "eax = 00000078 rbp = 0100FFF8 rsp = 0100FFF8\n",
      "----------------------------------------\n",
      "0100002a: 83c001          add eax, 1\n",
      "eax = 00000005 rbp = 0100FFF8 rsp = 0100FFF8\n",
      "----------------------------------------\n",
      "0100002d: 8945f4          mov dword ptr [rbp - 0xc], eax\n",
      "eax = 00000006 rbp = 0100FFF8 rsp = 0100FFF8\n",
      "----------------------------------------\n",
      "01000030: ebe3            jmp 0xffffffffffffffe5\n",
      "eax = 00000006 rbp = 0100FFF8 rsp = 0100FFF8\n",
      "----------------------------------------\n",
      "01000015: 8b45f4          mov eax, dword ptr [rbp - 0xc]\n",
      "eax = 00000006 rbp = 0100FFF8 rsp = 0100FFF8\n",
      "----------------------------------------\n",
      "01000018: 3b45fc          cmp eax, dword ptr [rbp - 4]\n",
      "eax = 00000006 rbp = 0100FFF8 rsp = 0100FFF8\n",
      "----------------------------------------\n",
      "0100001b: 7f15            jg 0x17\n",
      "eax = 00000006 rbp = 0100FFF8 rsp = 0100FFF8\n",
      "----------------------------------------\n",
      "01000032: 8b45f8          mov eax, dword ptr [rbp - 8]\n",
      "eax = 00000006 rbp = 0100FFF8 rsp = 0100FFF8\n",
      "----------------------------------------\n",
      "01000035: 5d              pop rbp\n",
      "eax = 00000078 rbp = 0100FFF8 rsp = 0100FFF8\n",
      "----------------------------------------\n",
      "01000036: c3              ret \n",
      "eax = 00000078 rbp = 00000000 rsp = 01010000\n",
      "----------------------------------------\n",
      "01010100: cc              int3 \n",
      "eax = 00000078 rbp = 00000000 rsp = 01010008\n",
      "Unhandled CPU exception (UC_ERR_EXCEPTION)\n",
      "========================================\n",
      "Calculations result = 120\n"
     ]
    }
   ],
   "source": [
    "CODE = binary\n",
    "function_argument_in_edi = 5\n",
    "\n",
    "\n",
    "def show_regs(uc, regs):\n",
    "    for reg in regs.split():\n",
    "        value = uc.reg_read(unicorn.x86_const.__dict__['UC_X86_REG_' + reg.upper()])\n",
    "        print '%s = %08X' % (reg, value),\n",
    "    print\n",
    "\n",
    "def hook_code(uc, address, size, user_data):\n",
    "    print '-' * 40\n",
    "    instr_bytes = str(uc.mem_read(address, size))\n",
    "    print ';'.join(['%08x: %s %s %s' % (\n",
    "        address,\n",
    "        str(i.bytes).encode('hex').ljust(15),\n",
    "        i.mnemonic,\n",
    "        i.op_str) for i in pp.disasm(instr_bytes, 0)])\n",
    "    show_regs(uc, 'eax rbp rsp')\n",
    "\n",
    "def hook_mem_invalid(uc, access, address, size, value, user_data):\n",
    "    if access == unicorn.UC_MEM_WRITE_UNMAPPED:\n",
    "        print \"INVALID WRITE at 0x%x %d byte(s) 0x%x\" % (address, size, value)\n",
    "    else:\n",
    "        print 'INVALID READ  at 0x%x %d byte(s)' % (address, size)\n",
    "    return False # do we want to continue emulation?\n",
    "    \n",
    "def hook_mem_access(uc, access, address, size, value, user_data):\n",
    "    if access == unicorn.UC_MEM_WRITE:\n",
    "        print 'WRITE at 0x%x %d byte(s) 0x%x' % (address, size, value)\n",
    "    elif access == unicorn.UC_MEM_READ:\n",
    "        print 'READ  at 0x%x %d byte(s)' % (address, size)\n",
    "    stack = str(uc.mem_read(STACK - 32, 32))\n",
    "    hexdump.hexdump(stack)\n",
    "\n",
    "\n",
    "ADDRESS = 0x1000000\n",
    "STACK = 0x1010000\n",
    "OUTSIDE = 0x1010100\n",
    "\n",
    "try:\n",
    "    mu = unicorn.Uc(unicorn.UC_ARCH_X86, unicorn.UC_MODE_64)\n",
    "    mu.mem_map(ADDRESS, 2 * 1024 * 1024, unicorn.UC_PROT_ALL)\n",
    "    mu.mem_write(ADDRESS, CODE)       # code\n",
    "    mu.mem_write(STACK, pack('I', OUTSIDE)) # return address\n",
    "    mu.mem_write(OUTSIDE, '\\xCC')           # return on int 3\n",
    "\n",
    "    mu.reg_write(unicorn.x86_const.UC_X86_REG_EDI, function_argument_in_edi)\n",
    "    mu.reg_write(unicorn.x86_const.UC_X86_REG_RSP, STACK)\n",
    "\n",
    "    mu.hook_add(unicorn.UC_HOOK_CODE, hook_code)\n",
    "    #mu.hook_add(unicorn.UC_HOOK_MEM_READ_UNMAPPED | unicorn.UC_HOOK_MEM_WRITE_UNMAPPED, hook_mem_invalid)\n",
    "    #mu.hook_add(unicorn.UC_HOOK_MEM_WRITE | unicorn.UC_HOOK_MEM_READ, hook_mem_access)\n",
    "    \n",
    "    print 'Emulation start'\n",
    "    mu.emu_start(ADDRESS, ADDRESS + len(CODE))\n",
    "    print 'Emulation done'\n",
    "except unicorn.UcError as e:\n",
    "    print e\n",
    "    print '=' * 40\n",
    "    print 'Calculations result =', mu.reg_read(unicorn.x86_const.UC_X86_REG_EAX)"
   ]
  },
  {
   "cell_type": "markdown",
   "metadata": {},
   "source": [
    "Помимо машинного кода реверсеры сталкиваются и с кодом виртуальных машин, например, виртуальной машины Python. Обычно он встречается в файлах формата `*.pyc`. Для просмотра кода ВМ функции можно использовать встроенную библиотеку `dis`, для преобразования `*.pyc` обратно (по возможности) в исходный код, библиотеки `uncompyle*` с разными суффиксами."
   ]
  },
  {
   "cell_type": "code",
   "execution_count": 2,
   "metadata": {
    "collapsed": false
   },
   "outputs": [
    {
     "name": "stdout",
     "output_type": "stream",
     "text": [
      "  3           0 LOAD_FAST                0 (x)\n",
      "              3 LOAD_CONST               1 (2)\n",
      "              6 BINARY_MULTIPLY     \n",
      "              7 RETURN_VALUE        \n"
     ]
    }
   ],
   "source": [
    "import dis\n",
    "def fn(x):\n",
    "    return x * 2\n",
    "dis.dis(fn)"
   ]
  },
  {
   "cell_type": "code",
   "execution_count": 282,
   "metadata": {
    "collapsed": false
   },
   "outputs": [
    {
     "name": "stdout",
     "output_type": "stream",
     "text": [
      "# uncompyle6 version 2.11.3\n",
      "# Python bytecode 2.7 (62211)\n",
      "# Decompiled from: Python 2.7.12 |Anaconda 2.5.0 (64-bit)| (default, Jun 29 2016, 11:07:13) [MSC v.1500 64 bit (AMD64)]\n",
      "# Embedded file name: c:\\users\\user\\appdata\\local\\temp\\pip-install-cxbc6q\\moviepy\\moviepy\\audio\\fx\\volumex.py\n",
      "# Compiled at: 2018-04-18 17:57:33\n",
      "from moviepy.decorators import audio_video_fx\n",
      "\n",
      "@audio_video_fx\n",
      "def volumex(clip, factor):\n",
      "    \"\"\" Returns a clip with audio volume multiplied by the\n",
      "    value `factor`. Can be applied to both audio and video clips.\n",
      "    \n",
      "    This effect is loaded as a clip method when you use moviepy.editor,\n",
      "    so you can just write ``clip.volumex(2)``\n",
      "    \n",
      "    Examples\n",
      "    ---------\n",
      "    \n",
      "    >>> newclip = volumex(clip, 2.0) # doubles audio volume\n",
      "    >>> newclip = clip.fx( volumex, 0.5) # half audio, use with fx\n",
      "    >>> newclip = clip.volumex(2) # only if you used \"moviepy.editor\"\n",
      "    \"\"\"\n",
      "    return clip.fl(lambda gf, t: factor * gf(t), keep_duration=True)\n"
     ]
    }
   ],
   "source": [
    "import uncompyle6\n",
    "with open('out.decompiled.txt', 'wb') as io:\n",
    "    uncompyle6.decompile_file(\"C:\\\\Users\\\\User\\\\Anaconda2\\\\Lib\\\\site-packages\\\\moviepy\\\\audio\\\\fx\\\\volumex.pyc\", io)\n",
    "print file_get('out.decompiled.txt')"
   ]
  },
  {
   "cell_type": "code",
   "execution_count": 272,
   "metadata": {
    "collapsed": false
   },
   "outputs": [
    {
     "name": "stdout",
     "output_type": "stream",
     "text": [
      "<code object <module> at 000000002B1BC3B0, file \"c:\\users\\user\\appdata\\local\\temp\\pip-install-cxbc6q\\moviepy\\moviepy\\audio\\fx\\volumex.py\", line 1>\n",
      "100\n",
      "100\n",
      "108\n",
      "109\n",
      "90\n",
      "101\n",
      "100\n",
      "132\n",
      "131\n",
      "90\n",
      "100\n",
      "<code object volumex at 000000002B1BC1B0, file \"c:\\users\\user\\appdata\\local\\temp\\pip-install-cxbc6q\\moviepy\\moviepy\\audio\\fx\\volumex.py\", line 4>\n",
      "124\n",
      "106\n",
      "135\n",
      "135 [135, 136, 137] ('factor',) 0\n",
      "102\n",
      "100\n",
      "134\n",
      "100\n",
      "116\n",
      "131\n",
      "<code object <lambda> at 000000002B1A3F30, file \"c:\\users\\user\\appdata\\local\\temp\\pip-install-cxbc6q\\moviepy\\moviepy\\audio\\fx\\volumex.py\", line 19>\n",
      "136\n",
      "136 [135, 136, 137] ('factor',) 0\n",
      "124\n",
      "124\n",
      "131\n",
      "# Embedded file name: c:\\users\\user\\appdata\\local\\temp\\pip-install-cxbc6q\\moviepy\\moviepy\\audio\\fx\\volumex.py\n",
      "from moviepy.decorators import audio_video_fx\n",
      "\n",
      "@audio_video_fx\n",
      "def volumex(clip, factor):\n",
      "    \"\"\" Returns a clip with audio volume multiplied by the\n",
      "    value `factor`. Can be applied to both audio and video clips.\n",
      "    \n",
      "    This effect is loaded as a clip method when you use moviepy.editor,\n",
      "    so you can just write ``clip.volumex(2)``\n",
      "    \n",
      "    Examples\n",
      "    ---------\n",
      "    \n",
      "    >>> newclip = volumex(clip, 2.0) # doubles audio volume\n",
      "    >>> newclip = clip.fx( volumex, 0.5) # half audio, use with fx\n",
      "    >>> newclip = clip.volumex(2) # only if you used \"moviepy.editor\"\n",
      "    \"\"\"\n",
      "    return clip.fl(lambda gf, t: factor * gf(t), keep_duration=True)\n"
     ]
    }
   ],
   "source": [
    "import uncompyle2\n",
    "io = BytesIO()\n",
    "uncompyle2.uncompyle_file(\"C:\\\\Users\\\\User\\\\Anaconda2\\\\Lib\\\\site-packages\\\\moviepy\\\\audio\\\\fx\\\\volumex.pyc\", io)\n",
    "print io.getvalue()"
   ]
  },
  {
   "cell_type": "markdown",
   "metadata": {},
   "source": [
    "## CTF: сеть"
   ]
  },
  {
   "cell_type": "markdown",
   "metadata": {},
   "source": [
    "Библиотека `dpkt` умеет разбирать сетевой обмен и многие сетевые протоколы, по которому он проводится, например, самый распространенный Ethernet > IP > TCP."
   ]
  },
  {
   "cell_type": "markdown",
   "metadata": {},
   "source": [
    "```\n",
    "pip install dpkt\n",
    "```"
   ]
  },
  {
   "cell_type": "code",
   "execution_count": 6,
   "metadata": {
    "collapsed": false
   },
   "outputs": [
    {
     "name": "stdout",
     "output_type": "stream",
     "text": [
      "1460061854.512104\n",
      "\n",
      "00000000: 08 00 27 17 89 79 08 00  27 50 BB 09 08 00 45 00  ..'..y..'P....E.\n",
      "00000010: 00 AD 1F E4 40 00 40 06  06 62 0A 00 00 05 0A 00  ....@.@..b......\n",
      "00000020: 00 01 E2 13 1F 90 FE FF  F7 F0 8D 23 17 15 80 18  ...........#....\n",
      "00000030: 01 C9 86 F0 00 00 01 01  08 0A 00 0C E8 0E 00 0D  ................\n",
      "00000040: 06 44 47 45 54 20 2F 72  6F 62 6F 74 73 2E 74 78  .DGET /robots.tx\n",
      "00000050: 74 20 48 54 54 50 2F 31  2E 31 0D 0A 55 73 65 72  t HTTP/1.1..User\n",
      "00000060: 2D 41 67 65 6E 74 3A 20  57 67 65 74 2F 31 2E 31  -Agent: Wget/1.1\n",
      "00000070: 36 20 28 6C 69 6E 75 78  2D 67 6E 75 29 0D 0A 41  6 (linux-gnu)..A\n",
      "00000080: 63 63 65 70 74 3A 20 2A  2F 2A 0D 0A 48 6F 73 74  ccept: */*..Host\n",
      "00000090: 3A 20 31 30 2E 30 2E 30  2E 31 3A 38 30 38 30 0D  : 10.0.0.1:8080.\n",
      "000000A0: 0A 43 6F 6E 6E 65 63 74  69 6F 6E 3A 20 4B 65 65  .Connection: Kee\n",
      "000000B0: 70 2D 41 6C 69 76 65 0D  0A 0D 0A                 p-Alive....\n",
      "\n",
      "{'ip': IP(len=173, id=8164, off=16384, p=6, sum=1634, src='\\n\\x00\\x00\\x05', dst='\\n\\x00\\x00\\x01', opts='', data=TCP(sport=57875, dport=8080, seq=4278188016L, ack=2367887125L, off=8, flags=24, win=457, sum=34544, opts='\\x01\\x01\\x08\\n\\x00\\x0c\\xe8\\x0e\\x00\\r\\x06D', data='GET /robots.txt HTTP/1.1\\r\\nUser-Agent: Wget/1.16 (linux-gnu)\\r\\nAccept: */*\\r\\nHost: 10.0.0.1:8080\\r\\nConnection: Keep-Alive\\r\\n\\r\\n'))}\n",
      "\n",
      "08:00:27:50:bb:09 -> 08:00:27:17:89:79\n",
      "10.0.0.5:57875 -> 10.0.0.1:8080\n",
      "\n",
      "GET /robots.txt HTTP/1.1\r\n",
      "User-Agent: Wget/1.16 (linux-gnu)\r\n",
      "Accept: */*\r\n",
      "Host: 10.0.0.1:8080\r\n",
      "Connection: Keep-Alive\r\n",
      "\r\n",
      "\n",
      "\n",
      "{'body': '', 'uri': u'/robots.txt', 'headers': OrderedDict([(u'user-agent', u'Wget/1.16 (linux-gnu)'), (u'accept', u'*/*'), (u'host', u'10.0.0.1:8080'), (u'connection', u'Keep-Alive')]), 'version': u'1.1', 'data': '', 'method': u'GET'}\n"
     ]
    }
   ],
   "source": [
    "import dpkt, itertools, socket, hexdump\n",
    "\n",
    "mac_addr = lambda address: ':'.join('%02x' % ord(b) for b in address)\n",
    "inet_to_str = lambda inet: socket.inet_ntoa(inet)\n",
    "\n",
    "with open(\"picoctf2017_data__.pcap\", 'rb') as fp:\n",
    "    for ts, buf in itertools.islice(dpkt.pcap.Reader(fp), 29, 30):\n",
    "        print '%.6f' % ts\n",
    "        print\n",
    "        hexdump.hexdump(buf)\n",
    "        print\n",
    "        eth = dpkt.ethernet.Ethernet(buf)\n",
    "        print eth.__dict__\n",
    "        print\n",
    "        print '%s -> %s' % (mac_addr(eth.src), mac_addr(eth.dst))\n",
    "        if type(eth.data) == dpkt.ip.IP:\n",
    "            ip = eth.data\n",
    "            if type(ip.data) == dpkt.tcp.TCP:\n",
    "                tcp = ip.data\n",
    "                print '%s:%d -> %s:%d' % (inet_to_str(ip.src), tcp.sport, inet_to_str(ip.dst), tcp.dport)\n",
    "                print\n",
    "                print tcp.data\n",
    "                print\n",
    "                print dpkt.http.Request(tcp.data).__dict__"
   ]
  },
  {
   "cell_type": "markdown",
   "metadata": {},
   "source": [
    "todo\n",
    "\n",
    "    scapy\n",
    "        надо поставить pcapy и dnet\n",
    "        https://github.com/CoreSecurity/pcapy/wiki/Compiling-Pcapy-on-Windows-Guide\n",
    "        https://github.com/zlorb/scapy\n",
    "        http://stackoverflow.com/questions/5447461/running-scapy-on-windows-with-python-2-7/27040800#27040800\n",
    "    dnet (1.12)\n",
    "    pcap (1.1)\n",
    "    pcapy (0.10.10)\n",
    "\n",
    "    socket\n",
    "    zio? pwn?"
   ]
  },
  {
   "cell_type": "markdown",
   "metadata": {},
   "source": [
    "todo scapy хочет админские права, можно ли их дать из нотебука?"
   ]
  },
  {
   "cell_type": "code",
   "execution_count": 7,
   "metadata": {
    "collapsed": false
   },
   "outputs": [
    {
     "name": "stderr",
     "output_type": "stream",
     "text": [
      "WARNING: No match between your pcap and dnet network interfaces found. You probably won't be able to send packets. Deactivating unneeded interfaces and restarting Scapy might help.\n",
      "WARNING:scapy.loading:No match between your pcap and dnet network interfaces found. You probably won't be able to send packets. Deactivating unneeded interfaces and restarting Scapy might help.\n",
      "WARNING: No route found for IPv6 destination :: (no default route?)\n",
      "WARNING:scapy.runtime:No route found for IPv6 destination :: (no default route?)\n"
     ]
    },
    {
     "ename": "TypeError",
     "evalue": "exceptions must be strings, classes, or instances, not type",
     "output_type": "error",
     "traceback": [
      "\u001b[1;31m---------------------------------------------------------------------------\u001b[0m",
      "\u001b[1;31mTypeError\u001b[0m                                 Traceback (most recent call last)",
      "\u001b[1;32m<ipython-input-7-ef358d5b6757>\u001b[0m in \u001b[0;36m<module>\u001b[1;34m()\u001b[0m\n\u001b[0;32m      5\u001b[0m         \u001b[0mip\u001b[0m \u001b[1;33m=\u001b[0m \u001b[0mpkt\u001b[0m\u001b[1;33m.\u001b[0m\u001b[0mgetlayer\u001b[0m\u001b[1;33m(\u001b[0m\u001b[0mIP\u001b[0m\u001b[1;33m)\u001b[0m\u001b[1;33m\u001b[0m\u001b[0m\n\u001b[0;32m      6\u001b[0m         \u001b[1;32mprint\u001b[0m \u001b[1;34m'[+] Pkt Received From: '\u001b[0m \u001b[1;33m+\u001b[0m \u001b[0mip\u001b[0m\u001b[1;33m.\u001b[0m\u001b[0msrc\u001b[0m \u001b[1;33m+\u001b[0m \u001b[1;34m' with TTL: '\u001b[0m \u001b[1;33m+\u001b[0m \u001b[0mstr\u001b[0m\u001b[1;33m(\u001b[0m\u001b[0mpkt\u001b[0m\u001b[1;33m.\u001b[0m\u001b[0mttl\u001b[0m\u001b[1;33m)\u001b[0m\u001b[1;33m\u001b[0m\u001b[0m\n\u001b[1;32m----> 7\u001b[1;33m \u001b[0mscapy\u001b[0m\u001b[1;33m.\u001b[0m\u001b[0mall\u001b[0m\u001b[1;33m.\u001b[0m\u001b[0msniff\u001b[0m\u001b[1;33m(\u001b[0m\u001b[0mprn\u001b[0m\u001b[1;33m=\u001b[0m\u001b[0mtestTTL\u001b[0m\u001b[1;33m,\u001b[0m \u001b[0mstore\u001b[0m\u001b[1;33m=\u001b[0m\u001b[1;36m0\u001b[0m\u001b[1;33m)\u001b[0m\u001b[1;33m\u001b[0m\u001b[0m\n\u001b[0m",
      "\u001b[1;32mC:\\Users\\User\\Anaconda2\\lib\\site-packages\\scapy\\arch\\windows\\__init__.pyc\u001b[0m in \u001b[0;36msniff\u001b[1;34m(count, store, offline, prn, lfilter, L2socket, timeout, *arg, **karg)\u001b[0m\n\u001b[0;32m    494\u001b[0m         \u001b[1;32mif\u001b[0m \u001b[0mL2socket\u001b[0m \u001b[1;32mis\u001b[0m \u001b[0mNone\u001b[0m\u001b[1;33m:\u001b[0m\u001b[1;33m\u001b[0m\u001b[0m\n\u001b[0;32m    495\u001b[0m             \u001b[0mL2socket\u001b[0m \u001b[1;33m=\u001b[0m \u001b[0mconf\u001b[0m\u001b[1;33m.\u001b[0m\u001b[0mL2listen\u001b[0m\u001b[1;33m\u001b[0m\u001b[0m\n\u001b[1;32m--> 496\u001b[1;33m         \u001b[0ms\u001b[0m \u001b[1;33m=\u001b[0m \u001b[0mL2socket\u001b[0m\u001b[1;33m(\u001b[0m\u001b[0mtype\u001b[0m\u001b[1;33m=\u001b[0m\u001b[0mETH_P_ALL\u001b[0m\u001b[1;33m,\u001b[0m \u001b[1;33m*\u001b[0m\u001b[0marg\u001b[0m\u001b[1;33m,\u001b[0m \u001b[1;33m**\u001b[0m\u001b[0mkarg\u001b[0m\u001b[1;33m)\u001b[0m\u001b[1;33m\u001b[0m\u001b[0m\n\u001b[0m\u001b[0;32m    497\u001b[0m     \u001b[1;32melse\u001b[0m\u001b[1;33m:\u001b[0m\u001b[1;33m\u001b[0m\u001b[0m\n\u001b[0;32m    498\u001b[0m         \u001b[0ms\u001b[0m \u001b[1;33m=\u001b[0m \u001b[0mPcapReader\u001b[0m\u001b[1;33m(\u001b[0m\u001b[0moffline\u001b[0m\u001b[1;33m)\u001b[0m\u001b[1;33m\u001b[0m\u001b[0m\n",
      "\u001b[1;32mC:\\Users\\User\\Anaconda2\\lib\\site-packages\\scapy\\arch\\pcapdnet.pyc\u001b[0m in \u001b[0;36m__init__\u001b[1;34m(self, iface, type, promisc, filter)\u001b[0m\n\u001b[0;32m    103\u001b[0m                     \u001b[0mpromisc\u001b[0m \u001b[1;33m=\u001b[0m \u001b[0mconf\u001b[0m\u001b[1;33m.\u001b[0m\u001b[0msniff_promisc\u001b[0m\u001b[1;33m\u001b[0m\u001b[0m\n\u001b[0;32m    104\u001b[0m                 \u001b[0mself\u001b[0m\u001b[1;33m.\u001b[0m\u001b[0mpromisc\u001b[0m \u001b[1;33m=\u001b[0m \u001b[0mpromisc\u001b[0m\u001b[1;33m\u001b[0m\u001b[0m\n\u001b[1;32m--> 105\u001b[1;33m                 \u001b[0mself\u001b[0m\u001b[1;33m.\u001b[0m\u001b[0mins\u001b[0m \u001b[1;33m=\u001b[0m \u001b[0mopen_pcap\u001b[0m\u001b[1;33m(\u001b[0m\u001b[0miface\u001b[0m\u001b[1;33m,\u001b[0m \u001b[1;36m1600\u001b[0m\u001b[1;33m,\u001b[0m \u001b[0mself\u001b[0m\u001b[1;33m.\u001b[0m\u001b[0mpromisc\u001b[0m\u001b[1;33m,\u001b[0m \u001b[1;36m100\u001b[0m\u001b[1;33m)\u001b[0m\u001b[1;33m\u001b[0m\u001b[0m\n\u001b[0m\u001b[0;32m    106\u001b[0m                 \u001b[1;32mtry\u001b[0m\u001b[1;33m:\u001b[0m\u001b[1;33m\u001b[0m\u001b[0m\n\u001b[0;32m    107\u001b[0m                     \u001b[0mioctl\u001b[0m\u001b[1;33m(\u001b[0m\u001b[0mself\u001b[0m\u001b[1;33m.\u001b[0m\u001b[0mins\u001b[0m\u001b[1;33m.\u001b[0m\u001b[0mfileno\u001b[0m\u001b[1;33m(\u001b[0m\u001b[1;33m)\u001b[0m\u001b[1;33m,\u001b[0m\u001b[0mBIOCIMMEDIATE\u001b[0m\u001b[1;33m,\u001b[0m\u001b[0mstruct\u001b[0m\u001b[1;33m.\u001b[0m\u001b[0mpack\u001b[0m\u001b[1;33m(\u001b[0m\u001b[1;34m\"I\"\u001b[0m\u001b[1;33m,\u001b[0m\u001b[1;36m1\u001b[0m\u001b[1;33m)\u001b[0m\u001b[1;33m)\u001b[0m\u001b[1;33m\u001b[0m\u001b[0m\n",
      "\u001b[1;32mC:\\Users\\User\\Anaconda2\\lib\\site-packages\\scapy\\arch\\windows\\__init__.pyc\u001b[0m in \u001b[0;36m<lambda>\u001b[1;34m(iface, *args, **kargs)\u001b[0m\n\u001b[0;32m    232\u001b[0m \u001b[1;33m\u001b[0m\u001b[0m\n\u001b[0;32m    233\u001b[0m \u001b[0m_orig_open_pcap\u001b[0m \u001b[1;33m=\u001b[0m \u001b[0mpcapdnet\u001b[0m\u001b[1;33m.\u001b[0m\u001b[0mopen_pcap\u001b[0m\u001b[1;33m\u001b[0m\u001b[0m\n\u001b[1;32m--> 234\u001b[1;33m \u001b[0mpcapdnet\u001b[0m\u001b[1;33m.\u001b[0m\u001b[0mopen_pcap\u001b[0m \u001b[1;33m=\u001b[0m \u001b[1;32mlambda\u001b[0m \u001b[0miface\u001b[0m\u001b[1;33m,\u001b[0m\u001b[1;33m*\u001b[0m\u001b[0margs\u001b[0m\u001b[1;33m,\u001b[0m\u001b[1;33m**\u001b[0m\u001b[0mkargs\u001b[0m\u001b[1;33m:\u001b[0m \u001b[0m_orig_open_pcap\u001b[0m\u001b[1;33m(\u001b[0m\u001b[0mpcap_name\u001b[0m\u001b[1;33m(\u001b[0m\u001b[0miface\u001b[0m\u001b[1;33m)\u001b[0m\u001b[1;33m,\u001b[0m\u001b[1;33m*\u001b[0m\u001b[0margs\u001b[0m\u001b[1;33m,\u001b[0m\u001b[1;33m**\u001b[0m\u001b[0mkargs\u001b[0m\u001b[1;33m)\u001b[0m\u001b[1;33m\u001b[0m\u001b[0m\n\u001b[0m\u001b[0;32m    235\u001b[0m \u001b[1;33m\u001b[0m\u001b[0m\n\u001b[0;32m    236\u001b[0m \u001b[1;32mdef\u001b[0m \u001b[0mread_routes\u001b[0m\u001b[1;33m(\u001b[0m\u001b[1;33m)\u001b[0m\u001b[1;33m:\u001b[0m\u001b[1;33m\u001b[0m\u001b[0m\n",
      "\u001b[1;32mC:\\Users\\User\\Anaconda2\\lib\\site-packages\\scapy\\arch\\pcapdnet.pyc\u001b[0m in \u001b[0;36m<lambda>\u001b[1;34m(*args, **kargs)\u001b[0m\n\u001b[0;32m     51\u001b[0m                 \u001b[1;32mdef\u001b[0m \u001b[0m__getattr__\u001b[0m\u001b[1;33m(\u001b[0m\u001b[0mself\u001b[0m\u001b[1;33m,\u001b[0m \u001b[0mattr\u001b[0m\u001b[1;33m)\u001b[0m\u001b[1;33m:\u001b[0m\u001b[1;33m\u001b[0m\u001b[0m\n\u001b[0;32m     52\u001b[0m                     \u001b[1;32mreturn\u001b[0m \u001b[0mgetattr\u001b[0m\u001b[1;33m(\u001b[0m\u001b[0mself\u001b[0m\u001b[1;33m.\u001b[0m\u001b[0mpcap\u001b[0m\u001b[1;33m,\u001b[0m \u001b[0mattr\u001b[0m\u001b[1;33m)\u001b[0m\u001b[1;33m\u001b[0m\u001b[0m\n\u001b[1;32m---> 53\u001b[1;33m             \u001b[0mopen_pcap\u001b[0m \u001b[1;33m=\u001b[0m \u001b[1;32mlambda\u001b[0m \u001b[1;33m*\u001b[0m\u001b[0margs\u001b[0m\u001b[1;33m,\u001b[0m\u001b[1;33m**\u001b[0m\u001b[0mkargs\u001b[0m\u001b[1;33m:\u001b[0m \u001b[0m_PcapWrapper_pypcap\u001b[0m\u001b[1;33m(\u001b[0m\u001b[1;33m*\u001b[0m\u001b[0margs\u001b[0m\u001b[1;33m,\u001b[0m\u001b[1;33m**\u001b[0m\u001b[0mkargs\u001b[0m\u001b[1;33m)\u001b[0m\u001b[1;33m\u001b[0m\u001b[0m\n\u001b[0m\u001b[0;32m     54\u001b[0m         \u001b[1;32melif\u001b[0m \u001b[0mhasattr\u001b[0m\u001b[1;33m(\u001b[0m\u001b[0mpcap\u001b[0m\u001b[1;33m,\u001b[0m\u001b[1;34m\"pcapObject\"\u001b[0m\u001b[1;33m)\u001b[0m\u001b[1;33m:\u001b[0m \u001b[1;31m# python-libpcap\u001b[0m\u001b[1;33m\u001b[0m\u001b[0m\n\u001b[0;32m     55\u001b[0m             \u001b[1;32mclass\u001b[0m \u001b[0m_PcapWrapper_libpcap\u001b[0m\u001b[1;33m:\u001b[0m\u001b[1;33m\u001b[0m\u001b[0m\n",
      "\u001b[1;32mC:\\Users\\User\\Anaconda2\\lib\\site-packages\\scapy\\arch\\pcapdnet.pyc\u001b[0m in \u001b[0;36m__init__\u001b[1;34m(self, device, snaplen, promisc, to_ms)\u001b[0m\n\u001b[0;32m     48\u001b[0m                     \u001b[1;32mexcept\u001b[0m \u001b[0mTypeError\u001b[0m\u001b[1;33m:\u001b[0m\u001b[1;33m\u001b[0m\u001b[0m\n\u001b[0;32m     49\u001b[0m                         \u001b[1;31m# Older pypcap versions do not support the timeout_ms argument\u001b[0m\u001b[1;33m\u001b[0m\u001b[1;33m\u001b[0m\u001b[0m\n\u001b[1;32m---> 50\u001b[1;33m                         \u001b[0mself\u001b[0m\u001b[1;33m.\u001b[0m\u001b[0mpcap\u001b[0m \u001b[1;33m=\u001b[0m \u001b[0mpcap\u001b[0m\u001b[1;33m.\u001b[0m\u001b[0mpcap\u001b[0m\u001b[1;33m(\u001b[0m\u001b[0mdevice\u001b[0m\u001b[1;33m,\u001b[0m \u001b[0msnaplen\u001b[0m\u001b[1;33m,\u001b[0m \u001b[0mpromisc\u001b[0m\u001b[1;33m,\u001b[0m \u001b[0mimmediate\u001b[0m\u001b[1;33m=\u001b[0m\u001b[1;36m1\u001b[0m\u001b[1;33m)\u001b[0m\u001b[1;33m\u001b[0m\u001b[0m\n\u001b[0m\u001b[0;32m     51\u001b[0m                 \u001b[1;32mdef\u001b[0m \u001b[0m__getattr__\u001b[0m\u001b[1;33m(\u001b[0m\u001b[0mself\u001b[0m\u001b[1;33m,\u001b[0m \u001b[0mattr\u001b[0m\u001b[1;33m)\u001b[0m\u001b[1;33m:\u001b[0m\u001b[1;33m\u001b[0m\u001b[0m\n\u001b[0;32m     52\u001b[0m                     \u001b[1;32mreturn\u001b[0m \u001b[0mgetattr\u001b[0m\u001b[1;33m(\u001b[0m\u001b[0mself\u001b[0m\u001b[1;33m.\u001b[0m\u001b[0mpcap\u001b[0m\u001b[1;33m,\u001b[0m \u001b[0mattr\u001b[0m\u001b[1;33m)\u001b[0m\u001b[1;33m\u001b[0m\u001b[0m\n",
      "\u001b[1;32mpcap.pyx\u001b[0m in \u001b[0;36mpcap.pcap.__init__\u001b[1;34m()\u001b[0m\n",
      "\u001b[1;31mTypeError\u001b[0m: exceptions must be strings, classes, or instances, not type"
     ]
    }
   ],
   "source": [
    "import scapy.all\n",
    "\n",
    "def testTTL(pkt):\n",
    "    if pkt.haslayer(IP):\n",
    "        ip = pkt.getlayer(IP)\n",
    "        print '[+] Pkt Received From: ' + ip.src + ' with TTL: ' + str(pkt.ttl)\n",
    "scapy.all.sniff(prn=testTTL, store=0)"
   ]
  },
  {
   "cell_type": "markdown",
   "metadata": {},
   "source": [
    "## CTF: форматы"
   ]
  },
  {
   "cell_type": "markdown",
   "metadata": {},
   "source": [
    "Простейшим способом доставать данные из бинарных форматов является встроенная библиотека `struct`. Форматной строкой описывается бинарный формат, функции `pack` и `unpack` преобразуют в/из него.\n",
    "\n",
    "Шпаргалка по форматной строке (Little endian (Intel) — `<` перед символом, big endian (network) — `>`)\n",
    "\n",
    "<table>\n",
    "<thead><th><th>signed<th>unsigned</thead>\n",
    "<tr><td>`int8`<td>`b`<td>`B`</tr>\n",
    "<tr><td>`int16`<td>`h`<td>`H`</tr>\n",
    "<tr><td>`int32`<td>`i`<td>`I`</tr>\n",
    "<tr><td>`int64`<td>`q`<td>`Q`</tr>\n",
    "<tr><td>`float`<td colspan=\"2\">`f`</tr>\n",
    "<tr><td>`double`<td colspan=\"2\">`d`</tr>\n",
    "<tr><td>Строка длиной 42<td colspan=\"2\">`42s`</tr>\n",
    "</table>"
   ]
  },
  {
   "cell_type": "code",
   "execution_count": 9,
   "metadata": {
    "collapsed": false
   },
   "outputs": [
    {
     "name": "stdout",
     "output_type": "stream",
     "text": [
      "'\\x01\\x00\\x00\\x00\\xd2\\x04'\n",
      "(1, 1234)\n"
     ]
    }
   ],
   "source": [
    "import struct\n",
    "bytes = struct.pack('Ih', 1, 1234)\n",
    "print repr(bytes)\n",
    "print struct.unpack('Ih', bytes)"
   ]
  },
  {
   "cell_type": "markdown",
   "metadata": {},
   "source": [
    "Библиотека `libmagic` — стандартный метод опознавания типа файла в линуксах и `python-magic` Python-обертка её."
   ]
  },
  {
   "cell_type": "markdown",
   "metadata": {},
   "source": [
    "todo Установка на 64-битный питон\n",
    "\n",
    "Скопировать "
   ]
  },
  {
   "cell_type": "markdown",
   "metadata": {},
   "source": [
    "```\n",
    "Скачать magic1.dll и K с https://github.com/pidydx/libmagicwin64\n",
    "\n",
    "Если Python 32-битный:\n",
    "скачать regex2.dll, zlib1.dll и magic1.dll с проекта gnuwin32\n",
    "http://gnuwin32.sourceforge.net/packages/file.htm\n",
    "http://gnuwin32.sourceforge.net/packages/regex.htm\n",
    "http://gnuwin32.sourceforge.net/packages/zlib.htm\n",
    "\n",
    "поместить их в PATH, например, переместив в C:\\Users\\User\\Anaconda2\\Lib\\site-packages\\\n",
    "pip install python-magic\n",
    "```"
   ]
  },
  {
   "cell_type": "code",
   "execution_count": 3,
   "metadata": {
    "collapsed": false
   },
   "outputs": [],
   "source": [
    "import os\n",
    "dll_path = 'C:\\\\Users\\\\User\\\\Anaconda2\\\\Lib\\\\site-packages\\\\'\n",
    "if dll_path not in os.environ['PATH'].split(';'):\n",
    "    os.environ['PATH'] += ';' + dll_path;"
   ]
  },
  {
   "cell_type": "code",
   "execution_count": 4,
   "metadata": {
    "collapsed": false
   },
   "outputs": [],
   "source": [
    "import magic\n",
    "m = magic.Magic(magic_file=os.path.join(dll_path, 'magic.mgc'))"
   ]
  },
  {
   "cell_type": "code",
   "execution_count": 5,
   "metadata": {
    "collapsed": false
   },
   "outputs": [
    {
     "name": "stdout",
     "output_type": "stream",
     "text": [
      "PE32+ executable (DLL) (GUI) x86-64, for MS Windows\n"
     ]
    }
   ],
   "source": [
    "print m.from_file(\"C:\\\\Users\\\\User\\\\Anaconda2\\\\Lib\\\\site-packages\\\\PySide\\\\QtCore4.dll\")"
   ]
  },
  {
   "cell_type": "code",
   "execution_count": 6,
   "metadata": {
    "collapsed": false
   },
   "outputs": [
    {
     "name": "stdout",
     "output_type": "stream",
     "text": [
      "Audio file with ID3 version 2.4.0, contains: MPEG ADTS, layer III, v1,  64 kbps, 44.1 kHz, Stereo\n"
     ]
    }
   ],
   "source": [
    "print m.from_file(\"files/feinman_audio.mp3\")"
   ]
  },
  {
   "cell_type": "code",
   "execution_count": 7,
   "metadata": {
    "collapsed": false
   },
   "outputs": [
    {
     "name": "stdout",
     "output_type": "stream",
     "text": [
      "PNG image data, 984 x 993, 8-bit/color RGB, non-interlaced\n"
     ]
    }
   ],
   "source": [
    "print m.from_file('files/wireshark.png')"
   ]
  },
  {
   "cell_type": "markdown",
   "metadata": {},
   "source": [
    "Утилита (и библиотека, но с API на отвали) `binwalk` анализирует файлы глубже, пытаясь отыскать знакомые сигнатуры (архивов, картинок итп) внутри."
   ]
  },
  {
   "cell_type": "markdown",
   "metadata": {},
   "source": [
    "```\n",
    "Скачать https://github.com/ReFirmLabs/binwalk , распаковать\n",
    "python setup.py install\n",
    "\n",
    "Из командной строки (в папке %HOMEDIR%\\Anaconda2\\Scripts)\n",
    "python binwalk filename -- искать сигнатуры\n",
    "python binwalk -e filename -- извлечь все\n",
    "```"
   ]
  },
  {
   "cell_type": "markdown",
   "metadata": {},
   "source": [
    "Вывод аналогичный выводу `binwalk filename` можно получить кодом"
   ]
  },
  {
   "cell_type": "code",
   "execution_count": 4,
   "metadata": {
    "collapsed": false
   },
   "outputs": [
    {
     "name": "stdout",
     "output_type": "stream",
     "text": [
      "Signature Results:\n",
      "c:\\Temp\\jupyter_code\\201804\\asis ctf 2018\\plastic.binary, offset 0x00000004  Zlib compressed data, best compression\n"
     ]
    }
   ],
   "source": [
    "import binwalk\n",
    "for module in binwalk.scan('c:\\\\Temp\\\\jupyter_code\\\\201804\\\\asis ctf 2018\\\\plastic.binary', signature=True, quiet=True):\n",
    "    print (\"%s Results:\" % module.name)\n",
    "    for result in module.results:\n",
    "        print \"%s, offset 0x%08X  %s\" % (result.file.name, result.offset, result.description)"
   ]
  },
  {
   "cell_type": "markdown",
   "metadata": {},
   "source": [
    "todo Согласно документации, можно передавать вместо имени файла строку и `string=True`, но не работает."
   ]
  },
  {
   "cell_type": "markdown",
   "metadata": {},
   "source": [
    "Для описания и парсинга произвольных бинарных форматов существует инструмент kaitai и библиотека `kaitaistruct`. На YAML-подобном языке пишут `*.ksy` файл, описывающий структуру файла, затем его компилируют в исходник парсера в том числе на языке Python. В репозитории kaitai описано уже более 100 форматов. Можно создать свой в онлайн-IDE https://ide.kaitai.io/"
   ]
  },
  {
   "cell_type": "markdown",
   "metadata": {},
   "source": [
    "```\n",
    "http://kaitai.io/#download\n",
    "pip install kaitaistruct\n",
    "Для всех *.ksy файлов исполнить командную строку вида\n",
    "\"c:\\Program Files (x86)\\kaitai-struct-compiler\\bin\\kaitai-struct-compiler\" --target python \"c:\\Program Files (x86)\\kaitai-struct-compiler\\formats\\archive\\rar.ksy\"\n",
    "Поместить сгенерированные *.py в доступное место\n",
    "```"
   ]
  },
  {
   "cell_type": "code",
   "execution_count": 103,
   "metadata": {
    "collapsed": false
   },
   "outputs": [
    {
     "name": "stdout",
     "output_type": "stream",
     "text": [
      "                archive : cpio_old_le lzh rar zip\n",
      "                    cad : monomakh_sapr_chg\n",
      "                 common : bcd vlq_base128_be vlq_base128_le\n",
      "               database : dbf tsm\n",
      "             executable : dex dos_mz elf java_class mach_o microsoft_pe python_pyc_27 swf\n",
      "             filesystem : apm_partition_table cramfs ext2 gpt_partition_table iso9660 luks lvm2 mbr_partition_table vdi vfat vmware_vmdk\n",
      "               firmware : andes_firmware ines\n",
      "                   font : ttf\n",
      "                   game : doom_wad dune_2_pak fallout2_dat fallout_dat ftl_dat gran_turismo_vol heaps_pak heroes_of_might_and_magic_agg heroes_of_might_and_magic_bmp quake_mdl quake_pak renderware_binary_stream saints_row_2_vpp_pc warcraft_2_pud\n",
      "             geospatial : shapefile_index shapefile_main\n",
      "               hardware : edid\n",
      "                  image : bmp dicom exif exif_be exif_le gif icc_4 ico jpeg pcx png psx_tim tga wmf xwd\n",
      "                    log : glibc_utmp windows_evt_log\n",
      "           machine_code : code_6502\n",
      "                  media : avi blender_blend creative_voice_file genmidi_op2 id3v1_1 id3v2_3 id3v2_4 magicavoxel_vox ogg quicktime_mov standard_midi_file stl wav\n",
      "  media\\tracker_modules : s3m\n",
      "                network : dns_packet ethernet_frame hccap hccapx icmp_packet ipv4_packet ipv6_packet microsoft_network_monitor_v2 packet_ppi pcap tcp_segment tls_client_hello udp_datagram\n",
      "      scientific\\nt_mdt : nt_mdt nt_mdt_pal\n",
      "scientific\\spectroscopy : avantes_roh60 specpr\n",
      "          serialization : bson google_protobuf microsoft_cfb msgpack ruby_marshal\n",
      "     serialization\\asn1 : asn1_der\n",
      "                windows : regf windows_lnk_file windows_minidump windows_resource_file windows_shell_items windows_systemtime\n",
      "\n",
      "110\n"
     ]
    }
   ],
   "source": [
    "d = \"c:\\\\Program Files (x86)\\\\kaitai-struct-compiler\\\\formats\\\\\"\n",
    "count = 0\n",
    "for root, dirs, files in os.walk(d):\n",
    "    ksy_files = [os.path.splitext(fn)[0] for fn in files if os.path.splitext(fn)[1] == '.ksy']\n",
    "    if ksy_files:\n",
    "        print '%23s' % root[len(d):], ':', ' '.join(ksy_files)\n",
    "        count += len(ksy_files)\n",
    "print\n",
    "print count"
   ]
  },
  {
   "cell_type": "code",
   "execution_count": 24,
   "metadata": {
    "collapsed": false
   },
   "outputs": [
    {
     "data": {
      "text/plain": [
       "{'_io': <kaitaistruct.KaitaiStream at 0x635ab38>,\n",
       " '_parent': None,\n",
       " '_root': <rar.Rar at 0x642d320>,\n",
       " 'blocks': [<rar.Block at 0x627d048>,\n",
       "  <rar.Block at 0x6436b00>,\n",
       "  <rar.Block at 0x6436c18>,\n",
       "  <rar.Block at 0x6436cf8>,\n",
       "  <rar.Block at 0x6436dd8>],\n",
       " 'magic': <rar.MagicSignature at 0x6436a58>}"
      ]
     },
     "execution_count": 24,
     "metadata": {},
     "output_type": "execute_result"
    }
   ],
   "source": [
    "import kaitaistruct, imp\n",
    "\n",
    "Rar = imp.load_source('rar', 'c:/Temp/jupyter_code/201804/kaitaiformats/rar.py').Rar\n",
    "g = Rar.from_file(\"do_not_attach/FUNKAN.RAR\")\n",
    "g.__dict__"
   ]
  },
  {
   "cell_type": "code",
   "execution_count": 25,
   "metadata": {
    "collapsed": false
   },
   "outputs": [
    {
     "name": "stdout",
     "output_type": "stream",
     "text": [
      "172544 funkan_faq.doc\n",
      "449536 funkan_solutions1-20.doc\n",
      "249856 funkan_solutions21-40.doc\n",
      "161280 funkan_solutions41-55.doc\n"
     ]
    }
   ],
   "source": [
    "for block in g.blocks:\n",
    "    if block.block_type == Rar.BlockTypes.file_header:\n",
    "        print block.body.low_unp_size, block.body.file_name"
   ]
  },
  {
   "cell_type": "markdown",
   "metadata": {},
   "source": [
    "Другим популярным средством описания форматов являются темплейты платного hex-редактора 010 Editor. В них формат описывается си-подобным языком, в котором описания структур перемешаны с условиями и циклами (описание, например, здесь https://habrahabr.ru/post/213639/). В открытом для скачивания репозитории описано более 100 форматов. Для их парсинга и использования в Python может служить библиотека `pfp`."
   ]
  },
  {
   "cell_type": "markdown",
   "metadata": {},
   "source": [
    "```\n",
    "pip install pfp\n",
    "```"
   ]
  },
  {
   "cell_type": "code",
   "execution_count": 54,
   "metadata": {
    "collapsed": true
   },
   "outputs": [],
   "source": [
    "import requests, urllib\n",
    "from lxml import etree\n",
    "from ultra import file_get, file_put"
   ]
  },
  {
   "cell_type": "code",
   "execution_count": 51,
   "metadata": {
    "collapsed": false
   },
   "outputs": [],
   "source": [
    "baseurl = 'http://www.sweetscape.com/010editor/repository/templates/'\n",
    "page = requests.get(baseurl).content"
   ]
  },
  {
   "cell_type": "code",
   "execution_count": 99,
   "metadata": {
    "collapsed": false
   },
   "outputs": [
    {
     "name": "stdout",
     "output_type": "stream",
     "text": [
      "\n",
      "Category: Archive\n",
      "-----------------\n",
      "CAB.bt ../files/CAB.bt\n",
      "GZip.bt ../files/GZip.bt\n",
      "LZ4.bt ../files/LZ4.bt\n",
      "RAR.bt ../files/RAR.bt\n",
      "SeqBox.bt ../files/SeqBox.bt\n",
      "SquashFS.bt ../files/SquashFS.bt\n",
      "ZIP.bt ../files/ZIP.bt\n",
      "ZIPAdv.bt ../files/ZIPAdv.bt\n",
      "\n",
      "Category: Audio\n",
      "---------------\n",
      "CDA.bt ../files/CDA.bt\n",
      "MIDI.bt ../files/MIDI.bt\n",
      "MP3.bt ../files/MP3.bt\n",
      "OGG.bt ../files/OGG.bt\n",
      "SF2.bt ../files/SF2.bt\n",
      "WAV.bt ../files/WAV.bt\n",
      "WAVAdv.bt ../files/WAVAdv.bt\n",
      "\n",
      "Category: CAD\n",
      "-------------\n",
      "OrCAD_LIB.bt ../files/OrCAD_LIB.bt\n",
      "OrCAD_SCH.bt ../files/OrCAD_SCH.bt\n",
      "STL.bt ../files/STL.bt\n",
      "\n",
      "Category: Database\n",
      "------------------\n",
      "DBF.bt ../files/DBF.bt\n",
      "MongoDBWireProtocol.bt ../files/MongoDBWireProtocol.bt\n",
      "\n",
      "Category: Document\n",
      "------------------\n",
      "MOBI.bt ../files/MOBI.bt\n",
      "PDF.bt ../files/PDF.bt\n",
      "\n",
      "Category: Drives\n",
      "----------------\n",
      "Drive.bt ../files/Drive.bt\n",
      "ElTorito.bt ../files/ElTorito.bt\n",
      "ISO.bt ../files/ISO.bt\n",
      "LUKS.bt ../files/LUKS.bt\n",
      "ROMFS.bt ../files/ROMFS.bt\n",
      "SinclairMicrodrive.bt ../files/SinclairMicrodrive.bt\n",
      "SytosPlus.bt ../files/SytosPlus.bt\n",
      "VHD.bt ../files/VHD.bt\n",
      "\n",
      "Category: Electronics\n",
      "---------------------\n",
      "EDID.bt ../files/EDID.bt\n",
      "EVSB.bt ../files/EVSB.bt\n",
      "EZTap_EZVIEW2.bt ../files/EZTap_EZVIEW2.bt\n",
      "Goclever.bt ../files/Goclever.bt\n",
      "Mifare1k.bt ../files/Mifare1k.bt\n",
      "Mifare4k.bt ../files/Mifare4k.bt\n",
      "MifareUltralight.bt ../files/MifareUltralight.bt\n",
      "OscarItem.bt ../files/OscarItem.bt\n",
      "Picolog_PLW.bt ../files/Picolog_PLW.bt\n",
      "SRec.bt ../files/SRec.bt\n",
      "\n",
      "Category: Executable\n",
      "--------------------\n",
      "ELF.bt ../files/ELF.bt\n",
      "EXE.bt ../files/EXE.bt\n",
      "MachO.bt ../files/MachO.bt\n",
      "\n",
      "Category: Font\n",
      "--------------\n",
      "EOT.bt ../files/EOT.bt\n",
      "FNT.bt ../files/FNT.bt\n",
      "OpenType.bt ../files/OpenType.bt\n",
      "TTF.bt ../files/TTF.bt\n",
      "\n",
      "Category: Game\n",
      "--------------\n",
      "GGPK.bt ../files/GGPK.bt\n",
      "NDS.bt ../files/NDS.bt\n",
      "Quake3Arena_BSP.bt ../files/Quake3Arena_BSP.bt\n",
      "Quake3Arena_MD3.bt ../files/Quake3Arena_MD3.bt\n",
      "\n",
      "Category: GIS\n",
      "-------------\n",
      "SHP.bt ../files/SHP.bt\n",
      "SHX.bt ../files/SHX.bt\n",
      "\n",
      "Category: Image\n",
      "---------------\n",
      "BMP.bt ../files/BMP.bt\n",
      "DDS.bt ../files/DDS.bt\n",
      "EMF.bt ../files/EMF.bt\n",
      "GIF.bt ../files/GIF.bt\n",
      "ICO.bt ../files/ICO.bt\n",
      "JPG.bt ../files/JPG.bt\n",
      "PAL.bt ../files/PAL.bt\n",
      "PCX.bt ../files/PCX.bt\n",
      "PNG.bt ../files/PNG.bt\n",
      "TGA.bt ../files/TGA.bt\n",
      "TIF.bt ../files/TIF.bt\n",
      "WMF.bt ../files/WMF.bt\n",
      "\n",
      "Category: Inspector\n",
      "-------------------\n",
      "InspectorDates.bt ../files/InspectorDates.bt\n",
      "InspectorWithMP4DateTime.bt ../files/InspectorWithMP4DateTime.bt\n",
      "\n",
      "Category: Internet\n",
      "------------------\n",
      "SWF.bt ../files/SWF.bt\n",
      "Torrent.bt ../files/Torrent.bt\n",
      "\n",
      "Category: Misc\n",
      "--------------\n",
      "FTS.bt ../files/FTS.bt\n",
      "KryoFlux.bt ../files/KryoFlux.bt\n",
      "RDB.bt ../files/RDB.bt\n",
      "RIFF.bt ../files/RIFF.bt\n",
      "SCP.bt ../files/SCP.bt\n",
      "Tacx.bt ../files/Tacx.bt\n",
      "\n",
      "Category: Network\n",
      "-----------------\n",
      "NetflowVersion5.bt ../files/NetflowVersion5.bt\n",
      "PCAP.bt ../files/PCAP.bt\n",
      "PCAPNG.bt ../files/PCAPNG.bt\n",
      "SSP.bt ../files/SSP.bt\n",
      "TNEF.bt ../files/TNEF.bt\n",
      "\n",
      "Category: Operating System\n",
      "--------------------------\n",
      "AndroidManifest.bt ../files/AndroidManifest.bt\n",
      "AndroidResource.bt ../files/AndroidResource.bt\n",
      "AndroidTrace.bt ../files/AndroidTrace.bt\n",
      "BPlist.bt ../files/BPlist.bt\n",
      "Cryptfs.bt ../files/Cryptfs.bt\n",
      "DEX.bt ../files/DEX.bt\n",
      "DMP.bt ../files/DMP.bt\n",
      "HFSJournal.bt ../files/HFSJournal.bt\n",
      "LNK.bt ../files/LNK.bt\n",
      "PSF.bt ../files/PSF.bt\n",
      "RegistryHive.bt ../files/RegistryHive.bt\n",
      "RegistryPolicyFile.bt ../files/RegistryPolicyFile.bt\n",
      "ThumbCache.bt ../files/ThumbCache.bt\n",
      "UTMP.bt ../files/UTMP.bt\n",
      "\n",
      "Category: Programming\n",
      "---------------------\n",
      "BSON.bt ../files/BSON.bt\n",
      "CAP.bt ../files/CAP.bt\n",
      "CLASS.bt ../files/CLASS.bt\n",
      "CLASSAdv.bt ../files/CLASSAdv.bt\n",
      "Luac.bt ../files/Luac.bt\n",
      "LuaJIT.bt ../files/LuaJIT.bt\n",
      "OPCache.bt ../files/OPCache.bt\n",
      "PYC.bt ../files/PYC.bt\n",
      "RES.bt ../files/RES.bt\n",
      "\n",
      "Category: Software\n",
      "------------------\n",
      "010Theme.bt ../files/010Theme.bt\n",
      "CRX.bt ../files/CRX.bt\n",
      "HiewCMarkers.bt ../files/HiewCMarkers.bt\n",
      "TOC.bt ../files/TOC.bt\n",
      "WinhexPos.bt ../files/WinhexPos.bt\n",
      "\n",
      "Category: Video\n",
      "---------------\n",
      "AVI.bt ../files/AVI.bt\n",
      "BaseMedia.bt ../files/BaseMedia.bt\n",
      "FLV.bt ../files/FLV.bt\n",
      "MP4.bt ../files/MP4.bt\n",
      "MXF.bt ../files/MXF.bt\n",
      "RM.bt ../files/RM.bt\n"
     ]
    }
   ],
   "source": [
    "bt_files = []\n",
    "for tr in etree.HTML(page).xpath('//table[@class=\"gradient2\"]/tr/td'):\n",
    "    categories = tr.xpath('i')\n",
    "    links = tr.xpath('a')\n",
    "    if categories:\n",
    "        cat = 'Category: ' + categories[0].text\n",
    "        print\n",
    "        print cat\n",
    "        print '-' * len(cat)\n",
    "    if links:\n",
    "        href = links[0].attrib['href']\n",
    "        if href.startswith('../files/'):\n",
    "            print links[0].text,\n",
    "            url = urllib.basejoin(baseurl, href)\n",
    "            bt_files.append(url)"
   ]
  },
  {
   "cell_type": "code",
   "execution_count": 102,
   "metadata": {
    "collapsed": false
   },
   "outputs": [
    {
     "data": {
      "text/plain": [
       "114"
      ]
     },
     "execution_count": 102,
     "metadata": {},
     "output_type": "execute_result"
    }
   ],
   "source": [
    "len(bt_files)"
   ]
  },
  {
   "cell_type": "code",
   "execution_count": 108,
   "metadata": {
    "collapsed": false
   },
   "outputs": [],
   "source": [
    "d = 'c:\\\\Temp\\\\jupyter_code\\\\201804\\\\010formats\\\\'\n",
    "for url in bt_files:\n",
    "    f = requests.get(url).content\n",
    "    file_put(os.path.join(d, url.split('/')[-1]), f)"
   ]
  },
  {
   "cell_type": "code",
   "execution_count": 126,
   "metadata": {
    "collapsed": false
   },
   "outputs": [
    {
     "name": "stdout",
     "output_type": "stream",
     "text": [
      "RAR signature found at 0x00000000.\n",
      "It is a non-locked regular one-part RAR archive.\n",
      "Version to unpack: 2.0\n",
      "Files: 4, Dirs: 0, Comments: 0, SubBlocks: 0, Unpacked Size: 1033216\n",
      "UNICODE Names: 0\n",
      "Done. 6 blocks processed.\n"
     ]
    }
   ],
   "source": [
    "import pfp\n",
    "from pfp.fields import PYVAL\n",
    "\n",
    "dom = pfp.parse(\n",
    "    data_file=\"do_not_attach/FUNKAN.RAR\",\n",
    "    template_file='c:\\\\Temp\\\\jupyter_code\\\\201804\\\\010formats\\\\RAR.bt'\n",
    ")"
   ]
  },
  {
   "cell_type": "code",
   "execution_count": 130,
   "metadata": {
    "collapsed": false
   },
   "outputs": [
    {
     "name": "stdout",
     "output_type": "stream",
     "text": [
      "172544 funkan_faq.doc\n",
      "449536 funkan_solutions1-20.doc\n",
      "249856 funkan_solutions21-40.doc\n",
      "161280 funkan_solutions41-55.doc\n"
     ]
    }
   ],
   "source": [
    "for block in dom.block:\n",
    "    print PYVAL(block.file.UnpackedSize), block.file.FileName.raw_data"
   ]
  },
  {
   "cell_type": "code",
   "execution_count": 397,
   "metadata": {
    "collapsed": false,
    "scrolled": true
   },
   "outputs": [
    {
     "name": "stdout",
     "output_type": "stream",
     "text": [
      "0000 struct {\n",
      "    0000 _skipped   = Char[0] ('')\n",
      "    0000 Marker     = 0000 struct {\n",
      "        0000 HEAD_CRC   = UShort(24914 [6152])\n",
      "        0002 HeadType   = Enum<Char>(114 [72])(MARKER)\n",
      "        0003 HEAD_FLAGS = 0003 struct {\n",
      "            0003 _reserved  = UShort(6689 [1a21]):14\n",
      "            0005 OLD_VERSION_IGNORE = UShort(0 [0000]):1\n",
      "            0005 ADD_SIZE_PRESENT = UShort(0 [0000]):1\n",
      "        }\n",
      "        0005 HeaderSize = UShort(7 [0007])\n",
      "    }\n",
      "    0007 ArcHeader  = 0007 struct {\n",
      "        0007 HEAD_CRC   = UShort(37071 [90cf])\n",
      "        0009 HeadType   = Enum<Char>(115 [73])(ARCHIVE)\n",
      "        000a HEAD_FLAGS = 000a struct {\n",
      "            000a ARCHIVE_VOLUME = UChar(0 [00]):1\n",
      "            000b ARCHIVE_COMMENT_PRESENT = UChar(0 [00]):1\n",
      "            000b ARCHIVE_LOCKED = UChar(0 [00]):1\n",
      "            000b ARCHIVE_SOLID = UChar(0 [00]):1\n",
      "            000b NEW_VOLUME_NAMING = UChar(0 [00]):1\n",
      "            000b AV_PRESENT = UChar(0 [00]):1\n",
      "            000b RECOVERY_PRESENT = UChar(0 [00]):1\n",
      "            000b BLOCK_HEADERS_ENCRYPTED = UChar(0 [00]):1\n",
      "            000b IS_FIRST_VOLUME = UChar(0 [00]):1\n",
      "            000c _reserved  = UChar(0 [00]):5\n",
      "            000c OLD_VERSION_IGNORE = UChar(0 [00]):1\n",
      "            000c ADD_SIZE_PRESENT = UChar(0 [00]):1\n",
      "        }\n",
      "        000c HeaderSize = UShort(13 [000d])\n",
      "        000e _reserved1 = UShort(0 [0000])\n",
      "        0010 _reserved2 = UInt(0 [00000000])\n",
      "    }\n",
      "    0014 block      = struct[4]\n",
      "        0014 block[0] = 0014 struct {\n",
      "                0014 HEAD_CRC   = UShort(26194 [6652])\n",
      "                0016 HeadType   = Enum<Char>(116 [74])(FILE_OR_DIR)\n",
      "                0017 HEAD_FLAGS = 0017 struct {\n",
      "                    0017 from_PREV_VOLUME = UChar(0 [00]):1\n",
      "                    0018 to_NEXT_VOLUME = UChar(0 [00]):1\n",
      "                    0018 PASSWORD_ENCRYPTED = UChar(0 [00]):1\n",
      "                    0018 FILE_COMMENT_PRESENT = UChar(0 [00]):1\n",
      "                    0018 SOLID      = UChar(0 [00]):1\n",
      "                    0018 DICTIONARY = Enum<Char>(4 [04]):3(_1024K)\n",
      "                    0018 HIGH_SIZE  = UChar(0 [00]):1\n",
      "                    0019 has_UNICODE_FILENAME = UChar(0 [00]):1\n",
      "                    0019 ENCRYPTION_SALT = UChar(0 [00]):1\n",
      "                    0019 IS_OLD_FILE_VERSION = UChar(0 [00]):1\n",
      "                    0019 EXTENDED_TIME_INFO = UChar(0 [00]):1\n",
      "                    0019 _reserved  = UChar(0 [00]):1\n",
      "                    0019 OLD_VERSION_IGNORE = UChar(0 [00]):1\n",
      "                    0019 ADD_SIZE_PRESENT = UChar(1 [01]):1\n",
      "                }\n",
      "                0019 HeaderSize = UShort(46 [002e])\n",
      "                001b RawDataSize = UInt(40657 [00009ed1])\n",
      "                001f file       = 001f struct {\n",
      "                    001f UnpackedSize = UInt(172544 [0002a200])\n",
      "                    0023 Host_OS    = Enum<UChar>(2 [02])(_Win32)\n",
      "                    0024 FileCRC32  = UInt(3164328312L [bc9bd178])\n",
      "                    0028 FileTime   = 0028 struct {\n",
      "                        0028 second     = UShort(10 [000a]):5\n",
      "                        002a minute     = UShort(18 [0012]):6\n",
      "                        002a hour       = UShort(18 [0012]):5\n",
      "                    }\n",
      "                    002a FileDate   = 002a struct {\n",
      "                        002a day        = UShort(27 [001b]):5\n",
      "                        002c month      = UShort(12 [000c]):4\n",
      "                        002c year       = UShort(18 [0012]):7\n",
      "                    }\n",
      "                    002c VersionToUnpack = UChar(20 [14])\n",
      "                    002d Method     = Enum<Char>(51 [33])(Normal)\n",
      "                    002e NameSize   = UShort(14 [000e])\n",
      "                    0030 Attributes = 0030 struct {\n",
      "                        0030 READONLY   = UInt(0 [00000000]):1\n",
      "                        0034 HIDDEN     = UInt(0 [00000000]):1\n",
      "                        0034 SYSTEM     = UInt(0 [00000000]):1\n",
      "                        0034 VOLUME     = UInt(0 [00000000]):1\n",
      "                        0034 DIRECTORY  = UInt(0 [00000000]):1\n",
      "                        0034 ARCHIVE    = UInt(1 [00000001]):1\n",
      "                        0034 DEVICE     = UInt(0 [00000000]):1\n",
      "                        0034 NORMAL     = UInt(0 [00000000]):1\n",
      "                        0034 TEMPORARY  = UInt(0 [00000000]):1\n",
      "                        0034 SPARSE_FILE = UInt(0 [00000000]):1\n",
      "                        0034 REPARSE_POINT = UInt(0 [00000000]):1\n",
      "                        0034 COMPRESSED = UInt(0 [00000000]):1\n",
      "                        0034 OFFLINE    = UInt(0 [00000000]):1\n",
      "                        0034 NOT_CONTENT_INDEXED = UInt(0 [00000000]):1\n",
      "                        0034 ENCRYPTED  = UInt(0 [00000000]):1\n",
      "                        0034 _res2      = UInt(0 [00000000]):17\n",
      "                    }\n",
      "                    0034 FileName   = Char[14] ('funkan_faq.doc')\n",
      "                }\n",
      "                0042 _raw       = UChar[40657] ('\\x1ebYQ\\x0c\\x8c\\xcd\\x9c\\x16#\\x01\\xeb \\xd4\\x02&2\\x11\\xd1\\x8c')\n",
      "            }\n",
      "        9f13 block[1] = 9f13 struct {\n",
      "                9f13 HEAD_CRC   = UShort(16753 [4171])\n",
      "                9f15 HeadType   = Enum<Char>(1\n"
     ]
    }
   ],
   "source": [
    "print dom._pfp__show(include_offset=True)[:5000]"
   ]
  },
  {
   "cell_type": "markdown",
   "metadata": {},
   "source": [
    "Если вас заинтересовала эта тема, посмотрите еще\n",
    "\n",
    "https://github.com/construct/construct\n",
    "\n",
    "http://www.ogf.org/dfdl\n",
    "\n",
    "https://www.x-ways.net/winhex/templates/\n",
    "\n",
    "https://www.synalysis.net/formats.xml"
   ]
  },
  {
   "cell_type": "markdown",
   "metadata": {},
   "source": [
    "todo\n",
    "\n",
    "    radare2? nrbfdump?\n",
    "\n",
    "    pefile\n",
    "    pyelftools - Parsing and analyzing ELF files and DWARF debugging information.\n",
    "    elffile?\n",
    "    или https://github.com/sashs/filebytes pip install filebytes: ELF, PE, MachO, OAT (Android) -- нет ресурсов!\n",
    "\n",
    "    olefile (formerly OleFileIO_PL) is a Python package to parse, read and write Microsoft OLE2 files (also called Structured Storage, Compound File Binary Format or Compound Document File Format), such as Microsoft Office 97-2003 documents, vbaProject.bin in MS Office 2007+ files, Image Composer and FlashPix files, Outlook MSG files, StickyNotes, several Microscopy file formats, McAfee antivirus quarantine files, etc."
   ]
  },
  {
   "cell_type": "code",
   "execution_count": 6,
   "metadata": {
    "collapsed": false
   },
   "outputs": [],
   "source": [
    "from filebytes.pe import *"
   ]
  },
  {
   "cell_type": "code",
   "execution_count": 39,
   "metadata": {
    "collapsed": false
   },
   "outputs": [
    {
     "name": "stdout",
     "output_type": "stream",
     "text": [
      "MZ\n",
      "PE\n",
      "[u'.text', u'.rdata', u'.data', u'.rsrc']\n"
     ]
    }
   ],
   "source": [
    "pe_file = PE('do_not_attach/ab.exe')\n",
    "print pe_file.imageDosHeader.header.e_magic\n",
    "print pe_file.imageNtHeaders.header.Signature\n",
    "print [item.name for item in pe_file.sections]"
   ]
  },
  {
   "cell_type": "code",
   "execution_count": 62,
   "metadata": {
    "collapsed": false
   },
   "outputs": [
    {
     "name": "stdout",
     "output_type": "stream",
     "text": [
      "MSVCRT.dll\n",
      "_XcptFilter __dllonexit __getmainargs __mb_cur_max __p___initenv __p__commode __p__environ __p__fmode __p__wenviron __set_app_type __setusermatherr _adjust_fdiv _close _controlfp _errno _except_handler3 _exit _ftol _getpid _initterm _iob _isctype _onexit _pctype _strdup _strnicmp atoi calloc exit fclose fflush fopen fprintf free malloc modf perror printf qsort realloc signal strchr strerror strncmp strncpy strrchr strspn strstr wcscpy wcslen wcsncmp\n",
      "\n",
      "KERNEL32.dll\n",
      "CancelIo CloseHandle CreateEventA CreateFileW DeleteCriticalSection DeviceIoControl EnterCriticalSection FileTimeToSystemTime FormatMessageA FreeEnvironmentStringsW GetCommandLineW GetEnvironmentStringsW GetExitCodeProcess GetFileInformationByHandle GetFileType GetLastError GetOverlappedResult GetProcAddress GetSystemTimeAsFileTime GetTimeZoneInformation GetVersionExA GlobalFree InitializeCriticalSection LeaveCriticalSection LoadLibraryA LocalFree PeekNamedPipe ReadFile ReleaseMutex SetEvent SetFilePointer SetHandleInformation SetLastError SetStdHandle Sleep SystemTimeToFileTime SystemTimeToTzSpecificLocalTime TerminateProcess TlsAlloc TlsFree WaitForSingleObject WriteFile\n",
      "\n",
      "ADVAPI32.dll\n",
      "AllocateAndInitializeSid FreeSid GetEffectiveRightsFromAclW GetNamedSecurityInfoA GetNamedSecurityInfoW GetSecurityInfo\n",
      "\n",
      "WSOCK32.dll\n",
      "(by ordinal) (by ordinal) (by ordinal) (by ordinal) (by ordinal) (by ordinal) (by ordinal) (by ordinal) (by ordinal) (by ordinal) (by ordinal) (by ordinal) (by ordinal) (by ordinal) (by ordinal) (by ordinal) (by ordinal) (by ordinal) (by ordinal) (by ordinal) (by ordinal) (by ordinal)\n",
      "\n",
      "WS2_32.dll\n",
      "WSARecv WSASend\n",
      "\n",
      "SHELL32.dll\n",
      "CommandLineToArgvW\n",
      "\n"
     ]
    }
   ],
   "source": [
    "for imp in pe_file.dataDirectory[ImageDirectoryEntry.IMPORT]:\n",
    "    print imp.dllName\n",
    "    print ' '.join(sorted([rec.importByName.name if rec.importByName else '(by ordinal)' for rec in imp.importNameTable]))\n",
    "    print"
   ]
  },
  {
   "cell_type": "markdown",
   "metadata": {},
   "source": [
    "## CTF: криптография"
   ]
  },
  {
   "cell_type": "markdown",
   "metadata": {},
   "source": [
    "Классические шифры реализованы в библиотеке `pycipher`. В их числе атбаш, Энигма, Playfair, Видженер."
   ]
  },
  {
   "cell_type": "markdown",
   "metadata": {},
   "source": [
    "```\n",
    "pip install pycipher\n",
    "```"
   ]
  },
  {
   "cell_type": "code",
   "execution_count": 392,
   "metadata": {
    "collapsed": false
   },
   "outputs": [
    {
     "name": "stdout",
     "output_type": "stream",
     "text": [
      "URYYB\n",
      "HELLO\n"
     ]
    }
   ],
   "source": [
    "import pycipher\n",
    "enc = pycipher.Caesar().encipher('hello')\n",
    "dec = pycipher.Caesar().decipher(enc)\n",
    "print enc\n",
    "print dec"
   ]
  },
  {
   "cell_type": "markdown",
   "metadata": {},
   "source": [
    "Некоторые алгоритмы, полезные при решении задач CTF, включены в `sympy`, детально описываемый в разделе CAS."
   ]
  },
  {
   "cell_type": "code",
   "execution_count": 131,
   "metadata": {
    "collapsed": false
   },
   "outputs": [
    {
     "name": "stdout",
     "output_type": "stream",
     "text": [
      "HELLOWORLD\n",
      "....|.|.-..|.-..|---||.--|---|.-.|.-..|-..\n",
      "HELLO WORLD\n"
     ]
    }
   ],
   "source": [
    "import sympy.crypto.crypto\n",
    "print sympy.crypto.crypto.AZ('Hello, world!')\n",
    "print sympy.crypto.encode_morse('HELLO WORLD')\n",
    "print sympy.crypto.decode_morse('....|.|.-..|.-..|---||.--|---|.-.|.-..|-..')"
   ]
  },
  {
   "cell_type": "markdown",
   "metadata": {},
   "source": [
    "В Python встроены библиотеки `hashlib`, позволяющая вычислять некоторые популярные (устаревшие!) хэши, такие как MD5 или SHA1, и алгоритм в одноименной библиотеке `hmac` проверки целостности сообщения на основе общего секрета `K` и хэш-функции `H` (по умолчанию MD5).\n",
    "\n",
    "    ipad = the byte 0x36 repeated B times\n",
    "    opad = the byte 0x5C repeated B times.\n",
    "    HMAC(text) = H(K XOR opad, H(K XOR ipad, text))"
   ]
  },
  {
   "cell_type": "code",
   "execution_count": 4,
   "metadata": {
    "collapsed": false
   },
   "outputs": [
    {
     "data": {
      "text/plain": [
       "'7c82f8e0531df7aa13280f8f1d7f38d2'"
      ]
     },
     "execution_count": 4,
     "metadata": {},
     "output_type": "execute_result"
    }
   ],
   "source": [
    "import hashlib\n",
    "def md5_file(filename):\n",
    "    crc = hashlib.md5()\n",
    "    with open(filename, 'rb') as fp:\n",
    "        while True:\n",
    "            buff = fp.read(4096)\n",
    "            if len(buff) == 0:\n",
    "                break\n",
    "            crc.update(buff)\n",
    "    return crc.hexdigest()\n",
    "\n",
    "md5_file('files/wireshark.png')"
   ]
  },
  {
   "cell_type": "code",
   "execution_count": 55,
   "metadata": {
    "collapsed": false
   },
   "outputs": [
    {
     "data": {
      "text/plain": [
       "('md5', 'sha1', 'sha224', 'sha256', 'sha384', 'sha512')"
      ]
     },
     "execution_count": 55,
     "metadata": {},
     "output_type": "execute_result"
    }
   ],
   "source": [
    "hashlib.algorithms"
   ]
  },
  {
   "cell_type": "markdown",
   "metadata": {},
   "source": [
    "Некриптографический, но популярный хэш CRC32 можно взять во встроенной библиотеке `binascii`."
   ]
  },
  {
   "cell_type": "code",
   "execution_count": 422,
   "metadata": {
    "collapsed": true
   },
   "outputs": [],
   "source": [
    "import binascii\n",
    "from numpy import uint32"
   ]
  },
  {
   "cell_type": "code",
   "execution_count": 423,
   "metadata": {
    "collapsed": false
   },
   "outputs": [
    {
     "data": {
      "text/plain": [
       "'e8b7be43'"
      ]
     },
     "execution_count": 423,
     "metadata": {},
     "output_type": "execute_result"
    }
   ],
   "source": [
    "'%08x' % uint32(binascii.crc32('a'))"
   ]
  },
  {
   "cell_type": "markdown",
   "metadata": {},
   "source": [
    "todo HashCalc от SlavaSoft поддерживает: MD5, MD4, SHA1, SHA256, SHA386, SHA512, RIPEMD160, PANAMA, TIGER, MD2, ADLER32, CRC32, eDonkey/eMule"
   ]
  },
  {
   "cell_type": "code",
   "execution_count": 76,
   "metadata": {
    "collapsed": false
   },
   "outputs": [
    {
     "data": {
      "text/plain": [
       "'570752326bf3279200928538957f3dcf'"
      ]
     },
     "execution_count": 76,
     "metadata": {},
     "output_type": "execute_result"
    }
   ],
   "source": [
    "import hmac\n",
    "K = 'shared secret'\n",
    "M = 'message'\n",
    "hmac.new(K, M).hexdigest()"
   ]
  },
  {
   "cell_type": "code",
   "execution_count": 79,
   "metadata": {
    "collapsed": false
   },
   "outputs": [
    {
     "data": {
      "text/plain": [
       "'570752326bf3279200928538957f3dcf'"
      ]
     },
     "execution_count": 79,
     "metadata": {},
     "output_type": "execute_result"
    }
   ],
   "source": [
    "from ultra import md5, xorstr\n",
    "Ko = xorstr(K.ljust(64, '\\0'), '\\x5C')\n",
    "Ki = xorstr(K.ljust(64, '\\0'), '\\x36')\n",
    "md5(Ko + md5(Ki + M).decode('hex'))"
   ]
  },
  {
   "cell_type": "markdown",
   "metadata": {},
   "source": [
    "Популярные более современные криптопримитивы, такие как AES и RSA, реализованы в библиотеке `pycrypto`."
   ]
  },
  {
   "cell_type": "markdown",
   "metadata": {},
   "source": [
    "```\n",
    "pip install pycrypto\n",
    "```"
   ]
  },
  {
   "cell_type": "code",
   "execution_count": 31,
   "metadata": {
    "collapsed": false
   },
   "outputs": [
    {
     "name": "stdout",
     "output_type": "stream",
     "text": [
      "'\\x08\\x84@p[\\xd8\\nO\\xed\\x9f\\x9e\\xba\\xaeD[\\x0f'\n",
      "Encrypt me twice\n"
     ]
    }
   ],
   "source": [
    "from Crypto.Cipher import DES\n",
    "key = 'E0E0E0E0F1F1F1F1'.decode('hex')\n",
    "text = 'Encrypt me twice'\n",
    "print repr(DES.new(key).encrypt(text))\n",
    "print DES.new(key).encrypt(DES.new(key).encrypt(text))"
   ]
  },
  {
   "cell_type": "markdown",
   "metadata": {},
   "source": [
    "Не используйте слабые ключи (и вообще DES)."
   ]
  },
  {
   "cell_type": "code",
   "execution_count": 28,
   "metadata": {
    "collapsed": false
   },
   "outputs": [
    {
     "name": "stdout",
     "output_type": "stream",
     "text": [
      "']\\x95q\\xd5^Bj\\x97\\xa1\\xa4N\\xda\\x93\\xa3+v'\n",
      "Hello, AES\n"
     ]
    }
   ],
   "source": [
    "from Crypto.Cipher import AES\n",
    "from Crypto.Random import get_random_bytes\n",
    "\n",
    "BS = 16\n",
    "pad = lambda s: s + (BS - len(s) % BS) * chr(BS - len(s) % BS)\n",
    "unpad = lambda s: s[0:-ord(s[-1])]\n",
    "\n",
    "iv = get_random_bytes(16)\n",
    "key = get_random_bytes(16)\n",
    "enc = AES.new(key, AES.MODE_CBC, iv).encrypt(pad('Hello, AES'))\n",
    "print repr(enc)\n",
    "dec = AES.new(key, AES.MODE_CBC, iv).decrypt(enc)\n",
    "print unpad(dec)"
   ]
  },
  {
   "cell_type": "code",
   "execution_count": 146,
   "metadata": {
    "collapsed": false
   },
   "outputs": [
    {
     "name": "stdout",
     "output_type": "stream",
     "text": [
      " -----BEGIN PUBLIC KEY-----\n",
      "MIIBIjANBgkqhkiG9w0BAQEFAAOCAQ8AMIIBCgKCAQEAuUkRgi+kEpxZnIuTEa/I\n",
      "vIQU9f/X8sjIXPbsY3EnDVkm7/okKdgujCwiGq4hDfAhT/2+40g581AkZ0SbfvNC\n",
      "bxqT8Zy7kvzuyFcDk/WuaVcAP7v1WwhTYE7MqXIP2ForlVR8EyC63o/RIx66cuyq\n",
      "thcyW/v5u5uM4+J32szRvb639aOjQSGRyiu89Oan6Bkx/ZmBUKkz1S9lBO8nYZRg\n",
      "OaxcdZNhZbbsAP7UHPIavKmuipNluezhwoSioU3mQJn2ITj+xVWREVVtiYtVPnJT\n",
      "eXkOixfbzz1a7UPngb7lShW9KhT2WaZ2YObyF6CJ6sUjX/bqW8WlH9gzWhJ0YEsG\n",
      "cwIDAQAB\n",
      "-----END PUBLIC KEY-----\n",
      "\n",
      "Encrypted: '\\x8b\\xf6\\x8fW\\xa2\\x8dx\\xe3\\x1b\\x16\\xc5\\xeeIG\\x8e\\x97\\xa2C\\x08\\x87\\xc1\\xe0\\xc2\\x86b\\x82N\\x9eZie\\xf8\\x8e.\\xb1T\\xa6\\xb9gp\\xee\\xdbN\\xcf\\x0b%\\x0b\\x8d\\xa3\\x12LI\\xb0\\x96\\xcf\\xfa:[\\xdb\\xb8\\x10\\xd8\\xfc\\xd7Q\\x06\\xf0lcBhr\\x9a\\x02\\xafX\\xad\\xc9&*\\x9c\\xd8\\xaa\\xa9M\\xac\\x07I@\\xf5\\xa7\\xa2\\xceo\\xc3\\xbf\\x0e\\xf8\\xaaQ\\x16\\x91\\n\\xf8`\\x1a\\xeb\\x17\\x8b\\xd6\\x9cK\\x0ea\\x93\\xee\\xdat`\\xd7\\xdb!A\\r\\x04Z\\xf0k\\x95^\\x8cy\\x9f]9\\x94s\\xa1#\\x91\\xc0\\xa1P\\xe1wM\\x9f\\x9cN\\xef\\x10\\x95\\xb1\\xaeLu\\xa1\\x81\\x8e\\xc1}L\\x00\\xcd\\xbe\\x18\\x9c\\xb7B\\t\\x96t\\xb5\\xa3\\xfe\\xa6\\x00\\x84\\xdd\\xc1F*\\x88\\xc0\\xfc[\\xcez\\xe1\\xa5ok\\x8b\\x9d\\xd7\\xc0\\xb6\\xcb\\xeal\\xfc`\\x95\\x9al\\x1a\\xba\\xb4b\\x99\\x89\\xd8\\x96\\x95\\x98\\xc0#\\xe4\\x7fo1\\xa4\\xa5\\xc4\\xafFN\\xe3\\xcd\\xd1\\x03\\xc1~\\xb1\\xeaFS\\xbd\\xfbQ\\x9c4\\xc3@\\x8e>)7\\xb7\\x16ubyX\\xa7\\x85'\n",
      "\n",
      "Signature: \"\\x99\\xe5G\\x98\\x91\\x91\\x1c\\xf0\\x96\\xe9\\xe5\\x9f\\x14Q\\x92\\xf7~\\xe9\\x82\\x07\\xd8\\xc9\\x1c\\x8b\\x89t\\x9e+\\xe1/L#\\x97\\x1e[?Sz\\xb73\\xe5/\\\\\\x9e\\xa6\\xa9v\\x97\\xc2\\xf8m\\xddjEd\\xa9\\nJ\\\\\\xf0\\x0fg\\xc9\\xe3\\x05\\xca)l\\xf4)=j\\xbd\\xd3\\x91\\x8dW\\xf5\\x1e\\x0b\\xc6\\x10\\x8bO\\x1f\\xba\\xa8>\\xd9\\xf9\\x92\\xb23K\\x04u\\x8d\\x91\\xd2\\x9f\\xae\\x02G\\xe0\\x04 \\x0f\\\\Z\\x9cf\\xcf\\x07\\x96\\x81>\\x07:\\xf5?\\xdf\\xca\\x9d\\xea\\x9c\\x0eP\\xd5\\xa4i\\xc4T\\xbf\\x08\\xce\\xec/\\x95K\\xe9\\x0c\\xb1$\\x9f\\xf6\\xfc\\x80N\\x81\\xf798\\xc2\\xa6+'E\\xc7\\xb1'\\x0e\\\\\\xa7\\xa2\\xa3\\xa2\\x93%\\xb6\\xc3\\x13\\x98,\\xb6\\xe4\\xd0W\\xc3\\xf4\\x0b\\xf0\\xd0@w\\xb62\\xba\\x14@\\xa1\\xd8\\xaf\\xac,o\\xe3gr\\xe3\\xef\\xeb\\xda\\x16.\\xe3g^\\xa8\\x1b\\x9a\\xc1`\\x90\\x0e\\x85d\\xaf\\xee}@\\xe0\\x1d\\x15o\\xfe\\x8ai\\xc0\\xb2\\xcf\\x88\\x1f\\x93\\xcb!\\xaf\\xbaENq\\x91\\x8b}\\x13e\\x02*\\x90\\xc2\\xe0\\xfd\\xd0\\xf6\\x80z\\xda\"\n",
      "\n",
      "Decrypted: secret\n",
      "Is signature correct?: True\n"
     ]
    }
   ],
   "source": [
    "from Crypto.PublicKey import RSA\n",
    "from Crypto.Util.number import long_to_bytes, bytes_to_long\n",
    "\n",
    "keyA = RSA.generate(2048)\n",
    "pkA = keyA.publickey()\n",
    "\n",
    "keyB = RSA.generate(2048)\n",
    "pkB = keyB.publickey()\n",
    "\n",
    "print pkA.exportKey()\n",
    "print\n",
    "\n",
    "# Алиса шифрует публичным ключом Боба, подписывает своим секретным\n",
    "M = 'secret'\n",
    "enc = pkB.encrypt(M, None)[0]\n",
    "enc_sign = long_to_bytes(keyA.sign(M, None)[0])\n",
    "print 'Encrypted:', repr(enc)\n",
    "print\n",
    "print 'Signature:', repr(enc_sign)\n",
    "print\n",
    "\n",
    "# Боб расшифровывает своим приватным ключем, проверяет подпись публичным ключом Алисы\n",
    "dec = keyB.decrypt(enc)\n",
    "print 'Decrypted:', dec\n",
    "print 'Is signature correct?:', pkA.verify(dec, (bytes_to_long(enc_sign),))"
   ]
  },
  {
   "cell_type": "markdown",
   "metadata": {},
   "source": [
    "Если криптография нужна в вашем приложении и вы не знаете точно, какие криптопримитивы использовать, возьмите библиотеку `pynacl`, обертку над libsodium, в которой выбор криптопримитивов сделан специалистами.\n",
    "\n",
    "Подробнее http://latacora.singles/2018/04/03/cryptographic-right-answers.html (перевод https://habr.com/company/globalsign/blog/353576/)."
   ]
  },
  {
   "cell_type": "markdown",
   "metadata": {},
   "source": [
    "```\n",
    "pip install pynacl\n",
    "```"
   ]
  },
  {
   "cell_type": "markdown",
   "metadata": {},
   "source": [
    "Пример асимметричной криптографии. Алиса и Боб генерируют секретные ключи, обмениваются публичными, Боб шифрует сообщение своим приватным ключем и публичным Алисы. Сообщение может прочитать только Алиса и она может быть уверена, что его не мог сгенерить никто, кроме Боба."
   ]
  },
  {
   "cell_type": "code",
   "execution_count": 2,
   "metadata": {
    "collapsed": false
   },
   "outputs": [
    {
     "name": "stdout",
     "output_type": "stream",
     "text": [
      "15 Kill all humans\n",
      "55 f8054c7a29c4bae69ce1e1c5a17caf0040bc5e4afb6499ec6fc5be7e858aead879a348f59f053de3fb878417b5d6e7f945ed1e3a8b1a0c\n",
      "Kill all humans\n"
     ]
    }
   ],
   "source": [
    "import nacl.utils\n",
    "from nacl.public import PrivateKey, Box\n",
    "\n",
    "skbob = PrivateKey.generate()\n",
    "pkbob = skbob.public_key\n",
    "\n",
    "skalice = PrivateKey.generate()\n",
    "pkalice = skalice.public_key\n",
    "\n",
    "bob_box = Box(skbob, pkalice)\n",
    "message = 'Kill all humans'\n",
    "print len(message), message\n",
    "\n",
    "# Encrypt our message, it will be exactly 40 bytes longer than the original message as it stores\n",
    "# authentication information and the nonce alongside it.\n",
    "# This is a nonce, it *MUST* only be used once, but it is not considered secret\n",
    "# and can be transmitted or stored alongside the ciphertext. A good source of nonces are just sequences of 24 random bytes.\n",
    "encrypted = bob_box.encrypt(message, nacl.utils.random(Box.NONCE_SIZE))\n",
    "print len(encrypted), encrypted.encode('hex')\n",
    "\n",
    "alice_box = Box(skalice, pkbob)\n",
    "plaintext = alice_box.decrypt(encrypted)\n",
    "print plaintext"
   ]
  },
  {
   "cell_type": "markdown",
   "metadata": {},
   "source": [
    "todo Диффи-Хеллман, чтение HTTPS-дампа, зная ключ; скачать и проверить сертификат сайта; проверить подпись файла"
   ]
  },
  {
   "cell_type": "markdown",
   "metadata": {},
   "source": [
    "## CTF: SMT-сольверы"
   ]
  },
  {
   "cell_type": "markdown",
   "metadata": {},
   "source": [
    "```\n",
    "z3:\n",
    "Visual Studio 2015 x64 Native Tools Command Prompt\n",
    "python scripts/mk_make.py --x64\n",
    "cd build\n",
    "nmake\n",
    "copy all /build/ to Lib/site-packages/z3/\n",
    "__init__.py: from z3 import *\n",
    "```"
   ]
  },
  {
   "cell_type": "markdown",
   "metadata": {},
   "source": [
    "Существует ряд задач, в которых нужно найти какой-нибудь набор переменных, удовлетворяющий набору некоторых логических, математических или битовых условий. Для их решения созданы специальные программы, SMT-сольверы, один из которых `z3` от Microsoft наиболее популярен и имеет одноименный Python-враппер.\n",
    "\n",
    "Использование `z3` заключается в объявлении переменных с указанием их типа, добавлении условий на эти переменные в сольвер (используется смесь операторов Python и собственных функций `z3`), вызове `solver.check()`, который вернет `z3.sat`, если `z3` сумел найти решение. Переменные решения можно получить, используя вызов `solver.model()`."
   ]
  },
  {
   "cell_type": "code",
   "execution_count": 13,
   "metadata": {
    "collapsed": true
   },
   "outputs": [],
   "source": [
    "from z3 import *\n",
    "import numpy"
   ]
  },
  {
   "cell_type": "markdown",
   "metadata": {},
   "source": [
    "Пример: Найти `uint32 a` такой, что `(0xDEADDEAD >> 2) ^ a == 0xBEEFBEEF`"
   ]
  },
  {
   "cell_type": "code",
   "execution_count": 9,
   "metadata": {
    "collapsed": false
   },
   "outputs": [
    {
     "name": "stdout",
     "output_type": "stream",
     "text": [
      "0x8944C944\n"
     ]
    }
   ],
   "source": [
    "a = BitVec('a', 32)\n",
    "b = BitVecVal(0xDEADDEAD, 32)\n",
    "c = BitVecVal(0xBEEFBEEF, 32)\n",
    "s = Solver()\n",
    "s.add(LShR(b, 2) ^ a == c)\n",
    "if s.check() == sat:\n",
    "    print \"0x%8X\" % s.model()[a].as_long()\n",
    "else:\n",
    "    print \"Equation unsatisfiable\""
   ]
  },
  {
   "cell_type": "code",
   "execution_count": 17,
   "metadata": {
    "collapsed": false
   },
   "outputs": [
    {
     "data": {
      "text/plain": [
       "True"
      ]
     },
     "execution_count": 17,
     "metadata": {},
     "output_type": "execute_result"
    }
   ],
   "source": [
    "a = numpy.uint32(0x8944C944)\n",
    "(0xDEADDEAD >> 2) ^ a == 0xBEEFBEEF"
   ]
  },
  {
   "cell_type": "markdown",
   "metadata": {},
   "source": [
    "Пример: Найти вещественные x, y такие, что $x^2/4 + y^2 < 1$, $x + y > 2.1$"
   ]
  },
  {
   "cell_type": "code",
   "execution_count": 20,
   "metadata": {
    "collapsed": false
   },
   "outputs": [
    {
     "name": "stdout",
     "output_type": "stream",
     "text": [
      "sat\n",
      "[x = 7/4, y = 3/8]\n"
     ]
    }
   ],
   "source": [
    "x = Real('x')\n",
    "y = Real('y')\n",
    "s = Solver()\n",
    "s.add(x + y > 2.1, x ** 2 / 4 + y ** 2 < 1)\n",
    "print s.check()\n",
    "print s.model()"
   ]
  },
  {
   "cell_type": "code",
   "execution_count": 22,
   "metadata": {
    "collapsed": false
   },
   "outputs": [
    {
     "data": {
      "text/plain": [
       "(2.125, 0.90625)"
      ]
     },
     "execution_count": 22,
     "metadata": {},
     "output_type": "execute_result"
    }
   ],
   "source": [
    "7./4 + 3./8, (7./4) ** 2 / 4 + (3./8) ** 2"
   ]
  },
  {
   "cell_type": "markdown",
   "metadata": {},
   "source": [
    "todo пример со строкой xor и crc32. С какими 4 байтами нужно сксорить строку, чтобы получить такой CRC32?"
   ]
  },
  {
   "cell_type": "code",
   "execution_count": 1,
   "metadata": {
    "collapsed": false
   },
   "outputs": [
    {
     "name": "stdout",
     "output_type": "stream",
     "text": [
      "''\n",
      "00000000\n",
      "00000000\n",
      "00000000\n",
      "\n",
      "'test'\n",
      "d87f7e0c\n",
      "d87f7e0c\n",
      "d87f7e0c\n",
      "\n",
      "'hello world'\n",
      "0d4a1185\n",
      "0d4a1185\n",
      "0d4a1185\n",
      "\n",
      "'1234'\n",
      "9be3e0a3\n",
      "9be3e0a3\n",
      "9be3e0a3\n",
      "\n",
      "'A long string to test CRC32 functions'\n",
      "d2d10e28\n",
      "d2d10e28\n",
      "d2d10e28\n",
      "\n"
     ]
    }
   ],
   "source": [
    "import binascii, zlib\n",
    "from array import array\n",
    "\n",
    "poly = 0xEDB88320\n",
    "\n",
    "table = array('L')\n",
    "for byte in range(256):\n",
    "    crc = 0\n",
    "    for bit in range(8):\n",
    "        if (byte ^ crc) & 1:\n",
    "            crc = (crc >> 1) ^ poly\n",
    "        else:\n",
    "            crc >>= 1\n",
    "        byte >>= 1\n",
    "    table.append(crc)\n",
    "\n",
    "def crc32(string):\n",
    "    value = 0xffffffffL\n",
    "    for ch in string:\n",
    "        value = table[(ord(ch) ^ value) & 0xff] ^ (value >> 8)\n",
    "\n",
    "    return -1 - value\n",
    "\n",
    "# test\n",
    "\n",
    "data = (\n",
    "    '',\n",
    "    'test',\n",
    "    'hello world',\n",
    "    '1234',\n",
    "    'A long string to test CRC32 functions',\n",
    ")\n",
    "\n",
    "for s in data:\n",
    "    print repr(s)\n",
    "    a = binascii.crc32(s)\n",
    "    print '%08x' % (a & 0xffffffffL)\n",
    "    aa = zlib.crc32(s)\n",
    "    print '%08x' % (aa & 0xffffffffL)\n",
    "    b = crc32(s)\n",
    "    print '%08x' % (b & 0xffffffffL)\n",
    "    print"
   ]
  },
  {
   "cell_type": "markdown",
   "metadata": {},
   "source": [
    "Пример: задача с VolgaCTF, reverse. От кодов символов флага вычисляется и проверяется ряд полиномов. Иногда задавать условия для SMT-сольвера удобнее, генерируя строки условий, а затем исполняя их в глобальном контексте."
   ]
  },
  {
   "cell_type": "code",
   "execution_count": 30,
   "metadata": {
    "collapsed": true
   },
   "outputs": [],
   "source": [
    "formulas = '''\\\n",
    "13 * s[29] + s[36] * 132 * s[0] + 13 * s[19] + 3 * s[1] - s[30] * 14 * s[30] + s[34] * 60 * s[3] + (-14) * s[26] + (-8) * s[28] - s[28] + 3 * s[19] + 10 * s[7] - s[4] + s[30] + 8 * s[42] == 1311351\n",
    "(-11) * s[43] + s[20] * 20 * s[44] + s[35] * 60 * s[5] - s[40] * s[3] * 1008 * s[1] + 8 * s[44] + (-10) * s[28] + (-7) * s[35] - 2 * s[27] + (-4) * s[17] - s[17] - 8 * s[26] - s[18] - 8 * s[9] == (-1324642844)\n",
    "11 * s[6] + s[25] + 7 * (s[32] + s[26]) + s[36] * 180 * s[33] + s[35] * 99 * s[9] + (-12) * s[42] - s[22] * 32 * s[27] + 10 * s[15] + 15 * s[8] + 8 * s[4] + (-10) * s[33] + 14 * s[8] == 910067\n",
    "15 * s[0] + 13 * s[13] + (-13) * s[3] + 3 * s[15] + 3 * s[34] + 6 * s[39] - s[32] * 60 * s[38] + 15 * s[33] + s[6] * 60 * s[32] + (-4) * s[30] - s[30] + (-8) * s[36] - s[36] - s[11] + 8 * s[35] + 7 * s[0] == (-119712)\n",
    "9 * s[5] + s[8] + s[0] + 10 * s[3] - s[13] * 84 * s[2] + s[27] * 16 * s[28] + 12 * s[28] + 2 * s[11] + (-14) * s[40] + (-12) * s[32] + 15 * s[10] + (-4) * s[23] - s[23] + (-3) * s[11] + (-5) * s[5] == (-914171)\n",
    "11 * s[31] + 13 * s[18] + s[18] * 84 * s[26] + (-12) * s[7] + 14 * s[42] + 6 * s[23] - s[20] * s[33] * 1260 * s[24] - s[44] * 98 * s[17] + s[41] * 270 * s[43] * s[33] + 10 * s[8] == (-701812476)\n",
    "(-11) * s[23] + 9 * s[36] + (-7) * s[36] + s[38] * 78 * s[0] + (-8) * s[40] - s[40] - s[42] * 10 * s[34] + (-7) * s[36] + s[36] + s[13] * s[14] * 560 * s[34] - s[32] + 11 * s[32] + 15 * s[35] == 805471623\n",
    "s[44] * 55 * s[15] + s[17] * 48 * s[36] + 2 * (s[19] + 6 * s[2]) - s[14] * 14 * s[38] + 11 * s[2] - 12 * s[6] * s[14] + 8 * s[11] - s[11] + s[23] * 13 * s[18] + (-10) * s[4] + 3 * s[21] == 986086\n",
    "13 * s[20] + 7 * s[2] + (-14) * s[42] - 4 * s[24] + 8 * s[37] + s[19] * 78 * s[36] - 63 * s[24] * s[42] - s[18] - 2 * s[20] - 4 * s[31] + 4 * s[15] + 10 * s[38] + 7 * s[20] - 4 * s[26] == (-471203)\n",
    "s[43] + s[27] + 3 * s[29] + (-9) * s[20] + 4 * s[15] - s[25] - s[41] + 15 * s[12] + (-6) * s[13] + 4 * s[9] - s[4] * 24 * s[28] + 130 * s[4] * s[41] + 14 * s[3] + 8 * s[0] - s[0] == 584152\n",
    "11 * s[18] - 8 * s[22] + 4 * s[17] + (-9) * s[29] + 8 * s[14] - 8 * s[1] + (-12) * s[38] + 2 * s[26] + (-11) * s[14] + 6 * s[3] + s[39] * 3 * s[35] + (-10) * s[16] + 22 * s[21] * s[29] + 14 * s[42] == 302239\n",
    "15 * s[35] + (-13) * s[14] + (-7) * s[41] + (-7) * s[38] + 9 * s[3] + s[39] * s[9] * 360 * s[16] + 6 * s[24] - s[30] + 135 * s[2] * s[16] + (-9) * s[9] + 4 * s[30] - s[23] * 112 * s[10] == 118806054\n",
    "13 * s[1] + (-3) * s[25] + s[28] * 150 * s[27] + (-13) * s[43] + s[38] * 12 * s[0] - 4 * s[29] - s[10] - 2 * s[42] + 4 * s[26] - 8 * s[33] + (-10) * s[12] + s[39] * 18 * s[24] + 13 * s[20] == 1675940\n",
    "s[18] + 5 * s[37] + 15 * s[43] + s[16] + 11 * s[13] + s[6] * 15 * s[23] + (-6) * s[20] - s[8] * 10 * s[23] + 135 * s[20] * s[6] + 10 * s[19] + (-6) * s[18] + 14 * s[2] + (-12) * s[33] == 1333282\n",
    "9 * s[0] + 9 * s[1] + s[6] * 156 * s[24] + (-4) * s[32] - s[32] + 2 * s[39] + 15 * s[9] + 10 * s[24] - 4 * s[19] + 8 * s[20] + 4 * s[20] + (-8) * s[23] - s[23] + 13 * s[40] + (-7) * s[29] + (-3) * s[36] + (-12) * s[0] == 1457854\n",
    "13 * s[5] + 13 * s[36] + 7 * s[9] + (-15) * s[30] + (-12) * s[43] + 11 * s[40] + (-12) * s[18] + 12 * s[12] + (-11) * s[18] - s[4] * 104 * s[0] - s[20] * 132 * s[1] - 8 * s[6] + 8 * s[19] - s[19] + 5 * s[14] == (-2582478)\n",
    "9 * s[40] + 11 * s[18] + 3 * s[21] + (-13) * s[1] + s[31] + s[30] - 4 * s[29] + 8 * s[4] - s[4] - s[36] * 210 * s[29] + (-14) * s[37] - 6 * s[44] * s[21] - 2 * s[39] + 8 * s[29] + 4 * s[35] == (-1562727)\n",
    "3 * s[31] + 6 * s[19] - s[7] * 130 * s[36] + 12 * s[40] - s[12] * 42 * s[31] + 4 * s[2] + 10 * s[0] + s[10] * 99 * s[28] - s[34] * 40 * s[24] - 8 * s[5] + s[12] + 7 * s[0] == (-1038889)\n",
    "s[23] + 5 * s[41] + 9 * s[3] + s[1] * 15 * s[41] + 5 * s[22] + (-15) * s[25] - s[31] * 24 * s[22] - 4 * s[12] - s[16] * 36 * s[44] + (-10) * s[4] + 9 * s[8] - 45 * s[34] * s[1] == (-923909)\n",
    "15 * s[5] + s[33] * 130 * s[40] + s[4] + 2 * s[10] - s[35] * 132 * s[16] + s[14] * 75 * s[23] - 2 * s[24] + (-6) * s[32] - 2 * s[26] + 4 * s[40] + (-11) * s[15] + 4 * s[19] - 8 * s[5] == 856586\n",
    "5 * s[31] + (-15) * s[39] + s[19] * 90 * s[18] + s[27] * 16 * s[16] - s[44] * s[41] * 70 * s[28] + 2 * s[8] + s[42] * 35 * s[38] + 10 * s[7] + 2 * s[12] + 8 * s[29] + 4 * s[20] == (-53357640)\n",
    "5 * s[23] + s[1] + 4 * (2 * s[29] - s[18] - s[21]) + s[28] * 39 * s[12] - s[36] * s[22] * 30 * s[21] + 8 * s[26] - s[26] + s[18] + 12 * s[0] + (-10) * s[17] - 12 * s[27] * s[17] == (-20510795)\n",
    "3 * s[41] + 5 * s[6] + 8 * s[10] + 10 * s[8] - s[41] * 28 * s[9] + (-10) * s[30] + 10 * s[21] + 10 * s[19] - s[24] + 5 * s[8] + (-10) * s[22] + (-3) * s[23] + 4 * s[32] + 9 * s[30] + 11 * s[28] == (-117294)\n",
    "9 * s[43] + 15 * s[29] + s[1] * 120 * s[44] + 12 * s[13] + 12 * s[15] + 14 * s[32] + 10 * s[25] + 13 * s[37] + (-4) * s[22] - s[22] + 8 * s[26] - s[26] + (-4) * s[36] - s[36] - s[13] + 7 * s[13] - s[40] * 36 * s[38] == 1256993\n",
    "9 * s[25] + 5 * s[8] + s[37] * 28 * s[23] + 6 * s[13] + (-6) * s[17] + (-3) * s[26] - 2 * s[36] + (-6) * s[4] + (-10) * s[29] - 8 * s[3] + s[24] * 99 * s[9] + 4 * s[19] + s[11] * 84 * s[12] == 1373634\n",
    "(-3) * s[17] + 9 * s[24] + 4 * s[37] + 9 * s[34] - 4 * s[34] + 8 * s[15] + s[7] * 40 * s[42] + 10 * s[15] - s[11] * s[27] * 360 * s[16] + 12 * s[5] - 15 * s[10] * s[16] + 13 * s[1] == (-62537013)\n",
    "(-5) * s[23] + 15 * s[26] + 8 * s[25] + 15 * s[23] - s[1] * 90 * s[6] + (-6) * s[32] - 4 * s[8] + (-13) * s[32] + s[26] - s[14] * 70 * s[23] - 4 * s[9] - 8 * s[19] - s[12] * 78 * s[33] == (-1952483)\n",
    "9 * s[22] + (-7) * s[27] + 8 * s[1] + 4 * (3 * s[9] + (-3) * s[31]) + (-6) * s[10] + 2 * s[38] + 8 * s[41] - s[41] + (-4) * s[13] - s[13] - 2 * s[8] - s[10] * 60 * s[16] + s[1] * 60 * s[38] - s[28] * 7 * s[1] == 447630\n",
    "13 * s[7] + (-7) * s[13] + 9 * s[27] + (-2) * s[35] + 12 * s[34] + (-3) * s[14] + 63 * s[44] * s[27] + (-7) * s[20] + s[37] * 70 * s[42] - s[32] * 156 * s[19] - 2 * s[12] + (-12) * s[10] == 656269\n",
    "11 * s[9] + s[1] * 56 * s[2] + (-4) * s[6] - s[6] - s[20] * 77 * s[14] + (-12) * s[34] + (-11) * s[38] - 8 * s[5] + (-15) * s[26] + s[11] * s[41] * 72 * s[29] - s[18] * s[35] * 528 * s[32] == (-716423735)\n",
    "(-3) * s[13] + (-13) * s[38] + 15 * s[26] + 11 * s[13] + s[23] * 110 * s[8] + 2 * ((-3) * s[25] + 5 * s[27]) + s[37] * s[9] * 550 * s[34] + (-4) * s[7] - s[7] - s[31] * 135 * s[37] + 12 * s[11] + (-9) * s[8] == 498719083\n",
    "(-7) * s[20] + (-3) * s[43] + s[29] + (-7) * s[35] + 11 * s[34] - s[39] * s[26] * 18 * s[37] - 4 * s[0] + 2 * s[8] - 8 * s[27] + 8 * s[15] - s[15] - s[26] * 8 * s[33] + (-13) * s[26] == (-19729480)\n",
    "s[10] * s[0] * 182 * s[24] + s[32] * 2 * s[30] + (-4) * s[39] - s[39] + 10 * s[32] + 8 * s[17] - 8 * s[30] + 4 * s[34] + (-12) * s[29] - s[12] * 55 * s[41] + s[8] * s[4] * 1144 * s[17] == 1381453791\n",
    "9 * s[3] + (-5) * s[34] + 6 * s[44] + (-11) * s[21] + (-14) * s[4] - 8 * s[5] + s[39] * 1344 * s[4] * s[21] + 5 * s[40] + 15 * s[1] - s[27] * 15 * s[26] + (-10) * s[13] + 11 * s[16] + 8 * s[17] - s[17] == 1411741755\n",
    "13 * s[33] + s[20] + 4 * (s[6] - s[20]) + 8 * s[44] - s[44] - s[13] * 90 * s[36] + 6 * s[20] + (-4) * s[37] - s[37] + s[11] * s[32] * 20 * s[7] + (-4) * s[9] - s[9] + 2 * s[29] + (-10) * s[0] + s[23] * 156 * s[11] == 5981100\n",
    "(-7) * s[19] + 7 * s[14] + 13 * s[6] + s[42] + s[23] * 4 * s[17] - 2 * s[40] + (-13) * s[17] + 9 * s[14] + 14 * s[1] - s[5] * 39 * s[13] + 6 * s[32] + 4 * s[29] - s[37] + 14 * s[24] == (-262868)\n",
    "s[10] + s[9] * 10 * s[14] + 8 * s[44] + (-3) * s[13] - s[7] * 90 * s[26] + (-6) * s[27] + 11 * s[1] + 6 * s[27] + 2 * s[24] + s[27] - s[29] + (-8) * s[33] - s[33] + 6 * s[1] + (-13) * s[11] == (-563008)\n",
    "(-7) * s[24] + (-11) * s[27] + (-11) * s[9] + s[12] + s[38] * 70 * s[30] + (-10) * s[29] - 2 * s[40] + (-6) * s[28] - s[43] * 8 * s[6] + 10 * s[25] - 2 * s[12] - s[3] * s[43] * ((s[40] * 256) - 32 * s[40]) == (-267345737)\n",
    "(-11) * s[6] + 13 * s[29] + 13 * s[28] + s[29] + (-7) * s[20] + 5 * s[16] + 15 * s[10] + 4 * s[41] + 2 * s[17] + (-15) * s[18] + (-10) * s[30] + (-6) * s[24] + 13 * s[0] - 48 * s[43] * s[18] - 2 * s[7] == (-586617)\n",
    "2 * s[12] + s[3] * 225 * s[0] + (-12) * s[36] + (-7) * s[3] - s[43] * 12 * s[7] + (-12) * s[43] - s[0] - s[4] * 18 * s[29] - s[11] * s[21] * 75 * s[2] + 12 * s[12] + 15 * s[25] == (-31526095)\n",
    "'''.splitlines()"
   ]
  },
  {
   "cell_type": "code",
   "execution_count": 33,
   "metadata": {
    "collapsed": true
   },
   "outputs": [],
   "source": [
    "import re"
   ]
  },
  {
   "cell_type": "code",
   "execution_count": 39,
   "metadata": {
    "collapsed": false
   },
   "outputs": [
    {
     "name": "stdout",
     "output_type": "stream",
     "text": [
      "VolgaCTF{D1$guis3_y0ur_code_and_y0u_@re_s@fe}\n",
      "Wall time: 1min 37s\n"
     ]
    }
   ],
   "source": [
    "%%time\n",
    "solver = z3.Solver()\n",
    "s = z3.Ints(' '.join('s%d' % i for i in range(45)))\n",
    "\n",
    "for i in range(45):\n",
    "    constr = 'solver.add(s[%d] > 32, s[%d] < 127)' % (i,i)\n",
    "    eval(constr)\n",
    "\n",
    "for f in formulas:\n",
    "    constr = 'solver.add(' + f + ')'\n",
    "    eval(constr)\n",
    "    \n",
    "#flag = 'VolgaCTF{' + '?' * 35 + '}'\n",
    "#for i, ch in enumerate(flag):\n",
    "#    if ch != '?':\n",
    "#        solver.add(s[i] == ord(ch))\n",
    "\n",
    "if solver.check() == z3.sat:\n",
    "    print ''.join(map(chr, [solver.model().eval(s[i]).as_long() for i in range(45)]))"
   ]
  },
  {
   "cell_type": "markdown",
   "metadata": {},
   "source": [
    "Пример: задача Эйнштейна\n",
    "    \n",
    "    Норвежец живёт в первом доме.\n",
    "    Англичанин живёт в красном доме.\n",
    "    Зелёный дом находится слева от белого, рядом с ним.\n",
    "    Датчанин пьёт чай.\n",
    "    Тот, кто курит Marlboro, живёт рядом с тем, кто выращивает кошек.\n",
    "    Тот, кто живёт в жёлтом доме, курит Dunhill.\n",
    "    Немец курит Rothmans.\n",
    "    Тот, кто живёт в центре, пьёт молоко.\n",
    "    Сосед того, кто курит Marlboro, пьёт воду.\n",
    "    Тот, кто курит Pall Mall, выращивает птиц.\n",
    "    Швед выращивает собак.\n",
    "    Норвежец живёт рядом с синим домом.\n",
    "    Тот, кто выращивает лошадей, живёт в синем доме.\n",
    "    Тот, кто курит Winfield, пьет пиво.\n",
    "    В зелёном доме пьют кофе."
   ]
  },
  {
   "cell_type": "code",
   "execution_count": 5,
   "metadata": {
    "collapsed": true
   },
   "outputs": [],
   "source": [
    "from collections import OrderedDict"
   ]
  },
  {
   "cell_type": "code",
   "execution_count": 6,
   "metadata": {
    "collapsed": true
   },
   "outputs": [],
   "source": [
    "def solve_einstein_problem(props, conditions_fn):\n",
    "    ks = props.keys()\n",
    "\n",
    "    # Переменные\n",
    "    variables = {}\n",
    "    for i in range(len(ks)):\n",
    "        for j in range(i + 1, len(ks)):\n",
    "            for vi in props[ks[i]]:\n",
    "                for vj in props[ks[j]]:\n",
    "                    varname = vi + '_' + vj\n",
    "                    variables[varname] = Bool(varname)\n",
    "    \n",
    "    conds = []\n",
    "    # Существование и единственность\n",
    "    for i in range(len(ks)):\n",
    "        for j in range(i + 1, len(ks)):\n",
    "            for vi in props[ks[i]]:\n",
    "                # vi_vj1 || vi_vj2 || ...\n",
    "                conds.append(Or(*[variables['%s_%s' % (vi, vj)] for vj in props[ks[j]]]))\n",
    "                # vi1_vj1 => !vi1_vj2 && !vi1_vj3 && ... и !vi2_vj1 && !vi3_vj1 && ...\n",
    "                for vj in props[ks[j]]:\n",
    "                    conds.append(Implies(variables['%s_%s' % (vi, vj)], And(*[\n",
    "                        Not(variables['%s_%s' % (vi, vjj)]) for vjj in props[ks[j]] if vjj != vj\n",
    "                    ])))\n",
    "                    conds.append(Implies(variables['%s_%s' % (vi, vj)], And(*[\n",
    "                        Not(variables['%s_%s' % (vii, vj)]) for vii in props[ks[i]] if vii != vi\n",
    "                    ])))\n",
    "                                 \n",
    "    # Транзитивность\n",
    "    for i in range(len(ks)):\n",
    "        for j in range(i + 1, len(ks)):\n",
    "            for k in range(j + 1, len(ks)):\n",
    "                for vi in props[ks[i]]:\n",
    "                    for vj in props[ks[j]]:\n",
    "                        for vk in props[ks[k]]:\n",
    "                            # vi_vj && vj_vk => vi_vk\n",
    "                            conds.append(Implies(And(variables['%s_%s' % (vi, vj)], variables['%s_%s' % (vj, vk)]), variables['%s_%s' % (vi, vk)]))\n",
    "                            # vi_vj && vi_vk => vj_vk\n",
    "                            conds.append(Implies(And(variables['%s_%s' % (vi, vj)], variables['%s_%s' % (vi, vk)]), variables['%s_%s' % (vj, vk)]))\n",
    "                            # vi_vk && vj_vk => vi_vj\n",
    "                            conds.append(Implies(And(variables['%s_%s' % (vi, vk)], variables['%s_%s' % (vj, vk)]), variables['%s_%s' % (vi, vj)]))\n",
    "                              \n",
    "    for k, v in variables.iteritems():\n",
    "        conditions_fn.__globals__[k] = v\n",
    "    task_predicates = conditions_fn()\n",
    "    \n",
    "    s = Solver()\n",
    "    s.add(*(conds + task_predicates))\n",
    "    if s.check() == sat:\n",
    "        m = s.model()\n",
    "        for vi in props[ks[0]]:\n",
    "            print vi,\n",
    "            for j in range(1, len(ks)):\n",
    "                for vj in props[ks[j]]:\n",
    "                    if m.evaluate(variables['%s_%s' % (vi, vj)]):\n",
    "                        print vj,\n",
    "            print"
   ]
  },
  {
   "cell_type": "code",
   "execution_count": 7,
   "metadata": {
    "collapsed": false
   },
   "outputs": [
    {
     "name": "stdout",
     "output_type": "stream",
     "text": [
      "n1 no yellow water dunhill cat\n",
      "n2 dk blue tea marlboro horse\n",
      "n3 en red milk pallmall bird\n",
      "n4 de green coffee rothmans fish\n",
      "n5 sw white beer winfield dog\n",
      "Wall time: 1.68 s\n"
     ]
    }
   ],
   "source": [
    "%%time\n",
    "einstein_props = OrderedDict([\n",
    "    ('number', ['n1', 'n2', 'n3', 'n4', 'n5']),\n",
    "    ('nation', ['no', 'en', 'dk', 'de', 'sw']),\n",
    "    ('color', ['green', 'white', 'yellow', 'blue', 'red']),\n",
    "    ('drink', ['tea', 'milk', 'water', 'beer', 'coffee']),\n",
    "    ('smoke', ['marlboro', 'dunhill', 'rothmans', 'pallmall', 'winfield']),\n",
    "    ('pet', ['cat', 'bird', 'dog', 'horse', 'fish']),\n",
    "])\n",
    "\n",
    "def FromLeftNear(variables, prop1, prop2):\n",
    "    nums = einstein_props['number']\n",
    "    return And(*[\n",
    "        Implies(variables['%s_%s' % (pos1, prop1)], variables['%s_%s' % (pos2, prop2)])\n",
    "        for pos1, pos2 in zip(nums, nums[1:])\n",
    "    ])\n",
    "\n",
    "def Near(variables, prop1, prop2):\n",
    "    nums = einstein_props['number']\n",
    "    return And(*[\n",
    "        Implies(variables['%s_%s' % (pos2, prop1)], Or(variables['%s_%s' % (pos1, prop2)], variables['%s_%s' % (pos3, prop2)]))\n",
    "        for pos1, pos2, pos3 in zip([nums[1]] + nums, nums, nums[1:] + [nums[-2]])\n",
    "    ])\n",
    "\n",
    "result = solve_einstein_problem(einstein_props, lambda:[\n",
    "    n1_no,\n",
    "    en_red,\n",
    "    FromLeftNear(globals(), 'green', 'white'),\n",
    "    dk_tea, \n",
    "    Near(globals(), 'marlboro', 'cat'),\n",
    "    yellow_dunhill,\n",
    "    de_rothmans,\n",
    "    n3_milk,\n",
    "    Near(globals(), 'marlboro', 'water'),\n",
    "    pallmall_bird,\n",
    "    sw_dog,\n",
    "    Near(globals(), 'no', 'blue'),\n",
    "    blue_horse,\n",
    "    beer_winfield,\n",
    "    green_coffee\n",
    "])"
   ]
  }
 ],
 "metadata": {
  "kernelspec": {
   "display_name": "Python 2",
   "language": "python",
   "name": "python2"
  },
  "language_info": {
   "codemirror_mode": {
    "name": "ipython",
    "version": 2
   },
   "file_extension": ".py",
   "mimetype": "text/x-python",
   "name": "python",
   "nbconvert_exporter": "python",
   "pygments_lexer": "ipython2",
   "version": "2.7.12"
  }
 },
 "nbformat": 4,
 "nbformat_minor": 2
}
