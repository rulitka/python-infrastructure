{
 "cells": [
  {
   "cell_type": "markdown",
   "metadata": {},
   "source": [
    "# Инфраструктура Python. Богатый вывод"
   ]
  },
  {
   "cell_type": "markdown",
   "metadata": {},
   "source": [
    "todo Для удобства использования IPython стоит установить расширения"
   ]
  },
  {
   "cell_type": "markdown",
   "metadata": {},
   "source": [
    "```\n",
    "pip install jupyter_contrib_nbextensions\n",
    "pip install jupyter_nbextensions_configurator\n",
    "```"
   ]
  },
  {
   "cell_type": "markdown",
   "metadata": {},
   "source": [
    "todo Темы IPython, полезные расширения, настройка реестра для запуска IPython, тоталоплагин?\n",
    "\n",
    "tikz/asymptote, geogebra?\n",
    "\n",
    "todo как заставить IPython не тормозить при объемном выводе и зацикливании?"
   ]
  },
  {
   "cell_type": "markdown",
   "metadata": {},
   "source": [
    "## Богатый вывод в IPython"
   ]
  },
  {
   "cell_type": "markdown",
   "metadata": {},
   "source": [
    "Упоминаются библиотеки `colorama`, `IPython`, `ipy_table`, `tabulate`, `qgrid`, `tqdm`"
   ]
  },
  {
   "cell_type": "markdown",
   "metadata": {},
   "source": [
    "Библиотека `hexdump` позволяет удобно отображать бинарные строки, как в hex-редакторах и проводить обратные преобразования, например, над копипастой."
   ]
  },
  {
   "cell_type": "code",
   "execution_count": 16,
   "metadata": {
    "collapsed": false
   },
   "outputs": [
    {
     "name": "stdout",
     "output_type": "stream",
     "text": [
      "00000000: D8 C2 6B 42 82 67 C8 4D  7A 95 E8 81 48 C1 9E 40  ..kB.g.Mz...H..@\n",
      "00000010: E8 FB CF E6 4F BA E6 AF  78 19 6F 9C E9 F7 7A DD  ....O...x.o...z.\n",
      "00000020: 42 CE 8C 03 B8 66 D3 AB  00 7E DE 3E 53 DE 30 91  B....f...~.>S.0.\n",
      "00000030: 3D F7                                             =.\n"
     ]
    }
   ],
   "source": [
    "import hexdump, random\n",
    "random.seed(0)\n",
    "hexdump.hexdump(''.join([chr(random.randint(0, 255)) for i in range(50)]))"
   ]
  },
  {
   "cell_type": "code",
   "execution_count": 17,
   "metadata": {
    "collapsed": false
   },
   "outputs": [
    {
     "data": {
      "text/plain": [
       "'\\xd8\\xc2kB\\x82g\\xc8Mz\\x95\\xe8\\x81H\\xc1\\x9e@\\xe8\\xfb\\xcf\\xe6O\\xba\\xe6\\xafx\\x19o\\x9c\\xe9\\xf7z\\xddB\\xce\\x8c\\x03\\xb8f\\xd3\\xab\\x00~\\xde>S\\xde0\\x91=\\xf7'"
      ]
     },
     "execution_count": 17,
     "metadata": {},
     "output_type": "execute_result"
    }
   ],
   "source": [
    "hexdump.restore('''\n",
    "00000000: D8 C2 6B 42 82 67 C8 4D  7A 95 E8 81 48 C1 9E 40  ..kB.g.Mz...H..@\n",
    "00000010: E8 FB CF E6 4F BA E6 AF  78 19 6F 9C E9 F7 7A DD  ....O...x.o...z.\n",
    "00000020: 42 CE 8C 03 B8 66 D3 AB  00 7E DE 3E 53 DE 30 91  B....f...~.>S.0.\n",
    "00000030: 3D F7                                             =.\n",
    "''')"
   ]
  },
  {
   "cell_type": "markdown",
   "metadata": {},
   "source": [
    "Linux поддерживает раскраску символов в консоли выводом специальных escape-последовательностей вида `\\033[31m` (синтаксис: `\\033` `[` список кодов через `;` `m`) 3x — цвет текста, 4x — фона, 0 — сброс). Библиотека `colorama` упрощает генерацию этих escape-последовательностей и реализует схожее поведение на Windows. IPython с грехом пополам копирует цвет символов в свои выходные ячейки."
   ]
  },
  {
   "cell_type": "code",
   "execution_count": 98,
   "metadata": {
    "collapsed": false
   },
   "outputs": [
    {
     "name": "stdout",
     "output_type": "stream",
     "text": [
      "\u001b[43;35m magenta on yellow \u001b[0m\n"
     ]
    }
   ],
   "source": [
    "print(\"\\033[43;35m magenta on yellow \\033[0m\")"
   ]
  },
  {
   "cell_type": "code",
   "execution_count": 1,
   "metadata": {
    "collapsed": false
   },
   "outputs": [
    {
     "name": "stdout",
     "output_type": "stream",
     "text": [
      "\u001b[31mred text\u001b[30m\u001b[0m\u001b[0m\n",
      "\u001b[43myellow background\u001b[0m\u001b[49m\n",
      "\u001b[45m\u001b[37mwhite on green\u001b[0m\u001b[49m\n",
      "\u001b[30mback to normal now\n"
     ]
    }
   ],
   "source": [
    "from colorama import Fore, Back, Style\n",
    "print Fore.RED + 'red text' + Fore.BLACK + Style.RESET_ALL + Style.RESET_ALL\n",
    "print Back.YELLOW + 'yellow background' + Style.RESET_ALL + Back.RESET\n",
    "print Back.MAGENTA + Fore.WHITE + 'white on green' + Style.RESET_ALL + Back.RESET\n",
    "print Fore.BLACK + 'back to normal now'"
   ]
  },
  {
   "cell_type": "code",
   "execution_count": null,
   "metadata": {
    "collapsed": true
   },
   "outputs": [],
   "source": [
    "from colorama import Back, init\n",
    "init()"
   ]
  },
  {
   "cell_type": "code",
   "execution_count": 18,
   "metadata": {
    "collapsed": false
   },
   "outputs": [
    {
     "name": "stdout",
     "output_type": "stream",
     "text": [
      "Alert!!!\n"
     ]
    }
   ],
   "source": [
    "print Fore.YELLOW + Style.BRIGHT + Back.MAGENTA + 'Alert!!!'"
   ]
  },
  {
   "cell_type": "markdown",
   "metadata": {},
   "source": [
    "todo Понять, что за ерунда, проверить в линухе, \"реализует схожее поведение на Windows\" - ??? powershell? cmder?"
   ]
  },
  {
   "cell_type": "markdown",
   "metadata": {},
   "source": [
    "Сам IPython способен отображать довольно много видов объектов: размеченный markdown текст, HTML, формулы, картинки, SVG, таблицы"
   ]
  },
  {
   "cell_type": "code",
   "execution_count": 3,
   "metadata": {
    "collapsed": false
   },
   "outputs": [],
   "source": [
    "import IPython\n",
    "import pandas\n",
    "from time import sleep\n",
    "import sys"
   ]
  },
  {
   "cell_type": "code",
   "execution_count": 28,
   "metadata": {
    "collapsed": false
   },
   "outputs": [
    {
     "data": {
      "text/markdown": [
       "~~hello~~ $x^2$ *world* of `markdown`"
      ],
      "text/plain": [
       "<IPython.core.display.Markdown object>"
      ]
     },
     "execution_count": 28,
     "metadata": {},
     "output_type": "execute_result"
    }
   ],
   "source": [
    "IPython.display.Markdown('~~hello~~ $x^2$ *world* of `markdown`')"
   ]
  },
  {
   "cell_type": "markdown",
   "metadata": {},
   "source": [
    "todo Почему при рестарте пропадает маркдаун, SVG, стили у HTML-вывода show_diff, кастомные визуализаторы `<__main__.MyCircle instance at 0x00000000198FB3C8>`?"
   ]
  },
  {
   "cell_type": "markdown",
   "metadata": {},
   "source": [
    "Содержимое объектов вроде `IPython.display.Markdown` просматривается в выходных ячейках как результат исполнения последней строки. Если нужно вывести IPython-объект не в последней строке, можно явно позвать функцию `IPython.display.display`"
   ]
  },
  {
   "cell_type": "markdown",
   "metadata": {},
   "source": [
    "todo Примеры разнообразнее"
   ]
  },
  {
   "cell_type": "code",
   "execution_count": 25,
   "metadata": {
    "collapsed": false
   },
   "outputs": [
    {
     "data": {
      "text/markdown": [
       "~~hello~~ $\\sqrt{x^2}$ *world* **of** `markdown`"
      ],
      "text/plain": [
       "<IPython.core.display.Markdown object>"
      ]
     },
     "metadata": {},
     "output_type": "display_data"
    },
    {
     "name": "stdout",
     "output_type": "stream",
     "text": [
      "usual text\n"
     ]
    }
   ],
   "source": [
    "IPython.display.display(IPython.display.Markdown('~~hello~~ $\\sqrt{x^2}$ *world* **of** `markdown`'))\n",
    "print 'usual text'"
   ]
  },
  {
   "cell_type": "code",
   "execution_count": 26,
   "metadata": {
    "collapsed": false
   },
   "outputs": [
    {
     "data": {
      "text/html": [
       "<b>hello</b> $\\sqrt{x^2}$ <a href=\"http://en.wikipedia.org/\">world</a> of <strike>HTML</strike>"
      ],
      "text/plain": [
       "<IPython.core.display.HTML object>"
      ]
     },
     "execution_count": 26,
     "metadata": {},
     "output_type": "execute_result"
    }
   ],
   "source": [
    "IPython.display.HTML('<b>hello</b> $\\sqrt{x^2}$ <a href=\"http://en.wikipedia.org/\">world</a> of <strike>HTML</strike>')"
   ]
  },
  {
   "cell_type": "code",
   "execution_count": 29,
   "metadata": {
    "collapsed": false
   },
   "outputs": [
    {
     "data": {
      "text/html": [
       "<b>hello</b> $\\sqrt{x^2}$ <a href=\"http://en.wikipedia.org/\">world</a> of <strike>HTML</strike>"
      ],
      "text/plain": [
       "<IPython.core.display.HTML object>"
      ]
     },
     "metadata": {},
     "output_type": "display_data"
    }
   ],
   "source": [
    "%%html\n",
    "<b>hello</b> $\\sqrt{x^2}$ <a href=\"http://en.wikipedia.org/\">world</a> of <strike>HTML</strike>"
   ]
  },
  {
   "cell_type": "code",
   "execution_count": 429,
   "metadata": {
    "collapsed": false
   },
   "outputs": [
    {
     "data": {
      "text/latex": [
       "$x_{1,2} = \\frac{-b \\pm \\sqrt{b^2 - 4ac}}{2a}$"
      ],
      "text/plain": [
       "<IPython.core.display.Latex object>"
      ]
     },
     "execution_count": 429,
     "metadata": {},
     "output_type": "execute_result"
    }
   ],
   "source": [
    "IPython.display.Latex(r'$x_{1,2} = \\frac{-b \\pm \\sqrt{b^2 - 4ac}}{2a}$')"
   ]
  },
  {
   "cell_type": "code",
   "execution_count": 31,
   "metadata": {
    "collapsed": false
   },
   "outputs": [
    {
     "data": {
      "text/latex": [
       "$x_{1,2} = \\frac{-b \\pm \\sqrt{b^2 - 4ac}}{2a}$"
      ],
      "text/plain": [
       "<IPython.core.display.Latex object>"
      ]
     },
     "metadata": {},
     "output_type": "display_data"
    }
   ],
   "source": [
    "%%latex\n",
    "$x_{1,2} = \\frac{-b \\pm \\sqrt{b^2 - 4ac}}{2a}$"
   ]
  },
  {
   "cell_type": "code",
   "execution_count": 432,
   "metadata": {
    "collapsed": false
   },
   "outputs": [
    {
     "data": {
      "image/png": "[encoded data removed]",
      "text/plain": [
       "<IPython.core.display.Image object>"
      ]
     },
     "execution_count": 432,
     "metadata": {},
     "output_type": "execute_result"
    }
   ],
   "source": [
    "IPython.display.Image('https://www.google.com/images/branding/googlelogo/2x/googlelogo_color_272x92dp.png')"
   ]
  },
  {
   "cell_type": "code",
   "execution_count": 22,
   "metadata": {
    "collapsed": false
   },
   "outputs": [
    {
     "data": {
      "image/svg+xml": [
       "<svg height=\"200px\" width=\"200px\">\n",
       "  <rect fill=\"none\" height=\"200\" stroke=\"black\" stroke-opacity=\"0.5\" stroke-width=\"5px\" width=\"200\" x=\"0\" y=\"0\"/>\n",
       "  <g fill-opacity=\"0.6\" stroke=\"black\" stroke-width=\"0.5px\">\n",
       "    <circle cx=\"100px\" cy=\"100px\" fill=\"red\" r=\"60px\" transform=\"translate(  0,-26)\"/>\n",
       "    <circle cx=\"100px\" cy=\"100px\" fill=\"blue\" r=\"60px\" transform=\"translate( 30, 26)\"/>\n",
       "    <circle cx=\"100px\" cy=\"100px\" fill=\"green\" r=\"60px\" transform=\"translate(-30, 26)\"/>\n",
       "  </g>\n",
       "</svg>"
      ],
      "text/plain": [
       "<IPython.core.display.SVG object>"
      ]
     },
     "execution_count": 22,
     "metadata": {},
     "output_type": "execute_result"
    }
   ],
   "source": [
    "IPython.display.SVG('''<svg height=\"200px\" width=\"200px\">\n",
    "  <rect x=\"0\" y=\"0\" width=\"200\" height=\"200\" fill=\"none\" stroke=\"black\" stroke-width=\"5px\" stroke-opacity=\"0.5\" />\n",
    "  <g fill-opacity=\"0.6\" stroke=\"black\" stroke-width=\"0.5px\">\n",
    "    <circle cx=\"100px\" cy=\"100px\" r=\"60px\" fill=\"red\"   transform=\"translate(  0,-26)\" />\n",
    "    <circle cx=\"100px\" cy=\"100px\" r=\"60px\" fill=\"blue\"  transform=\"translate( 30, 26)\" />\n",
    "    <circle cx=\"100px\" cy=\"100px\" r=\"60px\" fill=\"green\" transform=\"translate(-30, 26)\" />\n",
    "  </g>\n",
    "</svg>''')"
   ]
  },
  {
   "cell_type": "code",
   "execution_count": 21,
   "metadata": {
    "collapsed": false
   },
   "outputs": [
    {
     "data": {
      "image/svg+xml": [
       "<svg height=\"40\" viewBox=\"0 0 155 40\" width=\"155\" xmlns=\"http://www.w3.org/2000/svg\"><path d=\"M136.073 37.762h4.914L153 5h-4.914l-12.013 32.762zm-6.445-16.708c0 2.839-1.638 5.242-4.805 5.242-3.166 0-4.913-2.621-4.913-5.242s1.747-5.242 4.913-5.242c3.058 0 4.805 2.293 4.805 5.242m-4.259-8.955c-3.057 0-4.804 1.638-5.35 2.293v-1.857h-4.586v25.227h4.695v-9.828c.546.546 2.402 2.075 5.241 2.075 4.368 0 8.408-3.277 8.408-8.955.11-6.007-4.367-8.955-8.408-8.955m-25.116 7.098c.109-1.201 1.31-3.495 4.15-3.495 3.167 0 3.713 2.512 3.822 3.495h-7.972m4.259-7.098c-5.351 0-8.955 3.931-8.955 8.955 0 5.023 3.604 8.955 9.064 8.955s7.754-3.823 7.754-3.823l-3.495-2.293s-1.201 2.403-4.259 2.403c-3.167 0-4.478-2.73-4.478-3.714h12.56s.109-.764.109-.982v-.546c0-5.133-3.058-8.955-8.3-8.955M90.206 29.572h5.023l-6.225-17.037H84.09l-6.334 17.037h5.133l3.603-10.812h.11l3.604 10.812M72.842 21.49c0 1.966-1.093 4.806-4.26 4.806s-4.477-2.512-4.477-4.915c0-2.402 1.31-4.587 4.477-4.587 3.167 0 4.26 2.73 4.26 4.696m-3.823-8.955c-2.293 0-3.931 1.092-4.368 1.42.11-.546.655-5.133 6.77-5.133h3.823L76.664 5H71.53c-6.77 0-12.013 3.167-12.013 14.197 0 6.006 2.621 10.92 8.955 10.92 6.007 0 9.064-4.368 9.064-8.736 0-6.334-4.695-8.846-8.518-8.846m-22.387 7.208l-5.898-7.098-.109-.11h-4.04v17.037h4.696v-9.938l4.586 5.788.11.218h1.2l4.697-6.006v9.938h4.696V12.535h-4.041l-5.897 7.208m-18.347 2.73c0 2.294-1.31 3.932-3.822 3.932-2.403 0-2.621-1.42-2.621-1.966 0-1.31 1.092-2.075 3.822-2.403.764-.109 1.529-.109 2.293-.109h.328v.546m4.368 3.276v-6.115c-.218-5.351-2.512-7.535-7.317-7.535-3.276 0-5.46 1.31-6.225 1.856l1.31 3.495s1.967-1.748 4.478-1.748c3.604 0 3.167 2.949 3.167 2.949-1.2 0-10.92-.546-10.92 5.788 0 3.495 2.948 5.46 6.115 5.46 2.84 0 4.478-1.42 4.915-1.965 0 .109.109 1.638.109 1.638h4.368c.219 0 0-1.42 0-3.823M11.794 12.972c0 2.84-2.73 3.822-4.586 3.822H4.805V9.041h2.403c1.856.109 4.586 1.092 4.586 3.931M7.644 5H0v24.68h4.914v-8.736h2.621c5.024 0 9.174-2.62 9.174-7.972C16.709 7.73 12.559 5 7.645 5\" fill=\"#315EFB\" fill-rule=\"evenodd\"/></svg>"
      ],
      "text/plain": [
       "<IPython.core.display.SVG object>"
      ]
     },
     "metadata": {},
     "output_type": "display_data"
    }
   ],
   "source": [
    "%%svg\n",
    "<svg xmlns=\"http://www.w3.org/2000/svg\" width=\"155\" height=\"40\" viewBox=\"0 0 155 40\"><path fill=\"#315EFB\" fill-rule=\"evenodd\" d=\"M136.073 37.762h4.914L153 5h-4.914l-12.013 32.762zm-6.445-16.708c0 2.839-1.638 5.242-4.805 5.242-3.166 0-4.913-2.621-4.913-5.242s1.747-5.242 4.913-5.242c3.058 0 4.805 2.293 4.805 5.242m-4.259-8.955c-3.057 0-4.804 1.638-5.35 2.293v-1.857h-4.586v25.227h4.695v-9.828c.546.546 2.402 2.075 5.241 2.075 4.368 0 8.408-3.277 8.408-8.955.11-6.007-4.367-8.955-8.408-8.955m-25.116 7.098c.109-1.201 1.31-3.495 4.15-3.495 3.167 0 3.713 2.512 3.822 3.495h-7.972m4.259-7.098c-5.351 0-8.955 3.931-8.955 8.955 0 5.023 3.604 8.955 9.064 8.955s7.754-3.823 7.754-3.823l-3.495-2.293s-1.201 2.403-4.259 2.403c-3.167 0-4.478-2.73-4.478-3.714h12.56s.109-.764.109-.982v-.546c0-5.133-3.058-8.955-8.3-8.955M90.206 29.572h5.023l-6.225-17.037H84.09l-6.334 17.037h5.133l3.603-10.812h.11l3.604 10.812M72.842 21.49c0 1.966-1.093 4.806-4.26 4.806s-4.477-2.512-4.477-4.915c0-2.402 1.31-4.587 4.477-4.587 3.167 0 4.26 2.73 4.26 4.696m-3.823-8.955c-2.293 0-3.931 1.092-4.368 1.42.11-.546.655-5.133 6.77-5.133h3.823L76.664 5H71.53c-6.77 0-12.013 3.167-12.013 14.197 0 6.006 2.621 10.92 8.955 10.92 6.007 0 9.064-4.368 9.064-8.736 0-6.334-4.695-8.846-8.518-8.846m-22.387 7.208l-5.898-7.098-.109-.11h-4.04v17.037h4.696v-9.938l4.586 5.788.11.218h1.2l4.697-6.006v9.938h4.696V12.535h-4.041l-5.897 7.208m-18.347 2.73c0 2.294-1.31 3.932-3.822 3.932-2.403 0-2.621-1.42-2.621-1.966 0-1.31 1.092-2.075 3.822-2.403.764-.109 1.529-.109 2.293-.109h.328v.546m4.368 3.276v-6.115c-.218-5.351-2.512-7.535-7.317-7.535-3.276 0-5.46 1.31-6.225 1.856l1.31 3.495s1.967-1.748 4.478-1.748c3.604 0 3.167 2.949 3.167 2.949-1.2 0-10.92-.546-10.92 5.788 0 3.495 2.948 5.46 6.115 5.46 2.84 0 4.478-1.42 4.915-1.965 0 .109.109 1.638.109 1.638h4.368c.219 0 0-1.42 0-3.823M11.794 12.972c0 2.84-2.73 3.822-4.586 3.822H4.805V9.041h2.403c1.856.109 4.586 1.092 4.586 3.931M7.644 5H0v24.68h4.914v-8.736h2.621c5.024 0 9.174-2.62 9.174-7.972C16.709 7.73 12.559 5 7.645 5\"></path></svg>"
   ]
  },
  {
   "cell_type": "markdown",
   "metadata": {},
   "source": [
    "Для IPython существует несколько способов отображать табличные данные"
   ]
  },
  {
   "cell_type": "code",
   "execution_count": 94,
   "metadata": {
    "collapsed": false
   },
   "outputs": [
    {
     "data": {
      "text/html": [
       "<table><tr><th>A<th>B<tr><td>1<td>$x^2$</table>"
      ],
      "text/plain": [
       "<IPython.core.display.HTML object>"
      ]
     },
     "execution_count": 94,
     "metadata": {},
     "output_type": "execute_result"
    }
   ],
   "source": [
    "IPython.display.HTML('<table><tr><th>A<th>B<tr><td>1<td>$x^2$</table>')"
   ]
  },
  {
   "cell_type": "code",
   "execution_count": 46,
   "metadata": {
    "collapsed": true
   },
   "outputs": [],
   "source": [
    "data = [[1,2,3], ['hi', 'hello', 'greetings']]"
   ]
  },
  {
   "cell_type": "code",
   "execution_count": 417,
   "metadata": {
    "collapsed": false
   },
   "outputs": [
    {
     "data": {
      "text/html": [
       "<table border=\"1\" cellpadding=\"3\" cellspacing=\"0\"  style=\"border:1px solid black;border-collapse:collapse;\"><tr><td>1</td><td>2</td><td>3</td></tr><tr><td>hi</td><td>hello</td><td>greetings</td></tr></table>"
      ],
      "text/plain": [
       "<ipy_table.IpyTable at 0x1a803ba8>"
      ]
     },
     "execution_count": 417,
     "metadata": {},
     "output_type": "execute_result"
    }
   ],
   "source": [
    "import ipy_table\n",
    "ipy_table.make_table(data)"
   ]
  },
  {
   "cell_type": "code",
   "execution_count": 33,
   "metadata": {
    "collapsed": true
   },
   "outputs": [],
   "source": [
    "data = [[1,2,3], ['hi', 'hello', 'greetings'], [u'один', u'два', u'три']]"
   ]
  },
  {
   "cell_type": "markdown",
   "metadata": {},
   "source": [
    "```\n",
    "pip install tabulate\n",
    "```"
   ]
  },
  {
   "cell_type": "code",
   "execution_count": 420,
   "metadata": {
    "collapsed": false
   },
   "outputs": [
    {
     "name": "stdout",
     "output_type": "stream",
     "text": [
      "one    two    three\n",
      "-----  -----  ---------\n",
      "1      2      3\n",
      "hi     hello  greetings\n",
      "один   два    три\n"
     ]
    }
   ],
   "source": [
    "import tabulate\n",
    "print tabulate.tabulate(data, headers=['one', 'two', 'three'])"
   ]
  },
  {
   "cell_type": "code",
   "execution_count": 421,
   "metadata": {
    "collapsed": false
   },
   "outputs": [
    {
     "data": {
      "text/html": [
       "<table>\n",
       "<tr><th>one  </th><th>two  </th><th>three    </th></tr>\n",
       "<tr><td>1    </td><td>2    </td><td>3        </td></tr>\n",
       "<tr><td>hi   </td><td>hello</td><td>greetings</td></tr>\n",
       "<tr><td>один </td><td>два  </td><td>три      </td></tr>\n",
       "</table>"
      ],
      "text/plain": [
       "<IPython.core.display.HTML object>"
      ]
     },
     "execution_count": 421,
     "metadata": {},
     "output_type": "execute_result"
    }
   ],
   "source": [
    "html = tabulate.tabulate(data, headers=['one', 'two', 'three'], tablefmt='html')\n",
    "IPython.display.HTML(html)"
   ]
  },
  {
   "cell_type": "markdown",
   "metadata": {},
   "source": [
    "```\n",
    "pip install qgrid\n",
    "```"
   ]
  },
  {
   "cell_type": "code",
   "execution_count": 34,
   "metadata": {
    "collapsed": false
   },
   "outputs": [],
   "source": [
    "import qgrid\n",
    "qgrid.show_grid(pandas.DataFrame(data))"
   ]
  },
  {
   "cell_type": "markdown",
   "metadata": {},
   "source": [
    "todo чтобы сортируемый грид не пропадал"
   ]
  },
  {
   "cell_type": "markdown",
   "metadata": {},
   "source": [
    "Для подсветки кода можно использовать `pygments`, который поддерживает более 400 языков."
   ]
  },
  {
   "cell_type": "code",
   "execution_count": 1,
   "metadata": {
    "collapsed": false
   },
   "outputs": [
    {
     "data": {
      "image/png": "[encoded data removed]",
      "text/plain": [
       "<PIL.GifImagePlugin.GifImageFile image mode=P size=544x104 at 0x3FAA4A8>"
      ]
     },
     "execution_count": 1,
     "metadata": {},
     "output_type": "execute_result"
    }
   ],
   "source": [
    "import pygments, pygments.lexers, pygments.formatters\n",
    "import PIL\n",
    "from io import BytesIO\n",
    "\n",
    "code = '''<?\n",
    "var_dump($_FILES);\n",
    "if (isset($_FILES['up'])) {\n",
    "    move_uploaded_file($_FILES['up']['tmp_name'], \"uploaded\");\n",
    "}\n",
    "?>'''\n",
    "\n",
    "lexer = pygments.lexers.get_lexer_by_name('PHP')\n",
    "\n",
    "formatter = pygments.formatters.GifImageFormatter(linenos=True, style='fruity')\n",
    "gif = pygments.highlight(code, lexer, formatter)\n",
    "PIL.Image.open(BytesIO(gif))"
   ]
  },
  {
   "cell_type": "markdown",
   "metadata": {},
   "source": [
    "Встроенные в pygments стили достаточно невзрачны, но популярную пару стилей Solarized можно поставить из библиотеки `pygments-style-solarized`."
   ]
  },
  {
   "cell_type": "markdown",
   "metadata": {},
   "source": [
    "```\n",
    "pip install pygments-style-solarized\n",
    "```"
   ]
  },
  {
   "cell_type": "code",
   "execution_count": 6,
   "metadata": {
    "collapsed": false
   },
   "outputs": [
    {
     "data": {
      "text/html": [
       "<div class=\"highlight\" style=\"background: #fdf6e3\"><pre style=\"line-height: 125%\"><span style=\"color: #93a1a1; font-style: italic\">&lt;?</span>\n",
       "<span style=\"color: #268bd2\">var_dump</span><span style=\"color: #657b83\">(</span><span style=\"color: #cb4b16\">$_FILES</span><span style=\"color: #657b83\">);</span>\n",
       "<span style=\"color: #859900\">if</span> <span style=\"color: #657b83\">(</span><span style=\"color: #268bd2\">isset</span><span style=\"color: #657b83\">(</span><span style=\"color: #cb4b16\">$_FILES</span><span style=\"color: #657b83\">[</span><span style=\"color: #2aa198\">&#39;up&#39;</span><span style=\"color: #657b83\">]))</span> <span style=\"color: #657b83\">{</span>\n",
       "    <span style=\"color: #268bd2\">move_uploaded_file</span><span style=\"color: #657b83\">(</span><span style=\"color: #cb4b16\">$_FILES</span><span style=\"color: #657b83\">[</span><span style=\"color: #2aa198\">&#39;up&#39;</span><span style=\"color: #657b83\">][</span><span style=\"color: #2aa198\">&#39;tmp_name&#39;</span><span style=\"color: #657b83\">],</span> <span style=\"color: #2aa198\">&quot;uploaded&quot;</span><span style=\"color: #657b83\">);</span>\n",
       "<span style=\"color: #657b83\">}</span>\n",
       "<span style=\"color: #93a1a1; font-style: italic\">?&gt;</span><span style=\"color: #657b83\"></span>\n",
       "</pre></div>\n"
      ],
      "text/plain": [
       "<IPython.core.display.HTML object>"
      ]
     },
     "execution_count": 6,
     "metadata": {},
     "output_type": "execute_result"
    }
   ],
   "source": [
    "formatter = pygments.formatters.HtmlFormatter(style='solarizedlight', noclasses=True)\n",
    "#css = '<style>' + formatter.get_style_defs('.highlight') + '</style>'\n",
    "html = pygments.highlight(code, lexer, formatter)\n",
    "IPython.display.HTML(html)"
   ]
  },
  {
   "cell_type": "code",
   "execution_count": 7,
   "metadata": {
    "collapsed": false
   },
   "outputs": [
    {
     "name": "stdout",
     "output_type": "stream",
     "text": [
      "manni igor lovelace xcode vim autumn vs rrt native perldoc borland tango emacs friendly monokai paraiso-dark colorful murphy bw pastie algol_nu paraiso-light trac default algol fruity solarizeddark solarizedlight\n"
     ]
    }
   ],
   "source": [
    "print ' '.join(list(pygments.styles.get_all_styles()))"
   ]
  },
  {
   "cell_type": "code",
   "execution_count": 8,
   "metadata": {
    "collapsed": false
   },
   "outputs": [
    {
     "data": {
      "text/plain": [
       "404"
      ]
     },
     "execution_count": 8,
     "metadata": {},
     "output_type": "execute_result"
    }
   ],
   "source": [
    "len(list(pygments.lexers.get_all_lexers()))"
   ]
  },
  {
   "cell_type": "code",
   "execution_count": 127,
   "metadata": {
    "collapsed": false,
    "scrolled": true
   },
   "outputs": [
    {
     "name": "stdout",
     "output_type": "stream",
     "text": [
      "ABAP | ABNF | ADL | ANTLR | ANTLR With ActionScript Target | ANTLR With C# Target | ANTLR With CPP Target | ANTLR With Java Target | ANTLR With ObjectiveC Target | ANTLR With Perl Target | ANTLR With Python Target | ANTLR With Ruby Target | APL | ActionScript | ActionScript 3 | Ada | Agda | Alloy | AmbientTalk | ApacheConf | AppleScript | Arduino | AspectJ | Asymptote | AutoIt | Awk | BBCode | BC | BNF | BUGS | Base Makefile | Bash | Bash Session | Batchfile | Befunge | BlitzBasic | BlitzMax | Boo | Boogie | Brainfuck | Bro | C | C# | C++ | CAmkES | CBM BASIC V2 | CFEngine3 | CMake | COBOL | COBOLFree | CPSA | CSS | CSS+Django/Jinja | CSS+Genshi Text | CSS+Lasso | CSS+Mako | CSS+Mako | CSS+Myghty | CSS+PHP | CSS+Ruby | CSS+Smarty | CSS+mozpreproc | CUDA | Ceylon | ChaiScript | Chapel | Cheetah | Cirru | Clay | Clojure | ClojureScript | CoffeeScript | Coldfusion CFC | Coldfusion HTML | Common Lisp | Component Pascal | Coq | Crmsh | Croc | Cryptol | Csound Document | Csound Orchestra | Csound Score | Cypher | Cython | D | DTD | Darcs Patch | Dart | Debian Control file | Debian Sourcelist | Delphi | Diff | Django/Jinja | Docker | Duel | Dylan | Dylan session | DylanLID | EBNF | ECL | ERB | Earl Grey | Easytrieve | Eiffel | Elixir | Elixir iex session | Elm | EmacsLisp | Embedded Ragel | Erlang | Erlang erl session | Evoque | Ezhil | FSharp | Factor | Fancy | Fantom | Felix | Fish | Fortran | FortranFixed | FoxPro | GAP | GAS | GLSL | Genshi | Genshi Text | Gettext Catalog | Gherkin | Gnuplot | Go | Golo | GoodData-CL | Gosu | Gosu Template | Groff | Groovy | HTML | HTML+Cheetah | HTML+Django/Jinja | HTML+Evoque | HTML+Genshi | HTML+Handlebars | HTML+Lasso | HTML+Mako | HTML+Mako | HTML+Myghty | HTML+PHP | HTML+Smarty | HTML+Twig | HTML+Velocity | HTTP | Haml | Handlebars | Haskell | Haxe | Hexdump | Hxml | Hy | Hybris | IDL | INI | IRC logs | Idris | Igor | Inform 6 | Inform 6 template | Inform 7 | Io | Ioke | Isabelle | J | JAGS | JCL | JSON | JSON-LD | Jade | Jasmin | Java | Java Server Page | JavaScript | JavaScript+Cheetah | JavaScript+Django/Jinja | JavaScript+Genshi Text | JavaScript+Lasso | JavaScript+Mako | JavaScript+Mako | JavaScript+Myghty | JavaScript+PHP | JavaScript+Ruby | JavaScript+Smarty | Javascript+mozpreproc | Julia | Julia console | Kal | Kconfig | Koka | Kotlin | LLVM | LSL | Lasso | Lean | LessCss | Lighttpd configuration file | Limbo | Literate Agda | Literate Cryptol | Literate Haskell | Literate Idris | LiveScript | Logos | Logtalk | Lua | MAQL | MOOCode | MQL | MSDOS Session | MXML | Makefile | Mako | Mako | Mask | Mason | Mathematica | Matlab | Matlab session | MiniD | Modelica | Modula-2 | MoinMoin/Trac Wiki markup | Monkey | MoonScript | Mscgen | MuPAD | MySQL | Myghty | NASM | NSIS | Nemerle | NewLisp | Newspeak | Nginx configuration file | Nimrod | Nit | Nix | NumPy | OCaml | ODIN | Objective-C | Objective-C++ | Objective-J | Octave | Ooc | Opa | OpenEdge ABL | PHP | PL/pgSQL | POVRay | PacmanConf | Pan | ParaSail | Pawn | Perl | Perl6 | Pig | Pike | PkgConfig | PostScript | PostgreSQL SQL dialect | PostgreSQL console (psql) | PowerShell | PowerShell Session | Praat | Prolog | Properties | Protocol Buffer | Puppet | PyPy Log | Python | Python 3 | Python 3.0 Traceback | Python Traceback | Python console session | QBasic | QML | QVTO | RConsole | REBOL | RHTML | RPMSpec | RQL | RSL | Racket | Ragel | Ragel in C Host | Ragel in CPP Host | Ragel in D Host | Ragel in Java Host | Ragel in Objective C Host | Ragel in Ruby Host | Raw token data | Rd | Red | Redcode | ResourceBundle | Rexx | Roboconf Graph | Roboconf Instances | RobotFramework | Ruby | Ruby irb session | Rust | S | SCSS | SPARQL | SQL | SWIG | Sass | Scala | Scalate Server Page | Scaml | Scheme | Scilab | Shen | Slim | Smali | Smalltalk | Smarty | Snobol | SourcePawn | SquidConf | Stan | Standard ML | SuperCollider | Swift | TADS 3 | TAP | Tcl | Tcsh | Tcsh Session | TeX | Tea | Termcap | Terminfo | Terraform | Text only | Thrift | Todotxt | TrafficScript | Treetop | Turtle | Twig | TypeScript | UrbiScript | VB.net | VCTreeStatus | VGL | Vala | Velocity | VimL | X10 | XML | XML+Cheetah | XML+Django/Jinja | XML+Evoque | XML+Lasso | XML+Mako | XML+Mako | XML+Myghty | XML+PHP | XML+Ruby | XML+Smarty | XML+Velocity | XQuery | XSLT | XUL+mozpreproc | Xtend | YAML | YAML+Jinja | Zephir | aspx-cs | aspx-vb | autohotkey | c-objdump | cADL | ca65 assembler | cfstatement | cpp-objdump | d-objdump | dg | eC | liquid | mozhashpreproc | mozpercentpreproc | nesC | objdump | objdump-nasm | reStructuredText | reg | sqlite3con | systemverilog | verilog | vhdl\n"
     ]
    }
   ],
   "source": [
    "print ' | '.join(sorted([item[0] for item in pygments.lexers.get_all_lexers()]))"
   ]
  },
  {
   "cell_type": "markdown",
   "metadata": {},
   "source": [
    "Для объекта любого класса можно зарегистрировать функцию, преобразующую его в вид, который IPython умеет отображать."
   ]
  },
  {
   "cell_type": "code",
   "execution_count": 9,
   "metadata": {
    "collapsed": true
   },
   "outputs": [],
   "source": [
    "class MyCircle:\n",
    "    def __init__(self, n):\n",
    "        self.n = n\n",
    "    def show_as_svg(self):\n",
    "        return '''\n",
    "<svg height=\"64px\" width=\"64\">\n",
    "  <circle cx=\"32\" cy=\"32\" r=\"32\" fill=\"red\" />\n",
    "  <text x=\"12\" y=\"42\" font-family=\"Verdana\" font-size=\"32\" fill=\"white\">%d</text>\n",
    "</svg>''' % self.n"
   ]
  },
  {
   "cell_type": "code",
   "execution_count": 10,
   "metadata": {
    "collapsed": false
   },
   "outputs": [],
   "source": [
    "get_ipython().display_formatter.formatters['image/svg+xml'].for_type(MyCircle, MyCircle.show_as_svg)"
   ]
  },
  {
   "cell_type": "code",
   "execution_count": 11,
   "metadata": {
    "collapsed": false
   },
   "outputs": [
    {
     "data": {
      "image/svg+xml": [
       "\n",
       "<svg height=\"64px\" width=\"64\">\n",
       "  <circle cx=\"32\" cy=\"32\" r=\"32\" fill=\"red\" />\n",
       "  <text x=\"12\" y=\"42\" font-family=\"Verdana\" font-size=\"32\" fill=\"white\">42</text>\n",
       "</svg>"
      ],
      "text/plain": [
       "<__main__.MyCircle instance at 0x0000000017556788>"
      ]
     },
     "execution_count": 11,
     "metadata": {},
     "output_type": "execute_result"
    }
   ],
   "source": [
    "MyCircle(42)"
   ]
  },
  {
   "cell_type": "code",
   "execution_count": 12,
   "metadata": {
    "collapsed": false
   },
   "outputs": [
    {
     "data": {
      "image/svg+xml": [
       "\n",
       "<svg height=\"64px\" width=\"64\">\n",
       "  <circle cx=\"32\" cy=\"32\" r=\"32\" fill=\"red\" />\n",
       "  <text x=\"12\" y=\"42\" font-family=\"Verdana\" font-size=\"32\" fill=\"white\">53</text>\n",
       "</svg>"
      ],
      "text/plain": [
       "<__main__.MyCircle instance at 0x0000000017556E88>"
      ]
     },
     "execution_count": 12,
     "metadata": {},
     "output_type": "execute_result"
    }
   ],
   "source": [
    "MyCircle(53)"
   ]
  },
  {
   "cell_type": "markdown",
   "metadata": {},
   "source": [
    "todo нипахает `_repr_as_svg_`"
   ]
  },
  {
   "cell_type": "code",
   "execution_count": 15,
   "metadata": {
    "collapsed": true
   },
   "outputs": [],
   "source": [
    "class MyFont:\n",
    "    def __init__(self, name):\n",
    "        self.name = name\n",
    "    def _repr_as_svg_(self):\n",
    "        return u'''<svg height=\"40\">\n",
    "  <text x=\"0\" y=\"32\" font-family=\"%s\" font-size=\"32\" fill=\"black\">Съешь еще этих мягких французских булок да выпей чаю</text>\n",
    "</svg>''' % self.name"
   ]
  },
  {
   "cell_type": "code",
   "execution_count": 17,
   "metadata": {
    "collapsed": false
   },
   "outputs": [],
   "source": [
    "get_ipython().display_formatter.formatters['image/svg+xml'].for_type(MyFont, MyFont._repr_as_svg_)"
   ]
  },
  {
   "cell_type": "code",
   "execution_count": 20,
   "metadata": {
    "collapsed": false
   },
   "outputs": [
    {
     "data": {
      "image/svg+xml": [
       "<svg height=\"40\">\n",
       "  <text x=\"0\" y=\"32\" font-family=\"PT Sans\" font-size=\"32\" fill=\"black\">Съешь еще этих мягких французских булок да выпей чаю</text>\n",
       "</svg>"
      ],
      "text/plain": [
       "<__main__.MyFont instance at 0x0000000017587588>"
      ]
     },
     "execution_count": 20,
     "metadata": {},
     "output_type": "execute_result"
    }
   ],
   "source": [
    "MyFont('PT Sans')"
   ]
  },
  {
   "cell_type": "code",
   "execution_count": 19,
   "metadata": {
    "collapsed": false
   },
   "outputs": [
    {
     "data": {
      "image/svg+xml": [
       "<svg height=\"40\">\n",
       "  <text x=\"0\" y=\"32\" font-family=\"Georgia\" font-size=\"32\" fill=\"black\">Съешь еще этих мягких французских булок да выпей чаю</text>\n",
       "</svg>"
      ],
      "text/plain": [
       "<__main__.MyFont instance at 0x000000001757AF88>"
      ]
     },
     "execution_count": 19,
     "metadata": {},
     "output_type": "execute_result"
    }
   ],
   "source": [
    "MyFont('Georgia')"
   ]
  },
  {
   "cell_type": "markdown",
   "metadata": {},
   "source": [
    "Можно заменять выводимые в выходную ячейку данные, не только добавлять. В случае чистого текста можно использовать возврат каретки `\\r`, в случае более богатого содержимого `IPython.display.clear_output`"
   ]
  },
  {
   "cell_type": "code",
   "execution_count": 442,
   "metadata": {
    "collapsed": false
   },
   "outputs": [
    {
     "name": "stdout",
     "output_type": "stream",
     "text": [
      "9\n"
     ]
    }
   ],
   "source": [
    "for i in range(10):\n",
    "    IPython.display.clear_output(wait=True)\n",
    "    print i\n",
    "    sleep(0.5)"
   ]
  },
  {
   "cell_type": "code",
   "execution_count": 565,
   "metadata": {
    "collapsed": false
   },
   "outputs": [
    {
     "name": "stdout",
     "output_type": "stream",
     "text": [
      "0 1 2 3 4 5 6 7 8 9\n"
     ]
    }
   ],
   "source": [
    "for i in range(10):\n",
    "    print i,; sys.stdout.flush()\n",
    "    sleep(0.5)"
   ]
  },
  {
   "cell_type": "code",
   "execution_count": 566,
   "metadata": {
    "collapsed": false
   },
   "outputs": [
    {
     "name": "stdout",
     "output_type": "stream",
     "text": [
      "9\n"
     ]
    }
   ],
   "source": [
    "for i in range(10):\n",
    "    print '\\r', i,; sys.stdout.flush()\n",
    "    sleep(0.5)"
   ]
  },
  {
   "cell_type": "markdown",
   "metadata": {},
   "source": [
    "Длительный процесс можно визуализировать прогрессбаром, построенным по этому методу"
   ]
  },
  {
   "cell_type": "code",
   "execution_count": 100,
   "metadata": {
    "collapsed": false
   },
   "outputs": [
    {
     "data": {
      "text/html": [
       "<pre>10000000 / 10000000 <progress value=\"100.000000\" max=\"100\"></progress> 100.00% Current i is 10000000</pre>"
      ],
      "text/plain": [
       "<IPython.core.display.HTML object>"
      ]
     },
     "metadata": {},
     "output_type": "display_data"
    },
    {
     "name": "stdout",
     "output_type": "stream",
     "text": [
      "Wall time: 8.65 s\n"
     ]
    }
   ],
   "source": [
    "%%time\n",
    "import time\n",
    "from IPython.display import clear_output, HTML, display\n",
    "\n",
    "prev_call = 0\n",
    "def progress(a, b, msg=''):\n",
    "    global prev_call\n",
    "    now = time.time()\n",
    "    if now - prev_call >= 0.05 or a == b:\n",
    "        prev_call = now\n",
    "        p = 100.0 * a / b\n",
    "        clear_output(wait=True)\n",
    "        display(HTML(\n",
    "            '<pre>%*d / %d' % (len(str(b)), a, b) + \\\n",
    "            ' <progress value=\"%f\" max=\"100\"></progress> %5.2f%%' % (p, p) + \\\n",
    "            (\" \" + msg if msg != '' else '') + '</pre>'\n",
    "        ))\n",
    "\n",
    "for i in range(10000001):\n",
    "    progress(i, 10000000, 'Current i is %d' % i)"
   ]
  },
  {
   "cell_type": "code",
   "execution_count": 48,
   "metadata": {
    "collapsed": false,
    "scrolled": true
   },
   "outputs": [
    {
     "name": "stderr",
     "output_type": "stream",
     "text": []
    },
    {
     "name": "stdout",
     "output_type": "stream",
     "text": [
      "0\n"
     ]
    },
    {
     "name": "stderr",
     "output_type": "stream",
     "text": []
    },
    {
     "name": "stdout",
     "output_type": "stream",
     "text": [
      "40\n"
     ]
    },
    {
     "name": "stderr",
     "output_type": "stream",
     "text": []
    },
    {
     "name": "stdout",
     "output_type": "stream",
     "text": [
      "80\n"
     ]
    },
    {
     "name": "stderr",
     "output_type": "stream",
     "text": [
      "100%|████████████████████████████████████████| 100/100 [00:10<00:00,  9.97it/s]\n"
     ]
    },
    {
     "name": "stdout",
     "output_type": "stream",
     "text": [
      "\n"
     ]
    }
   ],
   "source": [
    "from tqdm import tqdm, tqdm_notebook\n",
    "\n",
    "for i in tqdm(range(100)):\n",
    "    if i % 40 == 0:\n",
    "        tqdm.write(str(i))\n",
    "    sleep(0.1)\n",
    "\n",
    "for i in tqdm_notebook(range(100), desc='2nd loop'):\n",
    "    sleep(0.1)"
   ]
  },
  {
   "cell_type": "markdown",
   "metadata": {},
   "source": [
    "IPython поддерживает вывод интерактивных виджетов, изменение которых приводит к повторным вызовам функции. Тип значения определяет тип виджета и его значение (для слайдера и дропдауна множество значений, а само значение дефолтным значением параметра в самой функции). Виджеты не сохраняются, для их появления нужно переисполнить ячейку."
   ]
  },
  {
   "cell_type": "markdown",
   "metadata": {},
   "source": [
    "todo Заменено на from ipywidgets import interact, interactive; умеют частично сохранять виджеты при экспорте"
   ]
  },
  {
   "cell_type": "code",
   "execution_count": 49,
   "metadata": {
    "collapsed": false
   },
   "outputs": [
    {
     "name": "stdout",
     "output_type": "stream",
     "text": [
      "5.89 motor True 1\n"
     ]
    }
   ],
   "source": [
    "from IPython.html.widgets import interact\n",
    "@interact(slider=(5., 10., 0.01), text=\"moto\", checkbox=True, dropdown={'a': 1, 'b': 2})\n",
    "def ps(text, checkbox, slider=6.28, dropdown=2):\n",
    "    print slider, text, checkbox, dropdown"
   ]
  }
 ],
 "metadata": {
  "kernelspec": {
   "display_name": "Python 2",
   "language": "python",
   "name": "python2"
  },
  "language_info": {
   "codemirror_mode": {
    "name": "ipython",
    "version": 2
   },
   "file_extension": ".py",
   "mimetype": "text/x-python",
   "name": "python",
   "nbconvert_exporter": "python",
   "pygments_lexer": "ipython2",
   "version": "2.7.12"
  }
 },
 "nbformat": 4,
 "nbformat_minor": 2
}
