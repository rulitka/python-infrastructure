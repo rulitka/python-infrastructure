{
 "cells": [
  {
   "cell_type": "markdown",
   "metadata": {},
   "source": [
    "# Инфраструктура Python. CAS"
   ]
  },
  {
   "cell_type": "markdown",
   "metadata": {},
   "source": [
    "Символьная (и точная) математика в Python делается через библиотеку `sympy` (входит в Anaconda). Она несколько уступает CAS с многолетней историей вроде Maple или Mathematica, зато тесно интегрирована с Python http://docs.sympy.org/latest/index.html\n",
    "\n",
    "Попробовать `sympy` можно онлайн http://gamma.sympy.org/"
   ]
  },
  {
   "cell_type": "code",
   "execution_count": 1,
   "metadata": {
    "collapsed": false
   },
   "outputs": [
    {
     "name": "stdout",
     "output_type": "stream",
     "text": [
      "Populating the interactive namespace from numpy and matplotlib\n"
     ]
    }
   ],
   "source": [
    "import networkx, PIL\n",
    "from io import BytesIO\n",
    "import itertools\n",
    "import os\n",
    "\n",
    "%pylab inline"
   ]
  },
  {
   "cell_type": "code",
   "execution_count": 2,
   "metadata": {
    "collapsed": true
   },
   "outputs": [],
   "source": [
    "import sympy\n",
    "from sympy import *\n",
    "from sympy.solvers.diophantine import diophantine\n",
    "from sympy.ntheory.factor_ import digits\n",
    "\n",
    "from sympy.abc import h, k, n, t, x, y, z"
   ]
  },
  {
   "cell_type": "code",
   "execution_count": 3,
   "metadata": {
    "collapsed": false
   },
   "outputs": [
    {
     "data": {
      "text/plain": [
       "'1.1.1'"
      ]
     },
     "execution_count": 3,
     "metadata": {},
     "output_type": "execute_result"
    }
   ],
   "source": [
    "sympy.__version__"
   ]
  },
  {
   "cell_type": "markdown",
   "metadata": {},
   "source": [
    "## Символьные вычисления"
   ]
  },
  {
   "cell_type": "markdown",
   "metadata": {},
   "source": [
    "Библиотека `sympy` предназначена для символьных вычислений. Она представляет математические выражения (переопределяя сотни имен `numpy`) в виде деревьев, над которыми может проводить различные операции, например, интегрирование."
   ]
  },
  {
   "cell_type": "code",
   "execution_count": 4,
   "metadata": {
    "collapsed": false
   },
   "outputs": [
    {
     "data": {
      "text/plain": [
       "x - log(tanh(x) + 1)"
      ]
     },
     "execution_count": 4,
     "metadata": {},
     "output_type": "execute_result"
    }
   ],
   "source": [
    "expr = integrate(tanh(x), x)\n",
    "expr"
   ]
  },
  {
   "cell_type": "code",
   "execution_count": 5,
   "metadata": {
    "collapsed": false
   },
   "outputs": [
    {
     "name": "stdout",
     "output_type": "stream",
     "text": [
      "x - log(tanh(x) + 1)\n",
      "Add(Symbol('x'), Mul(Integer(-1), log(Add(tanh(Symbol('x')), Integer(1)))))\n"
     ]
    }
   ],
   "source": [
    "print expr\n",
    "print srepr(expr)"
   ]
  },
  {
   "cell_type": "code",
   "execution_count": 6,
   "metadata": {
    "collapsed": false
   },
   "outputs": [
    {
     "name": "stdout",
     "output_type": "stream",
     "text": [
      "Add: x - log(tanh(x) + 1)\n",
      "commutative: True\n",
      "+-Symbol: x\n",
      "| commutative: True\n",
      "+-Mul: -log(tanh(x) + 1)\n",
      "  commutative: True\n",
      "  +-NegativeOne: -1\n",
      "  | algebraic: True\n",
      "  | commutative: True\n",
      "  | complex: True\n",
      "  | composite: False\n",
      "  | even: False\n",
      "  | finite: True\n",
      "  | hermitian: True\n",
      "  | imaginary: False\n",
      "  | infinite: False\n",
      "  | integer: True\n",
      "  | irrational: False\n",
      "  | negative: True\n",
      "  | noninteger: False\n",
      "  | nonnegative: False\n",
      "  | nonpositive: True\n",
      "  | nonzero: True\n",
      "  | odd: True\n",
      "  | positive: False\n",
      "  | prime: False\n",
      "  | rational: True\n",
      "  | real: True\n",
      "  | transcendental: False\n",
      "  | zero: False\n",
      "  +-log: log(tanh(x) + 1)\n",
      "    commutative: True\n",
      "    +-Add: tanh(x) + 1\n",
      "      commutative: True\n",
      "      +-One: 1\n",
      "      | algebraic: True\n",
      "      | commutative: True\n",
      "      | complex: True\n",
      "      | even: False\n",
      "      | finite: True\n",
      "      | hermitian: True\n",
      "      | imaginary: False\n",
      "      | infinite: False\n",
      "      | integer: True\n",
      "      | irrational: False\n",
      "      | negative: False\n",
      "      | noninteger: False\n",
      "      | nonnegative: True\n",
      "      | nonpositive: False\n",
      "      | nonzero: True\n",
      "      | odd: True\n",
      "      | positive: True\n",
      "      | rational: True\n",
      "      | real: True\n",
      "      | transcendental: False\n",
      "      | zero: False\n",
      "      +-tanh: tanh(x)\n",
      "        commutative: True\n",
      "        +-Symbol: x\n",
      "          commutative: True\n",
      "\n"
     ]
    }
   ],
   "source": [
    "sympy.printing.tree.print_tree(expr)"
   ]
  },
  {
   "cell_type": "code",
   "execution_count": 7,
   "metadata": {
    "collapsed": false,
    "scrolled": false
   },
   "outputs": [
    {
     "name": "stdout",
     "output_type": "stream",
     "text": [
      "x - log(tanh(x) + 1)\n",
      "\n",
      "Mul(NegativeOne(), log(Add(One(), tanh(Symbol(x)))))_(1,)\r\n",
      "Symbol(x)_(1, 1, 0, 1, 0)\r\n",
      "NegativeOne()_(1, 0)\r\n",
      "Add(Symbol(x), Mul(NegativeOne(), log(Add(One(), tanh(Symbol(x))))))_()\r\n",
      "log(Add(One(), tanh(Symbol(x))))_(1, 1)\r\n",
      "tanh(Symbol(x))_(1, 1, 0, 1)\r\n",
      "Symbol(x)_(0,)\r\n",
      "One()_(1, 1, 0, 0)\r\n",
      "Add(One(), tanh(Symbol(x)))_(1, 1, 0)\n"
     ]
    },
    {
     "data": {
      "image/png": "[encoded data removed]",
      "text/plain": [
       "<PIL.PngImagePlugin.PngImageFile image mode=RGBA size=553x539 at 0x19F706A0>"
      ]
     },
     "execution_count": 7,
     "metadata": {},
     "output_type": "execute_result"
    }
   ],
   "source": [
    "import sympy.printing.dot\n",
    "dotstr = sympy.printing.dot.dotprint(expr)\n",
    "graph = networkx.nx_pydot.read_dot(BytesIO(dotstr))\n",
    "\n",
    "print expr\n",
    "print\n",
    "print '\\r\\n'.join(list(graph.nodes))\n",
    "\n",
    "A = networkx.nx_agraph.to_agraph(graph)\n",
    "for node in A.nodes():\n",
    "    if not node.attr['fontname']:\n",
    "        node.attr['fontsize'] = 8\n",
    "        node.attr['fontname'] = 'Verdana'\n",
    "        node.attr['shape'] = 'none'\n",
    "        node.attr['style'] = 'filled'\n",
    "        node.attr['color'] = '#F0F0F0'\n",
    "\n",
    "io = BytesIO()\n",
    "A.draw(io, format='png', prog='dot')\n",
    "PIL.Image.open(io)"
   ]
  },
  {
   "cell_type": "markdown",
   "metadata": {},
   "source": [
    "Ввести собственные символы (или распарсить выражение) можно, используя `Symbol`, `var` (`symbols`), `S` (`sympify`)."
   ]
  },
  {
   "cell_type": "code",
   "execution_count": 8,
   "metadata": {
    "collapsed": false
   },
   "outputs": [
    {
     "data": {
      "text/plain": [
       "x**2"
      ]
     },
     "execution_count": 8,
     "metadata": {},
     "output_type": "execute_result"
    }
   ],
   "source": [
    "Symbol('x') ** 2"
   ]
  },
  {
   "cell_type": "code",
   "execution_count": 9,
   "metadata": {
    "collapsed": false
   },
   "outputs": [
    {
     "data": {
      "text/plain": [
       "a + b + c"
      ]
     },
     "execution_count": 9,
     "metadata": {},
     "output_type": "execute_result"
    }
   ],
   "source": [
    "sum(var('a b c'))"
   ]
  },
  {
   "cell_type": "code",
   "execution_count": 10,
   "metadata": {
    "collapsed": false
   },
   "outputs": [
    {
     "data": {
      "text/plain": [
       "[{x_1: -sqrt(-x_2**2 + 1)}, {x_1: sqrt(-x_2**2 + 1)}]"
      ]
     },
     "execution_count": 10,
     "metadata": {},
     "output_type": "execute_result"
    }
   ],
   "source": [
    "x1, x2 = symbols('x_1 x_2')\n",
    "solve(x1 ** 2 + x2 ** 2 - 1)"
   ]
  },
  {
   "cell_type": "code",
   "execution_count": 11,
   "metadata": {
    "collapsed": false
   },
   "outputs": [
    {
     "data": {
      "text/plain": [
       "[1, 1/2, 1/4, 1/8, 1/16]"
      ]
     },
     "execution_count": 11,
     "metadata": {},
     "output_type": "execute_result"
    }
   ],
   "source": [
    "[S('1/2') ** i for i in range(5)]"
   ]
  },
  {
   "cell_type": "code",
   "execution_count": 12,
   "metadata": {
    "collapsed": false
   },
   "outputs": [
    {
     "data": {
      "text/plain": [
       "[{x1: -sqrt(-x2**2 + 1)}, {x1: sqrt(-x2**2 + 1)}]"
      ]
     },
     "execution_count": 12,
     "metadata": {},
     "output_type": "execute_result"
    }
   ],
   "source": [
    "solve(S('x1 ** 2 + x2 ** 2 - 1'))"
   ]
  },
  {
   "cell_type": "markdown",
   "metadata": {},
   "source": [
    "## Отображение выражений"
   ]
  },
  {
   "cell_type": "markdown",
   "metadata": {},
   "source": [
    "Выражения `sympy` можно просматривать в различных формах, конвертировать в код на разных языках программирования, впрочем, не всегда успешно."
   ]
  },
  {
   "cell_type": "code",
   "execution_count": 13,
   "metadata": {
    "collapsed": false
   },
   "outputs": [
    {
     "name": "stdout",
     "output_type": "stream",
     "text": [
      "\\frac{1}{x} \\left(\\sin^{2}{\\left (\\alpha \\right )} + 2 \\cos{\\left (\\beta \\right )}\\right)\n",
      "(pow(sin(alpha), 2) + 2*cos(beta))/x\n",
      "(Math.pow(Math.sin(alpha), 2) + 2*Math.cos(beta))/x\n",
      "(Sin[alpha]^2 + 2*Cos[beta])/x\n"
     ]
    }
   ],
   "source": [
    "alpha, beta, x = var('alpha beta x')\n",
    "expr = (sin(alpha)**2 + 2*cos(beta)) / x\n",
    "print latex(expr)\n",
    "print ccode(expr)\n",
    "print jscode(expr)\n",
    "print mathematica_code(expr)"
   ]
  },
  {
   "cell_type": "code",
   "execution_count": 14,
   "metadata": {
    "collapsed": false
   },
   "outputs": [
    {
     "name": "stdout",
     "output_type": "stream",
     "text": [
      "\\sigma\\left(n\\right)\n",
      "\n",
      "// Not supported in C:\n",
      "// divisor_sigma\n",
      "divisor_sigma(n)\n",
      "\n",
      "// Not supported in Javascript:\n",
      "// divisor_sigma\n",
      "n = divisor_sigma(n);\n",
      "\n",
      "divisor_sigma[n]\n"
     ]
    }
   ],
   "source": [
    "print latex(divisor_sigma(n))\n",
    "print\n",
    "print ccode(divisor_sigma(n))\n",
    "print\n",
    "print jscode(divisor_sigma(n), n)\n",
    "print\n",
    "print mathematica_code(divisor_sigma(n)) # должно быть DivisorSigma[1,n]"
   ]
  },
  {
   "cell_type": "code",
   "execution_count": 15,
   "metadata": {
    "collapsed": false
   },
   "outputs": [
    {
     "name": "stdout",
     "output_type": "stream",
     "text": [
      "(sin(alpha)**2 + 2*cos(beta))/x\n"
     ]
    }
   ],
   "source": [
    "print expr"
   ]
  },
  {
   "cell_type": "code",
   "execution_count": 16,
   "metadata": {
    "collapsed": false
   },
   "outputs": [
    {
     "name": "stdout",
     "output_type": "stream",
     "text": [
      "   2              \n",
      "sin (α) + 2⋅cos(β)\n",
      "──────────────────\n",
      "        x         \n"
     ]
    }
   ],
   "source": [
    "pprint(expr)"
   ]
  },
  {
   "cell_type": "code",
   "execution_count": 17,
   "metadata": {
    "collapsed": false
   },
   "outputs": [
    {
     "data": {
      "text/latex": [
       "$\\frac{1}{x} \\left(\\sin^{2}{\\left (\\alpha \\right )} + 2 \\cos{\\left (\\beta \\right )}\\right)$"
      ],
      "text/plain": [
       "<IPython.core.display.Latex object>"
      ]
     },
     "metadata": {},
     "output_type": "display_data"
    }
   ],
   "source": [
    "import IPython\n",
    "display(IPython.display.Latex('$%s$' % latex(expr)))"
   ]
  },
  {
   "cell_type": "markdown",
   "metadata": {},
   "source": [
    "Оставить один из этих форматов вывода в качестве дефолтного в IPython можно одним из трех вызовов"
   ]
  },
  {
   "cell_type": "code",
   "execution_count": 18,
   "metadata": {
    "collapsed": false
   },
   "outputs": [
    {
     "data": {
      "text/plain": [
       "(sin(alpha)**2 + 2*cos(beta))/x"
      ]
     },
     "execution_count": 18,
     "metadata": {},
     "output_type": "execute_result"
    }
   ],
   "source": [
    "init_printing(use_latex=False, pretty_print=False)\n",
    "expr"
   ]
  },
  {
   "cell_type": "code",
   "execution_count": 19,
   "metadata": {
    "collapsed": false
   },
   "outputs": [
    {
     "data": {
      "text/plain": [
       "   2              \n",
       "sin (α) + 2⋅cos(β)\n",
       "──────────────────\n",
       "        x         "
      ]
     },
     "execution_count": 19,
     "metadata": {},
     "output_type": "execute_result"
    }
   ],
   "source": [
    "init_printing(use_latex=False, pretty_print=True)\n",
    "expr"
   ]
  },
  {
   "cell_type": "code",
   "execution_count": 20,
   "metadata": {
    "collapsed": false
   },
   "outputs": [
    {
     "data": {
      "text/latex": [
       "$$\\frac{1}{x} \\left(\\sin^{2}{\\left (\\alpha \\right )} + 2 \\cos{\\left (\\beta \\right )}\\right)$$"
      ],
      "text/plain": [
       "   2              \n",
       "sin (α) + 2⋅cos(β)\n",
       "──────────────────\n",
       "        x         "
      ]
     },
     "metadata": {},
     "output_type": "display_data"
    },
    {
     "data": {
      "text/latex": [
       "$$\\left [ 1, \\quad 2, \\quad 3\\right ]$$"
      ],
      "text/plain": [
       "[1, 2, 3]"
      ]
     },
     "metadata": {},
     "output_type": "display_data"
    }
   ],
   "source": [
    "init_printing(use_latex='mathjax')\n",
    "display(expr)\n",
    "display([1, 2, 3])"
   ]
  },
  {
   "cell_type": "markdown",
   "metadata": {},
   "source": [
    "Просматривать встроенные типы в виде $\\LaTeX$ может быть неудобно, так что стоит использовать"
   ]
  },
  {
   "cell_type": "code",
   "execution_count": 21,
   "metadata": {
    "collapsed": false
   },
   "outputs": [
    {
     "data": {
      "text/latex": [
       "$$\\frac{1}{x} \\left(\\sin^{2}{\\left (\\alpha \\right )} + 2 \\cos{\\left (\\beta \\right )}\\right)$$"
      ],
      "text/plain": [
       "   2              \n",
       "sin (α) + 2⋅cos(β)\n",
       "──────────────────\n",
       "        x         "
      ]
     },
     "metadata": {},
     "output_type": "display_data"
    },
    {
     "data": {
      "text/plain": [
       "[1, 2, 3]"
      ]
     },
     "metadata": {},
     "output_type": "display_data"
    }
   ],
   "source": [
    "init_printing(use_latex='mathjax', print_builtin=False)\n",
    "display(expr)\n",
    "display([1, 2, 3])"
   ]
  },
  {
   "cell_type": "markdown",
   "metadata": {},
   "source": [
    "## Стандартные операции над выражениями"
   ]
  },
  {
   "cell_type": "code",
   "execution_count": 22,
   "metadata": {
    "collapsed": false
   },
   "outputs": [
    {
     "name": "stdout",
     "output_type": "stream",
     "text": [
      "3.141592653589793238462643383279502884197169399375105820974944592307816406286208998628034825342117068\n",
      "3.141592653589793238462643383279502884197169399375105820974944592307816406286208998628034825342117068\n"
     ]
    }
   ],
   "source": [
    "print N(pi, 100)\n",
    "print pi.evalf(100)"
   ]
  },
  {
   "cell_type": "code",
   "execution_count": 23,
   "metadata": {
    "collapsed": false
   },
   "outputs": [
    {
     "name": "stdout",
     "output_type": "stream",
     "text": [
      "<class 'sympy.core.numbers.Float'>\n",
      "<type 'float'>\n"
     ]
    }
   ],
   "source": [
    "print type(N(pi))\n",
    "print type(float(pi))"
   ]
  },
  {
   "cell_type": "code",
   "execution_count": 24,
   "metadata": {
    "collapsed": false
   },
   "outputs": [
    {
     "name": "stdout",
     "output_type": "stream",
     "text": [
      "0.207879576350762\n"
     ]
    }
   ],
   "source": [
    "print N(I ** I)"
   ]
  },
  {
   "cell_type": "code",
   "execution_count": 25,
   "metadata": {
    "collapsed": false
   },
   "outputs": [
    {
     "data": {
      "text/latex": [
       "$$\\frac{x + 2}{x + 3}$$"
      ],
      "text/plain": [
       "x + 2\n",
       "─────\n",
       "x + 3"
      ]
     },
     "execution_count": 25,
     "metadata": {},
     "output_type": "execute_result"
    }
   ],
   "source": [
    "simplify((x**2 - 4)/((x+3)*(x-2)))"
   ]
  },
  {
   "cell_type": "code",
   "execution_count": 26,
   "metadata": {
    "collapsed": false
   },
   "outputs": [
    {
     "data": {
      "text/latex": [
       "$$\\left ( x + 3, \\quad 2\\right )$$"
      ],
      "text/plain": [
       "(x + 3, 2)"
      ]
     },
     "execution_count": 26,
     "metadata": {},
     "output_type": "execute_result"
    }
   ],
   "source": [
    "div(x**2 - 4 + x, x-2)"
   ]
  },
  {
   "cell_type": "code",
   "execution_count": 27,
   "metadata": {
    "collapsed": false
   },
   "outputs": [
    {
     "data": {
      "text/latex": [
       "$$\\frac{x^{2}}{12} \\left(2 x - 1\\right) \\left(3 x + 4\\right)$$"
      ],
      "text/plain": [
       " 2                    \n",
       "x ⋅(2⋅x - 1)⋅(3⋅x + 4)\n",
       "──────────────────────\n",
       "          12          "
      ]
     },
     "execution_count": 27,
     "metadata": {},
     "output_type": "execute_result"
    }
   ],
   "source": [
    "factor(x**4/2 + 5*x**3/12 - x**2/3)"
   ]
  },
  {
   "cell_type": "code",
   "execution_count": 28,
   "metadata": {
    "collapsed": false
   },
   "outputs": [
    {
     "data": {
      "text/latex": [
       "$$\\frac{2}{x + 2} - \\frac{1}{x + 1}$$"
      ],
      "text/plain": [
       "  2       1  \n",
       "───── - ─────\n",
       "x + 2   x + 1"
      ]
     },
     "execution_count": 28,
     "metadata": {},
     "output_type": "execute_result"
    }
   ],
   "source": [
    "apart(x/((x+2)*(x+1)), x)"
   ]
  },
  {
   "cell_type": "code",
   "execution_count": 29,
   "metadata": {
    "collapsed": false
   },
   "outputs": [
    {
     "data": {
      "text/latex": [
       "$$\\frac{2 x + 3}{\\left(x + 1\\right) \\left(x + 2\\right)}$$"
      ],
      "text/plain": [
       "    2⋅x + 3    \n",
       "───────────────\n",
       "(x + 1)⋅(x + 2)"
      ]
     },
     "execution_count": 29,
     "metadata": {},
     "output_type": "execute_result"
    }
   ],
   "source": [
    "together(1/(x+2) + 1/(x+1))"
   ]
  },
  {
   "cell_type": "code",
   "execution_count": 30,
   "metadata": {
    "collapsed": false
   },
   "outputs": [
    {
     "data": {
      "text/latex": [
       "$$a^{5} + 5 a^{4} \\sqrt{b} + 10 a^{3} b + 10 a^{2} b^{\\frac{3}{2}} + 5 a b^{2} + b^{\\frac{5}{2}}$$"
      ],
      "text/plain": [
       " 5      4          3         2  3/2        2    5/2\n",
       "a  + 5⋅a ⋅√b + 10⋅a ⋅b + 10⋅a ⋅b    + 5⋅a⋅b  + b   "
      ]
     },
     "execution_count": 30,
     "metadata": {},
     "output_type": "execute_result"
    }
   ],
   "source": [
    "S('(a+sqrt(b))**5').expand()"
   ]
  },
  {
   "cell_type": "code",
   "execution_count": 31,
   "metadata": {
    "collapsed": false
   },
   "outputs": [
    {
     "data": {
      "text/latex": [
       "$$x^{5} + 5 x^{4} y + 10 x^{3} y^{2} + 10 x^{2} y^{3} + 5 x y^{4} + y^{5}$$"
      ],
      "text/plain": [
       " 5      4         3  2       2  3        4    5\n",
       "x  + 5⋅x ⋅y + 10⋅x ⋅y  + 10⋅x ⋅y  + 5⋅x⋅y  + y "
      ]
     },
     "execution_count": 31,
     "metadata": {},
     "output_type": "execute_result"
    }
   ],
   "source": [
    "expand((x+y)**5)"
   ]
  },
  {
   "cell_type": "code",
   "execution_count": 32,
   "metadata": {
    "collapsed": false
   },
   "outputs": [
    {
     "data": {
      "text/latex": [
       "$$- 4 \\sin^{3}{\\left (x \\right )} + 3 \\sin{\\left (x \\right )}$$"
      ],
      "text/plain": [
       "       3              \n",
       "- 4⋅sin (x) + 3⋅sin(x)"
      ]
     },
     "execution_count": 32,
     "metadata": {},
     "output_type": "execute_result"
    }
   ],
   "source": [
    "expand_trig(sin(3*x))"
   ]
  },
  {
   "cell_type": "code",
   "execution_count": 33,
   "metadata": {
    "collapsed": false
   },
   "outputs": [
    {
     "data": {
      "text/latex": [
       "$$\\frac{2 \\tan{\\left (\\frac{3 x}{2} \\right )}}{\\tan^{2}{\\left (\\frac{3 x}{2} \\right )} + 1}$$"
      ],
      "text/plain": [
       "       ⎛3⋅x⎞ \n",
       "  2⋅tan⎜───⎟ \n",
       "       ⎝ 2 ⎠ \n",
       "─────────────\n",
       "   2⎛3⋅x⎞    \n",
       "tan ⎜───⎟ + 1\n",
       "    ⎝ 2 ⎠    "
      ]
     },
     "execution_count": 33,
     "metadata": {},
     "output_type": "execute_result"
    }
   ],
   "source": [
    "sin(3*x).rewrite(tan)"
   ]
  },
  {
   "cell_type": "code",
   "execution_count": 34,
   "metadata": {
    "collapsed": false
   },
   "outputs": [
    {
     "data": {
      "text/latex": [
       "$$\\left(x + 2\\right)^{5}$$"
      ],
      "text/plain": [
       "       5\n",
       "(x + 2) "
      ]
     },
     "execution_count": 34,
     "metadata": {},
     "output_type": "execute_result"
    }
   ],
   "source": [
    "((x+y)**5).subs(y, 2)"
   ]
  },
  {
   "cell_type": "code",
   "execution_count": 35,
   "metadata": {
    "collapsed": false
   },
   "outputs": [
    {
     "data": {
      "text/latex": [
       "$$y^{\\frac{5}{2}} + 10 y^{\\frac{3}{2}} + 5 \\sqrt{y} + 5 y^{2} + 10 y + 1$$"
      ],
      "text/plain": [
       " 5/2       3/2             2           \n",
       "y    + 10⋅y    + 5⋅√y + 5⋅y  + 10⋅y + 1"
      ]
     },
     "execution_count": 35,
     "metadata": {},
     "output_type": "execute_result"
    }
   ],
   "source": [
    "((x+y)**5).subs([(x, 1), (y, sqrt(y))]).expand()"
   ]
  },
  {
   "cell_type": "code",
   "execution_count": 36,
   "metadata": {
    "collapsed": false
   },
   "outputs": [
    {
     "name": "stdout",
     "output_type": "stream",
     "text": [
      "[1, 10, 45, 120, 210, 252, 210, 120, 45, 10, 1]\n",
      "[(10, 0), (9, 1), (8, 2), (7, 3), (6, 4), (5, 5), (4, 6), (3, 7), (2, 8), (1, 9), (0, 10)]\n"
     ]
    }
   ],
   "source": [
    "p = expand(Poly('x + y') ** 10)\n",
    "print p.coeffs()\n",
    "print p.monoms()"
   ]
  },
  {
   "cell_type": "markdown",
   "metadata": {},
   "source": [
    "Выражение можно превратить в функцию"
   ]
  },
  {
   "cell_type": "code",
   "execution_count": 37,
   "metadata": {
    "collapsed": false
   },
   "outputs": [
    {
     "name": "stdout",
     "output_type": "stream",
     "text": [
      "25\n",
      "t**3/3\n"
     ]
    }
   ],
   "source": [
    "f = Lambda(x, x ** 2)\n",
    "print f(5)\n",
    "print integrate(f(t), t)"
   ]
  },
  {
   "cell_type": "markdown",
   "metadata": {},
   "source": [
    "## solve"
   ]
  },
  {
   "cell_type": "markdown",
   "metadata": {},
   "source": [
    "Функция `solve` это причина, по которой CAS вообще нужны"
   ]
  },
  {
   "cell_type": "code",
   "execution_count": 38,
   "metadata": {
    "collapsed": false
   },
   "outputs": [
    {
     "name": "stdout",
     "output_type": "stream",
     "text": [
      "[2, 3]\n"
     ]
    }
   ],
   "source": [
    "print solve(x ** 2 - 5 * x + 6)"
   ]
  },
  {
   "cell_type": "code",
   "execution_count": 39,
   "metadata": {
    "collapsed": false
   },
   "outputs": [
    {
     "data": {
      "text/latex": [
       "$$\\left(-\\infty < x \\wedge x < 2\\right) \\vee \\left(3 < x \\wedge x < \\infty\\right)$$"
      ],
      "text/plain": [
       "(-∞ < x ∧ x < 2) ∨ (3 < x ∧ x < ∞)"
      ]
     },
     "execution_count": 39,
     "metadata": {},
     "output_type": "execute_result"
    }
   ],
   "source": [
    "solve(x ** 2 - 5 * x + 6 > 0)"
   ]
  },
  {
   "cell_type": "code",
   "execution_count": 40,
   "metadata": {
    "collapsed": false
   },
   "outputs": [
    {
     "data": {
      "text/latex": [
       "$$\\frac{4}{\\left(- \\frac{1}{2} - \\frac{\\sqrt{3} i}{2}\\right) \\sqrt[3]{\\frac{4887}{2} + \\frac{3 \\sqrt{2654409}}{2}}} - \\frac{1}{3} \\left(- \\frac{1}{2} - \\frac{\\sqrt{3} i}{2}\\right) \\sqrt[3]{\\frac{4887}{2} + \\frac{3 \\sqrt{2654409}}{2}}$$"
      ],
      "text/plain": [
       "                                                        ___________________\n",
       "                                       ⎛  1   √3⋅ⅈ⎞    ╱ 4887   3⋅√2654409 \n",
       "                                       ⎜- ─ - ────⎟⋅3 ╱  ──── + ────────── \n",
       "                 4                     ⎝  2    2  ⎠ ╲╱    2         2      \n",
       "──────────────────────────────────── - ────────────────────────────────────\n",
       "                 ___________________                    3                  \n",
       "⎛  1   √3⋅ⅈ⎞    ╱ 4887   3⋅√2654409                                        \n",
       "⎜- ─ - ────⎟⋅3 ╱  ──── + ──────────                                        \n",
       "⎝  2    2  ⎠ ╲╱    2         2                                             "
      ]
     },
     "metadata": {},
     "output_type": "display_data"
    },
    {
     "data": {
      "text/latex": [
       "$$- \\frac{1}{3} \\left(- \\frac{1}{2} + \\frac{\\sqrt{3} i}{2}\\right) \\sqrt[3]{\\frac{4887}{2} + \\frac{3 \\sqrt{2654409}}{2}} + \\frac{4}{\\left(- \\frac{1}{2} + \\frac{\\sqrt{3} i}{2}\\right) \\sqrt[3]{\\frac{4887}{2} + \\frac{3 \\sqrt{2654409}}{2}}}$$"
      ],
      "text/plain": [
       "                   ___________________                                       \n",
       "  ⎛  1   √3⋅ⅈ⎞    ╱ 4887   3⋅√2654409                                        \n",
       "  ⎜- ─ + ────⎟⋅3 ╱  ──── + ──────────                                        \n",
       "  ⎝  2    2  ⎠ ╲╱    2         2                          4                  \n",
       "- ──────────────────────────────────── + ────────────────────────────────────\n",
       "                   3                                      ___________________\n",
       "                                         ⎛  1   √3⋅ⅈ⎞    ╱ 4887   3⋅√2654409 \n",
       "                                         ⎜- ─ + ────⎟⋅3 ╱  ──── + ────────── \n",
       "                                         ⎝  2    2  ⎠ ╲╱    2         2      "
      ]
     },
     "metadata": {},
     "output_type": "display_data"
    },
    {
     "data": {
      "text/latex": [
       "$$- \\frac{1}{3} \\sqrt[3]{\\frac{4887}{2} + \\frac{3 \\sqrt{2654409}}{2}} + \\frac{4}{\\sqrt[3]{\\frac{4887}{2} + \\frac{3 \\sqrt{2654409}}{2}}}$$"
      ],
      "text/plain": [
       "      ___________________                          \n",
       "     ╱ 4887   3⋅√2654409                           \n",
       "  3 ╱  ──── + ──────────                           \n",
       "  ╲╱    2         2                    4           \n",
       "- ─────────────────────── + ───────────────────────\n",
       "             3                  ___________________\n",
       "                               ╱ 4887   3⋅√2654409 \n",
       "                            3 ╱  ──── + ────────── \n",
       "                            ╲╱    2         2      "
      ]
     },
     "metadata": {},
     "output_type": "display_data"
    }
   ],
   "source": [
    "map(display, solve(x**3 + 4*x + 181, x));"
   ]
  },
  {
   "cell_type": "code",
   "execution_count": 41,
   "metadata": {
    "collapsed": false
   },
   "outputs": [
    {
     "data": {
      "text/latex": [
       "$$\\left [ \\frac{\\pi}{4}, \\quad \\frac{3 \\pi}{4}\\right ]$$"
      ],
      "text/plain": [
       "⎡π  3⋅π⎤\n",
       "⎢─, ───⎥\n",
       "⎣4   4 ⎦"
      ]
     },
     "execution_count": 41,
     "metadata": {},
     "output_type": "execute_result"
    }
   ],
   "source": [
    "solve(sin(x) - S('1/sqrt(2)'))"
   ]
  },
  {
   "cell_type": "code",
   "execution_count": 42,
   "metadata": {
    "collapsed": false
   },
   "outputs": [
    {
     "data": {
      "text/latex": [
       "$$\\left\\{2 n \\pi + \\frac{3 \\pi}{4}\\; |\\; n \\in \\mathbb{Z}\\right\\} \\cup \\left\\{2 n \\pi + \\frac{\\pi}{4}\\; |\\; n \\in \\mathbb{Z}\\right\\}$$"
      ],
      "text/plain": [
       "⎧        3⋅π        ⎫   ⎧        π        ⎫\n",
       "⎨2⋅n⋅π + ─── | n ∊ ℤ⎬ ∪ ⎨2⋅n⋅π + ─ | n ∊ ℤ⎬\n",
       "⎩         4         ⎭   ⎩        4        ⎭"
      ]
     },
     "execution_count": 42,
     "metadata": {},
     "output_type": "execute_result"
    }
   ],
   "source": [
    "solveset(sin(x) - S('1/sqrt(2)'))"
   ]
  },
  {
   "cell_type": "code",
   "execution_count": 43,
   "metadata": {
    "collapsed": false
   },
   "outputs": [
    {
     "data": {
      "text/latex": [
       "$$- \\operatorname{LambertW}{\\left (e^{2} \\right )} + 2$$"
      ],
      "text/plain": [
       "          ⎛ 2⎞    \n",
       "- LambertW⎝ℯ ⎠ + 2"
      ]
     },
     "execution_count": 43,
     "metadata": {},
     "output_type": "execute_result"
    }
   ],
   "source": [
    "solve(exp(x) + x - 2)[0]"
   ]
  },
  {
   "cell_type": "code",
   "execution_count": 44,
   "metadata": {
    "collapsed": false
   },
   "outputs": [
    {
     "data": {
      "text/latex": [
       "$$\\left \\{ x : - \\frac{1}{2}, \\quad y : \\frac{11}{2}\\right \\}$$"
      ],
      "text/plain": [
       "{x: -1/2, y: 11/2}"
      ]
     },
     "execution_count": 44,
     "metadata": {},
     "output_type": "execute_result"
    }
   ],
   "source": [
    "solve([x + y - 5, y - x - 6], (x,y))"
   ]
  },
  {
   "cell_type": "markdown",
   "metadata": {},
   "source": [
    "Увы, пока что `sympy` не умеет решать системы неравенств, в отличие от Sage."
   ]
  },
  {
   "cell_type": "code",
   "execution_count": 45,
   "metadata": {
    "collapsed": false
   },
   "outputs": [
    {
     "ename": "NotImplementedError",
     "evalue": "\ninequality has more than one symbol of interest",
     "output_type": "error",
     "traceback": [
      "\u001b[1;31m---------------------------------------------------------------------------\u001b[0m",
      "\u001b[1;31mNotImplementedError\u001b[0m                       Traceback (most recent call last)",
      "\u001b[1;32m<ipython-input-45-3616e9e3c92f>\u001b[0m in \u001b[0;36m<module>\u001b[1;34m()\u001b[0m\n\u001b[1;32m----> 1\u001b[1;33m \u001b[0msolve\u001b[0m\u001b[1;33m(\u001b[0m\u001b[1;33m[\u001b[0m\u001b[0mx\u001b[0m \u001b[1;33m+\u001b[0m \u001b[0my\u001b[0m \u001b[1;33m>\u001b[0m \u001b[1;36m5\u001b[0m\u001b[1;33m,\u001b[0m \u001b[0my\u001b[0m \u001b[1;33m-\u001b[0m \u001b[0mx\u001b[0m \u001b[1;33m<\u001b[0m \u001b[1;36m6\u001b[0m\u001b[1;33m]\u001b[0m\u001b[1;33m,\u001b[0m \u001b[1;33m(\u001b[0m\u001b[0mx\u001b[0m\u001b[1;33m,\u001b[0m\u001b[0my\u001b[0m\u001b[1;33m)\u001b[0m\u001b[1;33m)\u001b[0m\u001b[1;33m\u001b[0m\u001b[0m\n\u001b[0m",
      "\u001b[1;32mC:\\Users\\User\\Anaconda2\\lib\\site-packages\\sympy\\solvers\\solvers.pyc\u001b[0m in \u001b[0;36msolve\u001b[1;34m(f, *symbols, **flags)\u001b[0m\n\u001b[0;32m    846\u001b[0m             \u001b[0mf\u001b[0m\u001b[1;33m[\u001b[0m\u001b[0mi\u001b[0m\u001b[1;33m]\u001b[0m \u001b[1;33m=\u001b[0m \u001b[0mfi\u001b[0m\u001b[1;33m.\u001b[0m\u001b[0mas_expr\u001b[0m\u001b[1;33m(\u001b[0m\u001b[1;33m)\u001b[0m\u001b[1;33m\u001b[0m\u001b[0m\n\u001b[0;32m    847\u001b[0m         \u001b[1;32melif\u001b[0m \u001b[0misinstance\u001b[0m\u001b[1;33m(\u001b[0m\u001b[0mfi\u001b[0m\u001b[1;33m,\u001b[0m \u001b[1;33m(\u001b[0m\u001b[0mbool\u001b[0m\u001b[1;33m,\u001b[0m \u001b[0mBooleanAtom\u001b[0m\u001b[1;33m)\u001b[0m\u001b[1;33m)\u001b[0m \u001b[1;32mor\u001b[0m \u001b[0mfi\u001b[0m\u001b[1;33m.\u001b[0m\u001b[0mis_Relational\u001b[0m\u001b[1;33m:\u001b[0m\u001b[1;33m\u001b[0m\u001b[0m\n\u001b[1;32m--> 848\u001b[1;33m             \u001b[1;32mreturn\u001b[0m \u001b[0mreduce_inequalities\u001b[0m\u001b[1;33m(\u001b[0m\u001b[0mf\u001b[0m\u001b[1;33m,\u001b[0m \u001b[0msymbols\u001b[0m\u001b[1;33m=\u001b[0m\u001b[0msymbols\u001b[0m\u001b[1;33m)\u001b[0m\u001b[1;33m\u001b[0m\u001b[0m\n\u001b[0m\u001b[0;32m    849\u001b[0m \u001b[1;33m\u001b[0m\u001b[0m\n\u001b[0;32m    850\u001b[0m         \u001b[1;31m# rewrite hyperbolics in terms of exp\u001b[0m\u001b[1;33m\u001b[0m\u001b[1;33m\u001b[0m\u001b[0m\n",
      "\u001b[1;32mC:\\Users\\User\\Anaconda2\\lib\\site-packages\\sympy\\solvers\\inequalities.pyc\u001b[0m in \u001b[0;36mreduce_inequalities\u001b[1;34m(inequalities, symbols)\u001b[0m\n\u001b[0;32m    699\u001b[0m \u001b[1;33m\u001b[0m\u001b[0m\n\u001b[0;32m    700\u001b[0m     \u001b[1;31m# solve system\u001b[0m\u001b[1;33m\u001b[0m\u001b[1;33m\u001b[0m\u001b[0m\n\u001b[1;32m--> 701\u001b[1;33m     \u001b[0mrv\u001b[0m \u001b[1;33m=\u001b[0m \u001b[0m_reduce_inequalities\u001b[0m\u001b[1;33m(\u001b[0m\u001b[0minequalities\u001b[0m\u001b[1;33m,\u001b[0m \u001b[0msymbols\u001b[0m\u001b[1;33m)\u001b[0m\u001b[1;33m\u001b[0m\u001b[0m\n\u001b[0m\u001b[0;32m    702\u001b[0m \u001b[1;33m\u001b[0m\u001b[0m\n\u001b[0;32m    703\u001b[0m     \u001b[1;31m# restore original symbols and return\u001b[0m\u001b[1;33m\u001b[0m\u001b[1;33m\u001b[0m\u001b[0m\n",
      "\u001b[1;32mC:\\Users\\User\\Anaconda2\\lib\\site-packages\\sympy\\solvers\\inequalities.pyc\u001b[0m in \u001b[0;36m_reduce_inequalities\u001b[1;34m(inequalities, symbols)\u001b[0m\n\u001b[0;32m    620\u001b[0m                 raise NotImplementedError(filldedent('''\n\u001b[0;32m    621\u001b[0m                     \u001b[0minequality\u001b[0m \u001b[0mhas\u001b[0m \u001b[0mmore\u001b[0m \u001b[0mthan\u001b[0m \u001b[0mone\u001b[0m\u001b[1;33m\u001b[0m\u001b[0m\n\u001b[1;32m--> 622\u001b[1;33m                     symbol of interest'''))\n\u001b[0m\u001b[0;32m    623\u001b[0m \u001b[1;33m\u001b[0m\u001b[0m\n\u001b[0;32m    624\u001b[0m         \u001b[1;32mif\u001b[0m \u001b[0mexpr\u001b[0m\u001b[1;33m.\u001b[0m\u001b[0mis_polynomial\u001b[0m\u001b[1;33m(\u001b[0m\u001b[0mgen\u001b[0m\u001b[1;33m)\u001b[0m\u001b[1;33m:\u001b[0m\u001b[1;33m\u001b[0m\u001b[0m\n",
      "\u001b[1;31mNotImplementedError\u001b[0m: \ninequality has more than one symbol of interest"
     ]
    }
   ],
   "source": [
    "solve([x + y > 5, y - x < 6], (x,y))"
   ]
  },
  {
   "cell_type": "markdown",
   "metadata": {
    "collapsed": true
   },
   "source": [
    "## Матан"
   ]
  },
  {
   "cell_type": "markdown",
   "metadata": {},
   "source": [
    "Предел"
   ]
  },
  {
   "cell_type": "code",
   "execution_count": 46,
   "metadata": {
    "collapsed": false
   },
   "outputs": [
    {
     "data": {
      "text/latex": [
       "$$1$$"
      ],
      "text/plain": [
       "1"
      ]
     },
     "execution_count": 46,
     "metadata": {},
     "output_type": "execute_result"
    }
   ],
   "source": [
    "limit(sin(x) / x, x, 0)"
   ]
  },
  {
   "cell_type": "code",
   "execution_count": 47,
   "metadata": {
    "collapsed": false
   },
   "outputs": [
    {
     "data": {
      "text/latex": [
       "$$- \\frac{1}{2}$$"
      ],
      "text/plain": [
       "-1/2"
      ]
     },
     "execution_count": 47,
     "metadata": {},
     "output_type": "execute_result"
    }
   ],
   "source": [
    "limit((cos(x) - 1) / x ** 2, x, 0)"
   ]
  },
  {
   "cell_type": "markdown",
   "metadata": {},
   "source": [
    "Дифференцирование"
   ]
  },
  {
   "cell_type": "code",
   "execution_count": 48,
   "metadata": {
    "collapsed": true
   },
   "outputs": [],
   "source": [
    "expr = sin(x)**2 + 2*cos(x)"
   ]
  },
  {
   "cell_type": "code",
   "execution_count": 49,
   "metadata": {
    "collapsed": false
   },
   "outputs": [
    {
     "data": {
      "text/latex": [
       "$$2 \\sin{\\left (x \\right )} \\cos{\\left (x \\right )} - 2 \\sin{\\left (x \\right )}$$"
      ],
      "text/plain": [
       "2⋅sin(x)⋅cos(x) - 2⋅sin(x)"
      ]
     },
     "execution_count": 49,
     "metadata": {},
     "output_type": "execute_result"
    }
   ],
   "source": [
    "expr.diff(x)"
   ]
  },
  {
   "cell_type": "code",
   "execution_count": 50,
   "metadata": {
    "collapsed": false
   },
   "outputs": [
    {
     "data": {
      "text/latex": [
       "$$\\frac{1}{x} \\cos{\\left (x \\right )} - \\frac{1}{x^{2}} \\sin{\\left (x \\right )}$$"
      ],
      "text/plain": [
       "cos(x)   sin(x)\n",
       "────── - ──────\n",
       "  x         2  \n",
       "           x   "
      ]
     },
     "execution_count": 50,
     "metadata": {},
     "output_type": "execute_result"
    }
   ],
   "source": [
    "diff(sin(x) / x)"
   ]
  },
  {
   "cell_type": "code",
   "execution_count": 51,
   "metadata": {
    "collapsed": false
   },
   "outputs": [
    {
     "data": {
      "text/latex": [
       "$$\\frac{x \\left(- 2 x - 2\\right)}{\\left(x^{2} + 2 x + 1\\right)^{2}} + \\frac{1}{x^{2} + 2 x + 1}$$"
      ],
      "text/plain": [
       "  x⋅(-2⋅x - 2)         1      \n",
       "─────────────── + ────────────\n",
       "              2    2          \n",
       "⎛ 2          ⎞    x  + 2⋅x + 1\n",
       "⎝x  + 2⋅x + 1⎠                "
      ]
     },
     "execution_count": 51,
     "metadata": {},
     "output_type": "execute_result"
    }
   ],
   "source": [
    "diff(x / (x**2 + 2*x + 1), x)"
   ]
  },
  {
   "cell_type": "code",
   "execution_count": 52,
   "metadata": {
    "collapsed": false
   },
   "outputs": [
    {
     "data": {
      "text/latex": [
       "$$\\left [ \\sin{\\left (2 x \\right )}, \\quad 2 \\cos{\\left (2 x \\right )}, \\quad - 4 \\sin{\\left (2 x \\right )}, \\quad - 8 \\cos{\\left (2 x \\right )}, \\quad 16 \\sin{\\left (2 x \\right )}\\right ]$$"
      ],
      "text/plain": [
       "[sin(2⋅x), 2⋅cos(2⋅x), -4⋅sin(2⋅x), -8⋅cos(2⋅x), 16⋅sin(2⋅x)]"
      ]
     },
     "execution_count": 52,
     "metadata": {},
     "output_type": "execute_result"
    }
   ],
   "source": [
    "[diff(sin(2 * x), x, u) for u in range(5)]"
   ]
  },
  {
   "cell_type": "markdown",
   "metadata": {},
   "source": [
    "Интегрирование"
   ]
  },
  {
   "cell_type": "code",
   "execution_count": 53,
   "metadata": {
    "collapsed": false
   },
   "outputs": [
    {
     "data": {
      "text/latex": [
       "$$\\frac{x}{2} - \\frac{1}{2} \\sin{\\left (x \\right )} \\cos{\\left (x \\right )} + 2 \\sin{\\left (x \\right )}$$"
      ],
      "text/plain": [
       "x   sin(x)⋅cos(x)           \n",
       "─ - ───────────── + 2⋅sin(x)\n",
       "2         2                 "
      ]
     },
     "execution_count": 53,
     "metadata": {},
     "output_type": "execute_result"
    }
   ],
   "source": [
    "expr.integrate(x)"
   ]
  },
  {
   "cell_type": "code",
   "execution_count": 54,
   "metadata": {
    "collapsed": false
   },
   "outputs": [
    {
     "data": {
      "text/latex": [
       "$$\\log{\\left (x + 1 \\right )} + \\frac{1}{x + 1}$$"
      ],
      "text/plain": [
       "               1  \n",
       "log(x + 1) + ─────\n",
       "             x + 1"
      ]
     },
     "execution_count": 54,
     "metadata": {},
     "output_type": "execute_result"
    }
   ],
   "source": [
    "integrate(x / (x**2 + 2*x + 1), x)"
   ]
  },
  {
   "cell_type": "code",
   "execution_count": 55,
   "metadata": {
    "collapsed": false
   },
   "outputs": [
    {
     "data": {
      "text/latex": [
       "$$\\operatorname{Si}{\\left (x \\right )}$$"
      ],
      "text/plain": [
       "Si(x)"
      ]
     },
     "execution_count": 55,
     "metadata": {},
     "output_type": "execute_result"
    }
   ],
   "source": [
    "integrate(sin(x)/x, x)"
   ]
  },
  {
   "cell_type": "code",
   "execution_count": 56,
   "metadata": {
    "collapsed": false
   },
   "outputs": [
    {
     "data": {
      "text/latex": [
       "$$\\frac{\\operatorname{erf}{\\left (\\frac{\\sqrt{2} x}{2} \\sqrt{\\frac{1}{\\sigma^{2}}} \\right )}}{2 \\sigma \\sqrt{\\frac{1}{\\sigma^{2}}}}$$"
      ],
      "text/plain": [
       "   ⎛          ____⎞\n",
       "   ⎜         ╱ 1  ⎟\n",
       "   ⎜√2⋅x⋅   ╱  ── ⎟\n",
       "   ⎜       ╱    2 ⎟\n",
       "   ⎜     ╲╱    σ  ⎟\n",
       "erf⎜──────────────⎟\n",
       "   ⎝      2       ⎠\n",
       "───────────────────\n",
       "            ____   \n",
       "           ╱ 1     \n",
       "   2⋅σ⋅   ╱  ──    \n",
       "         ╱    2    \n",
       "       ╲╱    σ     "
      ]
     },
     "execution_count": 56,
     "metadata": {},
     "output_type": "execute_result"
    }
   ],
   "source": [
    "sigma = var('sigma')\n",
    "integrate(exp(-x**2 / 2 / sigma ** 2) / sqrt(2 * pi) / sigma, x)"
   ]
  },
  {
   "cell_type": "code",
   "execution_count": 57,
   "metadata": {
    "collapsed": false
   },
   "outputs": [
    {
     "data": {
      "text/latex": [
       "$$\\pi$$"
      ],
      "text/plain": [
       "π"
      ]
     },
     "execution_count": 57,
     "metadata": {},
     "output_type": "execute_result"
    }
   ],
   "source": [
    "integrate(sin(x)/x, (x, -oo, oo))"
   ]
  },
  {
   "cell_type": "markdown",
   "metadata": {},
   "source": [
    "Ряд Тейлора"
   ]
  },
  {
   "cell_type": "code",
   "execution_count": 58,
   "metadata": {
    "collapsed": false
   },
   "outputs": [
    {
     "data": {
      "text/latex": [
       "$$x + \\frac{x^{3}}{3} + \\frac{2 x^{5}}{15} + \\frac{17 x^{7}}{315} + \\frac{62 x^{9}}{2835} + \\frac{1382 x^{11}}{155925} + \\frac{21844 x^{13}}{6081075} + \\mathcal{O}\\left(x^{15}\\right)$$"
      ],
      "text/plain": [
       "     3      5       7       9         11          13         \n",
       "    x    2⋅x    17⋅x    62⋅x    1382⋅x     21844⋅x      ⎛ 15⎞\n",
       "x + ── + ──── + ───── + ───── + ──────── + ───────── + O⎝x  ⎠\n",
       "    3     15     315     2835    155925     6081075          "
      ]
     },
     "execution_count": 58,
     "metadata": {},
     "output_type": "execute_result"
    }
   ],
   "source": [
    "series(tan(x), x, 0, 15)"
   ]
  },
  {
   "cell_type": "markdown",
   "metadata": {},
   "source": [
    "Ряды Фурье"
   ]
  },
  {
   "cell_type": "code",
   "execution_count": 59,
   "metadata": {
    "collapsed": false
   },
   "outputs": [
    {
     "data": {
      "text/latex": [
       "$$- 4 \\cos{\\left (x \\right )} + \\cos{\\left (2 x \\right )} + \\frac{\\pi^{2}}{3} + \\ldots$$"
      ],
      "text/plain": [
       "                        2    \n",
       "                       π     \n",
       "-4⋅cos(x) + cos(2⋅x) + ── + …\n",
       "                       3     "
      ]
     },
     "execution_count": 59,
     "metadata": {},
     "output_type": "execute_result"
    }
   ],
   "source": [
    "ser = fourier_series(x**2, (x, -pi, pi))\n",
    "ser"
   ]
  },
  {
   "cell_type": "code",
   "execution_count": 60,
   "metadata": {
    "collapsed": false
   },
   "outputs": [
    {
     "data": {
      "text/latex": [
       "$$\\sqrt{\\pi} e^{- \\pi^{2} k^{2}}$$"
      ],
      "text/plain": [
       "      2  2\n",
       "    -π ⋅k \n",
       "√π⋅ℯ      "
      ]
     },
     "execution_count": 60,
     "metadata": {},
     "output_type": "execute_result"
    }
   ],
   "source": [
    "fourier_transform(exp(-x ** 2), x, k)"
   ]
  },
  {
   "cell_type": "code",
   "execution_count": 61,
   "metadata": {
    "collapsed": false
   },
   "outputs": [
    {
     "data": {
      "text/latex": [
       "$$e^{- x^{2}}$$"
      ],
      "text/plain": [
       "   2\n",
       " -x \n",
       "ℯ   "
      ]
     },
     "execution_count": 61,
     "metadata": {},
     "output_type": "execute_result"
    }
   ],
   "source": [
    "inverse_fourier_transform(sqrt(pi)*exp(-(pi*k)**2), k, x)"
   ]
  },
  {
   "cell_type": "code",
   "execution_count": 62,
   "metadata": {
    "collapsed": false
   },
   "outputs": [
    {
     "data": {
      "image/png": "[encoded data removed]",
      "text/plain": [
       "<matplotlib.figure.Figure at 0x1abfcf60>"
      ]
     },
     "metadata": {},
     "output_type": "display_data"
    }
   ],
   "source": [
    "serfn = lambdify(x, ser.truncate(3))\n",
    "\n",
    "xx = linspace(-numpy.pi, numpy.pi)\n",
    "matplotlib.pyplot.plot(xx, xx ** 2);\n",
    "matplotlib.pyplot.plot(xx, serfn(xx));"
   ]
  },
  {
   "cell_type": "markdown",
   "metadata": {},
   "source": [
    "Векторные поля"
   ]
  },
  {
   "cell_type": "code",
   "execution_count": 63,
   "metadata": {
    "collapsed": true
   },
   "outputs": [],
   "source": [
    "from sympy.vector import CoordSys3D, express, divergence, curl, gradient, scalar_potential"
   ]
  },
  {
   "cell_type": "code",
   "execution_count": 64,
   "metadata": {
    "collapsed": false
   },
   "outputs": [
    {
     "data": {
      "text/latex": [
       "$$3 \\mathbf{{y}_{R}} + 2 \\mathbf{{z}_{R}}$$"
      ],
      "text/plain": [
       "3⋅R_y + 2⋅R_z"
      ]
     },
     "metadata": {},
     "output_type": "display_data"
    },
    {
     "data": {
      "text/latex": [
       "$$(- \\mathbf{{x}_{R}})\\mathbf{\\hat{k}_{R}}$$"
      ],
      "text/plain": [
       "(-R_x) R_k"
      ]
     },
     "metadata": {},
     "output_type": "display_data"
    }
   ],
   "source": [
    "R = CoordSys3D('R')\n",
    "vector_field = R.x * R.y * R.i + R.y ** 2 * R.j + R.z ** 2 * R.k\n",
    "display(divergence(vector_field))\n",
    "display(curl(vector_field))"
   ]
  },
  {
   "cell_type": "code",
   "execution_count": 65,
   "metadata": {
    "collapsed": false
   },
   "outputs": [
    {
     "data": {
      "text/latex": [
       "$$(\\mathbf{{y}_{R}})\\mathbf{\\hat{i}_{R}} + (\\mathbf{{x}_{R}} + 2 \\mathbf{{y}_{R}})\\mathbf{\\hat{j}_{R}} + (2 \\mathbf{{z}_{R}})\\mathbf{\\hat{k}_{R}}$$"
      ],
      "text/plain": [
       "(R_y) R_i + (R_x + 2⋅R_y) R_j + (2⋅R_z) R_k"
      ]
     },
     "execution_count": 65,
     "metadata": {},
     "output_type": "execute_result"
    }
   ],
   "source": [
    "scalar_field = R.x * R.y + R.y ** 2 + R.z ** 2\n",
    "gr = gradient(scalar_field)\n",
    "gr"
   ]
  },
  {
   "cell_type": "code",
   "execution_count": 66,
   "metadata": {
    "collapsed": false
   },
   "outputs": [
    {
     "name": "stdout",
     "output_type": "stream",
     "text": [
      "True\n",
      "False\n"
     ]
    }
   ],
   "source": [
    "print sympy.vector.is_conservative(gr)\n",
    "print sympy.vector.is_solenoidal(gr)"
   ]
  },
  {
   "cell_type": "code",
   "execution_count": 67,
   "metadata": {
    "collapsed": false
   },
   "outputs": [
    {
     "data": {
      "text/latex": [
       "$$\\mathbf{{x}_{R}} \\mathbf{{y}_{R}} + \\mathbf{{y}_{R}}^{2} + \\frac{\\mathbf{{z}_{R}}^{2}}{2}$$"
      ],
      "text/plain": [
       "                    2\n",
       "             2   R_z \n",
       "R_x⋅R_y + R_y  + ────\n",
       "                  2  "
      ]
     },
     "execution_count": 67,
     "metadata": {},
     "output_type": "execute_result"
    }
   ],
   "source": [
    "scalar_potential(R.y * R.i + (R.x + 2 * R.y) * R.j + R.z * R.k, R)"
   ]
  },
  {
   "cell_type": "markdown",
   "metadata": {},
   "source": [
    "Дифференциальные уравнения"
   ]
  },
  {
   "cell_type": "code",
   "execution_count": 68,
   "metadata": {
    "collapsed": false
   },
   "outputs": [
    {
     "data": {
      "text/latex": [
       "$$y{\\left (t \\right )} = C_{2} e^{- t} + \\left(C_{1} + \\frac{t}{2}\\right) e^{t}$$"
      ],
      "text/plain": [
       "           -t   ⎛     t⎞  t\n",
       "y(t) = C₂⋅ℯ   + ⎜C₁ + ─⎟⋅ℯ \n",
       "                ⎝     2⎠   "
      ]
     },
     "execution_count": 68,
     "metadata": {},
     "output_type": "execute_result"
    }
   ],
   "source": [
    "dsolve(y(t).diff(t, t) - y(t) - exp(t), y(t))"
   ]
  },
  {
   "cell_type": "code",
   "execution_count": 69,
   "metadata": {
    "collapsed": false
   },
   "outputs": [
    {
     "data": {
      "text/latex": [
       "$$\\left [ x{\\left (t \\right )} = 3 C_{1} e^{t} + 3 C_{2} e^{5 t}, \\quad y{\\left (t \\right )} = - C_{1} e^{t} + 3 C_{2} e^{5 t}\\right ]$$"
      ],
      "text/plain": [
       "⎡             t         5⋅t               t         5⋅t⎤\n",
       "⎣x(t) = 3⋅C₁⋅ℯ  + 3⋅C₂⋅ℯ   , y(t) = - C₁⋅ℯ  + 3⋅C₂⋅ℯ   ⎦"
      ]
     },
     "execution_count": 69,
     "metadata": {},
     "output_type": "execute_result"
    }
   ],
   "source": [
    "dsolve((Eq(x(t).diff(t), 2 * x(t) + 3 * y(t)), Eq(y(t).diff(t), 1 * x(t) + 4 * y(t))))"
   ]
  },
  {
   "cell_type": "markdown",
   "metadata": {},
   "source": [
    "Урчпы"
   ]
  },
  {
   "cell_type": "code",
   "execution_count": 70,
   "metadata": {
    "collapsed": false
   },
   "outputs": [
    {
     "data": {
      "text/latex": [
       "$$f{\\left (x,y \\right )} = F{\\left (3 x - 2 y \\right )} e^{- \\frac{2 x}{13} - \\frac{3 y}{13}}$$"
      ],
      "text/plain": [
       "                          2⋅x   3⋅y\n",
       "                        - ─── - ───\n",
       "                           13    13\n",
       "f(x, y) = F(3⋅x - 2⋅y)⋅ℯ           "
      ]
     },
     "execution_count": 70,
     "metadata": {},
     "output_type": "execute_result"
    }
   ],
   "source": [
    "f = Function('f')\n",
    "u = f(x, y)\n",
    "u_x = u.diff(x)\n",
    "u_y = u.diff(y)\n",
    "pdsolve(Eq(1 + (2*(u_x/u)) + (3*(u_y/u))))"
   ]
  },
  {
   "cell_type": "markdown",
   "metadata": {},
   "source": [
    "## Линал"
   ]
  },
  {
   "cell_type": "markdown",
   "metadata": {
    "collapsed": true
   },
   "source": [
    "Для вещественных чисел в `sympy` определены функции `sign Min Max`, для комплексных `re im arg conjugate Abs`."
   ]
  },
  {
   "cell_type": "markdown",
   "metadata": {},
   "source": [
    "Матрицы, транспонирование, арифметика, определитель, след, обратная, характеристический полином, собственные значения, жорданова форма, канонический базис"
   ]
  },
  {
   "cell_type": "code",
   "execution_count": 71,
   "metadata": {
    "collapsed": false
   },
   "outputs": [
    {
     "data": {
      "text/latex": [
       "$$\\left[\\begin{matrix}1 & 2 & 3 & 4\\\\2 & 4 & 6 & 8\\\\3 & 6 & 9 & 12\\\\4 & 8 & 12 & 16\\end{matrix}\\right]$$"
      ],
      "text/plain": [
       "⎡1  2  3   4 ⎤\n",
       "⎢            ⎥\n",
       "⎢2  4  6   8 ⎥\n",
       "⎢            ⎥\n",
       "⎢3  6  9   12⎥\n",
       "⎢            ⎥\n",
       "⎣4  8  12  16⎦"
      ]
     },
     "execution_count": 71,
     "metadata": {},
     "output_type": "execute_result"
    }
   ],
   "source": [
    "Matrix(4,4, lambda i,j: (i+1)*(j+1))"
   ]
  },
  {
   "cell_type": "code",
   "execution_count": 72,
   "metadata": {
    "collapsed": false
   },
   "outputs": [
    {
     "data": {
      "text/latex": [
       "$$\\left[\\begin{matrix}1 & 3\\\\2 & 4\\end{matrix}\\right]$$"
      ],
      "text/plain": [
       "⎡1  3⎤\n",
       "⎢    ⎥\n",
       "⎣2  4⎦"
      ]
     },
     "metadata": {},
     "output_type": "display_data"
    },
    {
     "data": {
      "text/latex": [
       "$$\\left[\\begin{matrix}7 & 10\\\\15 & 22\\end{matrix}\\right]$$"
      ],
      "text/plain": [
       "⎡7   10⎤\n",
       "⎢      ⎥\n",
       "⎣15  22⎦"
      ]
     },
     "metadata": {},
     "output_type": "display_data"
    },
    {
     "data": {
      "text/latex": [
       "$$\\left[\\begin{matrix}1 & 4\\\\9 & 16\\end{matrix}\\right]$$"
      ],
      "text/plain": [
       "⎡1  4 ⎤\n",
       "⎢     ⎥\n",
       "⎣9  16⎦"
      ]
     },
     "metadata": {},
     "output_type": "display_data"
    }
   ],
   "source": [
    "M = Matrix([[1,2],[3,4]])\n",
    "display(M.T)\n",
    "display(M * M)\n",
    "display(M.multiply_elementwise(M))"
   ]
  },
  {
   "cell_type": "code",
   "execution_count": 73,
   "metadata": {
    "collapsed": false
   },
   "outputs": [
    {
     "data": {
      "text/latex": [
       "$$\\left[\\begin{matrix}\\frac{1}{2} & \\frac{1}{2} & 0\\\\\\frac{1}{2} & 0 & \\frac{1}{2}\\\\0 & \\frac{1}{2} & \\frac{1}{2}\\end{matrix}\\right]$$"
      ],
      "text/plain": [
       "⎡1/2  1/2   0 ⎤\n",
       "⎢             ⎥\n",
       "⎢1/2   0   1/2⎥\n",
       "⎢             ⎥\n",
       "⎣ 0   1/2  1/2⎦"
      ]
     },
     "execution_count": 73,
     "metadata": {},
     "output_type": "execute_result"
    }
   ],
   "source": [
    "m = Matrix([[S('1/2'), S('1/2'), S('0')], [S('1/2'), S('0'), S('1/2')], [S('0'), S('1/2'), S('1/2')]])\n",
    "m"
   ]
  },
  {
   "cell_type": "code",
   "execution_count": 74,
   "metadata": {
    "collapsed": false
   },
   "outputs": [
    {
     "data": {
      "text/latex": [
       "$$\\left ( - \\frac{1}{4}, \\quad 1\\right )$$"
      ],
      "text/plain": [
       "(-1/4, 1)"
      ]
     },
     "execution_count": 74,
     "metadata": {},
     "output_type": "execute_result"
    }
   ],
   "source": [
    "det(m), trace(m)"
   ]
  },
  {
   "cell_type": "code",
   "execution_count": 75,
   "metadata": {
    "collapsed": false
   },
   "outputs": [
    {
     "data": {
      "text/latex": [
       "$$\\left[\\begin{matrix}1 & 1 & -1\\\\1 & -1 & 1\\\\-1 & 1 & 1\\end{matrix}\\right]$$"
      ],
      "text/plain": [
       "⎡1   1   -1⎤\n",
       "⎢          ⎥\n",
       "⎢1   -1  1 ⎥\n",
       "⎢          ⎥\n",
       "⎣-1  1   1 ⎦"
      ]
     },
     "execution_count": 75,
     "metadata": {},
     "output_type": "execute_result"
    }
   ],
   "source": [
    "m.inv()"
   ]
  },
  {
   "cell_type": "code",
   "execution_count": 76,
   "metadata": {
    "collapsed": false
   },
   "outputs": [
    {
     "data": {
      "text/latex": [
       "$$\\left[\\begin{matrix}1 & 1\\\\1 & 0\\end{matrix}\\right]$$"
      ],
      "text/plain": [
       "⎡1  1⎤\n",
       "⎢    ⎥\n",
       "⎣1  0⎦"
      ]
     },
     "execution_count": 76,
     "metadata": {},
     "output_type": "execute_result"
    }
   ],
   "source": [
    "FiboM = Matrix([[1,1],[1,0]])\n",
    "FiboM"
   ]
  },
  {
   "cell_type": "code",
   "execution_count": 77,
   "metadata": {
    "collapsed": false
   },
   "outputs": [
    {
     "data": {
      "text/latex": [
       "$$\\left[\\begin{matrix}0 & 1\\\\1 & -1\\end{matrix}\\right]$$"
      ],
      "text/plain": [
       "⎡0  1 ⎤\n",
       "⎢     ⎥\n",
       "⎣1  -1⎦"
      ]
     },
     "execution_count": 77,
     "metadata": {},
     "output_type": "execute_result"
    }
   ],
   "source": [
    "FiboM ** (-1)"
   ]
  },
  {
   "cell_type": "code",
   "execution_count": 78,
   "metadata": {
    "collapsed": false
   },
   "outputs": [
    {
     "data": {
      "text/latex": [
       "$$\\left[\\begin{matrix}34 & 21\\\\21 & 13\\end{matrix}\\right]$$"
      ],
      "text/plain": [
       "⎡34  21⎤\n",
       "⎢      ⎥\n",
       "⎣21  13⎦"
      ]
     },
     "execution_count": 78,
     "metadata": {},
     "output_type": "execute_result"
    }
   ],
   "source": [
    "FiboM ** 8"
   ]
  },
  {
   "cell_type": "code",
   "execution_count": 79,
   "metadata": {
    "collapsed": false
   },
   "outputs": [
    {
     "name": "stdout",
     "output_type": "stream",
     "text": [
      "-1 1\n"
     ]
    }
   ],
   "source": [
    "print FiboM.det(), FiboM.trace()"
   ]
  },
  {
   "cell_type": "code",
   "execution_count": 80,
   "metadata": {
    "collapsed": false
   },
   "outputs": [
    {
     "data": {
      "text/latex": [
       "$$\\operatorname{PurePoly}{\\left( \\lambda^{2} - \\lambda - 1, \\lambda, domain=\\mathbb{Z} \\right)}$$"
      ],
      "text/plain": [
       "PurePoly(lamda**2 - lamda - 1, lamda, domain='ZZ')"
      ]
     },
     "execution_count": 80,
     "metadata": {},
     "output_type": "execute_result"
    }
   ],
   "source": [
    "FiboM.charpoly(var('lamda'))"
   ]
  },
  {
   "cell_type": "code",
   "execution_count": 81,
   "metadata": {
    "collapsed": false
   },
   "outputs": [
    {
     "data": {
      "text/plain": [
       "{-sqrt(5)/2 + 1/2: 1, 1/2 + sqrt(5)/2: 1}"
      ]
     },
     "execution_count": 81,
     "metadata": {},
     "output_type": "execute_result"
    }
   ],
   "source": [
    "FiboM.eigenvals()"
   ]
  },
  {
   "cell_type": "code",
   "execution_count": 82,
   "metadata": {
    "collapsed": false
   },
   "outputs": [
    {
     "data": {
      "text/plain": [
       "[(1/2 + sqrt(5)/2, 1, [Matrix([\n",
       "   [-1/(-sqrt(5)/2 + 1/2)],\n",
       "   [                    1]])]), (-sqrt(5)/2 + 1/2, 1, [Matrix([\n",
       "   [-1/(1/2 + sqrt(5)/2)],\n",
       "   [                   1]])])]"
      ]
     },
     "execution_count": 82,
     "metadata": {},
     "output_type": "execute_result"
    }
   ],
   "source": [
    "FiboM.eigenvects()"
   ]
  },
  {
   "cell_type": "code",
   "execution_count": 83,
   "metadata": {
    "collapsed": false
   },
   "outputs": [
    {
     "data": {
      "text/latex": [
       "$$\\left[\\begin{matrix}\\frac{1}{2} + \\frac{\\sqrt{5}}{2} & 0\\\\0 & - \\frac{\\sqrt{5}}{2} + \\frac{1}{2}\\end{matrix}\\right]$$"
      ],
      "text/plain": [
       "⎡1   √5          ⎤\n",
       "⎢─ + ──     0    ⎥\n",
       "⎢2   2           ⎥\n",
       "⎢                ⎥\n",
       "⎢          √5   1⎥\n",
       "⎢  0     - ── + ─⎥\n",
       "⎣          2    2⎦"
      ]
     },
     "metadata": {},
     "output_type": "display_data"
    },
    {
     "data": {
      "text/latex": [
       "$$\\left[\\begin{matrix}\\frac{1}{2} + \\frac{\\sqrt{5}}{2} & - \\frac{\\sqrt{5}}{2} + \\frac{1}{2}\\\\1 & 1\\end{matrix}\\right]$$"
      ],
      "text/plain": [
       "⎡1   √5    √5   1⎤\n",
       "⎢─ + ──  - ── + ─⎥\n",
       "⎢2   2     2    2⎥\n",
       "⎢                ⎥\n",
       "⎣  1        1    ⎦"
      ]
     },
     "metadata": {},
     "output_type": "display_data"
    }
   ],
   "source": [
    "kb, jf = simplify(FiboM.jordan_form())\n",
    "display(jf)\n",
    "display(kb)"
   ]
  },
  {
   "cell_type": "code",
   "execution_count": 84,
   "metadata": {
    "collapsed": false
   },
   "outputs": [
    {
     "data": {
      "text/latex": [
       "$$\\left[\\begin{matrix}1 & 1\\\\1 & 0\\end{matrix}\\right]$$"
      ],
      "text/plain": [
       "⎡1  1⎤\n",
       "⎢    ⎥\n",
       "⎣1  0⎦"
      ]
     },
     "execution_count": 84,
     "metadata": {},
     "output_type": "execute_result"
    }
   ],
   "source": [
    "simplify(kb * jf * kb.inv())"
   ]
  },
  {
   "cell_type": "code",
   "execution_count": 85,
   "metadata": {
    "collapsed": false
   },
   "outputs": [
    {
     "data": {
      "text/latex": [
       "$$\\frac{2^{- k}}{5} \\sqrt{5} \\left(\\left(1 + \\sqrt{5}\\right)^{k} - \\left(- \\sqrt{5} + 1\\right)^{k}\\right)$$"
      ],
      "text/plain": [
       " -k    ⎛        k            k⎞\n",
       "2  ⋅√5⋅⎝(1 + √5)  - (-√5 + 1) ⎠\n",
       "───────────────────────────────\n",
       "               5               "
      ]
     },
     "execution_count": 85,
     "metadata": {},
     "output_type": "execute_result"
    }
   ],
   "source": [
    "simplify(kb * (jf ** k) * kb.inv())[1,0]"
   ]
  },
  {
   "cell_type": "code",
   "execution_count": 86,
   "metadata": {
    "collapsed": false
   },
   "outputs": [
    {
     "data": {
      "text/plain": [
       "array([y1*z2 - y2*z1, -x1*z2 + x2*z1, x1*y2 - x2*y1], dtype=object)"
      ]
     },
     "execution_count": 86,
     "metadata": {},
     "output_type": "execute_result"
    }
   ],
   "source": [
    "x1, y1, z1, x2, y2, z2 = var('x1 y1 z1 x2 y2 z2')\n",
    "cross([x1,y1,z1], [x2,y2,z2])"
   ]
  },
  {
   "cell_type": "code",
   "execution_count": 87,
   "metadata": {
    "collapsed": false
   },
   "outputs": [
    {
     "data": {
      "text/latex": [
       "$$\\sqrt{\\left|{a_{0}}\\right|^{2} + \\left|{a_{1}}\\right|^{2} + \\left|{a_{2}}\\right|^{2}}$$"
      ],
      "text/plain": [
       "   _______________________\n",
       "  ╱     2       2       2 \n",
       "╲╱  │a₀│  + │a₁│  + │a₂│  "
      ]
     },
     "execution_count": 87,
     "metadata": {},
     "output_type": "execute_result"
    }
   ],
   "source": [
    "Matrix(symarray('a', (3,))).norm()"
   ]
  },
  {
   "cell_type": "code",
   "execution_count": 88,
   "metadata": {
    "collapsed": false
   },
   "outputs": [
    {
     "data": {
      "text/latex": [
       "$$\\sqrt{\\left|{x_{1}}\\right|^{2} + \\left|{y_{1}}\\right|^{2} + \\left|{z_{1}}\\right|^{2}}$$"
      ],
      "text/plain": [
       "   _______________________\n",
       "  ╱     2       2       2 \n",
       "╲╱  │x₁│  + │y₁│  + │z₁│  "
      ]
     },
     "execution_count": 88,
     "metadata": {},
     "output_type": "execute_result"
    }
   ],
   "source": [
    "Matrix([x1,y1,z1]).norm()"
   ]
  },
  {
   "cell_type": "code",
   "execution_count": 89,
   "metadata": {
    "collapsed": false
   },
   "outputs": [
    {
     "data": {
      "text/latex": [
       "$$X_{1, 0} Y_{0, 2} + X_{1, 1} Y_{1, 2} + X_{1, 2} Y_{2, 2}$$"
      ],
      "text/plain": [
       "X₁₀⋅Y₀₂ + X₁₁⋅Y₁₂ + X₁₂⋅Y₂₂"
      ]
     },
     "execution_count": 89,
     "metadata": {},
     "output_type": "execute_result"
    }
   ],
   "source": [
    "X = MatrixSymbol('X', 3, 3)\n",
    "Y = MatrixSymbol('Y', 3, 3)\n",
    "(X * Y)[1, 2]"
   ]
  },
  {
   "cell_type": "markdown",
   "metadata": {},
   "source": [
    "## Конкретная математика"
   ]
  },
  {
   "cell_type": "markdown",
   "metadata": {},
   "source": [
    "Суммирование"
   ]
  },
  {
   "cell_type": "code",
   "execution_count": 90,
   "metadata": {
    "collapsed": false,
    "scrolled": true
   },
   "outputs": [
    {
     "data": {
      "text/latex": [
       "$$\\frac{n^{3}}{3} + \\frac{n^{2}}{2} + \\frac{n}{6}$$"
      ],
      "text/plain": [
       " 3    2    \n",
       "n    n    n\n",
       "── + ── + ─\n",
       "3    2    6"
      ]
     },
     "execution_count": 90,
     "metadata": {},
     "output_type": "execute_result"
    }
   ],
   "source": [
    "summation(k ** 2, (k, 1, n))"
   ]
  },
  {
   "cell_type": "code",
   "execution_count": 91,
   "metadata": {
    "collapsed": false
   },
   "outputs": [
    {
     "data": {
      "text/latex": [
       "$$\\begin{cases} \\frac{1}{- x + 1} & \\text{for}\\: \\left|{x}\\right| < 1 \\\\\\sum_{k=0}^{\\infty} x^{k} & \\text{otherwise} \\end{cases}$$"
      ],
      "text/plain": [
       "⎧   1                 \n",
       "⎪ ──────   for │x│ < 1\n",
       "⎪ -x + 1              \n",
       "⎪                     \n",
       "⎪  ∞                  \n",
       "⎪ ___                 \n",
       "⎨ ╲                   \n",
       "⎪  ╲    k             \n",
       "⎪  ╱   x    otherwise \n",
       "⎪ ╱                   \n",
       "⎪ ‾‾‾                 \n",
       "⎪k = 0                \n",
       "⎩                     "
      ]
     },
     "execution_count": 91,
     "metadata": {},
     "output_type": "execute_result"
    }
   ],
   "source": [
    "summation(x ** k, (k, 0, oo))"
   ]
  },
  {
   "cell_type": "markdown",
   "metadata": {},
   "source": [
    "Не все суммы поддаются движку sympy"
   ]
  },
  {
   "cell_type": "code",
   "execution_count": 92,
   "metadata": {
    "collapsed": false
   },
   "outputs": [
    {
     "data": {
      "text/latex": [
       "$$\\sum_{\\substack{1 \\leq x \\leq A\\\\1 \\leq y \\leq B}} \\left|{x - y}\\right|$$"
      ],
      "text/plain": [
       "  B     A          \n",
       " ___   ___         \n",
       " ╲     ╲           \n",
       "  ╲     ╲   │x - y│\n",
       "  ╱     ╱          \n",
       " ╱     ╱           \n",
       " ‾‾‾   ‾‾‾         \n",
       "y = 1 x = 1        "
      ]
     },
     "execution_count": 92,
     "metadata": {},
     "output_type": "execute_result"
    }
   ],
   "source": [
    "A, B = var('A B', positive=True, integer=True)\n",
    "summation(Abs(x - y), (x, 1, A), (y, 1, B))"
   ]
  },
  {
   "cell_type": "markdown",
   "metadata": {},
   "source": [
    "Решение рекуррентности (вывод формулы Бине)"
   ]
  },
  {
   "cell_type": "code",
   "execution_count": 93,
   "metadata": {
    "collapsed": false
   },
   "outputs": [
    {
     "data": {
      "text/latex": [
       "$$\\frac{\\sqrt{5}}{5} \\left(\\frac{1}{2} + \\frac{\\sqrt{5}}{2}\\right)^{n} - \\frac{\\sqrt{5}}{5} \\left(- \\frac{\\sqrt{5}}{2} + \\frac{1}{2}\\right)^{n}$$"
      ],
      "text/plain": [
       "           n                n\n",
       "   ⎛1   √5⎞       ⎛  √5   1⎞ \n",
       "√5⋅⎜─ + ──⎟    √5⋅⎜- ── + ─⎟ \n",
       "   ⎝2   2 ⎠       ⎝  2    2⎠ \n",
       "──────────── - ──────────────\n",
       "     5               5       "
      ]
     },
     "execution_count": 93,
     "metadata": {},
     "output_type": "execute_result"
    }
   ],
   "source": [
    "rsolve(y(n+2)-y(n+1)-y(n), y(n), {y(0): 0, y(1): 1})"
   ]
  },
  {
   "cell_type": "markdown",
   "metadata": {},
   "source": [
    "Цепная дробь"
   ]
  },
  {
   "cell_type": "code",
   "execution_count": 94,
   "metadata": {
    "collapsed": false
   },
   "outputs": [
    {
     "data": {
      "text/latex": [
       "$$\\left [ 0, \\quad 2, \\quad 1, \\quad 2\\right ]$$"
      ],
      "text/plain": [
       "[0, 2, 1, 2]"
      ]
     },
     "execution_count": 94,
     "metadata": {},
     "output_type": "execute_result"
    }
   ],
   "source": [
    "list(continued_fraction_iterator(Rational(3, 8)))"
   ]
  },
  {
   "cell_type": "markdown",
   "metadata": {},
   "source": [
    "$$\\frac{3}{8} = 0 + \\frac{1}{2 + \\frac{1}{1 + \\frac{1}{2}}}$$"
   ]
  },
  {
   "cell_type": "code",
   "execution_count": 95,
   "metadata": {
    "collapsed": false
   },
   "outputs": [
    {
     "data": {
      "text/latex": [
       "$$\\left [ 3, \\quad \\frac{22}{7}, \\quad \\frac{333}{106}, \\quad \\frac{355}{113}, \\quad \\frac{103993}{33102}, \\quad \\frac{104348}{33215}, \\quad \\frac{208341}{66317}, \\quad \\frac{312689}{99532}, \\quad \\frac{833719}{265381}, \\quad \\frac{1146408}{364913}\\right ]$$"
      ],
      "text/plain": [
       "⎡         333  355  103993  104348  208341  312689  833719  1146408⎤\n",
       "⎢3, 22/7, ───, ───, ──────, ──────, ──────, ──────, ──────, ───────⎥\n",
       "⎣         106  113  33102   33215   66317   99532   265381   364913⎦"
      ]
     },
     "execution_count": 95,
     "metadata": {},
     "output_type": "execute_result"
    }
   ],
   "source": [
    "list(itertools.islice(continued_fraction_convergents(continued_fraction_iterator(pi)), 0, 10))"
   ]
  },
  {
   "cell_type": "code",
   "execution_count": 96,
   "metadata": {
    "collapsed": false
   },
   "outputs": [
    {
     "name": "stdout",
     "output_type": "stream",
     "text": [
      "(q & r) | (r & ~p)\n",
      "[{p: False, r: True, q: True}, {p: False, r: True, q: False}, {p: True, r: True, q: True}]\n"
     ]
    }
   ],
   "source": [
    "p, q, r = var('p q r')\n",
    "k2 = to_dnf((p >> q) & r)\n",
    "print k2\n",
    "print list(satisfiable(k2, all_models=True))"
   ]
  },
  {
   "cell_type": "markdown",
   "metadata": {},
   "source": [
    "## Теория чисел"
   ]
  },
  {
   "cell_type": "code",
   "execution_count": 97,
   "metadata": {
    "collapsed": false
   },
   "outputs": [
    {
     "data": {
      "text/plain": [
       "[2, 1, 1, 0, 1]"
      ]
     },
     "execution_count": 97,
     "metadata": {},
     "output_type": "execute_result"
    }
   ],
   "source": [
    "digits(13, 2)"
   ]
  },
  {
   "cell_type": "code",
   "execution_count": 98,
   "metadata": {
    "collapsed": false
   },
   "outputs": [
    {
     "name": "stdout",
     "output_type": "stream",
     "text": [
      "168\n",
      "[2, 3, 5, 7, 11, 13, 17, 19, 23, 29, 31, 37, 41, 43, 47, 53, 59, 61, 67, 71, 73, 79, 83, 89, 97, 101, 103, 107, 109, 113, 127, 131, 137, 139, 149, 151, 157, 163, 167, 173, 179, 181, 191, 193, 197, 199, 211, 223, 227, 229, 233, 239, 241, 251, 257, 263, 269, 271, 277, 281, 283, 293, 307, 311, 313, 317, 331, 337, 347, 349, 353, 359, 367, 373, 379, 383, 389, 397, 401, 409, 419, 421, 431, 433, 439, 443, 449, 457, 461, 463, 467, 479, 487, 491, 499, 503, 509, 521, 523, 541, 547, 557, 563, 569, 571, 577, 587, 593, 599, 601, 607, 613, 617, 619, 631, 641, 643, 647, 653, 659, 661, 673, 677, 683, 691, 701, 709, 719, 727, 733, 739, 743, 751, 757, 761, 769, 773, 787, 797, 809, 811, 821, 823, 827, 829, 839, 853, 857, 859, 863, 877, 881, 883, 887, 907, 911, 919, 929, 937, 941, 947, 953, 967, 971, 977, 983, 991, 997]\n"
     ]
    }
   ],
   "source": [
    "print primepi(1000)\n",
    "print list(primerange(1, 1000))"
   ]
  },
  {
   "cell_type": "code",
   "execution_count": 99,
   "metadata": {
    "collapsed": false
   },
   "outputs": [
    {
     "name": "stdout",
     "output_type": "stream",
     "text": [
      "541\n",
      "True\n",
      "1000000007\n"
     ]
    }
   ],
   "source": [
    "print prime(100)\n",
    "print isprime(2 ** 127 - 1)\n",
    "print nextprime(1000000000)"
   ]
  },
  {
   "cell_type": "code",
   "execution_count": 100,
   "metadata": {
    "collapsed": false
   },
   "outputs": [
    {
     "name": "stdout",
     "output_type": "stream",
     "text": [
      "{2048953: 1, 3: 3, 1532117: 1}\n"
     ]
    }
   ],
   "source": [
    "print factorint(84759364534527)"
   ]
  },
  {
   "cell_type": "code",
   "execution_count": 101,
   "metadata": {
    "collapsed": false
   },
   "outputs": [
    {
     "name": "stdout",
     "output_type": "stream",
     "text": [
      "Wall time: 298 ms\n"
     ]
    },
    {
     "data": {
      "text/plain": [
       "{193707721: 1, 761838257287L: 1}"
      ]
     },
     "execution_count": 101,
     "metadata": {},
     "output_type": "execute_result"
    }
   ],
   "source": [
    "%%time\n",
    "factorint(2 ** 67 - 1)"
   ]
  },
  {
   "cell_type": "markdown",
   "metadata": {},
   "source": [
    "Профессор Коул к 1903 году потратил на это «все воскресенья в течение трех лет»."
   ]
  },
  {
   "cell_type": "code",
   "execution_count": 102,
   "metadata": {
    "collapsed": false
   },
   "outputs": [
    {
     "name": "stdout",
     "output_type": "stream",
     "text": [
      "4 (-5, 18, 4) 4\n"
     ]
    }
   ],
   "source": [
    "print gcd(244, 68), gcdex(244, 68), -5 * 244 + 18 * 68"
   ]
  },
  {
   "cell_type": "code",
   "execution_count": 103,
   "metadata": {
    "collapsed": false
   },
   "outputs": [
    {
     "name": "stdout",
     "output_type": "stream",
     "text": [
      "220 284\n"
     ]
    }
   ],
   "source": [
    "print sum(divisors(284)[:-1]), sum(divisors(220)[:-1])"
   ]
  },
  {
   "cell_type": "code",
   "execution_count": 104,
   "metadata": {
    "collapsed": false
   },
   "outputs": [
    {
     "name": "stdout",
     "output_type": "stream",
     "text": [
      "6 28\n",
      "[1, 2, 3, 4, 6, 12]\n",
      "4\n"
     ]
    }
   ],
   "source": [
    "print divisor_count(12), divisor_sigma(12)\n",
    "print divisors(12)\n",
    "print totient(12)"
   ]
  },
  {
   "cell_type": "markdown",
   "metadata": {},
   "source": [
    "Китайская теорема"
   ]
  },
  {
   "cell_type": "code",
   "execution_count": 105,
   "metadata": {
    "collapsed": false
   },
   "outputs": [
    {
     "name": "stdout",
     "output_type": "stream",
     "text": [
      "(639985, 912285)\n",
      "49 76 65 912285\n"
     ]
    }
   ],
   "source": [
    "from sympy.ntheory.modular import crt\n",
    "print crt([99, 97, 95], [49, 76, 65])\n",
    "print 639985 % 99, 639985 % 97, 639985 % 95, 99 * 97 * 95"
   ]
  },
  {
   "cell_type": "markdown",
   "metadata": {},
   "source": [
    "Проверка обращения Мёбиуса $G(n) = \\sum_{d|n} F(d) \\Leftrightarrow F(n) = \\sum_{d|n} \\mu(d) G(\\frac{n}{d})$"
   ]
  },
  {
   "cell_type": "code",
   "execution_count": 106,
   "metadata": {
    "collapsed": false
   },
   "outputs": [
    {
     "data": {
      "text/latex": [
       "$$\\left[\\begin{array}{cccccccccccccccccccc}1 & 0 & 0 & 0 & 0 & 0 & 0 & 0 & 0 & 0 & 0 & 0 & 0 & 0 & 0 & 0 & 0 & 0 & 0 & 0\\\\-1 & 1 & 0 & 0 & 0 & 0 & 0 & 0 & 0 & 0 & 0 & 0 & 0 & 0 & 0 & 0 & 0 & 0 & 0 & 0\\\\-1 & 0 & 1 & 0 & 0 & 0 & 0 & 0 & 0 & 0 & 0 & 0 & 0 & 0 & 0 & 0 & 0 & 0 & 0 & 0\\\\0 & -1 & 0 & 1 & 0 & 0 & 0 & 0 & 0 & 0 & 0 & 0 & 0 & 0 & 0 & 0 & 0 & 0 & 0 & 0\\\\-1 & 0 & 0 & 0 & 1 & 0 & 0 & 0 & 0 & 0 & 0 & 0 & 0 & 0 & 0 & 0 & 0 & 0 & 0 & 0\\\\1 & -1 & -1 & 0 & 0 & 1 & 0 & 0 & 0 & 0 & 0 & 0 & 0 & 0 & 0 & 0 & 0 & 0 & 0 & 0\\\\-1 & 0 & 0 & 0 & 0 & 0 & 1 & 0 & 0 & 0 & 0 & 0 & 0 & 0 & 0 & 0 & 0 & 0 & 0 & 0\\\\0 & 0 & 0 & -1 & 0 & 0 & 0 & 1 & 0 & 0 & 0 & 0 & 0 & 0 & 0 & 0 & 0 & 0 & 0 & 0\\\\0 & 0 & -1 & 0 & 0 & 0 & 0 & 0 & 1 & 0 & 0 & 0 & 0 & 0 & 0 & 0 & 0 & 0 & 0 & 0\\\\1 & -1 & 0 & 0 & -1 & 0 & 0 & 0 & 0 & 1 & 0 & 0 & 0 & 0 & 0 & 0 & 0 & 0 & 0 & 0\\\\-1 & 0 & 0 & 0 & 0 & 0 & 0 & 0 & 0 & 0 & 1 & 0 & 0 & 0 & 0 & 0 & 0 & 0 & 0 & 0\\\\0 & 1 & 0 & -1 & 0 & -1 & 0 & 0 & 0 & 0 & 0 & 1 & 0 & 0 & 0 & 0 & 0 & 0 & 0 & 0\\\\-1 & 0 & 0 & 0 & 0 & 0 & 0 & 0 & 0 & 0 & 0 & 0 & 1 & 0 & 0 & 0 & 0 & 0 & 0 & 0\\\\1 & -1 & 0 & 0 & 0 & 0 & -1 & 0 & 0 & 0 & 0 & 0 & 0 & 1 & 0 & 0 & 0 & 0 & 0 & 0\\\\1 & 0 & -1 & 0 & -1 & 0 & 0 & 0 & 0 & 0 & 0 & 0 & 0 & 0 & 1 & 0 & 0 & 0 & 0 & 0\\\\0 & 0 & 0 & 0 & 0 & 0 & 0 & -1 & 0 & 0 & 0 & 0 & 0 & 0 & 0 & 1 & 0 & 0 & 0 & 0\\\\-1 & 0 & 0 & 0 & 0 & 0 & 0 & 0 & 0 & 0 & 0 & 0 & 0 & 0 & 0 & 0 & 1 & 0 & 0 & 0\\\\0 & 0 & 1 & 0 & 0 & -1 & 0 & 0 & -1 & 0 & 0 & 0 & 0 & 0 & 0 & 0 & 0 & 1 & 0 & 0\\\\-1 & 0 & 0 & 0 & 0 & 0 & 0 & 0 & 0 & 0 & 0 & 0 & 0 & 0 & 0 & 0 & 0 & 0 & 1 & 0\\\\0 & 1 & 0 & -1 & 0 & 0 & 0 & 0 & 0 & -1 & 0 & 0 & 0 & 0 & 0 & 0 & 0 & 0 & 0 & 1\\end{array}\\right]$$"
      ],
      "text/plain": [
       "⎡1   0   0   0   0   0   0   0   0   0   0  0  0  0  0  0  0  0  0  0⎤\n",
       "⎢                                                                    ⎥\n",
       "⎢-1  1   0   0   0   0   0   0   0   0   0  0  0  0  0  0  0  0  0  0⎥\n",
       "⎢                                                                    ⎥\n",
       "⎢-1  0   1   0   0   0   0   0   0   0   0  0  0  0  0  0  0  0  0  0⎥\n",
       "⎢                                                                    ⎥\n",
       "⎢0   -1  0   1   0   0   0   0   0   0   0  0  0  0  0  0  0  0  0  0⎥\n",
       "⎢                                                                    ⎥\n",
       "⎢-1  0   0   0   1   0   0   0   0   0   0  0  0  0  0  0  0  0  0  0⎥\n",
       "⎢                                                                    ⎥\n",
       "⎢1   -1  -1  0   0   1   0   0   0   0   0  0  0  0  0  0  0  0  0  0⎥\n",
       "⎢                                                                    ⎥\n",
       "⎢-1  0   0   0   0   0   1   0   0   0   0  0  0  0  0  0  0  0  0  0⎥\n",
       "⎢                                                                    ⎥\n",
       "⎢0   0   0   -1  0   0   0   1   0   0   0  0  0  0  0  0  0  0  0  0⎥\n",
       "⎢                                                                    ⎥\n",
       "⎢0   0   -1  0   0   0   0   0   1   0   0  0  0  0  0  0  0  0  0  0⎥\n",
       "⎢                                                                    ⎥\n",
       "⎢1   -1  0   0   -1  0   0   0   0   1   0  0  0  0  0  0  0  0  0  0⎥\n",
       "⎢                                                                    ⎥\n",
       "⎢-1  0   0   0   0   0   0   0   0   0   1  0  0  0  0  0  0  0  0  0⎥\n",
       "⎢                                                                    ⎥\n",
       "⎢0   1   0   -1  0   -1  0   0   0   0   0  1  0  0  0  0  0  0  0  0⎥\n",
       "⎢                                                                    ⎥\n",
       "⎢-1  0   0   0   0   0   0   0   0   0   0  0  1  0  0  0  0  0  0  0⎥\n",
       "⎢                                                                    ⎥\n",
       "⎢1   -1  0   0   0   0   -1  0   0   0   0  0  0  1  0  0  0  0  0  0⎥\n",
       "⎢                                                                    ⎥\n",
       "⎢1   0   -1  0   -1  0   0   0   0   0   0  0  0  0  1  0  0  0  0  0⎥\n",
       "⎢                                                                    ⎥\n",
       "⎢0   0   0   0   0   0   0   -1  0   0   0  0  0  0  0  1  0  0  0  0⎥\n",
       "⎢                                                                    ⎥\n",
       "⎢-1  0   0   0   0   0   0   0   0   0   0  0  0  0  0  0  1  0  0  0⎥\n",
       "⎢                                                                    ⎥\n",
       "⎢0   0   1   0   0   -1  0   0   -1  0   0  0  0  0  0  0  0  1  0  0⎥\n",
       "⎢                                                                    ⎥\n",
       "⎢-1  0   0   0   0   0   0   0   0   0   0  0  0  0  0  0  0  0  1  0⎥\n",
       "⎢                                                                    ⎥\n",
       "⎣0   1   0   -1  0   0   0   0   0   -1  0  0  0  0  0  0  0  0  0  1⎦"
      ]
     },
     "execution_count": 106,
     "metadata": {},
     "output_type": "execute_result"
    }
   ],
   "source": [
    "j_divides_i = Matrix(fromfunction(lambda i,j: where((i+1) % (j+1) == 0, 1, 0), (20, 20)))\n",
    "inv_j_divides_i = j_divides_i.inv()\n",
    "inv_j_divides_i"
   ]
  },
  {
   "cell_type": "code",
   "execution_count": 107,
   "metadata": {
    "collapsed": false
   },
   "outputs": [
    {
     "data": {
      "text/plain": [
       "True"
      ]
     },
     "execution_count": 107,
     "metadata": {},
     "output_type": "execute_result"
    }
   ],
   "source": [
    "mo = [[int(mobius((i + 1) / (j + 1))) if (i + 1) % (j + 1) == 0 else 0 for j in range(20)] for i in range(20)]\n",
    "Matrix(mo) == inv_j_divides_i"
   ]
  },
  {
   "cell_type": "code",
   "execution_count": 108,
   "metadata": {
    "collapsed": false
   },
   "outputs": [
    {
     "data": {
      "text/latex": [
       "$$\\left\\{\\left ( 3 t_{0} - 5, \\quad - 2 t_{0} + 5\\right )\\right\\}$$"
      ],
      "text/plain": [
       "set([(3⋅t₀ - 5, -2⋅t₀ + 5)])"
      ]
     },
     "execution_count": 108,
     "metadata": {},
     "output_type": "execute_result"
    }
   ],
   "source": [
    "diophantine(2*x + 3*y - 5)"
   ]
  },
  {
   "cell_type": "code",
   "execution_count": 109,
   "metadata": {
    "collapsed": false
   },
   "outputs": [
    {
     "data": {
      "text/plain": [
       "{(2, 1), (5, 1)}"
      ]
     },
     "execution_count": 109,
     "metadata": {},
     "output_type": "execute_result"
    }
   ],
   "source": [
    "diophantine(x**2 - 4*x*y + 8*y**2 - 3*x + 7*y - 5)"
   ]
  },
  {
   "cell_type": "code",
   "execution_count": 110,
   "metadata": {
    "collapsed": false
   },
   "outputs": [
    {
     "name": "stdout",
     "output_type": "stream",
     "text": [
      "(7348655773126303755629132256340558924373328617090197171706667985290133761074361570679971146341442904888591341841287254965947859225905297999477796015919477067007270662755471894303543848700521290783297130156224163076157960251257693490144231567905196959807936667239827765383424517553637410148296202159548497638625891934215562498854803999087988746111891278525153998140276439504335166247691283287982071011L, 13368210114309858110490408377394654362940185298164216827948999032605862717288140668701831983256694918479543797066513434530829632365715334435258980969002310473634736670934466710096296555376044613951842365465867556366705263409477296458008936007006429171666426262499427073084651776609218709214727849066557411083083942753965341146350258607478649802267967135142551807477661688074367083808666023441349174043384L)\n",
      "Wall time: 20.1 s\n"
     ]
    }
   ],
   "source": [
    "%%time\n",
    "a = 30741415699351712223222592216948664852787225938672761888182663459401433940293299920472821794247792558438137266179003170954852009167996\n",
    "b = 5493768938913164268735898548345740984062864198582915532893452862692397723477349340213609803716310002722689784104429402408034399680657214203589114662020419403506380275921075865806868813167390548527002018378296772011002830464813992537445273710373363121247809539380530302504021135339366740636410963119289644130568327436166142653219502858785723203265988729334812946807271940413511096470449043813939925759131485224930805050595388961884769573807597931344321170355620526497042548348665782820474459300583235597864519400688289208986957832681459966933968204573143630154199268824952951642924625108969237666308633980889261559554117298872683137210357137988177192697560524562835477922442010038014370796719316949327823897102946508453004777622812045656957796013010907193455701053005247975317200627083352360327185314875288693488759973999715297338413318230762734322668133288476183336301663326505090120348966948964517423252467946014780068274519231694498484297\n",
    "print max(list(diophantine(x**2 + a*(y**2) - b)))"
   ]
  },
  {
   "cell_type": "markdown",
   "metadata": {},
   "source": [
    "## Перестановки"
   ]
  },
  {
   "cell_type": "code",
   "execution_count": 111,
   "metadata": {
    "collapsed": true
   },
   "outputs": [],
   "source": [
    "from sympy.combinatorics import Permutation"
   ]
  },
  {
   "cell_type": "code",
   "execution_count": 112,
   "metadata": {
    "collapsed": false
   },
   "outputs": [
    {
     "name": "stdout",
     "output_type": "stream",
     "text": [
      "(1 3) (0 1 2 3)\n"
     ]
    }
   ],
   "source": [
    "p = Permutation([0, 3, 2, 1])\n",
    "q = Permutation([1, 2, 3, 0])\n",
    "print p, q"
   ]
  },
  {
   "cell_type": "code",
   "execution_count": 113,
   "metadata": {
    "collapsed": false
   },
   "outputs": [
    {
     "name": "stdout",
     "output_type": "stream",
     "text": [
      "1\n",
      "[0, 1, 3, 4, 2]\n"
     ]
    }
   ],
   "source": [
    "print Permutation([0,1,2,4,3]).rank()\n",
    "print Permutation.unrank_lex(5, 3).array_form"
   ]
  },
  {
   "cell_type": "code",
   "execution_count": 114,
   "metadata": {
    "collapsed": false
   },
   "outputs": [
    {
     "name": "stdout",
     "output_type": "stream",
     "text": [
      "3 {1: 2, 2: 1} {4: 1}\n"
     ]
    }
   ],
   "source": [
    "print p.cycles, p.cycle_structure, q.cycle_structure"
   ]
  },
  {
   "cell_type": "code",
   "execution_count": 115,
   "metadata": {
    "collapsed": false
   },
   "outputs": [
    {
     "name": "stdout",
     "output_type": "stream",
     "text": [
      "3 False 1\n"
     ]
    }
   ],
   "source": [
    "print p.inversions(), p.is_even, p.parity()"
   ]
  },
  {
   "cell_type": "code",
   "execution_count": 116,
   "metadata": {
    "collapsed": false
   },
   "outputs": [
    {
     "name": "stdout",
     "output_type": "stream",
     "text": [
      "[1, 3] [0, 1, 2, 3]\n"
     ]
    }
   ],
   "source": [
    "print p.support(), q.support()"
   ]
  },
  {
   "cell_type": "code",
   "execution_count": 117,
   "metadata": {
    "collapsed": false
   },
   "outputs": [
    {
     "name": "stdout",
     "output_type": "stream",
     "text": [
      "2 4\n"
     ]
    }
   ],
   "source": [
    "print p.order(), q.order()"
   ]
  },
  {
   "cell_type": "code",
   "execution_count": 118,
   "metadata": {
    "collapsed": false
   },
   "outputs": [
    {
     "data": {
      "text/plain": [
       "[4, 0, 5, 1, 2, 3]"
      ]
     },
     "execution_count": 118,
     "metadata": {},
     "output_type": "execute_result"
    }
   ],
   "source": [
    "list(Permutation.from_sequence('eafbcd'))"
   ]
  },
  {
   "cell_type": "code",
   "execution_count": 119,
   "metadata": {
    "collapsed": false
   },
   "outputs": [
    {
     "name": "stdout",
     "output_type": "stream",
     "text": [
      "5 [1, 0, 2, 3]\n"
     ]
    }
   ],
   "source": [
    "print p.rank(), p.next_lex().array_form"
   ]
  },
  {
   "cell_type": "code",
   "execution_count": 120,
   "metadata": {
    "collapsed": false
   },
   "outputs": [
    {
     "name": "stdout",
     "output_type": "stream",
     "text": [
      "[1, 0, 3, 2] [3, 2, 1, 0]\n"
     ]
    }
   ],
   "source": [
    "print list(p * q), list(q * p)"
   ]
  },
  {
   "cell_type": "code",
   "execution_count": 121,
   "metadata": {
    "collapsed": false
   },
   "outputs": [
    {
     "data": {
      "text/plain": [
       "[(0, 3), (0, 2), (0, 1)]"
      ]
     },
     "execution_count": 121,
     "metadata": {},
     "output_type": "execute_result"
    }
   ],
   "source": [
    "q.transpositions()"
   ]
  },
  {
   "cell_type": "code",
   "execution_count": 122,
   "metadata": {
    "collapsed": false
   },
   "outputs": [
    {
     "name": "stdout",
     "output_type": "stream",
     "text": [
      "[2, 3, 0, 1] [2, 3, 0, 1] [[0, 2], [1, 3]] [2, 3, 0, 1]\n"
     ]
    }
   ],
   "source": [
    "pp = Permutation(0, 2)(1, 3)\n",
    "print pp(range(4)), pp.list(), pp.cyclic_form, pp.array_form"
   ]
  },
  {
   "cell_type": "code",
   "execution_count": 123,
   "metadata": {
    "collapsed": false
   },
   "outputs": [
    {
     "data": {
      "text/plain": [
       "[0, 2, 1, 3, 4]"
      ]
     },
     "execution_count": 123,
     "metadata": {},
     "output_type": "execute_result"
    }
   ],
   "source": [
    "Permutation([[1,2]], size=5).list()"
   ]
  },
  {
   "cell_type": "code",
   "execution_count": 124,
   "metadata": {
    "collapsed": false
   },
   "outputs": [
    {
     "name": "stdout",
     "output_type": "stream",
     "text": [
      "[[1, 2]] [[0], [1, 2], [3], [4]]\n"
     ]
    }
   ],
   "source": [
    "print Permutation([[1,2]], size=5).cyclic_form, Permutation([[1,2]], size=5).full_cyclic_form"
   ]
  },
  {
   "cell_type": "code",
   "execution_count": 125,
   "metadata": {
    "collapsed": false
   },
   "outputs": [
    {
     "data": {
      "text/plain": [
       "True"
      ]
     },
     "execution_count": 125,
     "metadata": {},
     "output_type": "execute_result"
    }
   ],
   "source": [
    "Permutation(0, 4) == Permutation([4, 1, 2, 3, 0])"
   ]
  },
  {
   "cell_type": "code",
   "execution_count": 126,
   "metadata": {
    "collapsed": false
   },
   "outputs": [
    {
     "data": {
      "text/plain": [
       "2"
      ]
     },
     "execution_count": 126,
     "metadata": {},
     "output_type": "execute_result"
    }
   ],
   "source": [
    "p.length()"
   ]
  },
  {
   "cell_type": "code",
   "execution_count": 127,
   "metadata": {
    "collapsed": false
   },
   "outputs": [
    {
     "data": {
      "text/plain": [
       "[0, 3, 2, 1]"
      ]
     },
     "execution_count": 127,
     "metadata": {},
     "output_type": "execute_result"
    }
   ],
   "source": [
    "[i ^ p ** 3 for i in range(4)]"
   ]
  },
  {
   "cell_type": "code",
   "execution_count": 128,
   "metadata": {
    "collapsed": false
   },
   "outputs": [
    {
     "data": {
      "text/plain": [
       "([3, 2, 1, 0], [1, 0, 3, 2])"
      ]
     },
     "execution_count": 128,
     "metadata": {},
     "output_type": "execute_result"
    }
   ],
   "source": [
    "q(p(range(4))), (p * q)(range(4))"
   ]
  },
  {
   "cell_type": "markdown",
   "metadata": {},
   "source": [
    "## Группы"
   ]
  },
  {
   "cell_type": "code",
   "execution_count": 129,
   "metadata": {
    "collapsed": false
   },
   "outputs": [
    {
     "name": "stdout",
     "output_type": "stream",
     "text": [
      "[Permutation(4), Permutation(0, 4)(1, 3), Permutation(0, 1, 2, 3, 4), Permutation(1, 4)(2, 3), Permutation(0, 2, 4, 1, 3), Permutation(0, 1)(2, 4), Permutation(0, 3, 1, 4, 2), Permutation(0, 2)(3, 4), Permutation(0, 4, 3, 2, 1), Permutation(4)(0, 3)(1, 2)]\n"
     ]
    }
   ],
   "source": [
    "print list(sympy.combinatorics.dihedral(5))"
   ]
  },
  {
   "cell_type": "code",
   "execution_count": 130,
   "metadata": {
    "collapsed": false
   },
   "outputs": [
    {
     "name": "stdout",
     "output_type": "stream",
     "text": [
      "symmetric 120\n",
      "cyclic 5\n",
      "alternating 60\n",
      "dihedral 10\n"
     ]
    }
   ],
   "source": [
    "for gr in 'symmetric cyclic alternating dihedral'.split():\n",
    "    print gr, len(list(getattr(sympy.combinatorics, gr)(5)))"
   ]
  },
  {
   "cell_type": "markdown",
   "metadata": {},
   "source": [
    "Мультипликативная группа, порядок элемента в $Z_n^*$, степень по модулю, корень по вычету, дискретный логарифм"
   ]
  },
  {
   "cell_type": "code",
   "execution_count": 131,
   "metadata": {
    "collapsed": false
   },
   "outputs": [
    {
     "data": {
      "text/plain": [
       "376"
      ]
     },
     "execution_count": 131,
     "metadata": {},
     "output_type": "execute_result"
    }
   ],
   "source": [
    "pow(2, 100, 1000)"
   ]
  },
  {
   "cell_type": "markdown",
   "metadata": {},
   "source": [
    "$2^{504} \\equiv 1 \\pmod{1009} \\\\\n",
    "2^{503} \\equiv 2^{-1} \\equiv 505 \\pmod{1009}$"
   ]
  },
  {
   "cell_type": "code",
   "execution_count": 132,
   "metadata": {
    "collapsed": false
   },
   "outputs": [
    {
     "name": "stdout",
     "output_type": "stream",
     "text": [
      "1 504 505 505\n"
     ]
    }
   ],
   "source": [
    "print pow(2, 504, 1009), n_order(2, 1009), mod_inverse(2, 1009), pow(2, 504-1, 1009)"
   ]
  },
  {
   "cell_type": "code",
   "execution_count": 133,
   "metadata": {
    "collapsed": false
   },
   "outputs": [
    {
     "name": "stdout",
     "output_type": "stream",
     "text": [
      "2 503\n"
     ]
    }
   ],
   "source": [
    "print nthroot_mod(505, 503, 1009), discrete_log(1009, 2, 505)"
   ]
  },
  {
   "cell_type": "markdown",
   "metadata": {},
   "source": [
    "## Комбинаторика"
   ]
  },
  {
   "cell_type": "code",
   "execution_count": 134,
   "metadata": {
    "collapsed": false
   },
   "outputs": [
    {
     "name": "stdout",
     "output_type": "stream",
     "text": [
      "[0, 1, 1, 2, 3, 5, 8, 13, 21, 34]\n"
     ]
    }
   ],
   "source": [
    "print [fibonacci(k) for k in range(10)]"
   ]
  },
  {
   "cell_type": "code",
   "execution_count": 135,
   "metadata": {
    "collapsed": false
   },
   "outputs": [
    {
     "name": "stdout",
     "output_type": "stream",
     "text": [
      "93326215443944152681699238856266700490715968264381621468592963895217599993229915608941463976156518286253697920827223758251185210916864000000000000000000000000\n",
      "34332795984163804765195977526776142032365783805375784983543400282685180793327632432791396429850988990237345920155783984828001486412574060553756854137069878601\n"
     ]
    }
   ],
   "source": [
    "print factorial(100)\n",
    "print subfactorial(100)"
   ]
  },
  {
   "cell_type": "code",
   "execution_count": 136,
   "metadata": {
    "collapsed": false
   },
   "outputs": [
    {
     "name": "stdout",
     "output_type": "stream",
     "text": [
      "[1, 10, 45, 120, 210, 252, 210, 120, 45, 10, 1]\n"
     ]
    }
   ],
   "source": [
    "print [binomial(10, k) for k in range(11)]"
   ]
  },
  {
   "cell_type": "markdown",
   "metadata": {},
   "source": [
    "Число Каталана — число правильных скобочных последовательностей длины $2n$"
   ]
  },
  {
   "cell_type": "code",
   "execution_count": 137,
   "metadata": {
    "collapsed": false
   },
   "outputs": [
    {
     "name": "stdout",
     "output_type": "stream",
     "text": [
      "[1, 1, 2, 5, 14, 42, 132, 429, 1430, 4862]\n"
     ]
    }
   ],
   "source": [
    "print [catalan(k) for k in range(10)]"
   ]
  },
  {
   "cell_type": "markdown",
   "metadata": {},
   "source": [
    "Числа Стирлинга 1-го рода $\\left[ n \\atop k \\right]$ — коэффициенты при $x^k$ разложения $x^{\\underline{n}} = x (x-1) \\ldots (x-n+1)$.\n",
    "\n",
    "Числа Стирлинга 2-го рода  $\\left\\{ {n \\atop k} \\right\\}$ — коэффициенты при $x^{\\underline{k}}$ разложения $x^n$. Заодно число разбиений множества размера $n$ на $k$ непустых подмножеств."
   ]
  },
  {
   "cell_type": "code",
   "execution_count": 138,
   "metadata": {
    "collapsed": false
   },
   "outputs": [
    {
     "data": {
      "text/latex": [
       "$$x^{10} - 45 x^{9} + 870 x^{8} - 9450 x^{7} + 63273 x^{6} - 269325 x^{5} + 723680 x^{4} - 1172700 x^{3} + 1026576 x^{2} - 362880 x$$"
      ],
      "text/plain": [
       " 10       9        8         7          6           5           4            3\n",
       "x   - 45⋅x  + 870⋅x  - 9450⋅x  + 63273⋅x  - 269325⋅x  + 723680⋅x  - 1172700⋅x \n",
       "\n",
       "            2           \n",
       " + 1026576⋅x  - 362880⋅x"
      ]
     },
     "execution_count": 138,
     "metadata": {},
     "output_type": "execute_result"
    }
   ],
   "source": [
    "k = var('k')\n",
    "expand(product(x-k, (k, 0, 9)))"
   ]
  },
  {
   "cell_type": "code",
   "execution_count": 139,
   "metadata": {
    "collapsed": false
   },
   "outputs": [
    {
     "name": "stdout",
     "output_type": "stream",
     "text": [
      "[0, 362880, 1026576, 1172700, 723680, 269325, 63273, 9450, 870, 45, 1]\n"
     ]
    }
   ],
   "source": [
    "print [sympy.combinatorial.numbers.stirling(10, k, kind=1) for k in range(11)]"
   ]
  },
  {
   "cell_type": "code",
   "execution_count": 140,
   "metadata": {
    "collapsed": false
   },
   "outputs": [
    {
     "name": "stdout",
     "output_type": "stream",
     "text": [
      "[0, 1, 511, 9330, 34105, 42525, 22827, 5880, 750, 45, 1]\n"
     ]
    }
   ],
   "source": [
    "print [sympy.combinatorial.numbers.stirling(10, k, kind=2) for k in range(11)]"
   ]
  },
  {
   "cell_type": "markdown",
   "metadata": {},
   "source": [
    "Число Белла — число разбиений множества размера $n$"
   ]
  },
  {
   "cell_type": "code",
   "execution_count": 141,
   "metadata": {
    "collapsed": false
   },
   "outputs": [
    {
     "name": "stdout",
     "output_type": "stream",
     "text": [
      "[1, 1, 2, 5, 15, 52, 203, 877, 4140, 21147]\n"
     ]
    }
   ],
   "source": [
    "print [sympy.combinatorial.numbers.bell(k) for k in range(10)]"
   ]
  },
  {
   "cell_type": "markdown",
   "metadata": {},
   "source": [
    "Числа Бернулли известны прежде всего из-за их роли в формуле Фаульхабера https://en.wikipedia.org/wiki/Faulhaber%27s_formula о закрытой форме суммы $\\sum_{k=1}^n k^p$."
   ]
  },
  {
   "cell_type": "code",
   "execution_count": 142,
   "metadata": {
    "collapsed": false
   },
   "outputs": [
    {
     "name": "stdout",
     "output_type": "stream",
     "text": [
      "[1, -1/2, 1/6, 0, -1/30, 0, 1/42, 0, -1/30, 0]\n"
     ]
    }
   ],
   "source": [
    "print [bernoulli(k) for k in range(10)]"
   ]
  },
  {
   "cell_type": "markdown",
   "metadata": {},
   "source": [
    "Число разбиений"
   ]
  },
  {
   "cell_type": "code",
   "execution_count": 143,
   "metadata": {
    "collapsed": false
   },
   "outputs": [
    {
     "data": {
      "text/plain": [
       "204226"
      ]
     },
     "execution_count": 143,
     "metadata": {},
     "output_type": "execute_result"
    }
   ],
   "source": [
    "npartitions(50)"
   ]
  },
  {
   "cell_type": "code",
   "execution_count": 144,
   "metadata": {
    "collapsed": false
   },
   "outputs": [
    {
     "name": "stdout",
     "output_type": "stream",
     "text": [
      "[1, 1, 1, 1, 1, 1]\n",
      "[2, 1, 1, 1, 1]\n",
      "[2, 2, 1, 1]\n",
      "[2, 2, 2]\n",
      "[3, 1, 1, 1]\n",
      "[3, 2, 1]\n",
      "[3, 3]\n",
      "[4, 1, 1]\n",
      "[4, 2]\n",
      "[5, 1]\n",
      "[6]\n"
     ]
    }
   ],
   "source": [
    "import sympy.combinatorics\n",
    "pa = sympy.combinatorics.partitions.IntegerPartition([1] * 6)\n",
    "while True:\n",
    "    print pa.partition\n",
    "    if len(pa.partition) == 1: break\n",
    "    pa = pa.next_lex()"
   ]
  },
  {
   "cell_type": "code",
   "execution_count": 145,
   "metadata": {
    "collapsed": false
   },
   "outputs": [
    {
     "name": "stdout",
     "output_type": "stream",
     "text": [
      "['0000', '0001', '0011', '0010', '0110', '0111', '0101', '0100', '1100', '1101', '1111', '1110', '1010', '1011', '1001', '1000']\n"
     ]
    }
   ],
   "source": [
    "print list(sympy.combinatorics.subsets.GrayCode(4).generate_gray())"
   ]
  },
  {
   "cell_type": "code",
   "execution_count": 146,
   "metadata": {
    "collapsed": false
   },
   "outputs": [
    {
     "name": "stdout",
     "output_type": "stream",
     "text": [
      "0 []\n",
      "1 ['d']\n",
      "2 ['c', 'd']\n",
      "3 ['c']\n",
      "4 ['b', 'c']\n",
      "5 ['b', 'c', 'd']\n",
      "6 ['b', 'd']\n",
      "7 ['b']\n",
      "8 ['a', 'b']\n",
      "9 ['a', 'b', 'd']\n",
      "10 ['a', 'b', 'c', 'd']\n",
      "11 ['a', 'b', 'c']\n",
      "12 ['a', 'c']\n",
      "13 ['a', 'c', 'd']\n",
      "14 ['a', 'd']\n",
      "15 ['a']\n"
     ]
    }
   ],
   "source": [
    "ss = sympy.combinatorics.Subset([], 'abcd')\n",
    "while True:\n",
    "    print ss.rank_gray, ss.subset\n",
    "    ss = ss.next_gray()\n",
    "    if ss.subset == []: break"
   ]
  },
  {
   "cell_type": "code",
   "execution_count": 147,
   "metadata": {
    "collapsed": false
   },
   "outputs": [
    {
     "name": "stdout",
     "output_type": "stream",
     "text": [
      "0 []\n",
      "1 ['d']\n",
      "2 ['c']\n",
      "3 ['c', 'd']\n",
      "4 ['b']\n",
      "5 ['b', 'd']\n",
      "6 ['b', 'c']\n",
      "7 ['b', 'c', 'd']\n",
      "8 ['a']\n",
      "9 ['a', 'd']\n",
      "10 ['a', 'c']\n",
      "11 ['a', 'c', 'd']\n",
      "12 ['a', 'b']\n",
      "13 ['a', 'b', 'd']\n",
      "14 ['a', 'b', 'c']\n",
      "15 ['a', 'b', 'c', 'd']\n"
     ]
    }
   ],
   "source": [
    "ss = sympy.combinatorics.Subset([], 'abcd')\n",
    "while True:\n",
    "    print ss.rank_binary, ss.subset\n",
    "    ss = ss.next_binary()\n",
    "    if ss.subset == []:\n",
    "        break"
   ]
  },
  {
   "cell_type": "code",
   "execution_count": 148,
   "metadata": {
    "collapsed": false
   },
   "outputs": [
    {
     "data": {
      "text/plain": [
       "[('a', 'b'), ('a', 'c'), ('a', 'd'), ('b', 'c'), ('b', 'd'), ('c', 'd')]"
      ]
     },
     "execution_count": 148,
     "metadata": {},
     "output_type": "execute_result"
    }
   ],
   "source": [
    "list(sympy.combinatorics.subsets.ksubsets('abcd', 2))"
   ]
  },
  {
   "cell_type": "markdown",
   "metadata": {},
   "source": [
    "## Геометрия"
   ]
  },
  {
   "cell_type": "code",
   "execution_count": 149,
   "metadata": {
    "collapsed": false
   },
   "outputs": [
    {
     "name": "stdout",
     "output_type": "stream",
     "text": [
      "Line2D(Point2D(1, 1), Point2D(2, 7/5))\n"
     ]
    }
   ],
   "source": [
    "print Line(Point(1,1), slope=S('2/5'))"
   ]
  },
  {
   "cell_type": "code",
   "execution_count": 150,
   "metadata": {
    "collapsed": false
   },
   "outputs": [
    {
     "name": "stdout",
     "output_type": "stream",
     "text": [
      "Point2D(1/2, 1/2)\n"
     ]
    }
   ],
   "source": [
    "print Segment(Point(0,0), Point(1,1)).midpoint"
   ]
  },
  {
   "cell_type": "code",
   "execution_count": 151,
   "metadata": {
    "collapsed": false
   },
   "outputs": [
    {
     "name": "stdout",
     "output_type": "stream",
     "text": [
      "False\n",
      "True\n",
      "\n",
      "Triangle(Point2D(0, 0), Point2D(3, 0), Point2D(0, 4))\n",
      "6 12\n",
      "{Point2D(3, 0): acos(3/5), Point2D(0, 0): pi/2, Point2D(0, 4): acos(4/5)}\n",
      "\n",
      "Медианы\n",
      "{Point2D(3, 0): Segment2D(Point2D(0, 2), Point2D(3, 0)), Point2D(0, 0): Segment2D(Point2D(0, 0), Point2D(3/2, 2)), Point2D(0, 4): Segment2D(Point2D(0, 4), Point2D(3/2, 0))}\n",
      "True\n",
      "Point2D(1, 4/3)\n",
      "\n",
      "Высоты\n",
      "{Point2D(3, 0): Segment2D(Point2D(0, 0), Point2D(3, 0)), Point2D(0, 0): Segment2D(Point2D(0, 0), Point2D(48/25, 36/25)), Point2D(0, 4): Segment2D(Point2D(0, 0), Point2D(0, 4))}\n",
      "True\n",
      "[Point2D(0, 0)]\n",
      "\n",
      "Биссектрисы\n",
      "{Point2D(3, 0): Segment2D(Point2D(0, 3/2), Point2D(3, 0)), Point2D(0, 0): Segment2D(Point2D(0, 0), Point2D(12/7, 12/7)), Point2D(0, 4): Segment2D(Point2D(0, 4), Point2D(4/3, 0))}\n",
      "True\n",
      "[Point2D(1, 1)]\n",
      "Вписанная окружность Point2D(1, 1) 1 Circle(Point2D(1, 1), 1)\n",
      "\n",
      "{Point2D(3/2, 2)}\n",
      "Описанная окружность Point2D(3/2, 2) 5/2 Circle(Point2D(3/2, 2), 5/2)\n",
      "\n",
      "(0, 0, 3, 4)\n"
     ]
    }
   ],
   "source": [
    "A = Point(0,0)\n",
    "B = Point(3,0)\n",
    "C = Point(0,4)\n",
    "print Point.is_collinear(A, B, C)\n",
    "print Line(A, B).is_perpendicular(Line(A, C))\n",
    "print\n",
    "\n",
    "t = Triangle(A, B, C)\n",
    "print t\n",
    "print t.area, t.perimeter\n",
    "print t.angles\n",
    "print\n",
    "\n",
    "print 'Медианы'\n",
    "print t.medians\n",
    "print Line.are_concurrent(t.medians.values())\n",
    "print t.centroid # intersection(t.medians.values()[0], t.medians.values()[1])\n",
    "print\n",
    "\n",
    "print 'Высоты'\n",
    "print t.altitudes\n",
    "print Line.are_concurrent(t.altitudes.values())\n",
    "print intersection(t.altitudes.values()[0], t.altitudes.values()[1])\n",
    "print\n",
    "\n",
    "print 'Биссектрисы'\n",
    "print t.bisectors()\n",
    "print Line.are_concurrent(t.bisectors().values())\n",
    "print intersection(t.bisectors().values()[0], t.bisectors().values()[1])\n",
    "print 'Вписанная окружность', t.incenter, t.inradius, t.incircle\n",
    "print\n",
    "\n",
    "AB = Segment(A, B)\n",
    "AC = Segment(A, C)\n",
    "print AB.perpendicular_line(AB.midpoint).intersect(AC.perpendicular_line(AC.midpoint))\n",
    "print 'Описанная окружность', t.circumcenter, t.circumradius, t.circumcircle\n",
    "print\n",
    "\n",
    "print t.bounds"
   ]
  },
  {
   "cell_type": "code",
   "execution_count": 152,
   "metadata": {
    "collapsed": false
   },
   "outputs": [
    {
     "data": {
      "text/latex": [
       "$$\\operatorname{acos}{\\left (- \\frac{3}{5} \\right )}$$"
      ],
      "text/plain": [
       "acos(-3/5)"
      ]
     },
     "execution_count": 152,
     "metadata": {},
     "output_type": "execute_result"
    }
   ],
   "source": [
    "Line(A, B).angle_between(Line(B, C))"
   ]
  },
  {
   "cell_type": "code",
   "execution_count": 153,
   "metadata": {
    "collapsed": false
   },
   "outputs": [
    {
     "name": "stdout",
     "output_type": "stream",
     "text": [
      "Point2D(-3*t + 3, 4*t)\n"
     ]
    }
   ],
   "source": [
    "print Line(B, C).arbitrary_point()"
   ]
  },
  {
   "cell_type": "code",
   "execution_count": 154,
   "metadata": {
    "collapsed": false
   },
   "outputs": [
    {
     "data": {
      "text/latex": [
       "$$4$$"
      ],
      "text/plain": [
       "4"
      ]
     },
     "execution_count": 154,
     "metadata": {},
     "output_type": "execute_result"
    }
   ],
   "source": [
    "Line(A, B).distance(Point(C))"
   ]
  },
  {
   "cell_type": "code",
   "execution_count": 155,
   "metadata": {
    "collapsed": false
   },
   "outputs": [
    {
     "data": {
      "text/latex": [
       "$$5$$"
      ],
      "text/plain": [
       "5"
      ]
     },
     "execution_count": 155,
     "metadata": {},
     "output_type": "execute_result"
    }
   ],
   "source": [
    "Segment(B, C).length"
   ]
  },
  {
   "cell_type": "code",
   "execution_count": 156,
   "metadata": {
    "collapsed": false
   },
   "outputs": [
    {
     "data": {
      "text/latex": [
       "$$\\sqrt{2}$$"
      ],
      "text/plain": [
       "√2"
      ]
     },
     "execution_count": 156,
     "metadata": {},
     "output_type": "execute_result"
    }
   ],
   "source": [
    "Ray(A, B).distance(Point(-1,1))"
   ]
  },
  {
   "cell_type": "code",
   "execution_count": 157,
   "metadata": {
    "collapsed": false
   },
   "outputs": [
    {
     "data": {
      "text/latex": [
       "$$\\frac{12}{5}$$"
      ],
      "text/plain": [
       "12/5"
      ]
     },
     "execution_count": 157,
     "metadata": {},
     "output_type": "execute_result"
    }
   ],
   "source": [
    "Segment(B, C).distance(A)"
   ]
  },
  {
   "cell_type": "code",
   "execution_count": 158,
   "metadata": {
    "collapsed": false
   },
   "outputs": [
    {
     "name": "stdout",
     "output_type": "stream",
     "text": [
      "Line2D(Point2D(5, 5), Point2D(8, 1))\n",
      "Line2D(Point2D(5, 5), Point2D(9, 8))\n",
      "Segment2D(Point2D(33/25, 56/25), Point2D(5, 5))\n"
     ]
    }
   ],
   "source": [
    "print Segment(B, C).parallel_line(Point(5,5))\n",
    "print Segment(B, C).perpendicular_line(Point(5,5))\n",
    "print Segment(B, C).perpendicular_segment(Point(5,5))"
   ]
  },
  {
   "cell_type": "code",
   "execution_count": 159,
   "metadata": {
    "collapsed": false
   },
   "outputs": [
    {
     "name": "stdout",
     "output_type": "stream",
     "text": [
      "Point2D(33/25, 56/25)\n"
     ]
    }
   ],
   "source": [
    "print Line(B, C).projection(Point(5,5))"
   ]
  },
  {
   "cell_type": "code",
   "execution_count": 160,
   "metadata": {
    "collapsed": false
   },
   "outputs": [
    {
     "name": "stdout",
     "output_type": "stream",
     "text": [
      "Segment2D(Point2D(6/5, 12/5), Point2D(33/25, 56/25))\n"
     ]
    }
   ],
   "source": [
    "print Line(B, C).projection(Segment(Point(5,5), Point(6,6)))"
   ]
  },
  {
   "cell_type": "code",
   "execution_count": 161,
   "metadata": {
    "collapsed": false
   },
   "outputs": [
    {
     "name": "stdout",
     "output_type": "stream",
     "text": [
      "Line2D(Point2D(3/2, 0), Point2D(3/2, 1))\n"
     ]
    }
   ],
   "source": [
    "print AB.perpendicular_bisector()"
   ]
  },
  {
   "cell_type": "code",
   "execution_count": 162,
   "metadata": {
    "collapsed": false
   },
   "outputs": [
    {
     "name": "stdout",
     "output_type": "stream",
     "text": [
      "Triangle(Point2D(0, 0), Point2D(3/2, 3*sqrt(3)/2), Point2D(-2*sqrt(3), 2))\n"
     ]
    }
   ],
   "source": [
    "print t.rotate(pi/3)"
   ]
  },
  {
   "cell_type": "code",
   "execution_count": 163,
   "metadata": {
    "collapsed": false
   },
   "outputs": [
    {
     "name": "stdout",
     "output_type": "stream",
     "text": [
      "4*x + 3*y - 12 (4, 3, -12)\n",
      "{Point2D(3, 0)}\n"
     ]
    }
   ],
   "source": [
    "L = Line(C, B)\n",
    "L2 = Line(A, B)\n",
    "print L.equation(), L.coefficients\n",
    "print L.intersect(L2)"
   ]
  },
  {
   "cell_type": "markdown",
   "metadata": {},
   "source": [
    "Задача с тестового тура ПВГ: В равнобедренном треугольнике известно основание $b=126$ и медиана $m_a = \\frac{\\sqrt{35997}}{2}$, проведенная к боковой стороне. Найдите расстояние между центрами вписанной и описанной окружностей."
   ]
  },
  {
   "cell_type": "code",
   "execution_count": 164,
   "metadata": {
    "collapsed": false
   },
   "outputs": [
    {
     "name": "stdout",
     "output_type": "stream",
     "text": [
      "h = 16\n",
      "3965/32\n"
     ]
    }
   ],
   "source": [
    "h = var('h')\n",
    "A = Point(0, 0)\n",
    "B = Point(63, h)\n",
    "C = Point(126, 0)\n",
    "T = Triangle(A, B, C)\n",
    "hh = max(solve(T.medians[A].length - sqrt(35977) / 2))\n",
    "print 'h =', hh\n",
    "B = Point(63, hh)\n",
    "T = Triangle(A, B, C)\n",
    "print Segment(T.incircle.center, T.circumcircle.center).length"
   ]
  },
  {
   "cell_type": "code",
   "execution_count": 165,
   "metadata": {
    "collapsed": false
   },
   "outputs": [
    {
     "data": {
      "text/latex": [
       "$$\\left(x - 5\\right)^{2} + \\left(\\frac{y}{2} - \\frac{5}{2}\\right)^{2} - 1$$"
      ],
      "text/plain": [
       "                  2    \n",
       "       2   ⎛y   5⎞     \n",
       "(x - 5)  + ⎜─ - ─⎟  - 1\n",
       "           ⎝2   2⎠     "
      ]
     },
     "execution_count": 165,
     "metadata": {},
     "output_type": "execute_result"
    }
   ],
   "source": [
    "el = Ellipse(Point(5,5), 1, 2)\n",
    "el.equation()"
   ]
  },
  {
   "cell_type": "code",
   "execution_count": 166,
   "metadata": {
    "collapsed": false
   },
   "outputs": [
    {
     "name": "stdout",
     "output_type": "stream",
     "text": [
      "Ellipse(Point2D(-5, 5), 2, 1)\n"
     ]
    }
   ],
   "source": [
    "print el.rotate(pi/2, Point(0,0))"
   ]
  },
  {
   "cell_type": "code",
   "execution_count": 167,
   "metadata": {
    "collapsed": false
   },
   "outputs": [
    {
     "name": "stdout",
     "output_type": "stream",
     "text": [
      "[Point2D(-32*sqrt(5)/89 + 430/89, -40*sqrt(5)/89 + 493/89), Point2D(32*sqrt(5)/89 + 430/89, 40*sqrt(5)/89 + 493/89)]\n"
     ]
    }
   ],
   "source": [
    "print intersection(el, Line(Point(2,2), Point(6,7)))"
   ]
  },
  {
   "cell_type": "code",
   "execution_count": 168,
   "metadata": {
    "collapsed": false
   },
   "outputs": [
    {
     "data": {
      "text/latex": [
       "$$\\emptyset$$"
      ],
      "text/plain": [
       "∅"
      ]
     },
     "execution_count": 168,
     "metadata": {},
     "output_type": "execute_result"
    }
   ],
   "source": [
    "el.intersect(L)"
   ]
  },
  {
   "cell_type": "code",
   "execution_count": 169,
   "metadata": {
    "collapsed": false
   },
   "outputs": [
    {
     "data": {
      "text/latex": [
       "$$- \\frac{2 \\sqrt{5}}{5} + 5$$"
      ],
      "text/plain": [
       "  2⋅√5    \n",
       "- ──── + 5\n",
       "   5      "
      ]
     },
     "execution_count": 169,
     "metadata": {},
     "output_type": "execute_result"
    }
   ],
   "source": [
    "list(el.intersect(Line(Point(0,0), Point(5,5))))[0].x"
   ]
  },
  {
   "cell_type": "code",
   "execution_count": 170,
   "metadata": {
    "collapsed": false
   },
   "outputs": [
    {
     "data": {
      "text/latex": [
       "$$2 \\pi$$"
      ],
      "text/plain": [
       "2⋅π"
      ]
     },
     "execution_count": 170,
     "metadata": {},
     "output_type": "execute_result"
    }
   ],
   "source": [
    "el.area"
   ]
  },
  {
   "cell_type": "code",
   "execution_count": 171,
   "metadata": {
    "collapsed": false
   },
   "outputs": [
    {
     "data": {
      "text/latex": [
       "$$8 \\int_{0}^{1} \\sqrt{\\frac{- \\frac{3 x^{2}}{4} + 1}{- x^{2} + 1}}\\, dx$$"
      ],
      "text/plain": [
       "  1                        \n",
       "  ⌠                        \n",
       "  ⎮         ____________   \n",
       "  ⎮        ╱      2        \n",
       "  ⎮       ╱    3⋅x         \n",
       "  ⎮      ╱   - ──── + 1    \n",
       "  ⎮     ╱       4          \n",
       "8⋅⎮    ╱     ──────────  dx\n",
       "  ⎮   ╱          2         \n",
       "  ⎮ ╲╱        - x  + 1     \n",
       "  ⌡                        \n",
       "  0                        "
      ]
     },
     "execution_count": 171,
     "metadata": {},
     "output_type": "execute_result"
    }
   ],
   "source": [
    "el.circumference"
   ]
  },
  {
   "cell_type": "code",
   "execution_count": 172,
   "metadata": {
    "collapsed": false
   },
   "outputs": [
    {
     "data": {
      "text/latex": [
       "$$\\frac{\\sqrt{3}}{2}$$"
      ],
      "text/plain": [
       "√3\n",
       "──\n",
       "2 "
      ]
     },
     "execution_count": 172,
     "metadata": {},
     "output_type": "execute_result"
    }
   ],
   "source": [
    "el.eccentricity"
   ]
  },
  {
   "cell_type": "code",
   "execution_count": 173,
   "metadata": {
    "collapsed": false
   },
   "outputs": [
    {
     "name": "stdout",
     "output_type": "stream",
     "text": [
      "(Point2D(5, -sqrt(3) + 5), Point2D(5, sqrt(3) + 5))\n"
     ]
    }
   ],
   "source": [
    "print el.foci"
   ]
  },
  {
   "cell_type": "code",
   "execution_count": 174,
   "metadata": {
    "collapsed": false
   },
   "outputs": [
    {
     "name": "stdout",
     "output_type": "stream",
     "text": [
      "[Line2D(Point2D(5, 3), Point2D(3, 3))]\n"
     ]
    }
   ],
   "source": [
    "print el.tangent_lines(Point(5,3))"
   ]
  },
  {
   "cell_type": "code",
   "execution_count": 175,
   "metadata": {
    "collapsed": false
   },
   "outputs": [
    {
     "name": "stdout",
     "output_type": "stream",
     "text": [
      "Triangle(Point2D(0, 0), Point2D(3, 0), Point2D(0, 4))\n"
     ]
    }
   ],
   "source": [
    "print t"
   ]
  },
  {
   "cell_type": "code",
   "execution_count": 176,
   "metadata": {
    "collapsed": false
   },
   "outputs": [
    {
     "data": {
      "text/latex": [
       "$$2 \\sqrt{3}$$"
      ],
      "text/plain": [
       "2⋅√3"
      ]
     },
     "execution_count": 176,
     "metadata": {},
     "output_type": "execute_result"
    }
   ],
   "source": [
    "Plane(Point(1,2,3), normal_vector=(1,1,1)).distance(Point(0,0,0))"
   ]
  },
  {
   "cell_type": "code",
   "execution_count": 177,
   "metadata": {
    "collapsed": false
   },
   "outputs": [
    {
     "data": {
      "text/latex": [
       "$$- 3 x + 5 y - 6 z + 5$$"
      ],
      "text/plain": [
       "-3⋅x + 5⋅y - 6⋅z + 5"
      ]
     },
     "execution_count": 177,
     "metadata": {},
     "output_type": "execute_result"
    }
   ],
   "source": [
    "pi1 = Plane(Point(1,2,2), Point(2,5,4), Point(3,2,1))\n",
    "pi1.equation()"
   ]
  },
  {
   "cell_type": "code",
   "execution_count": 178,
   "metadata": {
    "collapsed": false
   },
   "outputs": [
    {
     "data": {
      "text/latex": [
       "$$- \\operatorname{asin}{\\left (\\frac{11 \\sqrt{35}}{210} \\right )}$$"
      ],
      "text/plain": [
       "     ⎛11⋅√35⎞\n",
       "-asin⎜──────⎟\n",
       "     ⎝ 210  ⎠"
      ]
     },
     "execution_count": 178,
     "metadata": {},
     "output_type": "execute_result"
    }
   ],
   "source": [
    "pi1.angle_between(Line(Point(1,2,3), Point(5,1,2)))"
   ]
  },
  {
   "cell_type": "code",
   "execution_count": 179,
   "metadata": {
    "collapsed": false
   },
   "outputs": [
    {
     "data": {
      "text/latex": [
       "$$\\operatorname{acos}{\\left (\\frac{73 \\sqrt{14630}}{14630} \\right )}$$"
      ],
      "text/plain": [
       "    ⎛73⋅√14630⎞\n",
       "acos⎜─────────⎟\n",
       "    ⎝  14630  ⎠"
      ]
     },
     "execution_count": 179,
     "metadata": {},
     "output_type": "execute_result"
    }
   ],
   "source": [
    "pi2 = Plane(Point(1,2,2), Point(2,5,4), Point(3,2,1))\n",
    "pi3 = Plane(Point(1,2,3), Point(5,1,2), Point(-1,2,0))\n",
    "pi2.angle_between(pi3)"
   ]
  },
  {
   "cell_type": "code",
   "execution_count": 180,
   "metadata": {
    "collapsed": false
   },
   "outputs": [
    {
     "name": "stdout",
     "output_type": "stream",
     "text": [
      "73 (-3, 5, -6) (3, 14, -2)\n"
     ]
    }
   ],
   "source": [
    "print dot(pi2.normal_vector, pi3.normal_vector), pi2.normal_vector, pi3.normal_vector"
   ]
  },
  {
   "cell_type": "code",
   "execution_count": 181,
   "metadata": {
    "collapsed": false
   },
   "outputs": [
    {
     "name": "stdout",
     "output_type": "stream",
     "text": [
      "Point3D(3/14, -5/14, 3/7)\n"
     ]
    }
   ],
   "source": [
    "print pi2.projection(Point(0,0,0))"
   ]
  },
  {
   "cell_type": "code",
   "execution_count": 182,
   "metadata": {
    "collapsed": false,
    "scrolled": true
   },
   "outputs": [
    {
     "name": "stdout",
     "output_type": "stream",
     "text": [
      "6\n"
     ]
    },
    {
     "data": {
      "image/png": "[encoded data removed]",
      "text/plain": [
       "<matplotlib.figure.Figure at 0x1b5112b0>"
      ]
     },
     "metadata": {},
     "output_type": "display_data"
    }
   ],
   "source": [
    "numpy.random.seed(0)\n",
    "xy = numpy.random.rand(12, 2)\n",
    "points = [Point(x,y) for x,y in xy]\n",
    "\n",
    "poly = convex_hull(*points)\n",
    "print len(poly.vertices)\n",
    "\n",
    "xx = list([float(pt.x) for pt in poly.vertices])\n",
    "yy = list([float(pt.y) for pt in poly.vertices])\n",
    "\n",
    "matplotlib.pyplot.gca().set_aspect('equal')\n",
    "matplotlib.pyplot.scatter([pt.x for pt in points], [pt.y for pt in points]);\n",
    "matplotlib.pyplot.plot(xx + xx[0:1], yy + yy[0:1]);"
   ]
  },
  {
   "cell_type": "markdown",
   "metadata": {
    "collapsed": true
   },
   "source": [
    "## Графики"
   ]
  },
  {
   "cell_type": "markdown",
   "metadata": {},
   "source": [
    "Библиотека `sympy` умеет рисовать графики, используя библиотеку `matplotlib`, немного оборачивая ее для автоматического выбора диапазона, адаптивного числа точек, перенесения осей в 0, а заодно и затрудняя использование возможностей `matplotlib`, для которых обертки нет. Манки-патч в функции `plot_plus` немного решает эту проблему для самых вопиющих вещей."
   ]
  },
  {
   "cell_type": "code",
   "execution_count": 183,
   "metadata": {
    "collapsed": false
   },
   "outputs": [],
   "source": [
    "def plot_plus(plot_fn, *args, **kwargs):\n",
    "    parse_args = {'set_aspect', 'figsize'}\n",
    "    if set(kwargs.keys()) & parse_args:\n",
    "        kw = {k:v for k,v in kwargs.items() if k not in parse_args}\n",
    "        kw['show'] = False\n",
    "        p = plot_fn(*args, **kw)\n",
    "        p._backend = p.backend(p)\n",
    "        if 'figsize' in kwargs:\n",
    "            p._backend.fig.set_size_inches(kwargs['figsize'])\n",
    "        if 'set_aspect' in kwargs:\n",
    "            p._backend.ax.set_aspect(kwargs['set_aspect'])\n",
    "        p._backend.show()\n",
    "        return p\n",
    "    else:\n",
    "        return plot_fn(*args, **kwargs)\n",
    "\n",
    "import functools\n",
    "for fn in 'plot plot_parametric plot3d plot3d_parametric_line plot3d_parametric_surface plot_implicit'.split():\n",
    "    globals()[fn] = functools.partial(plot_plus, getattr(sympy.plotting, fn))"
   ]
  },
  {
   "cell_type": "code",
   "execution_count": 184,
   "metadata": {
    "collapsed": true
   },
   "outputs": [],
   "source": [
    "x, y, t, u = var('x y t u')"
   ]
  },
  {
   "cell_type": "code",
   "execution_count": 185,
   "metadata": {
    "collapsed": false
   },
   "outputs": [
    {
     "data": {
      "image/png": "[encoded data removed]",
      "text/plain": [
       "<matplotlib.figure.Figure at 0x1ad76748>"
      ]
     },
     "metadata": {},
     "output_type": "display_data"
    }
   ],
   "source": [
    "plot(x**2);"
   ]
  },
  {
   "cell_type": "code",
   "execution_count": 186,
   "metadata": {
    "collapsed": false
   },
   "outputs": [
    {
     "data": {
      "image/png": "[encoded data removed]",
      "text/plain": [
       "<matplotlib.figure.Figure at 0x1d0a87f0>"
      ]
     },
     "metadata": {},
     "output_type": "display_data"
    }
   ],
   "source": [
    "plot(sin(x));"
   ]
  },
  {
   "cell_type": "code",
   "execution_count": 187,
   "metadata": {
    "collapsed": false
   },
   "outputs": [
    {
     "data": {
      "image/png": "[encoded data removed]",
      "text/plain": [
       "<matplotlib.figure.Figure at 0x1d378748>"
      ]
     },
     "metadata": {},
     "output_type": "display_data"
    }
   ],
   "source": [
    "plot(x, x**2, x**3, (x, -2, 2));"
   ]
  },
  {
   "cell_type": "code",
   "execution_count": 188,
   "metadata": {
    "collapsed": false
   },
   "outputs": [
    {
     "data": {
      "image/png": "[encoded data removed]",
      "text/plain": [
       "<matplotlib.figure.Figure at 0x1d46e2b0>"
      ]
     },
     "metadata": {},
     "output_type": "display_data"
    }
   ],
   "source": [
    "plot(x ** 2, xlim=(-2,2), ylim=(0,2), set_aspect='equal', figsize=(12,6));"
   ]
  },
  {
   "cell_type": "code",
   "execution_count": 189,
   "metadata": {
    "collapsed": false
   },
   "outputs": [
    {
     "data": {
      "image/png": "[encoded data removed]",
      "text/plain": [
       "<matplotlib.figure.Figure at 0x1d471f28>"
      ]
     },
     "metadata": {},
     "output_type": "display_data"
    }
   ],
   "source": [
    "plot(1/x, x, (x, -5, 5), ylim=(-5, 5), set_aspect='equal', figsize=(8,8));"
   ]
  },
  {
   "cell_type": "code",
   "execution_count": 190,
   "metadata": {
    "collapsed": false
   },
   "outputs": [
    {
     "data": {
      "image/png": "[encoded data removed]",
      "text/plain": [
       "<matplotlib.figure.Figure at 0x1d356dd8>"
      ]
     },
     "metadata": {},
     "output_type": "display_data"
    }
   ],
   "source": [
    "plot_parametric(cos(t * 5) * cos(t), cos(t * 5) * sin(t), set_aspect='equal');"
   ]
  },
  {
   "cell_type": "code",
   "execution_count": 191,
   "metadata": {
    "collapsed": false
   },
   "outputs": [
    {
     "data": {
      "image/png": "[encoded data removed]",
      "text/plain": [
       "<matplotlib.figure.Figure at 0x1d0aff28>"
      ]
     },
     "metadata": {},
     "output_type": "display_data"
    }
   ],
   "source": [
    "plot3d(sin(x**2 + y**2), (x, -2, 2), (y, -2, 2), nb_of_points_x=200, nb_of_points_y=200);"
   ]
  },
  {
   "cell_type": "code",
   "execution_count": 192,
   "metadata": {
    "collapsed": false
   },
   "outputs": [
    {
     "data": {
      "image/png": "[encoded data removed]",
      "text/plain": [
       "<matplotlib.figure.Figure at 0x28525d68>"
      ]
     },
     "metadata": {},
     "output_type": "display_data"
    }
   ],
   "source": [
    "plot3d_parametric_surface(cos(t), sin(t) * sin(u), sin(t) * cos(u), set_aspect='equal');"
   ]
  },
  {
   "cell_type": "code",
   "execution_count": 193,
   "metadata": {
    "collapsed": false
   },
   "outputs": [
    {
     "data": {
      "image/png": "[encoded data removed]",
      "text/plain": [
       "<matplotlib.figure.Figure at 0x244abd68>"
      ]
     },
     "metadata": {},
     "output_type": "display_data"
    }
   ],
   "source": [
    "plot_implicit(x + y < 2, line_color='yellow', set_aspect='equal');"
   ]
  },
  {
   "cell_type": "code",
   "execution_count": 194,
   "metadata": {
    "collapsed": false
   },
   "outputs": [
    {
     "data": {
      "image/png": "[encoded data removed]",
      "text/plain": [
       "<matplotlib.figure.Figure at 0x1d0bc128>"
      ]
     },
     "metadata": {},
     "output_type": "display_data"
    }
   ],
   "source": [
    "plot_implicit(x ** 2 + y ** 2 + x * y - 2, line_color='red', set_aspect='equal');"
   ]
  },
  {
   "cell_type": "markdown",
   "metadata": {},
   "source": [
    "## Статистика"
   ]
  },
  {
   "cell_type": "code",
   "execution_count": 195,
   "metadata": {
    "collapsed": true
   },
   "outputs": [],
   "source": [
    "import sympy.stats\n",
    "from sympy.stats import Normal, Die, P, E, variance, std, cdf, density, sample"
   ]
  },
  {
   "cell_type": "code",
   "execution_count": 196,
   "metadata": {
    "collapsed": false
   },
   "outputs": [
    {
     "data": {
      "text/latex": [
       "$$p^{5} e^{5 t} + 5 p^{4} \\left(- p + 1\\right) e^{4 t} + 10 p^{3} \\left(p - 1\\right)^{2} e^{3 t} - 10 p^{2} \\left(p - 1\\right)^{3} e^{2 t} + 5 p \\left(p - 1\\right)^{4} e^{t} - \\left(p - 1\\right)^{5}$$"
      ],
      "text/plain": [
       " 5  5⋅t      4           4⋅t       3        2  3⋅t       2        3  2⋅t      \n",
       "p ⋅ℯ    + 5⋅p ⋅(-p + 1)⋅ℯ    + 10⋅p ⋅(p - 1) ⋅ℯ    - 10⋅p ⋅(p - 1) ⋅ℯ    + 5⋅p\n",
       "\n",
       "        4  t          5\n",
       "⋅(p - 1) ⋅ℯ  - (p - 1) "
      ]
     },
     "execution_count": 196,
     "metadata": {},
     "output_type": "execute_result"
    }
   ],
   "source": [
    "p, t = symbols('p t', positive=True, real=True)\n",
    "x = sympy.stats.Binomial('x', 5, p)\n",
    "simplify(E(exp(t*x)))"
   ]
  },
  {
   "cell_type": "code",
   "execution_count": 197,
   "metadata": {
    "collapsed": true
   },
   "outputs": [],
   "source": [
    "Twodices = Die('X', 6) + Die('Y', 6)"
   ]
  },
  {
   "cell_type": "code",
   "execution_count": 198,
   "metadata": {
    "collapsed": false
   },
   "outputs": [],
   "source": [
    "throws = [int(sample(Twodices)) for i in range(1000)]"
   ]
  },
  {
   "cell_type": "code",
   "execution_count": 199,
   "metadata": {
    "collapsed": false
   },
   "outputs": [
    {
     "data": {
      "text/latex": [
       "$$\\frac{5}{36}$$"
      ],
      "text/plain": [
       "5/36"
      ]
     },
     "execution_count": 199,
     "metadata": {},
     "output_type": "execute_result"
    }
   ],
   "source": [
    "P(Eq(Twodices, 6))"
   ]
  },
  {
   "cell_type": "code",
   "execution_count": 200,
   "metadata": {
    "collapsed": false,
    "scrolled": true
   },
   "outputs": [
    {
     "data": {
      "text/latex": [
       "$$\\left \\{ 2 : \\frac{1}{36}, \\quad 3 : \\frac{1}{18}, \\quad 4 : \\frac{1}{12}, \\quad 5 : \\frac{1}{9}, \\quad 6 : \\frac{5}{36}, \\quad 7 : \\frac{1}{6}, \\quad 8 : \\frac{5}{36}, \\quad 9 : \\frac{1}{9}, \\quad 10 : \\frac{1}{12}, \\quad 11 : \\frac{1}{18}, \\quad 12 : \\frac{1}{36}\\right \\}$$"
      ],
      "text/plain": [
       "{2: 1/36, 3: 1/18, 4: 1/12, 5: 1/9, 6: 5/36, 7: 1/6, 8: 5/36, 9: 1/9, 10: 1/12\n",
       ", 11: 1/18, 12: 1/36}"
      ]
     },
     "execution_count": 200,
     "metadata": {},
     "output_type": "execute_result"
    }
   ],
   "source": [
    "twodices = density(Twodices)\n",
    "twodices"
   ]
  },
  {
   "cell_type": "code",
   "execution_count": 201,
   "metadata": {
    "collapsed": false
   },
   "outputs": [
    {
     "data": {
      "image/png": "[encoded data removed]",
      "text/plain": [
       "<matplotlib.figure.Figure at 0x1d71dd30>"
      ]
     },
     "metadata": {},
     "output_type": "display_data"
    }
   ],
   "source": [
    "hist(throws, range=(0.5, 12.5), bins=12);\n",
    "bar(range(13), [1000 * float(twodices.get(i, 0)) for i in range(13)], color='r', alpha=0.3);"
   ]
  },
  {
   "cell_type": "code",
   "execution_count": 202,
   "metadata": {
    "collapsed": false
   },
   "outputs": [
    {
     "name": "stdout",
     "output_type": "stream",
     "text": [
      "100 15 225\n",
      "0.000429060333196837\n"
     ]
    },
    {
     "data": {
      "text/latex": [
       "$$\\frac{\\sqrt{2}}{30 \\sqrt{\\pi}} e^{- \\frac{1}{450} \\left(x - 100\\right)^{2}}$$"
      ],
      "text/plain": [
       "              2 \n",
       "    -(x - 100)  \n",
       "    ────────────\n",
       "        450     \n",
       "√2⋅ℯ            \n",
       "────────────────\n",
       "     30⋅√π      "
      ]
     },
     "metadata": {},
     "output_type": "display_data"
    },
    {
     "data": {
      "text/latex": [
       "$$\\frac{1}{2} \\operatorname{erf}{\\left (\\frac{\\sqrt{2}}{30} \\left(x - 100\\right) \\right )} + \\frac{1}{2}$$"
      ],
      "text/plain": [
       "   ⎛√2⋅(x - 100)⎞    \n",
       "erf⎜────────────⎟    \n",
       "   ⎝     30     ⎠   1\n",
       "───────────────── + ─\n",
       "        2           2"
      ]
     },
     "metadata": {},
     "output_type": "display_data"
    },
    {
     "name": "stdout",
     "output_type": "stream",
     "text": [
      "[100.684456640200, 105.223444284671, 95.7518849755922, 70.4066286794701, 94.4170395543877, 55.4158027715594, 102.657052714370, 116.717820255803, 102.557040346538, 101.089898912479]\n"
     ]
    }
   ],
   "source": [
    "iq = sympy.stats.Normal('iq', 100, 15)\n",
    "print E(iq), std(iq), variance(iq)\n",
    "print N(P(iq > 150))\n",
    "display(density(iq)(x))\n",
    "display(simplify(cdf(iq)(x)))\n",
    "print [sample(iq) for i in range(10)]"
   ]
  },
  {
   "cell_type": "code",
   "execution_count": 203,
   "metadata": {
    "collapsed": false
   },
   "outputs": [
    {
     "data": {
      "text/plain": [
       "111.96826841204297"
      ]
     },
     "execution_count": 203,
     "metadata": {},
     "output_type": "execute_result"
    }
   ],
   "source": [
    "float(E(iq, iq > 100))"
   ]
  },
  {
   "cell_type": "code",
   "execution_count": 204,
   "metadata": {
    "collapsed": false
   },
   "outputs": [
    {
     "data": {
      "text/latex": [
       "$$\\frac{5 \\sqrt{2}}{6 \\sqrt{\\pi}} \\left(- \\frac{3 \\sqrt{2}}{10} \\sqrt{\\pi} \\operatorname{erf}{\\left (\\frac{5 \\sqrt{2}}{3} \\right )} + \\frac{3 \\sqrt{2}}{10} \\sqrt{\\pi}\\right)$$"
      ],
      "text/plain": [
       "     ⎛             ⎛5⋅√2⎞          ⎞\n",
       "     ⎜  3⋅√2⋅√π⋅erf⎜────⎟          ⎟\n",
       "     ⎜             ⎝ 3  ⎠   3⋅√2⋅√π⎟\n",
       "5⋅√2⋅⎜- ───────────────── + ───────⎟\n",
       "     ⎝          10             10  ⎠\n",
       "────────────────────────────────────\n",
       "                6⋅√π                "
      ]
     },
     "execution_count": 204,
     "metadata": {},
     "output_type": "execute_result"
    }
   ],
   "source": [
    "P(iq > 150).rewrite(Integral)"
   ]
  },
  {
   "cell_type": "markdown",
   "metadata": {},
   "source": [
    "## Физика"
   ]
  },
  {
   "cell_type": "code",
   "execution_count": 205,
   "metadata": {
    "collapsed": true
   },
   "outputs": [],
   "source": [
    "from sympy.physics import units"
   ]
  },
  {
   "cell_type": "code",
   "execution_count": 206,
   "metadata": {
    "collapsed": false
   },
   "outputs": [
    {
     "name": "stdout",
     "output_type": "stream",
     "text": [
      "9.80665*meter/second**2\n"
     ]
    }
   ],
   "source": [
    "print units.acceleration_due_to_gravity.convert_to(units.m / units.s ** 2)"
   ]
  },
  {
   "cell_type": "code",
   "execution_count": 207,
   "metadata": {
    "collapsed": false
   },
   "outputs": [
    {
     "name": "stdout",
     "output_type": "stream",
     "text": [
      "31556925.216*second\n"
     ]
    }
   ],
   "source": [
    "print units.year.convert_to(units.second)"
   ]
  },
  {
   "cell_type": "code",
   "execution_count": 208,
   "metadata": {
    "collapsed": false
   },
   "outputs": [
    {
     "name": "stdout",
     "output_type": "stream",
     "text": [
      "1.3558179483314*joule\n"
     ]
    }
   ],
   "source": [
    "print units.convert_to(1 * units.pound * units.acceleration_due_to_gravity * 1 * units.foot, units.joule).n()"
   ]
  },
  {
   "cell_type": "markdown",
   "metadata": {},
   "source": [
    "Третий закон Кеплера"
   ]
  },
  {
   "cell_type": "code",
   "execution_count": 209,
   "metadata": {
    "collapsed": false
   },
   "outputs": [
    {
     "name": "stdout",
     "output_type": "stream",
     "text": [
      "6.28318530717959*venus_a**(3/2)/(sqrt(gravitational_constant)*sqrt(solar_mass))\n",
      "224.662800523082*day\n"
     ]
    }
   ],
   "source": [
    "T = symbols(\"T\")\n",
    "a = units.Quantity('venus_a', units.length, 108208000e3 * units.meter)\n",
    "M = units.Quantity('solar_mass', units.mass, 1.9891e30 * units.kilogram)\n",
    "\n",
    "G = units.gravitational_constant\n",
    "eq = Eq(T**2 / a**3, 4*sympy.pi**2 / G / M)\n",
    "q = solve(eq, T)[1]\n",
    "print q\n",
    "print units.convert_to(q, units.day).n()"
   ]
  },
  {
   "cell_type": "markdown",
   "metadata": {
    "collapsed": true
   },
   "source": [
    "## Интероп с Python"
   ]
  },
  {
   "cell_type": "markdown",
   "metadata": {},
   "source": [
    "Выражение, результат символьного вычисления, можно сунуть в питон-функцию"
   ]
  },
  {
   "cell_type": "code",
   "execution_count": 210,
   "metadata": {
    "collapsed": true
   },
   "outputs": [],
   "source": [
    "def naive_sum_of_squares(n):\n",
    "    result = 0\n",
    "    for i in range(1, n + 1):\n",
    "        result += i ** 2\n",
    "    return result"
   ]
  },
  {
   "cell_type": "code",
   "execution_count": 211,
   "metadata": {
    "collapsed": false
   },
   "outputs": [
    {
     "name": "stdout",
     "output_type": "stream",
     "text": [
      "1 loops, best of 3: 983 ms per loop\n"
     ]
    }
   ],
   "source": [
    "%timeit naive_sum_of_squares(1000000)"
   ]
  },
  {
   "cell_type": "code",
   "execution_count": 212,
   "metadata": {
    "collapsed": true
   },
   "outputs": [],
   "source": [
    "def fast_naive_sum_of_squares(n):\n",
    "    return sum(arange(1, n + 1) ** 2)"
   ]
  },
  {
   "cell_type": "code",
   "execution_count": 213,
   "metadata": {
    "collapsed": false
   },
   "outputs": [
    {
     "name": "stdout",
     "output_type": "stream",
     "text": [
      "100 loops, best of 3: 4.08 ms per loop\n"
     ]
    }
   ],
   "source": [
    "%timeit fast_naive_sum_of_squares(1000000)"
   ]
  },
  {
   "cell_type": "code",
   "execution_count": 214,
   "metadata": {
    "collapsed": false
   },
   "outputs": [
    {
     "name": "stdout",
     "output_type": "stream",
     "text": [
      "55.0\n"
     ]
    }
   ],
   "source": [
    "k, n = var('k n')\n",
    "sum_of_squares = lambdify(n, summation(k ** 2, (k, 1, n)))\n",
    "print sum_of_squares(5)"
   ]
  },
  {
   "cell_type": "code",
   "execution_count": 215,
   "metadata": {
    "collapsed": false
   },
   "outputs": [
    {
     "name": "stdout",
     "output_type": "stream",
     "text": [
      "100000 loops, best of 3: 2.41 µs per loop\n"
     ]
    }
   ],
   "source": [
    "%timeit sum_of_squares(1000000)"
   ]
  },
  {
   "cell_type": "code",
   "execution_count": 216,
   "metadata": {
    "collapsed": false
   },
   "outputs": [
    {
     "name": "stdout",
     "output_type": "stream",
     "text": [
      "1.54993124494467\n"
     ]
    }
   ],
   "source": [
    "print lambdify(x, Si(x), modules='sympy')(5.0)"
   ]
  },
  {
   "cell_type": "markdown",
   "metadata": {},
   "source": [
    "## Интероп с Maple"
   ]
  },
  {
   "cell_type": "markdown",
   "metadata": {},
   "source": [
    "Иногда вызов внешней CAS удобнее или быстрее дает ответ"
   ]
  },
  {
   "cell_type": "code",
   "execution_count": 217,
   "metadata": {
    "collapsed": true
   },
   "outputs": [],
   "source": [
    "def eval_maple(expr):\n",
    "    import os, delegator\n",
    "    cmaple_dir = 'c:\\\\Program Files (x86)\\\\Maple 15\\\\bin.win'\n",
    "    cmaple_exe = 'c:\\\\Program Files (x86)\\\\Maple 15\\\\bin.win\\\\cmaple.exe'\n",
    "    cd = os.getcwdu()\n",
    "    os.chdir(cmaple_dir)\n",
    "    maple = delegator.run([cmaple_exe], block=False)\n",
    "    maple.expect('>')\n",
    "    maple.send('interface(prettyprint=0);')\n",
    "    maple.expect('>')\n",
    "    maple.send(expr)\n",
    "    maple.expect('>')\n",
    "    maple.send('quit();')\n",
    "    os.chdir(cd)\n",
    "    return '\\r\\n'.join(maple.out.splitlines()[3:-2])"
   ]
  },
  {
   "cell_type": "code",
   "execution_count": 218,
   "metadata": {
    "collapsed": false
   },
   "outputs": [
    {
     "data": {
      "text/latex": [
       "$$\\int \\sin{\\left (e^{x} \\right )}\\, dx$$"
      ],
      "text/plain": [
       "⌠           \n",
       "⎮    ⎛ x⎞   \n",
       "⎮ sin⎝ℯ ⎠ dx\n",
       "⌡           "
      ]
     },
     "execution_count": 218,
     "metadata": {},
     "output_type": "execute_result"
    }
   ],
   "source": [
    "integrate(sin(exp(x)), x)"
   ]
  },
  {
   "cell_type": "code",
   "execution_count": 219,
   "metadata": {
    "collapsed": false
   },
   "outputs": [
    {
     "data": {
      "text/latex": [
       "$$\\operatorname{Si}{\\left (e^{x} \\right )}$$"
      ],
      "text/plain": [
       "  ⎛ x⎞\n",
       "Si⎝ℯ ⎠"
      ]
     },
     "execution_count": 219,
     "metadata": {},
     "output_type": "execute_result"
    }
   ],
   "source": [
    "S(eval_maple('int(sin(exp(x)), x);'))"
   ]
  },
  {
   "cell_type": "code",
   "execution_count": 220,
   "metadata": {
    "collapsed": false
   },
   "outputs": [
    {
     "name": "stdout",
     "output_type": "stream",
     "text": [
      "{2: 2, 173558250066979L: 1, 29: 1, 49041759323L: 1}\n",
      "Wall time: 2.9 s\n"
     ]
    }
   ],
   "source": [
    "%%time\n",
    "print sympy.factorint(987345823683476598732645172)"
   ]
  },
  {
   "cell_type": "code",
   "execution_count": 221,
   "metadata": {
    "collapsed": false
   },
   "outputs": [
    {
     "name": "stdout",
     "output_type": "stream",
     "text": [
      "``(2)^2*``(29)*``(49041759323)*``(173558250066979)\n",
      "Wall time: 126 ms\n"
     ]
    }
   ],
   "source": [
    "%%time\n",
    "print eval_maple('ifactor(987345823683476598732645172);')"
   ]
  },
  {
   "cell_type": "code",
   "execution_count": 222,
   "metadata": {
    "collapsed": true
   },
   "outputs": [],
   "source": [
    "def parse_ifactor_output(s):\n",
    "    result = {}\n",
    "    import re\n",
    "    s = re.sub('\\s+', '', s)\n",
    "    for item in s.split('*'):\n",
    "        m = re.match('^``\\((\\d+)\\)(?:\\^(\\d+))?$', item)\n",
    "        if not m:\n",
    "            raise Exception('ifactor says ' + s + ', item = ' + item)\n",
    "        base = int(m.groups()[0])\n",
    "        power = int(m.groups()[1]) if m.groups()[1] is not None else 1\n",
    "        result[base] = power\n",
    "    return result\n",
    "\n",
    "def maple_factorint(n):\n",
    "    output = eval_maple('ifactor(%d);' % n)\n",
    "    return parse_ifactor_output(output)"
   ]
  },
  {
   "cell_type": "code",
   "execution_count": 223,
   "metadata": {
    "collapsed": false
   },
   "outputs": [
    {
     "name": "stdout",
     "output_type": "stream",
     "text": [
      "{2: 2, 173558250066979L: 1, 29: 1, 49041759323L: 1}\n",
      "Wall time: 124 ms\n"
     ]
    }
   ],
   "source": [
    "%%time\n",
    "print maple_factorint(987345823683476598732645172)"
   ]
  }
 ],
 "metadata": {
  "kernelspec": {
   "display_name": "Python 2",
   "language": "python",
   "name": "python2"
  },
  "language_info": {
   "codemirror_mode": {
    "name": "ipython",
    "version": 2
   },
   "file_extension": ".py",
   "mimetype": "text/x-python",
   "name": "python",
   "nbconvert_exporter": "python",
   "pygments_lexer": "ipython2",
   "version": "2.7.12"
  }
 },
 "nbformat": 4,
 "nbformat_minor": 2
}
