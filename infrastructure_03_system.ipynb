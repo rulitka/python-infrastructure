{
 "cells": [
  {
   "cell_type": "markdown",
   "metadata": {},
   "source": [
    "# Инфраструктура Python. Взаимодействие с системой"
   ]
  },
  {
   "cell_type": "markdown",
   "metadata": {},
   "source": [
    "## Информация о системе"
   ]
  },
  {
   "cell_type": "markdown",
   "metadata": {},
   "source": [
    "Получить информацию о версии Python и ОС, в которой он исполняется, можно с помощью встроенной библиотеки `platform`."
   ]
  },
  {
   "cell_type": "code",
   "execution_count": 1,
   "metadata": {
    "collapsed": true
   },
   "outputs": [],
   "source": [
    "import platform, os, sys, psutil, datetime, itertools"
   ]
  },
  {
   "cell_type": "code",
   "execution_count": 2,
   "metadata": {
    "collapsed": false
   },
   "outputs": [
    {
     "name": "stdout",
     "output_type": "stream",
     "text": [
      "2.7.12\n",
      "sys.version_info(major=2, minor=7, micro=12, releaselevel='final', serial=0)\n",
      "Windows\n",
      "Windows-7-6.1.7601-SP1\n",
      "Intel64 Family 6 Model 158 Stepping 9, GenuineIntel\n",
      "('Windows', 'PC', '7', '6.1.7601', 'AMD64', 'Intel64 Family 6 Model 158 Stepping 9, GenuineIntel')\n"
     ]
    }
   ],
   "source": [
    "print platform.python_version()\n",
    "print sys.version_info\n",
    "print platform.system()\n",
    "print platform.platform()\n",
    "print platform.processor()\n",
    "print platform.uname()"
   ]
  },
  {
   "cell_type": "markdown",
   "metadata": {},
   "source": [
    "Список путей, по которым Python ищет модули"
   ]
  },
  {
   "cell_type": "code",
   "execution_count": 3,
   "metadata": {
    "collapsed": false
   },
   "outputs": [
    {
     "data": {
      "text/plain": [
       "['',\n",
       " 'C:\\\\Users\\\\User\\\\Anaconda2\\\\lib\\\\site-packages\\\\pcapy-0.10.10-py2.7-win-amd64.egg',\n",
       " 'C:\\\\Users\\\\User\\\\Anaconda2\\\\lib\\\\site-packages\\\\xgboost-0.6-py2.7.egg',\n",
       " 'C:\\\\Users\\\\User\\\\Anaconda2\\\\lib\\\\site-packages\\\\lightgbm-0.1-py2.7.egg',\n",
       " 'C:\\\\Users\\\\User\\\\Anaconda2\\\\lib\\\\site-packages\\\\matrix_client-0.0.5-py2.7.egg',\n",
       " 'C:\\\\Users\\\\User\\\\Anaconda2\\\\python27.zip',\n",
       " 'C:\\\\Users\\\\User\\\\Anaconda2\\\\DLLs',\n",
       " 'C:\\\\Users\\\\User\\\\Anaconda2\\\\lib',\n",
       " 'C:\\\\Users\\\\User\\\\Anaconda2\\\\lib\\\\plat-win',\n",
       " 'C:\\\\Users\\\\User\\\\Anaconda2\\\\lib\\\\lib-tk',\n",
       " 'C:\\\\Users\\\\User\\\\Anaconda2',\n",
       " 'c:\\\\users\\\\user\\\\anaconda2\\\\lib\\\\site-packages\\\\mako-1.0.7-py2.7.egg',\n",
       " 'c:\\\\users\\\\user\\\\anaconda2\\\\lib\\\\site-packages\\\\sphinx-1.3.5-py2.7.egg',\n",
       " 'c:\\\\users\\\\user\\\\anaconda2\\\\lib\\\\site-packages\\\\pydot_ng-1.0.1.dev0-py2.7.egg',\n",
       " 'C:\\\\Users\\\\User\\\\Anaconda2\\\\lib\\\\site-packages',\n",
       " 'C:\\\\Users\\\\User\\\\Anaconda2\\\\lib\\\\site-packages\\\\win32',\n",
       " 'C:\\\\Users\\\\User\\\\Anaconda2\\\\lib\\\\site-packages\\\\win32\\\\lib',\n",
       " 'C:\\\\Users\\\\User\\\\Anaconda2\\\\lib\\\\site-packages\\\\Pythonwin',\n",
       " 'C:\\\\Users\\\\User\\\\Anaconda2\\\\lib\\\\site-packages\\\\IPython\\\\extensions',\n",
       " 'C:\\\\Users\\\\User\\\\.ipython']"
      ]
     },
     "execution_count": 3,
     "metadata": {},
     "output_type": "execute_result"
    }
   ],
   "source": [
    "sys.path"
   ]
  },
  {
   "cell_type": "markdown",
   "metadata": {},
   "source": [
    "Библиотека `psutil`, входящая в Anaconda, предоставляет доступ к подробной информации о системе, включая данные о загрузке процессора, памяти, дисков, о сетевых соединениях и интерфейсах, подробные данные о запущенных процессах."
   ]
  },
  {
   "cell_type": "code",
   "execution_count": 4,
   "metadata": {
    "collapsed": false
   },
   "outputs": [
    {
     "name": "stdout",
     "output_type": "stream",
     "text": [
      "41.2\n",
      "scputimes(user=109018.74043359999, system=53550.77527200058, idle=4543771.6129544, interrupt=8653.203868900002, dpc=3676.3663662999993)\n",
      "svmem(total=17058418688L, available=11550265344L, percent=32.3, used=5508153344L, free=11550265344L)\n",
      "pmem(rss=41066496L, vms=34725888L, num_page_faults=10191, peak_wset=41066496L, wset=41066496L, peak_paged_pool=185792L, paged_pool=185616L, peak_nonpaged_pool=64820L, nonpaged_pool=62964L, pagefile=34725888L, peak_pagefile=34725888L, private=34725888L)\n"
     ]
    }
   ],
   "source": [
    "print psutil.cpu_percent()\n",
    "print psutil.cpu_times()\n",
    "print psutil.virtual_memory()\n",
    "print psutil.Process(os.getpid()).memory_info()"
   ]
  },
  {
   "cell_type": "code",
   "execution_count": 5,
   "metadata": {
    "collapsed": false
   },
   "outputs": [
    {
     "name": "stdout",
     "output_type": "stream",
     "text": [
      "2018-07-26 18:39:11\n"
     ]
    }
   ],
   "source": [
    "print datetime.datetime.fromtimestamp(psutil.boot_time())"
   ]
  },
  {
   "cell_type": "code",
   "execution_count": 6,
   "metadata": {
    "collapsed": false
   },
   "outputs": [
    {
     "name": "stdout",
     "output_type": "stream",
     "text": [
      "sdiskpart(device='C:\\\\', mountpoint='C:\\\\', fstype='NTFS', opts='rw,fixed') sdiskusage(total=255820034048L, used=255219888128L, free=600145920L, percent=99.8)\n",
      "sdiskpart(device='D:\\\\', mountpoint='D:\\\\', fstype='NTFS', opts='rw,fixed') sdiskusage(total=2000397529088L, used=1999680503808L, free=717025280L, percent=100.0)\n",
      "sdiskpart(device='E:\\\\', mountpoint='E:\\\\', fstype='', opts='cdrom') [Error 21] The device is not ready\n"
     ]
    }
   ],
   "source": [
    "def disk_usage(path):\n",
    "    try:\n",
    "        return psutil.disk_usage(path)\n",
    "    except OSError as e:\n",
    "        return str(e)\n",
    "for part in psutil.disk_partitions():\n",
    "    print part, disk_usage(part.mountpoint)"
   ]
  },
  {
   "cell_type": "code",
   "execution_count": 7,
   "metadata": {
    "collapsed": false
   },
   "outputs": [
    {
     "data": {
      "text/plain": [
       "sdiskio(read_count=657629, write_count=4007933, read_bytes=24969614336L, write_bytes=76023567872L, read_time=21427L, write_time=526499L)"
      ]
     },
     "execution_count": 7,
     "metadata": {},
     "output_type": "execute_result"
    }
   ],
   "source": [
    "psutil.disk_io_counters()"
   ]
  },
  {
   "cell_type": "code",
   "execution_count": 8,
   "metadata": {
    "collapsed": false
   },
   "outputs": [
    {
     "data": {
      "text/plain": [
       "{'VMware Network Adapter VMnet1': [snic(family=-1, address='00-50-56-C0-00-01', netmask=None, broadcast=None, ptp=None),\n",
       "  snic(family=2, address='192.168.127.1', netmask='255.255.255.0', broadcast=None, ptp=None),\n",
       "  snic(family=23, address='2620:9b::196b:c813', netmask=None, broadcast=None, ptp=None),\n",
       "  snic(family=23, address='fe80::ac53:1540:52b5:1f5d', netmask=None, broadcast=None, ptp=None)],\n",
       " 'VMware Network Adapter VMnet8': [snic(family=-1, address='00-50-56-C0-00-08', netmask=None, broadcast=None, ptp=None),\n",
       "  snic(family=2, address='192.168.204.1', netmask='255.255.255.0', broadcast=None, ptp=None),\n",
       "  snic(family=23, address='fe80::841a:d187:63d8:f451', netmask=None, broadcast=None, ptp=None)]}"
      ]
     },
     "execution_count": 8,
     "metadata": {},
     "output_type": "execute_result"
    }
   ],
   "source": [
    "{k:v for k,v in psutil.net_if_addrs().items() if k.startswith('VMware')}"
   ]
  },
  {
   "cell_type": "code",
   "execution_count": 9,
   "metadata": {
    "collapsed": false
   },
   "outputs": [
    {
     "data": {
      "text/plain": [
       "snetio(bytes_sent=4352045869L, bytes_recv=13650795437L, packets_sent=5419572L, packets_recv=12934791L, errin=0L, errout=0L, dropin=0L, dropout=0L)"
      ]
     },
     "execution_count": 9,
     "metadata": {},
     "output_type": "execute_result"
    }
   ],
   "source": [
    "psutil.net_io_counters()"
   ]
  },
  {
   "cell_type": "code",
   "execution_count": 10,
   "metadata": {
    "collapsed": false
   },
   "outputs": [
    {
     "data": {
      "text/plain": [
       "{'Local Area Connection 2': snetio(bytes_sent=0L, bytes_recv=0L, packets_sent=0L, packets_recv=0L, errin=0L, errout=0L, dropin=0L, dropout=0L),\n",
       " 'Loopback Pseudo-Interface 1': snetio(bytes_sent=0L, bytes_recv=0L, packets_sent=0L, packets_recv=0L, errin=0L, errout=0L, dropin=0L, dropout=0L),\n",
       " 'VMware Network Adapter VMnet1': snetio(bytes_sent=971L, bytes_recv=0L, packets_sent=971L, packets_recv=0L, errin=0L, errout=0L, dropin=0L, dropout=0L),\n",
       " 'VMware Network Adapter VMnet8': snetio(bytes_sent=827L, bytes_recv=0L, packets_sent=827L, packets_recv=0L, errin=0L, errout=0L, dropin=0L, dropout=0L),\n",
       " 'Wireless Network Connection 2': snetio(bytes_sent=4352044071L, bytes_recv=13650795437L, packets_sent=5417774L, packets_recv=12934791L, errin=0L, errout=0L, dropin=0L, dropout=0L),\n",
       " 'Wireless Network Connection 3': snetio(bytes_sent=0L, bytes_recv=0L, packets_sent=0L, packets_recv=0L, errin=0L, errout=0L, dropin=0L, dropout=0L)}"
      ]
     },
     "execution_count": 10,
     "metadata": {},
     "output_type": "execute_result"
    }
   ],
   "source": [
    "psutil.net_io_counters(pernic=True)"
   ]
  },
  {
   "cell_type": "code",
   "execution_count": 11,
   "metadata": {
    "collapsed": false
   },
   "outputs": [
    {
     "data": {
      "text/plain": [
       "[sconn(fd=-1, family=2, type=1, laddr=addr(ip='0.0.0.0', port=135), raddr=(), status='LISTEN', pid=856),\n",
       " sconn(fd=-1, family=2, type=1, laddr=addr(ip='0.0.0.0', port=902), raddr=(), status='LISTEN', pid=1300),\n",
       " sconn(fd=-1, family=2, type=1, laddr=addr(ip='0.0.0.0', port=912), raddr=(), status='LISTEN', pid=1300),\n",
       " sconn(fd=-1, family=2, type=1, laddr=addr(ip='0.0.0.0', port=1025), raddr=(), status='LISTEN', pid=600),\n",
       " sconn(fd=-1, family=2, type=1, laddr=addr(ip='0.0.0.0', port=1026), raddr=(), status='LISTEN', pid=924),\n",
       " sconn(fd=-1, family=2, type=1, laddr=addr(ip='0.0.0.0', port=1027), raddr=(), status='LISTEN', pid=1068),\n",
       " sconn(fd=-1, family=2, type=1, laddr=addr(ip='0.0.0.0', port=1028), raddr=(), status='LISTEN', pid=660),\n",
       " sconn(fd=-1, family=2, type=1, laddr=addr(ip='0.0.0.0', port=1029), raddr=(), status='LISTEN', pid=676),\n",
       " sconn(fd=-1, family=2, type=1, laddr=addr(ip='0.0.0.0', port=3401), raddr=(), status='LISTEN', pid=3704),\n",
       " sconn(fd=-1, family=2, type=1, laddr=addr(ip='127.0.0.1', port=1037), raddr=addr(ip='127.0.0.1', port=1038), status='ESTABLISHED', pid=2324)]"
      ]
     },
     "execution_count": 11,
     "metadata": {},
     "output_type": "execute_result"
    }
   ],
   "source": [
    "sorted(psutil.net_connections())[:10]"
   ]
  },
  {
   "cell_type": "code",
   "execution_count": 12,
   "metadata": {
    "collapsed": false
   },
   "outputs": [
    {
     "name": "stdout",
     "output_type": "stream",
     "text": [
      "psutil.Process(pid=0, name='System Idle Process', started='2018-07-26 18:39:11')\n",
      "psutil.Process(pid=4, name='System', started='2018-07-26 18:39:11')\n",
      "psutil.Process(pid=200, name='winlogon.exe', started='2018-07-26 18:39:37')\n",
      "psutil.Process(pid=236, name='svchost.exe', started='2018-07-26 18:39:45')\n",
      "psutil.Process(pid=392, name='smss.exe', started='2018-07-26 18:39:30')\n",
      "psutil.Process(pid=556, name='csrss.exe', started='2018-07-26 18:39:35')\n",
      "psutil.Process(pid=600, name='wininit.exe', started='2018-07-26 18:39:36')\n",
      "psutil.Process(pid=616, name='csrss.exe', started='2018-07-26 18:39:36')\n",
      "psutil.Process(pid=660, name='services.exe', started='2018-07-26 18:39:36')\n",
      "psutil.Process(pid=676, name='lsass.exe', started='2018-07-26 18:39:36')\n",
      "...\n"
     ]
    }
   ],
   "source": [
    "for process in itertools.islice(psutil.process_iter(), 0, 10):\n",
    "    print process\n",
    "print '...'"
   ]
  },
  {
   "cell_type": "code",
   "execution_count": 13,
   "metadata": {
    "collapsed": false,
    "scrolled": false
   },
   "outputs": [
    {
     "name": "stdout",
     "output_type": "stream",
     "text": [
      "cmdline              ['C:\\\\Users\\\\User\\\\Anaconda2\\\\python.exe', '-m', 'ipykernel', '-f', 'C:\\\\Users\\\\User\\\\AppData\\\\Roaming\\\\jupyter\\\\runtime\\\\kernel-dd367fc1-bb51-4a86-a42c-61fa2c10773a.json']\n",
      "connections          [pconn(fd=-1, family=2, type=1, laddr=addr(ip='127.0.0.1', port=5905), raddr=addr(ip='127.0.0.1', port=10379), status='ESTABLISHED'), pconn(fd=-1, family=2, type=1, laddr=addr(ip='127.0.0.1', port=6275), raddr=(), status='LISTEN'), pconn(fd=-1, family=2, type=1, laddr=addr(ip='127.0.0.1', port=6275), raddr=addr(ip='127.0.0.1', port=10373), status='ESTABLISHED')]\n",
      "cpu_affinity         [0, 1, 2, 3, 4, 5, 6, 7]\n",
      "cpu_percent          0.0\n",
      "cpu_times            pcputimes(user=0.4212027, system=0.2652017, children_user=0.0, children_system=0.0)\n",
      "create_time          1533658373.0\n",
      "cwd                  C:\\Temp\\jupyter_code\\infrastructure\n",
      "environ              {'TMP': 'C:\\\\Users\\\\User\\\\AppData\\\\Local\\\\Temp', 'COMPUTERNAME': 'PC', 'VS140COMNTOOLS': 'C:\\\\Program Files (x86)\\\\Microsoft Visual Studio 14.0\\\\Common7\\\\Tools\\\\'}\n",
      "exe                  C:\\Users\\User\\Anaconda2\\python.exe\n",
      "io_counters          pio(read_count=5710L, write_count=237L, read_bytes=6179826L, write_bytes=116546L, other_count=37932L, other_bytes=1568390L)\n",
      "ionice               2\n",
      "memory_full_info     pfullmem(rss=42369024L, vms=35725312L, num_page_faults=11445, peak_wset=42520576L, wset=42369024L, peak_paged_pool=186264L, paged_pool=186144L, peak_nonpaged_pool=65436L, nonpaged_pool=63492L, pagefile=35725312L, peak_pagefile=35840000L, private=35725312L, uss=32997376L)\n",
      "memory_info          pmem(rss=42332160L, vms=35557376L, num_page_faults=12392, peak_wset=42520576L, wset=42332160L, peak_paged_pool=186264L, paged_pool=186144L, peak_nonpaged_pool=65436L, nonpaged_pool=63492L, pagefile=35557376L, peak_pagefile=35840000L, private=35557376L)\n",
      "memory_maps          [pmmap_grouped(path='C:\\\\Windows\\\\System32\\\\oleaut32.dll', rss=880640), pmmap_grouped(path='C:\\\\Windows\\\\System32\\\\devobj.dll', rss=106496), pmmap_grouped(path='C:\\\\Users\\\\User\\\\Anaconda2\\\\DLLs\\\\_ssl.pyd', rss=2125824)]\n",
      "memory_percent       0.248159930731\n",
      "name                 python.exe\n",
      "nice                 32\n",
      "num_ctx_switches     pctxsw(voluntary=1158, involuntary=0)\n",
      "num_handles          293\n",
      "num_threads          9\n",
      "open_files           [popenfile(path='C:\\\\Users\\\\User\\\\.ipython\\\\profile_default\\\\history.sqlite', fd=-1), popenfile(path='C:\\\\Windows\\\\System32\\\\en-US\\\\KernelBase.dll.mui', fd=-1)]\n",
      "pid                  3804\n",
      "ppid                 5656\n",
      "status               running\n",
      "threads              [pthread(id=6956, user_time=0.3900025, system_time=0.2652017), pthread(id=7116, user_time=0.0, system_time=0.0), pthread(id=7024, user_time=0.0, system_time=0.0)]\n",
      "username             PC\\User\n"
     ]
    }
   ],
   "source": [
    "process = psutil.Process(os.getpid())\n",
    "for k, v in sorted(process.as_dict().items()):\n",
    "    if k in 'connections memory_maps threads'.split():\n",
    "        print '%-20s' % k, v[:3]\n",
    "    elif k == 'environ':\n",
    "        print '%-20s' % k, dict(v.items()[:3])\n",
    "    else:\n",
    "        print '%-20s' % k, v"
   ]
  },
  {
   "cell_type": "code",
   "execution_count": 14,
   "metadata": {
    "collapsed": false
   },
   "outputs": [
    {
     "name": "stdout",
     "output_type": "stream",
     "text": [
      "WindowsService(name='hidserv', display_name='Human Interface Device Access') running manual\n",
      "WindowsService(name='hkmsvc', display_name='Health Key and Certificate Management') stopped manual\n"
     ]
    }
   ],
   "source": [
    "for service in psutil.win_service_iter():\n",
    "    if service.name().startswith('h'):\n",
    "        print service, service.status(), service.start_type()"
   ]
  },
  {
   "cell_type": "markdown",
   "metadata": {},
   "source": [
    "## Производительность"
   ]
  },
  {
   "cell_type": "markdown",
   "metadata": {},
   "source": [
    "### CPU"
   ]
  },
  {
   "cell_type": "markdown",
   "metadata": {},
   "source": [
    "Производительность Питона **непростительно низка** в век, когда JavaScript на многих задачах работает быстрее Java и всего процентов на 20 медленнее C++. Проиллюстрируем это 2D ДП, вычисляющим расстояние Левенштейна. "
   ]
  },
  {
   "cell_type": "code",
   "execution_count": 1,
   "metadata": {
    "collapsed": true
   },
   "outputs": [],
   "source": [
    "def levenshtein_distance(a, b):\n",
    "    dp = [[0 for j in range(len(b) + 1)] for i in range(len(a) + 1)]\n",
    "    for i in range(len(a) + 1):\n",
    "        dp[i][0] = i\n",
    "    for j in range(len(b) + 1):\n",
    "        dp[0][j] = j\n",
    "\n",
    "    for i in range(1, len(a) + 1):\n",
    "        for j in range(1, len(b) + 1):\n",
    "            dp[i][j] = min([\n",
    "                dp[i - 1][j - 1] + (a[i - 1] != b[j - 1]),\n",
    "                dp[i - 1][j] + 1,\n",
    "                dp[i][j - 1] + 1,\n",
    "            ])\n",
    "    print dp[len(a)][len(b)]"
   ]
  },
  {
   "cell_type": "code",
   "execution_count": 2,
   "metadata": {
    "collapsed": true
   },
   "outputs": [],
   "source": [
    "import random, string\n",
    "\n",
    "def rndstr(alpha, length):\n",
    "    return ''.join([alpha[random.randint(0, len(alpha) - 1)] for i in range(length)])\n",
    "\n",
    "random.seed(0)\n",
    "a = rndstr(string.lowercase, 2000)\n",
    "b = rndstr(string.lowercase, 2000)"
   ]
  },
  {
   "cell_type": "markdown",
   "metadata": {},
   "source": [
    "Для получения деталей о:\n",
    "\n",
    "* времени исполнения\n",
    "    * только в ней самой (`tottime`)/в ней и всех вызываемых из нее (`cumtime`);\n",
    "    * всего/за вызов (`percall`)\n",
    "* количестве вызовов\n",
    "\n",
    "можно использовать стандартную библиотеку `cProfile` https://docs.python.org/2/library/profile.html . Тот же вывод можно получить, исполнив модуль `cProfile` как `__main__` и передав ему задание и измеряемый скрипт в командной строке:\n",
    "\n",
    "```bash\n",
    "python -m cProfile -s time file.py\n",
    "```"
   ]
  },
  {
   "cell_type": "code",
   "execution_count": 4,
   "metadata": {
    "collapsed": false
   },
   "outputs": [
    {
     "name": "stdout",
     "output_type": "stream",
     "text": [
      "1766\n",
      "Wall time: 2.25 s\n"
     ]
    }
   ],
   "source": [
    "%%time\n",
    "levenshtein_distance(a, b)"
   ]
  },
  {
   "cell_type": "code",
   "execution_count": 5,
   "metadata": {
    "collapsed": true
   },
   "outputs": [],
   "source": [
    "import cProfile"
   ]
  },
  {
   "cell_type": "code",
   "execution_count": 6,
   "metadata": {
    "collapsed": false,
    "scrolled": true
   },
   "outputs": [
    {
     "name": "stdout",
     "output_type": "stream",
     "text": [
      "1766\n",
      "         4008035 function calls in 2.574 seconds\n",
      "\n",
      "   Ordered by: standard name\n",
      "\n",
      "   ncalls  tottime  percall  cumtime  percall filename:lineno(function)\n",
      "        1    2.042    2.042    2.544    2.544 <ipython-input-1-e7c32ddf8c92>:1(levenshtein_distance)\n",
      "        1    0.030    0.030    2.574    2.574 <string>:1(<module>)\n",
      "        2    0.000    0.000    0.000    0.000 iostream.py:102(_check_mp_mode)\n",
      "        2    0.000    0.000    0.000    0.000 iostream.py:207(write)\n",
      "        2    0.000    0.000    0.000    0.000 iostream.py:93(_is_master_process)\n",
      "        2    0.000    0.000    0.000    0.000 utf_8.py:15(decode)\n",
      "        2    0.000    0.000    0.000    0.000 {_codecs.utf_8_decode}\n",
      "        2    0.000    0.000    0.000    0.000 {isinstance}\n",
      "     4007    0.000    0.000    0.000    0.000 {len}\n",
      "        2    0.000    0.000    0.000    0.000 {method 'decode' of 'str' objects}\n",
      "        1    0.000    0.000    0.000    0.000 {method 'disable' of '_lsprof.Profiler' objects}\n",
      "        2    0.000    0.000    0.000    0.000 {method 'write' of '_io.StringIO' objects}\n",
      "  4000000    0.454    0.000    0.454    0.000 {min}\n",
      "        2    0.000    0.000    0.000    0.000 {nt.getpid}\n",
      "     4005    0.048    0.000    0.048    0.000 {range}\n",
      "        2    0.000    0.000    0.000    0.000 {time.time}\n",
      "\n",
      "\n"
     ]
    }
   ],
   "source": [
    "cProfile.run('levenshtein_distance(a, b)')"
   ]
  },
  {
   "cell_type": "markdown",
   "metadata": {},
   "source": [
    "Для сравнения библиотека `python-Levenshtein`, написанная на C, работает примерно в 200 раз быстрее."
   ]
  },
  {
   "cell_type": "code",
   "execution_count": 7,
   "metadata": {
    "collapsed": true
   },
   "outputs": [],
   "source": [
    "import Levenshtein"
   ]
  },
  {
   "cell_type": "code",
   "execution_count": 8,
   "metadata": {
    "collapsed": false
   },
   "outputs": [
    {
     "name": "stdout",
     "output_type": "stream",
     "text": [
      "Wall time: 14 ms\n"
     ]
    },
    {
     "data": {
      "text/plain": [
       "1766"
      ]
     },
     "execution_count": 8,
     "metadata": {},
     "output_type": "execute_result"
    }
   ],
   "source": [
    "%%time\n",
    "Levenshtein.distance(a, b)"
   ]
  },
  {
   "cell_type": "markdown",
   "metadata": {},
   "source": [
    "Обычно несколько более полезный результат выдает построчный профайлинг, для которого следует поставить библиотеку `line_profiler`. Впрочем, он добавляет значительный оверхед, в несколько раз увеличивая время исполнения."
   ]
  },
  {
   "cell_type": "markdown",
   "metadata": {},
   "source": [
    "```\n",
    "pip install line_profiler\n",
    "```"
   ]
  },
  {
   "cell_type": "code",
   "execution_count": 21,
   "metadata": {
    "collapsed": true
   },
   "outputs": [],
   "source": [
    "import line_profiler"
   ]
  },
  {
   "cell_type": "code",
   "execution_count": 22,
   "metadata": {
    "collapsed": false
   },
   "outputs": [
    {
     "name": "stdout",
     "output_type": "stream",
     "text": [
      "1766\n",
      "Timer unit: 3.64637e-07 s\n",
      "\n",
      "Total time: 10.1364 s\n",
      "File: <ipython-input-15-e7c32ddf8c92>\n",
      "Function: levenshtein_distance at line 1\n",
      "\n",
      "Line #      Hits         Time  Per Hit   % Time  Line Contents\n",
      "==============================================================\n",
      "     1                                           def levenshtein_distance(a, b):\n",
      "     2   4006003    3418257.0      0.9     12.3      dp = [[0 for j in range(len(b) + 1)] for i in range(len(a) + 1)]\n",
      "     3      2002       1625.0      0.8      0.0      for i in range(len(a) + 1):\n",
      "     4      2001       2336.0      1.2      0.0          dp[i][0] = i\n",
      "     5      2002       1524.0      0.8      0.0      for j in range(len(b) + 1):\n",
      "     6      2001       1868.0      0.9      0.0          dp[0][j] = j\n",
      "     7                                           \n",
      "     8      2001       2470.0      1.2      0.0      for i in range(1, len(a) + 1):\n",
      "     9   4002000    3414580.0      0.9     12.3          for j in range(1, len(b) + 1):\n",
      "    10   4000000    3317047.0      0.8     11.9              dp[i][j] = min([\n",
      "    11   4000000    6207357.0      1.6     22.3                  dp[i - 1][j - 1] + (a[i - 1] != b[j - 1]),\n",
      "    12   4000000    4162805.0      1.0     15.0                  dp[i - 1][j] + 1,\n",
      "    13   4000000    7268546.0      1.8     26.1                  dp[i][j - 1] + 1,\n",
      "    14                                                       ])\n",
      "    15         1        119.0    119.0      0.0      print dp[len(a)][len(b)]\n",
      "\n"
     ]
    }
   ],
   "source": [
    "line_profiler.LineProfiler(levenshtein_distance).run('levenshtein_distance(a, b)').print_stats()"
   ]
  },
  {
   "cell_type": "markdown",
   "metadata": {},
   "source": [
    "Советы по оптимизации кода на Python:\n",
    "* Грубо говоря, если C++ может выполнить строку 1ккк раз за секунду, Python может 10кк https://benchmarksgame-team.pages.debian.net/benchmarksgame/faster/python3-gpp.html\n",
    "* Пишите код кратко, выражая намерения. Большинство кулхацкерских методик из C++ неприменимы в Python\n",
    "* Предпочитайте библиотечные вызовы своему коду, особенно с циклами — библиотеки часто реализованы на значительно более производительном языке\n",
    "* Векторизуйте вычисления, насколько это возможно\n",
    "* Если вычисления в основном числовые, можно попробовать `@numba.jit` или `@parakeet.jit` (не придумал рабочий бенчмарк)\n",
    "* Если все тяжело, перепишите затратную часть кода на C++, используя для взаимодействия Boost.Python или просто консольный вывод."
   ]
  },
  {
   "cell_type": "markdown",
   "metadata": {},
   "source": [
    "### Память"
   ]
  },
  {
   "cell_type": "markdown",
   "metadata": {},
   "source": [
    "Переменные в Python представлены довольно сложными объектами, весящими почти всегда больше своих си-аналогов. Если нужно хранить много информации, стоит хранить ее, например, в `numpy`-массивах, которые используют машинные типы хранения, а не в `list`, а то и обратиться к разреженным матрицам из `scipy.sparse`."
   ]
  },
  {
   "cell_type": "code",
   "execution_count": 23,
   "metadata": {
    "collapsed": false
   },
   "outputs": [
    {
     "name": "stdout",
     "output_type": "stream",
     "text": [
      "24 \t0\n",
      "36 \t1208925819614629174706176L\n",
      "33 \t''\n",
      "133 \t'aaaaaaaaaaaaaaaaaaaaaaaaaaaaaaaaaaaaaaaaaaaaaaaaaaaaaaaaaaaaaaaaaaaaaaaaaaaaaaaaaaaaaaaaaaaaaaaaaaaa'\n",
      "64 \t[]\n",
      "144 \t[0, 0, 0, 0, 0, 0, 0, 0, 0, 0]\n",
      "864 \t[0, 0, 0, 0, 0, 0, 0, 0, 0, 0, 0, 0, 0, 0, 0, 0, 0, 0, 0, 0, 0, 0, 0, 0, 0, 0, 0, 0, 0, 0, 0, 0, 0, 0, 0, 0, 0, 0, 0, 0, 0, 0, 0, 0, 0, 0, 0, 0, 0, 0, 0, 0, 0, 0, 0, 0, 0, 0, 0, 0, 0, 0, 0, 0, 0, 0, 0, 0, 0, 0, 0, 0, 0, 0, 0, 0, 0, 0, 0, 0, 0, 0, 0, 0, 0, 0, 0, 0, 0, 0, 0, 0, 0, 0, 0, 0, 0, 0, 0, 0]\n",
      "272 \t{}\n",
      "272 \t{'a': 100}\n",
      "3344 \t{'a': 100, 'c': 100, 'b': 100, 'e': 100, 'd': 100, 'g': 100, 'f': 100, 'i': 100, 'h': 100, 'k': 100, 'j': 100, 'm': 100, 'l': 100, 'o': 100, 'n': 100, 'q': 100, 'p': 100, 's': 100, 'r': 100, 'u': 100, 't': 100, 'w': 100, 'v': 100, 'y': 100, 'x': 100, 'z': 100}\n"
     ]
    }
   ],
   "source": [
    "for item in [0, 2 ** 80, '', 'a' * 100, [], [0] * 10, [0] * 100, {}, {'a':100}, {k:100 for k in string.lowercase}]:\n",
    "    print sys.getsizeof(item), '\\t', repr(item)"
   ]
  },
  {
   "cell_type": "markdown",
   "metadata": {},
   "source": [
    "Пример демонстрирует, как создается большой `numpy`-массив (на 8 МБ), при этом выделенная процессу виртуальная память увеличивается на 8 МБ, но физическая увеличивается ненамного, потому что реальные данные еще не начали записываться на выделенные нулевые страницы (если `numpy.zeros` заменить на `numpy.ones`, `rss` вырастет сразу). Затем в массив пишутся данные и `rss` вырастает на примерно те же 8 МБ. После этого переменная удаляется оператором `del` (фактически происходит уменьшение счетчика ссылок до 0 и сборка сборщиком мусора, который можно позвать принудительно `gc.collect()`) и использование и физической и виртуальной памяти сокращается на все выделенные ранее 8 МБ.\n",
    "\n",
    "Функция `sys.getsizeof`, примененная к значениям в `globals()` может помочь отыскать жирные переменные, которые больше не нужны. Вы не хотите знать, как выглядит более полный ответ на вопрос «Кто в Python сожрал мою память?»."
   ]
  },
  {
   "cell_type": "code",
   "execution_count": 24,
   "metadata": {
    "collapsed": true
   },
   "outputs": [],
   "source": [
    "import numpy"
   ]
  },
  {
   "cell_type": "code",
   "execution_count": 25,
   "metadata": {
    "collapsed": true
   },
   "outputs": [],
   "source": [
    "was_memory = None\n",
    "def calc_memory():\n",
    "    global was_memory\n",
    "    mem = psutil.Process(os.getpid()).memory_info()\n",
    "    print mem\n",
    "    if was_memory:\n",
    "        print 'Δrss %+d  Δvms %+d' % (mem.rss - was_memory.rss, mem.vms - was_memory.vms)\n",
    "    print\n",
    "    was_memory = mem"
   ]
  },
  {
   "cell_type": "code",
   "execution_count": 26,
   "metadata": {
    "collapsed": false
   },
   "outputs": [
    {
     "name": "stdout",
     "output_type": "stream",
     "text": [
      "pmem(rss=155652096L, vms=385712128L, num_page_faults=61003, peak_wset=174006272L, wset=155652096L, peak_paged_pool=268152L, paged_pool=268152L, peak_nonpaged_pool=69008L, nonpaged_pool=67664L, pagefile=385712128L, peak_pagefile=386719744L, private=385712128L)\n",
      "\n",
      "pmem(rss=155656192L, vms=393728000L, num_page_faults=61004, peak_wset=174006272L, wset=155656192L, peak_paged_pool=268152L, paged_pool=268152L, peak_nonpaged_pool=69008L, nonpaged_pool=67784L, pagefile=393728000L, peak_pagefile=393728000L, private=393728000L)\n",
      "Δrss +4096  Δvms +8015872\n",
      "\n",
      "pmem(rss=163676160L, vms=393728000L, num_page_faults=62962, peak_wset=174006272L, wset=163676160L, peak_paged_pool=268152L, paged_pool=268152L, peak_nonpaged_pool=69008L, nonpaged_pool=67784L, pagefile=393728000L, peak_pagefile=393728000L, private=393728000L)\n",
      "Δrss +8019968  Δvms +0\n",
      "\n",
      "[(8000112, 'LARGE', <type 'numpy.ndarray'>), (3344, 'item', <type 'dict'>), (2033, 'b', <type 'str'>), (2033, 'a', <type 'str'>), (1040, '_oh', <type 'dict'>)]\n",
      "\n",
      "pmem(rss=155664384L, vms=385712128L, num_page_faults=62963, peak_wset=174006272L, wset=155664384L, peak_paged_pool=268152L, paged_pool=268152L, peak_nonpaged_pool=69096L, nonpaged_pool=67664L, pagefile=385712128L, peak_pagefile=393728000L, private=385712128L)\n",
      "Δrss -8011776  Δvms -8015872\n",
      "\n"
     ]
    }
   ],
   "source": [
    "calc_memory()\n",
    "LARGE = numpy.zeros((1000, 1000), dtype=numpy.float64)\n",
    "calc_memory()\n",
    "for i in xrange(1000):\n",
    "    for j in xrange(1000):\n",
    "        LARGE[i,j] = i * j\n",
    "calc_memory()\n",
    "print sorted([(sys.getsizeof(v), k, type(v)) for k, v in globals().iteritems()], reverse=True)[:5]\n",
    "print\n",
    "del LARGE\n",
    "calc_memory()"
   ]
  },
  {
   "cell_type": "markdown",
   "metadata": {},
   "source": [
    "## Отладка"
   ]
  },
  {
   "cell_type": "markdown",
   "metadata": {},
   "source": [
    "Python включает в себя стандартную библиотеку `pdb` для отладки кода в консольном отладчике, похожем на `gdb`. Отладчик активируется при вызове `pdb.set_trace()` или при исключении, после чего запрашивает из stdin команды или Python-код для исполнения в текущем контексте.\n",
    "\n",
    "Популярные команды:\n",
    "* `?` — подсказка\n",
    "* `c` — continue, продолжить исполнение\n",
    "* `q` — quit, прервать исполнение и отладку\n",
    "* `s` — step inside, шаг с заходом\n",
    "* `n` — next, step over, шаг без захода\n",
    "* `r` — return, step out, исполнить до конца текущей функции\n",
    "* `p`, `pp` — print, pretty print\n",
    "* `bt` — backtrace, стек\n",
    "* `u`, `d` — up, down, подняться или спуститься по стеку\n",
    "* `l` — list, окрестность текущей строки\n",
    "\n",
    "Подробнее https://docs.python.org/3/library/pdb.html https://habr.com/post/104086/\n",
    "\n",
    "Следует отметить, что IPython парсит код верхнего уровня в ячейке в AST, так что для вменяемых шагов трейса следует заключить исполняемые строки в тело функции."
   ]
  },
  {
   "cell_type": "markdown",
   "metadata": {},
   "source": [
    "todo Нормальный пример трейса"
   ]
  },
  {
   "cell_type": "code",
   "execution_count": 11,
   "metadata": {
    "collapsed": true
   },
   "outputs": [],
   "source": [
    "import pdb"
   ]
  },
  {
   "cell_type": "code",
   "execution_count": 13,
   "metadata": {
    "collapsed": false
   },
   "outputs": [
    {
     "name": "stdout",
     "output_type": "stream",
     "text": [
      "> <ipython-input-13-2b070f16f172>(4)run()\n",
      "-> for i in range(1, 6):\n",
      "(Pdb) n\n",
      "> <ipython-input-13-2b070f16f172>(5)run()\n",
      "-> result *= i\n",
      "(Pdb) p i\n",
      "1\n",
      "(Pdb) p result\n",
      "1\n",
      "(Pdb) n\n",
      "> <ipython-input-13-2b070f16f172>(4)run()\n",
      "-> for i in range(1, 6):\n",
      "(Pdb) p result\n",
      "1\n",
      "(Pdb) print i, result\n",
      "1 1\n",
      "(Pdb) n\n",
      "> <ipython-input-13-2b070f16f172>(5)run()\n",
      "-> result *= i\n",
      "(Pdb) print i, result\n",
      "2 1\n",
      "(Pdb) n\n",
      "> <ipython-input-13-2b070f16f172>(4)run()\n",
      "-> for i in range(1, 6):\n",
      "(Pdb) print i, result\n",
      "2 2\n",
      "(Pdb) n\n",
      "> <ipython-input-13-2b070f16f172>(5)run()\n",
      "-> result *= i\n",
      "(Pdb) \n",
      "> <ipython-input-13-2b070f16f172>(4)run()\n",
      "-> for i in range(1, 6):\n",
      "(Pdb) \n",
      "> <ipython-input-13-2b070f16f172>(5)run()\n",
      "-> result *= i\n",
      "(Pdb) \n",
      "> <ipython-input-13-2b070f16f172>(4)run()\n",
      "-> for i in range(1, 6):\n",
      "(Pdb) \n",
      "> <ipython-input-13-2b070f16f172>(5)run()\n",
      "-> result *= i\n",
      "(Pdb) print i, result\n",
      "5 24\n",
      "(Pdb) n\n",
      "> <ipython-input-13-2b070f16f172>(4)run()\n",
      "-> for i in range(1, 6):\n",
      "(Pdb) pp result\n",
      "120\n",
      "(Pdb) n\n",
      "> <ipython-input-13-2b070f16f172>(6)run()\n",
      "-> print result\n",
      "(Pdb) n\n",
      "120\n",
      "--Return--\n",
      "> <ipython-input-13-2b070f16f172>(6)run()->None\n",
      "-> print result\n",
      "(Pdb) n\n",
      "--Call--\n",
      "> c:\\users\\user\\anaconda2\\lib\\site-packages\\ipython\\core\\displayhook.py(236)__call__()\n",
      "-> def __call__(self, result=None):\n",
      "(Pdb) c\n"
     ]
    }
   ],
   "source": [
    "def run():\n",
    "    result = 1\n",
    "    pdb.set_trace()\n",
    "    for i in range(1, 6):\n",
    "        result *= i\n",
    "    print result\n",
    "run()"
   ]
  },
  {
   "cell_type": "code",
   "execution_count": 15,
   "metadata": {
    "collapsed": false
   },
   "outputs": [
    {
     "name": "stdout",
     "output_type": "stream",
     "text": [
      "--Return--\n",
      "> <ipython-input-15-951ca1d6453c>(1)<module>()->None\n",
      "-> pdb.set_trace()\n",
      "(Pdb) c\n"
     ]
    },
    {
     "ename": "Exception",
     "evalue": "wat",
     "output_type": "error",
     "traceback": [
      "\u001b[1;31m---------------------------------------------------------------------------\u001b[0m",
      "\u001b[1;31mException\u001b[0m                                 Traceback (most recent call last)",
      "\u001b[1;32m<ipython-input-15-951ca1d6453c>\u001b[0m in \u001b[0;36m<module>\u001b[1;34m()\u001b[0m\n\u001b[0;32m      7\u001b[0m     \u001b[0mresult\u001b[0m \u001b[1;33m*=\u001b[0m \u001b[0mi\u001b[0m\u001b[1;33m\u001b[0m\u001b[0m\n\u001b[0;32m      8\u001b[0m     \u001b[1;32mif\u001b[0m \u001b[0mbr\u001b[0m\u001b[1;33m:\u001b[0m\u001b[1;33m\u001b[0m\u001b[0m\n\u001b[1;32m----> 9\u001b[1;33m         \u001b[1;32mraise\u001b[0m \u001b[0mException\u001b[0m\u001b[1;33m(\u001b[0m\u001b[1;34m'wat'\u001b[0m\u001b[1;33m)\u001b[0m\u001b[1;33m\u001b[0m\u001b[0m\n\u001b[0m\u001b[0;32m     10\u001b[0m \u001b[1;32mprint\u001b[0m \u001b[0mresult\u001b[0m\u001b[1;33m\u001b[0m\u001b[0m\n",
      "\u001b[1;31mException\u001b[0m: wat"
     ]
    }
   ],
   "source": [
    "pdb.set_trace()\n",
    "br = False\n",
    "result = 1\n",
    "for i in range(1, 6):\n",
    "    if i == 5:\n",
    "        br = True\n",
    "    result *= i\n",
    "    if br:\n",
    "        raise Exception('wat')\n",
    "print result"
   ]
  },
  {
   "cell_type": "code",
   "execution_count": 9,
   "metadata": {
    "collapsed": false
   },
   "outputs": [
    {
     "name": "stdout",
     "output_type": "stream",
     "text": [
      "> \u001b[1;32m<ipython-input-8-61bbd8567975>\u001b[0m(8)\u001b[0;36m<module>\u001b[1;34m()\u001b[0m\n",
      "\u001b[1;32m      7 \u001b[1;33m    \u001b[1;32mif\u001b[0m \u001b[0mbr\u001b[0m\u001b[1;33m:\u001b[0m\u001b[1;33m\u001b[0m\u001b[0m\n",
      "\u001b[0m\u001b[1;32m----> 8 \u001b[1;33m        \u001b[1;32mraise\u001b[0m \u001b[0mException\u001b[0m\u001b[1;33m(\u001b[0m\u001b[1;34m'wat'\u001b[0m\u001b[1;33m)\u001b[0m\u001b[1;33m\u001b[0m\u001b[0m\n",
      "\u001b[0m\u001b[1;32m      9 \u001b[1;33m\u001b[1;32mprint\u001b[0m \u001b[0mresult\u001b[0m\u001b[1;33m\u001b[0m\u001b[0m\n",
      "\u001b[0m\n",
      "ipdb> j 9\n",
      "*** Jump failed: f_lineno can only be set by a line trace function\n",
      "ipdb> c\n"
     ]
    }
   ],
   "source": [
    "%debug"
   ]
  },
  {
   "cell_type": "code",
   "execution_count": null,
   "metadata": {
    "collapsed": true
   },
   "outputs": [],
   "source": [
    "sys.exc_clear()"
   ]
  },
  {
   "cell_type": "markdown",
   "metadata": {},
   "source": [
    "Непохоже, что есть способ восстановиться из дебаггера при исключении"
   ]
  },
  {
   "cell_type": "code",
   "execution_count": 69,
   "metadata": {
    "collapsed": false
   },
   "outputs": [
    {
     "name": "stdout",
     "output_type": "stream",
     "text": [
      "Automatic pdb calling has been turned OFF\n"
     ]
    }
   ],
   "source": [
    "%pdb"
   ]
  },
  {
   "cell_type": "markdown",
   "metadata": {},
   "source": [
    "При исключениях Python показывает стек вызовов функции, в которой исключение было выброшено. Это удобное сообщение можно получить, используя встроенную библиотеку `traceback`. Легко заметить, что IPython фильтрует большую часть стека с его собственными функциями, которые и приводят к принятию пользовательского кода из ячейки IPython в браузере (через процесс-диспетчер) на его исполнение в контексте процесса-кернеля."
   ]
  },
  {
   "cell_type": "code",
   "execution_count": 23,
   "metadata": {
    "collapsed": false
   },
   "outputs": [
    {
     "name": "stdout",
     "output_type": "stream",
     "text": [
      "[('C:\\\\Users\\\\User\\\\Anaconda2\\\\lib\\\\runpy.py', 174, '_run_module_as_main', '\"__main__\", fname, loader, pkg_name)'), ('C:\\\\Users\\\\User\\\\Anaconda2\\\\lib\\\\runpy.py', 72, '_run_code', 'exec code in run_globals'), ('C:\\\\Users\\\\User\\\\Anaconda2\\\\lib\\\\site-packages\\\\ipykernel\\\\__main__.py', 3, '<module>', 'app.launch_new_instance()'), ('C:\\\\Users\\\\User\\\\Anaconda2\\\\lib\\\\site-packages\\\\traitlets\\\\config\\\\application.py', 658, 'launch_instance', 'app.start()'), ('C:\\\\Users\\\\User\\\\Anaconda2\\\\lib\\\\site-packages\\\\ipykernel\\\\kernelapp.py', 405, 'start', 'ioloop.IOLoop.instance().start()'), ('C:\\\\Users\\\\User\\\\Anaconda2\\\\lib\\\\site-packages\\\\zmq\\\\eventloop\\\\ioloop.py', 162, 'start', 'super(ZMQIOLoop, self).start()'), ('C:\\\\Users\\\\User\\\\Anaconda2\\\\lib\\\\site-packages\\\\tornado\\\\ioloop.py', 883, 'start', 'handler_func(fd_obj, events)'), ('C:\\\\Users\\\\User\\\\Anaconda2\\\\lib\\\\site-packages\\\\tornado\\\\stack_context.py', 275, 'null_wrapper', 'return fn(*args, **kwargs)'), ('C:\\\\Users\\\\User\\\\Anaconda2\\\\lib\\\\site-packages\\\\zmq\\\\eventloop\\\\zmqstream.py', 440, '_handle_events', 'self._handle_recv()'), ('C:\\\\Users\\\\User\\\\Anaconda2\\\\lib\\\\site-packages\\\\zmq\\\\eventloop\\\\zmqstream.py', 472, '_handle_recv', 'self._run_callback(callback, msg)'), ('C:\\\\Users\\\\User\\\\Anaconda2\\\\lib\\\\site-packages\\\\zmq\\\\eventloop\\\\zmqstream.py', 414, '_run_callback', 'callback(*args, **kwargs)'), ('C:\\\\Users\\\\User\\\\Anaconda2\\\\lib\\\\site-packages\\\\tornado\\\\stack_context.py', 275, 'null_wrapper', 'return fn(*args, **kwargs)'), ('C:\\\\Users\\\\User\\\\Anaconda2\\\\lib\\\\site-packages\\\\ipykernel\\\\kernelbase.py', 260, 'dispatcher', 'return self.dispatch_shell(stream, msg)'), ('C:\\\\Users\\\\User\\\\Anaconda2\\\\lib\\\\site-packages\\\\ipykernel\\\\kernelbase.py', 212, 'dispatch_shell', 'handler(stream, idents, msg)'), ('C:\\\\Users\\\\User\\\\Anaconda2\\\\lib\\\\site-packages\\\\ipykernel\\\\kernelbase.py', 370, 'execute_request', 'user_expressions, allow_stdin)'), ('C:\\\\Users\\\\User\\\\Anaconda2\\\\lib\\\\site-packages\\\\ipykernel\\\\ipkernel.py', 175, 'do_execute', 'shell.run_cell(code, store_history=store_history, silent=silent)'), ('C:\\\\Users\\\\User\\\\Anaconda2\\\\lib\\\\site-packages\\\\IPython\\\\core\\\\interactiveshell.py', 2902, 'run_cell', 'interactivity=interactivity, compiler=compiler, result=result)'), ('C:\\\\Users\\\\User\\\\Anaconda2\\\\lib\\\\site-packages\\\\IPython\\\\core\\\\interactiveshell.py', 3012, 'run_ast_nodes', 'if self.run_code(code, result):'), ('C:\\\\Users\\\\User\\\\Anaconda2\\\\lib\\\\site-packages\\\\IPython\\\\core\\\\interactiveshell.py', 3066, 'run_code', 'exec(code_obj, self.user_global_ns, self.user_ns)'), ('<ipython-input-23-5b8b7f6e1796>', 8, '<module>', u'foo()'), ('<ipython-input-23-5b8b7f6e1796>', 5, 'foo', u'print traceback.extract_stack()')]\n"
     ]
    },
    {
     "name": "stderr",
     "output_type": "stream",
     "text": [
      "  File \"C:\\Users\\User\\Anaconda2\\lib\\runpy.py\", line 174, in _run_module_as_main\n",
      "    \"__main__\", fname, loader, pkg_name)\n",
      "  File \"C:\\Users\\User\\Anaconda2\\lib\\runpy.py\", line 72, in _run_code\n",
      "    exec code in run_globals\n",
      "  File \"C:\\Users\\User\\Anaconda2\\lib\\site-packages\\ipykernel\\__main__.py\", line 3, in <module>\n",
      "    app.launch_new_instance()\n",
      "  File \"C:\\Users\\User\\Anaconda2\\lib\\site-packages\\traitlets\\config\\application.py\", line 658, in launch_instance\n",
      "    app.start()\n",
      "  File \"C:\\Users\\User\\Anaconda2\\lib\\site-packages\\ipykernel\\kernelapp.py\", line 405, in start\n",
      "    ioloop.IOLoop.instance().start()\n",
      "  File \"C:\\Users\\User\\Anaconda2\\lib\\site-packages\\zmq\\eventloop\\ioloop.py\", line 162, in start\n",
      "    super(ZMQIOLoop, self).start()\n",
      "  File \"C:\\Users\\User\\Anaconda2\\lib\\site-packages\\tornado\\ioloop.py\", line 883, in start\n",
      "    handler_func(fd_obj, events)\n",
      "  File \"C:\\Users\\User\\Anaconda2\\lib\\site-packages\\tornado\\stack_context.py\", line 275, in null_wrapper\n",
      "    return fn(*args, **kwargs)\n",
      "  File \"C:\\Users\\User\\Anaconda2\\lib\\site-packages\\zmq\\eventloop\\zmqstream.py\", line 440, in _handle_events\n",
      "    self._handle_recv()\n",
      "  File \"C:\\Users\\User\\Anaconda2\\lib\\site-packages\\zmq\\eventloop\\zmqstream.py\", line 472, in _handle_recv\n",
      "    self._run_callback(callback, msg)\n",
      "  File \"C:\\Users\\User\\Anaconda2\\lib\\site-packages\\zmq\\eventloop\\zmqstream.py\", line 414, in _run_callback\n",
      "    callback(*args, **kwargs)\n",
      "  File \"C:\\Users\\User\\Anaconda2\\lib\\site-packages\\tornado\\stack_context.py\", line 275, in null_wrapper\n",
      "    return fn(*args, **kwargs)\n",
      "  File \"C:\\Users\\User\\Anaconda2\\lib\\site-packages\\ipykernel\\kernelbase.py\", line 260, in dispatcher\n",
      "    return self.dispatch_shell(stream, msg)\n",
      "  File \"C:\\Users\\User\\Anaconda2\\lib\\site-packages\\ipykernel\\kernelbase.py\", line 212, in dispatch_shell\n",
      "    handler(stream, idents, msg)\n",
      "  File \"C:\\Users\\User\\Anaconda2\\lib\\site-packages\\ipykernel\\kernelbase.py\", line 370, in execute_request\n",
      "    user_expressions, allow_stdin)\n",
      "  File \"C:\\Users\\User\\Anaconda2\\lib\\site-packages\\ipykernel\\ipkernel.py\", line 175, in do_execute\n",
      "    shell.run_cell(code, store_history=store_history, silent=silent)\n",
      "  File \"C:\\Users\\User\\Anaconda2\\lib\\site-packages\\IPython\\core\\interactiveshell.py\", line 2902, in run_cell\n",
      "    interactivity=interactivity, compiler=compiler, result=result)\n",
      "  File \"C:\\Users\\User\\Anaconda2\\lib\\site-packages\\IPython\\core\\interactiveshell.py\", line 3012, in run_ast_nodes\n",
      "    if self.run_code(code, result):\n",
      "  File \"C:\\Users\\User\\Anaconda2\\lib\\site-packages\\IPython\\core\\interactiveshell.py\", line 3066, in run_code\n",
      "    exec(code_obj, self.user_global_ns, self.user_ns)\n",
      "  File \"<ipython-input-23-5b8b7f6e1796>\", line 8, in <module>\n",
      "    foo()\n",
      "  File \"<ipython-input-23-5b8b7f6e1796>\", line 6, in foo\n",
      "    traceback.print_stack()\n"
     ]
    },
    {
     "ename": "Exception",
     "evalue": "traceback",
     "output_type": "error",
     "traceback": [
      "\u001b[1;31m---------------------------------------------------------------------------\u001b[0m",
      "\u001b[1;31mException\u001b[0m                                 Traceback (most recent call last)",
      "\u001b[1;32m<ipython-input-23-5b8b7f6e1796>\u001b[0m in \u001b[0;36m<module>\u001b[1;34m()\u001b[0m\n\u001b[0;32m      6\u001b[0m     \u001b[0mtraceback\u001b[0m\u001b[1;33m.\u001b[0m\u001b[0mprint_stack\u001b[0m\u001b[1;33m(\u001b[0m\u001b[1;33m)\u001b[0m\u001b[1;33m\u001b[0m\u001b[0m\n\u001b[0;32m      7\u001b[0m     \u001b[1;32mraise\u001b[0m \u001b[0mException\u001b[0m\u001b[1;33m(\u001b[0m\u001b[1;34m'traceback'\u001b[0m\u001b[1;33m)\u001b[0m\u001b[1;33m\u001b[0m\u001b[0m\n\u001b[1;32m----> 8\u001b[1;33m \u001b[0mfoo\u001b[0m\u001b[1;33m(\u001b[0m\u001b[1;33m)\u001b[0m\u001b[1;33m\u001b[0m\u001b[0m\n\u001b[0m",
      "\u001b[1;32m<ipython-input-23-5b8b7f6e1796>\u001b[0m in \u001b[0;36mfoo\u001b[1;34m()\u001b[0m\n\u001b[0;32m      5\u001b[0m     \u001b[1;32mprint\u001b[0m \u001b[0mtraceback\u001b[0m\u001b[1;33m.\u001b[0m\u001b[0mextract_stack\u001b[0m\u001b[1;33m(\u001b[0m\u001b[1;33m)\u001b[0m\u001b[1;33m\u001b[0m\u001b[0m\n\u001b[0;32m      6\u001b[0m     \u001b[0mtraceback\u001b[0m\u001b[1;33m.\u001b[0m\u001b[0mprint_stack\u001b[0m\u001b[1;33m(\u001b[0m\u001b[1;33m)\u001b[0m\u001b[1;33m\u001b[0m\u001b[0m\n\u001b[1;32m----> 7\u001b[1;33m     \u001b[1;32mraise\u001b[0m \u001b[0mException\u001b[0m\u001b[1;33m(\u001b[0m\u001b[1;34m'traceback'\u001b[0m\u001b[1;33m)\u001b[0m\u001b[1;33m\u001b[0m\u001b[0m\n\u001b[0m\u001b[0;32m      8\u001b[0m \u001b[0mfoo\u001b[0m\u001b[1;33m(\u001b[0m\u001b[1;33m)\u001b[0m\u001b[1;33m\u001b[0m\u001b[0m\n",
      "\u001b[1;31mException\u001b[0m: traceback"
     ]
    }
   ],
   "source": [
    "import traceback\n",
    "\n",
    "def foo():\n",
    "    a = 42\n",
    "    print traceback.extract_stack()\n",
    "    traceback.print_stack()\n",
    "    raise Exception('traceback')\n",
    "foo()"
   ]
  },
  {
   "cell_type": "markdown",
   "metadata": {},
   "source": [
    "## Вывод"
   ]
  },
  {
   "cell_type": "markdown",
   "metadata": {},
   "source": [
    "Вывод в стандартный потока вывода доступен через инструкцию `print`. Она кэширует вывод, что иногда может быть неудобно. В этом случае используйте метод `flush()` у `sys.stdout`."
   ]
  },
  {
   "cell_type": "code",
   "execution_count": 32,
   "metadata": {
    "collapsed": true
   },
   "outputs": [],
   "source": [
    "import time"
   ]
  },
  {
   "cell_type": "code",
   "execution_count": 46,
   "metadata": {
    "collapsed": false
   },
   "outputs": [
    {
     "name": "stdout",
     "output_type": "stream",
     "text": [
      "wait\n",
      "for\n",
      "me\n"
     ]
    }
   ],
   "source": [
    "print 'wait'; sys.stdout.flush()\n",
    "time.sleep(0.5)\n",
    "print 'for'\n",
    "time.sleep(0.5)\n",
    "print 'me'"
   ]
  },
  {
   "cell_type": "markdown",
   "metadata": {},
   "source": [
    "Несколько олдфажный синтаксис позволяет указывать `print`, в какой файловый дескриптор ему писать."
   ]
  },
  {
   "cell_type": "code",
   "execution_count": 47,
   "metadata": {
    "collapsed": false
   },
   "outputs": [
    {
     "name": "stderr",
     "output_type": "stream",
     "text": [
      "Hello\n"
     ]
    }
   ],
   "source": [
    "print >>sys.stderr, 'Hello'"
   ]
  },
  {
   "cell_type": "code",
   "execution_count": 48,
   "metadata": {
    "collapsed": false
   },
   "outputs": [
    {
     "name": "stderr",
     "output_type": "stream",
     "text": [
      "Hello"
     ]
    }
   ],
   "source": [
    "sys.stderr.write('Hello')"
   ]
  },
  {
   "cell_type": "markdown",
   "metadata": {},
   "source": [
    "Сообщения об ошибках удобнее выводить, используя встроенную библиотеку `logging`, позволяющую настраивать уровень подробности сообщений (по умолчанию `WARNING`)."
   ]
  },
  {
   "cell_type": "code",
   "execution_count": 1,
   "metadata": {
    "collapsed": false
   },
   "outputs": [
    {
     "name": "stderr",
     "output_type": "stream",
     "text": [
      "DEBUG:root:hello\n",
      "INFO:root:hello\n",
      "WARNING:root:hello\n",
      "ERROR:root:hello\n",
      "ERROR:root:hello\n",
      "Traceback (most recent call last):\n",
      "  File \"<ipython-input-1-16b7b1fd3503>\", line 10, in <module>\n",
      "    raise Exception('wat')\n",
      "Exception: wat\n",
      "CRITICAL:root:hello\n"
     ]
    }
   ],
   "source": [
    "import logging\n",
    "logger = logging.getLogger()\n",
    "lvl = logger.level\n",
    "logger.setLevel(logging.DEBUG)\n",
    "logger.debug('hello')\n",
    "logger.info('hello')\n",
    "logger.warning('hello')\n",
    "logger.error('hello')\n",
    "try:\n",
    "    raise Exception('wat')\n",
    "except:\n",
    "    logger.exception('hello')\n",
    "logger.critical('hello')\n",
    "logger.setLevel(lvl)"
   ]
  },
  {
   "cell_type": "markdown",
   "metadata": {},
   "source": [
    "## Файловая система"
   ]
  },
  {
   "cell_type": "markdown",
   "metadata": {},
   "source": [
    "Для работы с большинством файлов удобнее всего использовать такие функции, читающие и пишущие файл целиком"
   ]
  },
  {
   "cell_type": "code",
   "execution_count": 50,
   "metadata": {
    "collapsed": true
   },
   "outputs": [],
   "source": [
    "def file_put(fn, text):\n",
    "    with open(fn, 'wb') as fp:\n",
    "        fp.write(text)\n",
    "        \n",
    "def file_get(fn):\n",
    "    with open(fn, 'rb') as fp:\n",
    "        s = fp.read()\n",
    "    return s"
   ]
  },
  {
   "cell_type": "markdown",
   "metadata": {},
   "source": [
    "Читать файл, открытый через `open` можно побайтово `.read([size])`, построчно `.readlines([size])` или построчно циклом `for line in fp`. Всегда используйте `'rb'`, `'wb'` или `'ab'` (append) как режимы открытия файлов."
   ]
  },
  {
   "cell_type": "markdown",
   "metadata": {},
   "source": [
    "Если библиотека принимает хандл файла (например, как `PIL.Image.save`), почти всегда ей можно скормить файлоподобный объект `BytesIO` из встроенной библиотеки `io`, который пишет в память."
   ]
  },
  {
   "cell_type": "code",
   "execution_count": 51,
   "metadata": {
    "collapsed": false
   },
   "outputs": [
    {
     "data": {
      "text/plain": [
       "'\\x89PNG\\r\\n\\x1a\\n\\x00\\x00\\x00\\rIHDR\\x00\\x00\\x00 \\x00\\x00\\x00 \\x08\\x02\\x00\\x00\\x00\\xfc\\x18\\xed\\xa3\\x00\\x00\\x00(IDATx\\x9c\\xed\\xcd1\\x01\\x00\\x00\\x08\\xc30\\xc0\\xbfg0\\xc1\\xbeT@\\xd3[\\xd9&\\xfc\\x07\\x00\\x00\\x00\\x00\\x00\\x00\\x00\\x00\\x00o\\x1d\\xa3\\xc4\\x01?\\x8b`#:\\x00\\x00\\x00\\x00IEND\\xaeB`\\x82'"
      ]
     },
     "execution_count": 51,
     "metadata": {},
     "output_type": "execute_result"
    }
   ],
   "source": [
    "import PIL.Image\n",
    "from io import BytesIO\n",
    "im = PIL.Image.new('RGB', (32, 32), (255,0,0))\n",
    "buf = BytesIO()\n",
    "im.save(buf, 'PNG')\n",
    "buf.getvalue()"
   ]
  },
  {
   "cell_type": "markdown",
   "metadata": {},
   "source": [
    "Работа с путями"
   ]
  },
  {
   "cell_type": "code",
   "execution_count": 17,
   "metadata": {
    "collapsed": true
   },
   "outputs": [],
   "source": [
    "import os"
   ]
  },
  {
   "cell_type": "code",
   "execution_count": 53,
   "metadata": {
    "collapsed": false
   },
   "outputs": [
    {
     "name": "stdout",
     "output_type": "stream",
     "text": [
      "c:\\\n"
     ]
    }
   ],
   "source": [
    "print os.path.normpath('c:/')"
   ]
  },
  {
   "cell_type": "code",
   "execution_count": 54,
   "metadata": {
    "collapsed": false
   },
   "outputs": [
    {
     "name": "stdout",
     "output_type": "stream",
     "text": [
      "c:\\folder\\folder2\\file.txt\n"
     ]
    }
   ],
   "source": [
    "d = os.path.join('c:\\\\folder', 'folder2\\\\file.txt')\n",
    "print d"
   ]
  },
  {
   "cell_type": "code",
   "execution_count": 56,
   "metadata": {
    "collapsed": false,
    "scrolled": true
   },
   "outputs": [
    {
     "name": "stdout",
     "output_type": "stream",
     "text": [
      "c:\\folder\\folder2\n",
      "file.txt\n",
      "('c:', '\\\\folder\\\\folder2\\\\file.txt')\n",
      "('c:\\\\folder\\\\folder2', 'file.txt')\n",
      "('c:\\\\folder\\\\folder2\\\\file', '.txt')\n"
     ]
    }
   ],
   "source": [
    "print os.path.dirname(d)\n",
    "print os.path.basename(d)\n",
    "print os.path.splitdrive(d)\n",
    "print os.path.split(d)\n",
    "print os.path.splitext(d)"
   ]
  },
  {
   "cell_type": "code",
   "execution_count": 57,
   "metadata": {
    "collapsed": false,
    "scrolled": true
   },
   "outputs": [
    {
     "name": "stdout",
     "output_type": "stream",
     "text": [
      "'C:\\\\Temp\\\\jupyter_code\\\\infrastructure'\n",
      "u'C:\\\\Temp\\\\jupyter_code\\\\infrastructure'\n"
     ]
    }
   ],
   "source": [
    "print repr(os.getcwd())\n",
    "print repr(os.getcwdu())"
   ]
  },
  {
   "cell_type": "markdown",
   "metadata": {},
   "source": [
    "Для смены текущей папки используйте `os.chdir`."
   ]
  },
  {
   "cell_type": "code",
   "execution_count": 22,
   "metadata": {
    "collapsed": false
   },
   "outputs": [
    {
     "name": "stdout",
     "output_type": "stream",
     "text": [
      "True False\n",
      "True False\n",
      "C:\\Temp\\jupyter_code\\infrastructure\\files\n"
     ]
    }
   ],
   "source": [
    "print os.path.isdir('files'), os.path.isdir('files/__temp__.mp4')\n",
    "print os.path.exists('files'), os.path.exists('files/no_such_file.txt')\n",
    "print os.path.abspath('files')"
   ]
  },
  {
   "cell_type": "markdown",
   "metadata": {},
   "source": [
    "Просмотр папки"
   ]
  },
  {
   "cell_type": "code",
   "execution_count": 58,
   "metadata": {
    "collapsed": false
   },
   "outputs": [
    {
     "name": "stdout",
     "output_type": "stream",
     "text": [
      "  107271 infrastructure_01_language\n",
      "  115774 infrastructure_02_strings_dates_collections\n",
      "  151784 infrastructure_03_system\n",
      "  747175 infrastructure_04_data_sources\n",
      "   62593 infrastructure_05_rich_output\n",
      "  396068 infrastructure_06_web\n",
      "  338992 infrastructure_07_math\n",
      "  481966 infrastructure_08_cas\n",
      " 1354597 infrastructure_09_graphs\n",
      " 6669674 infrastructure_10_visualization\n",
      "  407129 infrastructure_11_machine_learning\n",
      "  670044 infrastructure_12_media\n",
      "  253603 infrastructure_13_gui\n",
      "  111275 infrastructure_14_ctf\n",
      " 2556985 infrastructure_15_3d\n",
      "    3808 ipynb_text_size\n",
      "   13196 ogarok_epistemic\n",
      "    1674 ogarok_probprog\n",
      "  121267 ogarok_termeh\n",
      "  980765 rawnb_to_cells\n"
     ]
    }
   ],
   "source": [
    "for f in os.listdir('.'):\n",
    "    filename, ext = os.path.splitext(f)\n",
    "    if ext.lower() == '.ipynb':\n",
    "        print '%8d' % os.path.getsize(f), filename"
   ]
  },
  {
   "cell_type": "markdown",
   "metadata": {},
   "source": [
    "Вариант с символами `*` и `?` реализован во встроенной библиотеке `glob`"
   ]
  },
  {
   "cell_type": "code",
   "execution_count": 59,
   "metadata": {
    "collapsed": false
   },
   "outputs": [
    {
     "data": {
      "text/plain": [
       "['infrastructure_01_language.ipynb',\n",
       " 'infrastructure_02_strings_dates_collections.ipynb',\n",
       " 'infrastructure_03_system.ipynb',\n",
       " 'infrastructure_04_data_sources.ipynb',\n",
       " 'infrastructure_05_rich_output.ipynb',\n",
       " 'infrastructure_06_web.ipynb',\n",
       " 'infrastructure_07_math.ipynb',\n",
       " 'infrastructure_08_cas.ipynb',\n",
       " 'infrastructure_09_graphs.ipynb',\n",
       " 'infrastructure_10_visualization.ipynb',\n",
       " 'infrastructure_11_machine_learning.ipynb',\n",
       " 'infrastructure_12_media.ipynb',\n",
       " 'infrastructure_13_gui.ipynb',\n",
       " 'infrastructure_14_ctf.ipynb',\n",
       " 'infrastructure_15_3d.ipynb',\n",
       " 'ipynb_text_size.ipynb',\n",
       " 'ogarok_epistemic.ipynb',\n",
       " 'ogarok_probprog.ipynb',\n",
       " 'ogarok_termeh.ipynb',\n",
       " 'rawnb_to_cells.ipynb']"
      ]
     },
     "execution_count": 59,
     "metadata": {},
     "output_type": "execute_result"
    }
   ],
   "source": [
    "import glob\n",
    "glob.glob('*.ipynb')"
   ]
  },
  {
   "cell_type": "markdown",
   "metadata": {},
   "source": [
    "Проверять строку маской вида `?a*.txt` можно с помощью встроенной библиотеки `fnmatch`."
   ]
  },
  {
   "cell_type": "code",
   "execution_count": 60,
   "metadata": {
    "collapsed": false
   },
   "outputs": [
    {
     "data": {
      "text/plain": [
       "['infrastructure_01_language.ipynb',\n",
       " 'infrastructure_02_strings_dates_collections.ipynb',\n",
       " 'infrastructure_03_system.ipynb',\n",
       " 'infrastructure_04_data_sources.ipynb',\n",
       " 'infrastructure_05_rich_output.ipynb',\n",
       " 'infrastructure_06_web.ipynb',\n",
       " 'infrastructure_07_math.ipynb',\n",
       " 'infrastructure_08_cas.ipynb',\n",
       " 'infrastructure_09_graphs.ipynb',\n",
       " 'infrastructure_10_visualization.ipynb',\n",
       " 'infrastructure_11_machine_learning.ipynb',\n",
       " 'infrastructure_12_media.ipynb',\n",
       " 'infrastructure_13_gui.ipynb',\n",
       " 'infrastructure_14_ctf.ipynb',\n",
       " 'infrastructure_15_3d.ipynb']"
      ]
     },
     "execution_count": 60,
     "metadata": {},
     "output_type": "execute_result"
    }
   ],
   "source": [
    "from fnmatch import fnmatch\n",
    "[filename for filename in os.listdir('.') if fnmatch(filename, 'infra*.ipynb')]"
   ]
  },
  {
   "cell_type": "markdown",
   "metadata": {},
   "source": [
    "Рекурсивный просмотр папки"
   ]
  },
  {
   "cell_type": "code",
   "execution_count": 61,
   "metadata": {
    "collapsed": false
   },
   "outputs": [
    {
     "name": "stdout",
     "output_type": "stream",
     "text": [
      "    3859 2018-06-12 18:06:19.285000 .\\1.txt\n",
      "    3871 2018-06-12 18:06:36.461000 .\\2.txt\n",
      "  274629 2018-06-15 18:14:51.358000 .\\gif_wrongsize.pickle\n",
      "  345913 2018-05-05 18:13:27.110000 .\\infrastructure_01_language.html\n",
      "  107271 2018-05-24 21:38:42.602000 .\\infrastructure_01_language.ipynb\n",
      "  369771 2018-05-05 18:13:27.370000 .\\infrastructure_02_strings_dates_collections.html\n",
      "  115774 2018-05-24 21:38:48.104000 .\\infrastructure_02_strings_dates_collections.ipynb\n",
      "  356499 2018-05-05 18:13:27.507000 .\\infrastructure_03_system.html\n",
      "  151784 2018-08-07 19:19:55.614000 .\\infrastructure_03_system.ipynb\n",
      "  767885 2018-05-05 18:13:27.736000 .\\infrastructure_04_data_sources.html\n",
      "  747175 2018-08-05 19:40:14.966101 .\\infrastructure_04_data_sources.ipynb\n",
      "  276354 2018-05-05 18:13:27.838000 .\\infrastructure_05_rich_output.html\n",
      "   62593 2018-08-07 18:58:43.825000 .\\infrastructure_05_rich_output.ipynb\n",
      "  451226 2018-05-05 18:13:27.902000 .\\infrastructure_06_web.html\n",
      "  396068 2018-05-26 23:43:16.313000 .\\infrastructure_06_web.ipynb\n",
      "  602794 2018-05-05 18:13:28.130000 .\\infrastructure_07_math.html\n",
      "  338992 2018-06-18 21:46:47.388000 .\\infrastructure_07_math.ipynb\n",
      "  951640 2018-05-05 18:13:28.766000 .\\infrastructure_08_cas.html\n",
      "  481966 2018-05-24 21:38:39.355000 .\\infrastructure_08_cas.ipynb\n",
      " 1755255 2018-05-05 18:13:28.916000 .\\infrastructure_09_graphs.html\n",
      " 1354597 2018-06-06 18:23:51.551000 .\\infrastructure_09_graphs.ipynb\n",
      " 3500320 2018-05-05 18:13:29.148000 .\\infrastructure_10_visualization.html\n",
      " 6669674 2018-07-03 18:18:10.861000 .\\infrastructure_10_visualization.ipynb\n",
      "  383131 2018-05-05 18:13:29.221000 .\\infrastructure_11_machine_learning.html\n",
      "  407129 2018-07-01 23:23:36.129872 .\\infrastructure_11_machine_learning.ipynb\n",
      "  422157 2018-05-05 18:13:29.263000 .\\infrastructure_12_media.html\n",
      "  670044 2018-06-18 21:47:05.349000 .\\infrastructure_12_media.ipynb\n",
      "  486877 2018-05-05 18:13:29.371000 .\\infrastructure_13_gui.html\n",
      "  253603 2018-06-18 21:47:02.349000 .\\infrastructure_13_gui.ipynb\n",
      "  400231 2018-05-05 18:13:29.569000 .\\infrastructure_14_ctf.html\n",
      "  111275 2018-06-18 21:47:04.334000 .\\infrastructure_14_ctf.ipynb\n",
      " 2556985 2018-06-21 23:01:31.943000 .\\infrastructure_15_3d.ipynb\n",
      "  196413 2018-05-05 18:13:29.583000 .\\ipynb_text_size.html\n",
      "    3808 2018-06-18 21:46:19.498000 .\\ipynb_text_size.ipynb\n",
      "   13196 2018-05-25 00:34:24.152000 .\\ogarok_epistemic.ipynb\n",
      "    1674 2018-05-24 18:11:47.856000 .\\ogarok_probprog.ipynb\n",
      "  121267 2018-05-24 16:59:38.292000 .\\ogarok_termeh.ipynb\n",
      " 1274617 2018-05-05 18:13:29.657000 .\\rawnb_to_cells.html\n",
      "  980765 2018-04-22 18:29:32.970000 .\\rawnb_to_cells.ipynb\n",
      "       5 2018-08-05 23:02:08.679322 .\\test.txt\n",
      "       4 2018-08-05 23:02:05.202322 .\\test2.txt\n",
      "  107271 2018-05-24 21:38:42.601999 .\\.ipynb_checkpoints\\infrastructure_01_language-checkpoint.ipynb\n",
      "  115774 2018-05-24 21:38:48.104000 .\\.ipynb_checkpoints\\infrastructure_02_strings_dates_collections-checkpoint.ipynb\n",
      "  151066 2018-08-07 19:17:02.036000 .\\.ipynb_checkpoints\\infrastructure_03_system-checkpoint.ipynb\n",
      "  747175 2018-08-05 19:39:04.226300 .\\.ipynb_checkpoints\\infrastructure_04_data_sources-checkpoint.ipynb\n",
      "   62593 2018-08-07 18:58:43.825000 .\\.ipynb_checkpoints\\infrastructure_05_rich_output-checkpoint.ipynb\n",
      "  396068 2018-05-26 23:43:16.312999 .\\.ipynb_checkpoints\\infrastructure_06_web-checkpoint.ipynb\n",
      "  338992 2018-06-10 21:41:15.925999 .\\.ipynb_checkpoints\\infrastructure_07_math-checkpoint.ipynb\n",
      "  481966 2018-05-24 21:38:39.355000 .\\.ipynb_checkpoints\\infrastructure_08_cas-checkpoint.ipynb\n",
      " 1354597 2018-06-06 18:23:51.551000 .\\.ipynb_checkpoints\\infrastructure_09_graphs-checkpoint.ipynb\n",
      " 6669674 2018-07-03 18:18:10.861000 .\\.ipynb_checkpoints\\infrastructure_10_visualization-checkpoint.ipynb\n",
      "  407129 2018-07-01 23:23:36.129872 .\\.ipynb_checkpoints\\infrastructure_11_machine_learning-checkpoint.ipynb\n",
      "  670044 2018-05-27 01:41:32.017999 .\\.ipynb_checkpoints\\infrastructure_12_media-checkpoint.ipynb\n",
      "  253603 2018-06-15 16:01:03.825999 .\\.ipynb_checkpoints\\infrastructure_13_gui-checkpoint.ipynb\n",
      "  111275 2018-06-10 21:41:25.394999 .\\.ipynb_checkpoints\\infrastructure_14_ctf-checkpoint.ipynb\n",
      " 2556985 2018-06-21 23:01:31.943000 .\\.ipynb_checkpoints\\infrastructure_15_3d-checkpoint.ipynb\n",
      "    3808 2018-06-08 08:50:25.447000 .\\.ipynb_checkpoints\\ipynb_text_size-checkpoint.ipynb\n",
      "   13196 2018-05-25 00:34:24.151999 .\\.ipynb_checkpoints\\ogarok_epistemic-checkpoint.ipynb\n",
      "    1674 2018-05-24 18:11:47.855999 .\\.ipynb_checkpoints\\ogarok_probprog-checkpoint.ipynb\n",
      "  121267 2018-05-24 16:59:38.292000 .\\.ipynb_checkpoints\\ogarok_termeh-checkpoint.ipynb\n",
      "  980765 2018-04-22 18:29:32.970000 .\\.ipynb_checkpoints\\rawnb_to_cells-checkpoint.ipynb\n",
      "22847269 2018-06-07 15:01:17.450000 .\\download\\7h15t5bvooe8-Aventador.zip\n",
      " 3904499 2018-06-13 12:00:18.960000 .\\download\\8sjh6tb2q16o-SB_WhipperNude.rar\n",
      " 5606718 2018-06-15 19:37:41.725000 .\\download\\c4s0veiwyyo0-SB_SentinelLingerie00.rar\n",
      "   28396 2018-05-27 21:06:10.091000 .\\download\\Data_Extract_From_World_Development_Indicators.zip\n",
      "73059862 2018-06-13 13:04:04.320000 .\\download\\gdoi5oiog8hs-Black-Dragon-NEW-27.03.2017.zip\n",
      "56482235 2018-05-01 20:00:55 .\\download\\GeoLite2-City.mmdb\n",
      "26578063 2018-05-24 22:44:07.649000 .\\download\\GeoLite2-City_20180501.tar.gz\n",
      " 4899605 2018-05-27 19:58:46.499000 .\\download\\ne_10m_admin_0_countries.zip\n",
      "  232890 2018-05-27 19:58:06.179000 .\\download\\ne_10m_airports.zip\n",
      " 2807425 2018-05-27 19:58:06.980000 .\\download\\ne_10m_populated_places.zip\n",
      "15116579 2018-05-27 19:59:01.771000 .\\download\\ne_10m_railroads.zip\n",
      " 9074210 2018-05-27 19:58:35.314000 .\\download\\ne_10m_roads.zip\n",
      " 1970765 2018-05-27 19:58:22.911000 .\\download\\ne_10m_time_zones.zip\n",
      "13102115 2018-06-15 19:38:41.472000 .\\download\\ob61pej2fz-Enginer.zip\n",
      "  924127 2018-06-07 23:41:28.914000 .\\download\\pcqgr78pc3-lamborginimurcielago.rar\n",
      " 8218410 2018-06-13 12:24:47.890000 .\\download\\rc8c1qtjiygw-O.zip\n",
      "15056672 2018-06-07 23:57:38.370000 .\\download\\s5h4gcsmcwlc-eb_dresser_01.zip\n",
      "12336972 2012-06-27 13:25:00 .\\download\\7h15t5bvooe8-Aventador\\Avent-inter.lwo\n",
      "12484182 2012-05-15 00:10:28 .\\download\\7h15t5bvooe8-Aventador\\Avent-inter.lxo\n",
      "    2890 2012-06-27 13:23:18 .\\download\\7h15t5bvooe8-Aventador\\Avent.mtl\n",
      "20797045 2012-06-27 13:23:18 .\\download\\7h15t5bvooe8-Aventador\\Avent.obj\n",
      " 1048594 2012-05-11 15:01:30 .\\download\\7h15t5bvooe8-Aventador\\interior_lod0.tga\n",
      "   10726 2012-05-11 13:19:32 .\\download\\7h15t5bvooe8-Aventador\\Lamborghinilogo.jpg\n",
      " 1048594 2012-05-11 15:01:32 .\\download\\7h15t5bvooe8-Aventador\\lights.tga\n",
      " 4194322 2012-05-11 15:01:34 .\\download\\7h15t5bvooe8-Aventador\\lights_lod0.tga\n",
      " 4194322 2012-05-11 15:01:36 .\\download\\7h15t5bvooe8-Aventador\\nodamage.tga\n",
      "16777234 2012-05-11 15:01:42 .\\download\\7h15t5bvooe8-Aventador\\nodamage_lod0.tga\n",
      "   16402 2012-05-11 15:01:42 .\\download\\7h15t5bvooe8-Aventador\\plastic3_nrm.tga\n",
      "27084232 2014-05-31 16:17:13.728450 .\\download\\8sjh6tb2q16o-SB_WhipperNude\\WhipperNude.blend\n",
      "  349672 2014-05-31 16:16:31.569039 .\\download\\8sjh6tb2q16o-SB_WhipperNude\\textures\\BODY_WH_BD_N_00.dds\n",
      "  227727 2018-06-13 12:10:29.932000 .\\download\\8sjh6tb2q16o-SB_WhipperNude\\textures\\BODY_WH_BD_N_00.png\n",
      "  349672 2014-05-31 16:16:29.579925 .\\download\\8sjh6tb2q16o-SB_WhipperNude\\textures\\BODY_WH_BD_N_00_NR.dds\n",
      "  119399 2018-06-13 12:10:29.994000 .\\download\\8sjh6tb2q16o-SB_WhipperNude\\textures\\BODY_WH_BD_N_00_NR.png\n",
      "   43832 2014-05-31 16:16:25.745706 .\\download\\8sjh6tb2q16o-SB_WhipperNude\\textures\\FEET_WH_FT_N_00.dds\n",
      "   35848 2018-06-13 12:10:30.006000 .\\download\\8sjh6tb2q16o-SB_WhipperNude\\textures\\FEET_WH_FT_N_00.png\n",
      "   43832 2014-05-31 16:16:27.485805 .\\download\\8sjh6tb2q16o-SB_WhipperNude\\textures\\FEET_WH_FT_N_00_NR.dds\n",
      "   24861 2018-06-13 12:10:30.015000 .\\download\\8sjh6tb2q16o-SB_WhipperNude\\textures\\FEET_WH_FT_N_00_NR.png\n",
      " 1048620 2014-05-31 16:16:54.138330 .\\download\\8sjh6tb2q16o-SB_WhipperNude\\textures\\HAIR_CO_HR_N_50.tga\n",
      "  174904 2014-05-31 16:16:52.316225 .\\download\\8sjh6tb2q16o-SB_WhipperNude\\textures\\HAIR_CO_HR_N_50_NR.dds\n",
      "  220811 2018-06-13 12:10:30.085000 .\\download\\8sjh6tb2q16o-SB_WhipperNude\\textures\\HAIR_CO_HR_N_50_NR.png\n",
      "   87528 2014-05-31 16:16:37.893400 .\\download\\8sjh6tb2q16o-SB_WhipperNude\\textures\\HAND_WH_GL_N_00.dds\n",
      "   62166 2018-06-13 12:10:30.111000 .\\download\\8sjh6tb2q16o-SB_WhipperNude\\textures\\HAND_WH_GL_N_00.png\n",
      "   87528 2014-05-31 16:16:39.699504 .\\download\\8sjh6tb2q16o-SB_WhipperNude\\textures\\HAND_WH_GL_N_00_NR.dds\n",
      "   34434 2018-06-13 12:10:30.128000 .\\download\\8sjh6tb2q16o-SB_WhipperNude\\textures\\HAND_WH_GL_N_00_NR.png\n",
      "   87528 2014-05-31 16:16:42.493664 .\\download\\8sjh6tb2q16o-SB_WhipperNude\\textures\\HEAD_WH_FC_N_08.dds\n",
      "   59568 2018-06-13 12:10:30.152000 .\\download\\8sjh6tb2q16o-SB_WhipperNude\\textures\\HEAD_WH_FC_N_08.png\n",
      "44522332 2014-06-03 15:26:41.250711 .\\download\\c4s0veiwyyo0-SB_SentinelLingerie00\\SentinelLingerie00.blend\n",
      "  349672 2014-06-03 15:13:55.057888 .\\download\\c4s0veiwyyo0-SB_SentinelLingerie00\\textures\\BODY_SE_BD_N_00.dds\n",
      "  224787 2018-06-15 19:45:47.311000 .\\download\\c4s0veiwyyo0-SB_SentinelLingerie00\\textures\\BODY_SE_BD_N_00.png\n",
      " 2097196 2014-06-03 15:13:48.654521 .\\download\\c4s0veiwyyo0-SB_SentinelLingerie00\\textures\\BODY_SE_BD_N_00_NR.tga\n",
      "   43832 2014-06-03 15:11:27.506448 .\\download\\c4s0veiwyyo0-SB_SentinelLingerie00\\textures\\FEET_SE_FT_N_00.dds\n",
      "   35056 2018-06-15 19:45:47.210000 .\\download\\c4s0veiwyyo0-SB_SentinelLingerie00\\textures\\FEET_SE_FT_N_00.png\n",
      "   43832 2014-06-03 15:11:29.481561 .\\download\\c4s0veiwyyo0-SB_SentinelLingerie00\\textures\\FEET_SE_FT_N_00_NR.dds\n",
      "   23506 2018-06-15 19:45:47.197000 .\\download\\c4s0veiwyyo0-SB_SentinelLingerie00\\textures\\FEET_SE_FT_N_00_NR.png\n",
      "  174904 2014-06-03 14:47:46.546174 .\\download\\c4s0veiwyyo0-SB_SentinelLingerie00\\textures\\HAIR_CO_HR_N_14.dds\n",
      "  100377 2018-06-15 19:45:47.186000 .\\download\\c4s0veiwyyo0-SB_SentinelLingerie00\\textures\\HAIR_CO_HR_N_14.png\n",
      " 1048620 2014-06-03 15:00:26.218625 .\\download\\c4s0veiwyyo0-SB_SentinelLingerie00\\textures\\HAIR_CO_HR_N_14.tga\n",
      "  174904 2014-06-03 14:57:53.557893 .\\download\\c4s0veiwyyo0-SB_SentinelLingerie00\\textures\\HAIR_CO_HR_N_14_NR.dds\n",
      "   99156 2018-06-15 19:45:47.143000 .\\download\\c4s0veiwyyo0-SB_SentinelLingerie00\\textures\\HAIR_CO_HR_N_14_NR.png\n",
      "   43832 2014-06-03 15:10:56.877696 .\\download\\c4s0veiwyyo0-SB_SentinelLingerie00\\textures\\HANDS_SE_GL_N_00.dds\n",
      "   30298 2018-06-15 19:45:47.103000 .\\download\\c4s0veiwyyo0-SB_SentinelLingerie00\\textures\\HANDS_SE_GL_N_00.png\n",
      "   43832 2014-06-03 15:10:46.941128 .\\download\\c4s0veiwyyo0-SB_SentinelLingerie00\\textures\\HANDS_SE_GL_N_00_NR.dds\n",
      "   19345 2018-06-15 19:45:47.090000 .\\download\\c4s0veiwyyo0-SB_SentinelLingerie00\\textures\\HANDS_SE_GL_N_00_NR.png\n",
      "   87528 2014-06-03 14:51:19.684365 .\\download\\c4s0veiwyyo0-SB_SentinelLingerie00\\textures\\HEAD_SE_FC_N_07.dds\n",
      "   58836 2018-06-15 19:45:47.080000 .\\download\\c4s0veiwyyo0-SB_SentinelLingerie00\\textures\\HEAD_SE_FC_N_07.png\n",
      "  524332 2014-06-03 14:58:58.836627 .\\download\\c4s0veiwyyo0-SB_SentinelLingerie00\\textures\\HEAD_SE_FC_N_07_NR.tga\n",
      "   67814 2018-05-27 21:06:07.552318 .\\download\\Data_Extract_From_World_Development_Indicators\\9d654e6c-5034-4c26-9934-f0451267d040_Data.csv\n",
      "     836 2018-05-27 21:06:07.552318 .\\download\\Data_Extract_From_World_Development_Indicators\\9d654e6c-5034-4c26-9934-f0451267d040_Definition and Source.csv\n",
      "       5 2018-05-21 10:24:36 .\\download\\ne_10m_admin_0_countries\\ne_10m_admin_0_countries.cpg\n",
      "  599487 2018-05-21 10:24:36 .\\download\\ne_10m_admin_0_countries\\ne_10m_admin_0_countries.dbf\n",
      "     147 2018-05-21 10:24:36 .\\download\\ne_10m_admin_0_countries\\ne_10m_admin_0_countries.prj\n",
      "   24083 2018-05-21 10:24:38 .\\download\\ne_10m_admin_0_countries\\ne_10m_admin_0_countries.README.html\n",
      " 8800376 2018-05-21 10:24:36 .\\download\\ne_10m_admin_0_countries\\ne_10m_admin_0_countries.shp\n",
      "    2140 2018-05-21 10:24:36 .\\download\\ne_10m_admin_0_countries\\ne_10m_admin_0_countries.shx\n",
      "       7 2018-05-21 10:24:38 .\\download\\ne_10m_admin_0_countries\\ne_10m_admin_0_countries.VERSION.txt\n",
      "       5 2018-05-21 10:24:35 .\\download\\ne_10m_airports\\ne_10m_airports.cpg\n",
      " 6248846 2018-05-21 10:24:35 .\\download\\ne_10m_airports\\ne_10m_airports.dbf\n",
      "     147 2018-05-21 10:24:35 .\\download\\ne_10m_airports\\ne_10m_airports.prj\n",
      "   23653 2018-05-21 10:26:40 .\\download\\ne_10m_airports\\ne_10m_airports.README.html\n",
      "   25048 2018-05-21 10:24:35 .\\download\\ne_10m_airports\\ne_10m_airports.shp\n",
      "    7228 2018-05-21 10:24:35 .\\download\\ne_10m_airports\\ne_10m_airports.shx\n",
      "       7 2018-05-21 10:26:40 .\\download\\ne_10m_airports\\ne_10m_airports.VERSION.txt\n",
      "       5 2018-05-21 10:24:35 .\\download\\ne_10m_populated_places\\ne_10m_populated_places.cpg\n",
      "71612778 2018-05-21 10:24:35 .\\download\\ne_10m_populated_places\\ne_10m_populated_places.dbf\n",
      "     147 2018-05-21 10:24:35 .\\download\\ne_10m_populated_places\\ne_10m_populated_places.prj\n",
      "   27234 2018-05-21 10:25:35 .\\download\\ne_10m_populated_places\\ne_10m_populated_places.README.html\n",
      "  205704 2018-05-21 10:24:35 .\\download\\ne_10m_populated_places\\ne_10m_populated_places.shp\n",
      "   58844 2018-05-21 10:24:35 .\\download\\ne_10m_populated_places\\ne_10m_populated_places.shx\n",
      "       7 2018-05-21 10:25:35 .\\download\\ne_10m_populated_places\\ne_10m_populated_places.VERSION.txt\n",
      "       5 2017-08-13 02:48:45 .\\download\\ne_10m_railroads\\ne_10m_railroads.cpg\n",
      " 4676409 2017-08-13 02:48:45 .\\download\\ne_10m_railroads\\ne_10m_railroads.dbf\n",
      "     145 2017-08-13 03:32:20 .\\download\\ne_10m_railroads\\ne_10m_railroads.prj\n",
      "   23070 2018-05-21 10:25:38 .\\download\\ne_10m_railroads\\ne_10m_railroads.README.html\n",
      "23766908 2017-08-13 02:48:45 .\\download\\ne_10m_railroads\\ne_10m_railroads.shp\n",
      "  203404 2017-08-13 02:48:45 .\\download\\ne_10m_railroads\\ne_10m_railroads.shx\n",
      "       7 2018-05-21 10:25:38 .\\download\\ne_10m_railroads\\ne_10m_railroads.VERSION.txt\n",
      "       5 2017-08-13 02:47:49 .\\download\\ne_10m_roads\\ne_10m_roads.cpg\n",
      "41942366 2017-10-02 07:27:16 .\\download\\ne_10m_roads\\ne_10m_roads.dbf\n",
      "     145 2017-08-13 03:32:20 .\\download\\ne_10m_roads\\ne_10m_roads.prj\n",
      "   24819 2018-05-21 10:26:09 .\\download\\ne_10m_roads\\ne_10m_roads.README.html\n",
      "14516880 2017-10-02 07:27:16 .\\download\\ne_10m_roads\\ne_10m_roads.shp\n",
      "  452908 2017-10-02 07:27:16 .\\download\\ne_10m_roads\\ne_10m_roads.shx\n",
      "       7 2018-05-21 10:26:09 .\\download\\ne_10m_roads\\ne_10m_roads.VERSION.txt\n",
      "  391895 2012-10-28 12:03:22 .\\download\\ob61pej2fz-Enginer\\MP_US_Engi.3DS\n",
      "  512112 2012-10-28 12:03:14 .\\download\\ob61pej2fz-Enginer\\MP_US_Engi.FBX\n",
      " 1165404 2012-12-14 17:48:18 .\\download\\ob61pej2fz-Enginer\\MP_US_Engi.lxo\n",
      "  901120 2012-10-28 12:02:44 .\\download\\ob61pej2fz-Enginer\\MP_US_Engi.max\n",
      "    6148 2012-12-14 18:29:58 .\\download\\ob61pej2fz-Enginer\\Frame0001\\.DS_Store\n",
      " 1271811 2012-12-14 16:28:36 .\\download\\ob61pej2fz-Enginer\\Frame0001\\Tex_0018_1.jpg\n",
      "  618997 2012-12-14 16:28:20 .\\download\\ob61pej2fz-Enginer\\Frame0001\\Tex_0019_1.jpg\n",
      "  381284 2012-12-14 16:29:10 .\\download\\ob61pej2fz-Enginer\\Frame0001\\Tex_0019_4.jpg\n",
      "  538796 2012-12-14 16:29:06 .\\download\\ob61pej2fz-Enginer\\Frame0001\\Tex_0019_6.jpg\n",
      "   26769 2012-12-14 16:30:44 .\\download\\ob61pej2fz-Enginer\\Frame0001\\Tex_0021_1.png\n",
      " 2190527 2012-12-14 16:31:02 .\\download\\ob61pej2fz-Enginer\\Frame0001\\Tex_0022_1.jpg\n",
      " 2297305 2012-12-14 17:00:30 .\\download\\ob61pej2fz-Enginer\\Frame0001\\Tex_0022_7.jpg\n",
      " 1892685 2012-12-14 16:56:32 .\\download\\ob61pej2fz-Enginer\\Frame0001\\Tex_0024_1.jpg\n",
      "   73133 2012-12-14 16:57:04 .\\download\\ob61pej2fz-Enginer\\Frame0001\\Tex_0024_3.jpg\n",
      " 2167269 2012-12-14 16:56:42 .\\download\\ob61pej2fz-Enginer\\Frame0001\\Tex_0024_7.jpg\n",
      "  228809 2012-12-14 17:10:26 .\\download\\ob61pej2fz-Enginer\\Frame0001\\Tex_0028_2.jpg\n",
      "      82 2012-12-14 18:29:58 .\\download\\ob61pej2fz-Enginer\\__MACOSX\\Textures\\._.DS_Store\n",
      "   43256 2007-09-20 14:28:34 .\\download\\pcqgr78pc3-lamborginimurcielago\\Lamborgini_Murcielago\\0331_01134_lambo_1.jpg\n",
      "   51651 2007-09-20 14:25:54 .\\download\\pcqgr78pc3-lamborginimurcielago\\Lamborgini_Murcielago\\0331_01135_lambo_2.jpg\n",
      "   39497 2007-09-20 14:29:20 .\\download\\pcqgr78pc3-lamborginimurcielago\\Lamborgini_Murcielago\\0331_01136_lambo_3.jpg\n",
      "   41692 2007-09-20 14:29:34 .\\download\\pcqgr78pc3-lamborginimurcielago\\Lamborgini_Murcielago\\0331_01137_lambo_4.jpg\n",
      "   44241 2007-09-20 14:25:38 .\\download\\pcqgr78pc3-lamborginimurcielago\\Lamborgini_Murcielago\\0331_01138_lambo_5.jpg\n",
      "   46194 2007-09-20 14:29:46 .\\download\\pcqgr78pc3-lamborginimurcielago\\Lamborgini_Murcielago\\0331_01139_lambo_6.jpg\n",
      "   50282 2007-09-20 14:30:02 .\\download\\pcqgr78pc3-lamborginimurcielago\\Lamborgini_Murcielago\\0331_01140_lambo_7.jpg\n",
      "   49343 2007-09-20 14:30:24 .\\download\\pcqgr78pc3-lamborginimurcielago\\Lamborgini_Murcielago\\0331_01141_lambo_8.jpg\n",
      "   47325 2007-09-20 14:30:36 .\\download\\pcqgr78pc3-lamborginimurcielago\\Lamborgini_Murcielago\\0331_01142_lambo_9.jpg\n",
      "   37528 2007-09-20 14:31:12 .\\download\\pcqgr78pc3-lamborginimurcielago\\Lamborgini_Murcielago\\0331_01143_lambo_10.jpg\n",
      "   48830 2007-09-20 14:31:28 .\\download\\pcqgr78pc3-lamborginimurcielago\\Lamborgini_Murcielago\\0331_01144_lambo_11.jpg\n",
      "   43610 2007-09-20 14:31:36 .\\download\\pcqgr78pc3-lamborginimurcielago\\Lamborgini_Murcielago\\0331_01145_lambo_12.jpg\n",
      "  135168 2007-08-12 16:25:02 .\\download\\pcqgr78pc3-lamborginimurcielago\\Lamborgini_Murcielago\\Aluminium_Polished.mat\n",
      "   86528 2006-12-05 11:06:42 .\\download\\pcqgr78pc3-lamborginimurcielago\\Lamborgini_Murcielago\\AS_vray_v1_carpaint.mat\n",
      "  343552 2006-12-05 12:06:08 .\\download\\pcqgr78pc3-lamborginimurcielago\\Lamborgini_Murcielago\\AS_vray_v1_leather.mat\n",
      "    5120 2006-09-15 14:57:40 .\\download\\pcqgr78pc3-lamborginimurcielago\\Lamborgini_Murcielago\\Chrome_Glossy.mat\n",
      " 4423680 2007-09-02 07:56:32 .\\download\\pcqgr78pc3-lamborginimurcielago\\Lamborgini_Murcielago\\Lamborgini_Murcielago.max\n",
      "   59537 2005-10-23 00:47:28 .\\download\\pcqgr78pc3-lamborginimurcielago\\Lamborgini_Murcielago\\lambo_logo.jpg\n",
      "   48537 2005-06-23 17:18:44 .\\download\\pcqgr78pc3-lamborginimurcielago\\Lamborgini_Murcielago\\logo.jpg\n",
      "     141 2014-05-08 22:17:56 .\\download\\rc8c1qtjiygw-O\\readme.txt\n",
      "  536302 2014-06-23 16:31:30 .\\download\\rc8c1qtjiygw-O\\Organodron City\\o1.jpg\n",
      "  602107 2014-06-23 17:11:32 .\\download\\rc8c1qtjiygw-O\\Organodron City\\o2.jpg\n",
      "  525982 2014-06-23 17:25:18 .\\download\\rc8c1qtjiygw-O\\Organodron City\\o3.jpg\n",
      "  761370 2014-06-23 17:55:02 .\\download\\rc8c1qtjiygw-O\\Organodron City\\o4.jpg\n",
      "  497608 2014-06-23 18:04:44 .\\download\\rc8c1qtjiygw-O\\Organodron City\\o5.jpg\n",
      "  565067 2014-06-23 18:28:10 .\\download\\rc8c1qtjiygw-O\\Organodron City\\o6.jpg\n",
      "19381507 2014-06-23 15:44:02 .\\download\\rc8c1qtjiygw-O\\Organodron City\\Organodron City.obj\n",
      "     268 2014-06-23 15:42:54 .\\download\\rc8c1qtjiygw-O\\Organodron City\\Organodron_City.mtl\n",
      "   41154 2014-06-23 15:42:54 .\\download\\rc8c1qtjiygw-O\\Organodron City\\Maps\\b1b2.jpg\n",
      "  278746 2014-06-23 15:42:54 .\\download\\rc8c1qtjiygw-O\\Organodron City\\Maps\\cta4.jpg\n",
      "   63392 2017-11-17 22:33:40 .\\download\\s5h4gcsmcwlc-eb_dresser_01\\eb_dresser_01\\eb_dresser_01.fbx\n",
      "  109493 2017-11-17 22:33:28 .\\download\\s5h4gcsmcwlc-eb_dresser_01\\eb_dresser_01\\eb_dresser_01.obj\n",
      "12582956 2017-11-17 23:03:06 .\\download\\s5h4gcsmcwlc-eb_dresser_01\\eb_dresser_01\\eb_dresser_01_c.tga\n",
      "12582956 2017-11-17 23:03:06 .\\download\\s5h4gcsmcwlc-eb_dresser_01\\eb_dresser_01\\eb_dresser_01_g.tga\n",
      "12582956 2017-11-17 23:03:06 .\\download\\s5h4gcsmcwlc-eb_dresser_01\\eb_dresser_01\\eb_dresser_01_n.tga\n",
      " 4194358 2017-11-17 23:02:52 .\\download\\s5h4gcsmcwlc-eb_dresser_01\\eb_dresser_01\\eb_dresser_ren_01.bmp\n",
      "  180732 2017-11-27 22:32:48 .\\download\\s5h4gcsmcwlc-eb_dresser_01\\eb_dresser_01\\eb_material_setup_example.png\n",
      "     536 2017-11-27 22:30:56 .\\download\\s5h4gcsmcwlc-eb_dresser_01\\eb_dresser_01\\READ_ME.txt\n",
      " 2970843 2018-05-21 19:39:54.786000 .\\files\\19505730.gif\n",
      "   95933 2018-06-06 21:58:07.019000 .\\files\\cann.eps\n",
      "     211 2018-06-06 22:43:59.990000 .\\files\\collab.txt\n",
      "   86381 2018-06-07 02:45:37.599000 .\\files\\double_pendulum.mp4\n",
      " 5244753 2018-05-18 17:17:20.764000 .\\files\\feinman_audio.aac\n",
      " 6822182 2018-05-18 17:23:19.304000 .\\files\\feinman_audio.mp3\n",
      "   55598 2018-05-18 17:15:42.597000 .\\files\\feinman_google_transcript.txt\n",
      "21973064 2018-05-18 17:16:53.607000 .\\files\\feinman_video.mp4\n",
      "   43965 2018-05-25 19:36:03.994000 .\\files\\img2.gif\n",
      "  624744 2018-05-18 17:59:16.791000 .\\files\\IMG_4692.jpg\n",
      " 1164449 2018-05-18 14:47:22.352999 .\\files\\libgen1000.ttl\n",
      "     480 2018-05-24 16:38:14.266000 .\\files\\numpy.npy\n",
      "     592 2018-05-24 16:38:14.267000 .\\files\\numpy.npz\n",
      "    2510 2018-05-24 16:38:14.265000 .\\files\\numpy.txt\n",
      "     330 2018-05-24 16:38:14.269000 .\\files\\numpy_compressed.npz\n",
      "     971 2018-04-22 22:19:37.266000 .\\files\\out.decompiled.txt\n",
      " 1467183 2018-06-07 03:40:29.600000 .\\files\\rain.gif\n",
      "  504544 2018-06-07 03:40:32.275000 .\\files\\rain.mp4\n",
      "  786486 2018-06-08 01:15:01.270000 .\\files\\rgb1.bmp\n",
      "  786486 2018-06-08 01:28:11.630000 .\\files\\rgb2.bmp\n",
      "    3273 2018-05-19 22:55:26.644000 .\\files\\style.pickle\n",
      "     727 2018-06-06 23:13:58.350000 .\\files\\test.tex\n",
      "     151 2018-04-26 17:44:34.643000 .\\files\\test_msl.py\n",
      "     623 2018-05-15 15:43:33.702000 .\\files\\test_watchdog.py\n",
      "  214466 2018-05-19 23:09:11.739000 .\\files\\theme.pickle\n",
      "      17 2018-05-15 15:44:12.989000 .\\files\\tst.txt\n",
      " 3321259 2018-06-06 22:37:34.091000 .\\files\\uploaded.pdf\n",
      "  159872 2017-11-16 06:11:17.509000 .\\files\\wireshark.png\n",
      "      84 2018-04-28 14:28:26.124000 .\\files\\yandex-translater-key.txt\n",
      "    5433 2018-05-25 20:45:35.008000 .\\files\\__temp__.mp4\n",
      "    5433 2018-05-02 16:00:12.113000 .\\files\\hud\\47610855.jpg\n",
      "   11345 2011-04-27 17:14:46 .\\files\\hud\\anim.gif\n",
      "    1188 2011-04-27 14:28:46 .\\files\\hud\\chess.png\n",
      "    3964 2018-06-15 20:34:11.550000 .\\files\\hud\\hud.html\n",
      "   85925 2011-04-27 12:34:18 .\\files\\hud\\jquery-1.5.2.min.js\n",
      "   20507 2011-04-27 17:33:24 .\\files\\hud\\logo.png\n",
      "   60293 2011-04-27 17:56:22 .\\files\\hud\\raphael-1.5.2.min.js\n",
      "      93 2011-04-27 12:08:54 .\\files\\hud\\someshit.html\n",
      "   10419 2011-04-27 11:25:18 .\\files\\hud\\someshit.png\n",
      "  102816 2011-04-05 16:56:00 .\\files\\hud\\testagg.png\n",
      "   13410 2011-04-27 17:30:16 .\\files\\hud\\tube.png\n",
      "   21682 2011-04-26 18:23:28 .\\files\\hud\\webkit_opacity.PNG\n",
      "  846742 2017-11-13 01:08:02.769000 .\\was\\infrastructure - Copy (2).ipynb\n",
      " 1291563 2017-11-13 06:46:31.148000 .\\was\\infrastructure - Copy (3).ipynb\n",
      " 1535313 2017-11-16 09:38:14.838000 .\\was\\infrastructure - Copy (4).ipynb\n",
      " 2008620 2017-11-18 13:16:23.963000 .\\was\\infrastructure - Copy (5).ipynb\n",
      " 2982278 2017-11-19 09:39:55.642000 .\\was\\infrastructure - Copy (6).ipynb\n",
      " 4307544 2018-02-02 19:53:24.774000 .\\was\\infrastructure - Copy (7).ipynb\n",
      "  104687 2017-11-12 23:26:56.500000 .\\was\\infrastructure - Copy.ipynb\n",
      " 4303980 2018-04-18 10:09:00.671000 .\\was\\infrastructure.ipynb\n",
      "    1173 2017-12-14 21:57:30.006000 .\\was\\sample.dot\n",
      "    2202 2017-12-14 22:00:51.113000 .\\was\\sample.gexf\n",
      "  312839 2017-12-14 21:57:30.248000 .\\was\\sample.png\n",
      "    1614 2018-06-07 22:36:35.215000 .\\was\\shaders.txt\n"
     ]
    }
   ],
   "source": [
    "import datetime\n",
    "for root, dirs, files in os.walk('.'):\n",
    "    for f in files:\n",
    "        fn = os.path.join(root, f)\n",
    "        print '%8d' % os.path.getsize(fn), datetime.datetime.fromtimestamp(os.path.getmtime(fn)), fn"
   ]
  },
  {
   "cell_type": "markdown",
   "metadata": {},
   "source": [
    "В Windows использование простых строк в качестве путей может вызывать проблемы:\n",
    "    \n",
    "* Кодировкой таких строк Windows считает системную однобайтовую, например, cp1251. Пути с символами, которых в cp1251 нет, будут портиться. Просто используйте в этом случае юникод-строки вида `u'c:\\\\'`\n",
    "* По умолчанию Windows предоставляет пути длиной до MAX_PATH=260. На пользовательских накопителях встречаются и длиннее. Тогда используйте т.н. UNC-пути вида `\\\\?\\c:\\filename` (учитывая эскейп!)"
   ]
  },
  {
   "cell_type": "markdown",
   "metadata": {},
   "source": [
    "Шпаргалка по функциям для управления файлами. Операции, затрагивающие сразу много файлов, реализованы во встроенной библиотеке `shutil`.\n",
    "\n",
    "|Операция|Над файлом|Над пустой папкой|Над деревом|\n",
    "|---|---|---|---|\n",
    "|Копирование|`shutil.copy2`|—|`shutil.copytree`|\n",
    "|Перемещение/переименование|`os.rename`|—|`shutil.move`|\n",
    "|Удаление|`os.remove`|`os.rmdir`|`shutil.rmtree`|\n",
    "|Создание|`open`|`os.mkdir`|—|"
   ]
  },
  {
   "cell_type": "markdown",
   "metadata": {},
   "source": [
    "## Аргументы командной строки и переменные окружения"
   ]
  },
  {
   "cell_type": "markdown",
   "metadata": {},
   "source": [
    "Поскольку IT до сих пор больно чудищем родом из 70-х по имени CLI (command line interface), иногда приходится обрабатывать командную строку. Она передается после разделения по пробелам в массив `sys.argv`. Например, команда\n",
    "\n",
    "```bash\n",
    "python file.py A B C\n",
    "```\n",
    "\n",
    "приведет к исполнению `file.py`, у которого в `sys.argv` будет массив `['file.py', 'A', 'B', 'C']`. В IPython интерпретатор ячеек (ядро) уже запущен с аргументами, которые позволяют ему коннектиться к серверу и получать от него строки на исполнение."
   ]
  },
  {
   "cell_type": "code",
   "execution_count": 62,
   "metadata": {
    "collapsed": false
   },
   "outputs": [
    {
     "data": {
      "text/plain": [
       "['C:\\\\Users\\\\User\\\\Anaconda2\\\\lib\\\\site-packages\\\\ipykernel\\\\__main__.py',\n",
       " '-f',\n",
       " 'C:\\\\Users\\\\User\\\\AppData\\\\Roaming\\\\jupyter\\\\runtime\\\\kernel-dd367fc1-bb51-4a86-a42c-61fa2c10773a.json']"
      ]
     },
     "execution_count": 62,
     "metadata": {},
     "output_type": "execute_result"
    }
   ],
   "source": [
    "sys.argv"
   ]
  },
  {
   "cell_type": "markdown",
   "metadata": {},
   "source": [
    "Задавать магические буквы в командной строке, вместо понятных идентификаторов в коде или объяснений на человеческом языке в GUI, болезненно для пользователя, но еще более болезненно для программиста, которому нужно корректно обработать то, что ему прислали, вывести сообщения об ошибке парсинга и документацию по магическим буквам.\n",
    "\n",
    "Чаще всего для упрощения этой задачи используется встроенная библиотека `argparse`. В консольной программе для чтения аргументов из `sys.argv`, а не из своего массива строк, взятого для демонстрации, используют `parser.parse_args()` без аргументов."
   ]
  },
  {
   "cell_type": "code",
   "execution_count": 63,
   "metadata": {
    "collapsed": false
   },
   "outputs": [
    {
     "name": "stdout",
     "output_type": "stream",
     "text": [
      "Namespace(loglevel='ERROR')\n",
      "ERROR\n"
     ]
    }
   ],
   "source": [
    "from argparse import ArgumentParser\n",
    "parser = ArgumentParser(description='My app')\n",
    "parser.add_argument(\n",
    "    '-ll', '--loglevel',\n",
    "    type=str,\n",
    "    choices=['DEBUG','INFO','WARNING','ERROR','CRITICAL'],\n",
    "    help='Set the logging level',\n",
    "    default='DEBUG'\n",
    ")\n",
    "args = parser.parse_args(args=['--loglevel=ERROR'])\n",
    "print args\n",
    "print args.loglevel"
   ]
  },
  {
   "cell_type": "code",
   "execution_count": 64,
   "metadata": {
    "collapsed": false
   },
   "outputs": [
    {
     "name": "stdout",
     "output_type": "stream",
     "text": [
      "usage: __main__.py [-h] [-ll {DEBUG,INFO,WARNING,ERROR,CRITICAL}]\n",
      "\n"
     ]
    }
   ],
   "source": [
    "print parser.format_usage()"
   ]
  },
  {
   "cell_type": "markdown",
   "metadata": {},
   "source": [
    "Переменные окружения"
   ]
  },
  {
   "cell_type": "code",
   "execution_count": 65,
   "metadata": {
    "collapsed": false
   },
   "outputs": [
    {
     "data": {
      "text/plain": [
       "37"
      ]
     },
     "execution_count": 65,
     "metadata": {},
     "output_type": "execute_result"
    }
   ],
   "source": [
    "len(os.environ['PATH'].split(';'))"
   ]
  },
  {
   "cell_type": "markdown",
   "metadata": {},
   "source": [
    "## Запуск внешних программ"
   ]
  },
  {
   "cell_type": "markdown",
   "metadata": {
    "collapsed": true
   },
   "source": [
    "Для запуска других программ можно использовать встроенную библиотеку `subprocess`"
   ]
  },
  {
   "cell_type": "code",
   "execution_count": 66,
   "metadata": {
    "collapsed": false
   },
   "outputs": [
    {
     "name": "stdout",
     "output_type": "stream",
     "text": [
      " \r\n",
      "Pinging 8.8.8.8 with 32 bytes of data:\r\n",
      "Reply from 8.8.8.8: bytes=32 time=39ms TTL=54\r\n",
      "Reply from 8.8.8.8: bytes=32 time=40ms TTL=54\r\n",
      "Reply from 8.8.8.8: bytes=32 time=37ms TTL=54\r\n",
      "Reply from 8.8.8.8: bytes=32 time=40ms TTL=54\r\n",
      "\r\n",
      "Ping statistics for 8.8.8.8:\r\n",
      "    Packets: Sent = 4, Received = 4, Lost = 0 (0% loss),\r\n",
      "Approximate round trip times in milli-seconds:\r\n",
      "    Minimum = 37ms, Maximum = 40ms, Average = 39ms\r\n",
      "0\n"
     ]
    }
   ],
   "source": [
    "import subprocess\n",
    "\n",
    "cmd = 'ping 8.8.8.8'\n",
    "p = subprocess.Popen(cmd, shell=True, stdout=subprocess.PIPE, stderr=subprocess.PIPE)\n",
    "errs = p.stderr.read()\n",
    "result = p.stdout.read()\n",
    "ret = p.wait()\n",
    "print errs, result, ret"
   ]
  },
  {
   "cell_type": "markdown",
   "metadata": {},
   "source": [
    "Но удобнее использовать библиотеку `delegator`."
   ]
  },
  {
   "cell_type": "markdown",
   "metadata": {},
   "source": [
    "```\n",
    "pip install delegator.py\n",
    "```"
   ]
  },
  {
   "cell_type": "code",
   "execution_count": 67,
   "metadata": {
    "collapsed": false
   },
   "outputs": [
    {
     "name": "stdout",
     "output_type": "stream",
     "text": [
      " \n",
      "Pinging 8.8.8.8 with 32 bytes of data:\n",
      "Reply from 8.8.8.8: bytes=32 time=35ms TTL=54\n",
      "Reply from 8.8.8.8: bytes=32 time=40ms TTL=54\n",
      "Reply from 8.8.8.8: bytes=32 time=34ms TTL=54\n",
      "Reply from 8.8.8.8: bytes=32 time=34ms TTL=54\n",
      "\n",
      "Ping statistics for 8.8.8.8:\n",
      "    Packets: Sent = 4, Received = 4, Lost = 0 (0% loss),\n",
      "Approximate round trip times in milli-seconds:\n",
      "    Minimum = 34ms, Maximum = 40ms, Average = 35ms\n",
      "0\n"
     ]
    }
   ],
   "source": [
    "import delegator\n",
    "\n",
    "result = delegator.run('ping 8.8.8.8')\n",
    "print result.err, result.out, result.return_code"
   ]
  },
  {
   "cell_type": "markdown",
   "metadata": {},
   "source": [
    "Можно запускать ассоциированное с файлом приложение:"
   ]
  },
  {
   "cell_type": "code",
   "execution_count": 134,
   "metadata": {
    "collapsed": false
   },
   "outputs": [],
   "source": [
    "os.startfile('files/__temp__.mp4')"
   ]
  },
  {
   "cell_type": "markdown",
   "metadata": {},
   "source": [
    "## Параллельность"
   ]
  },
  {
   "cell_type": "code",
   "execution_count": 78,
   "metadata": {
    "collapsed": false
   },
   "outputs": [
    {
     "name": "stdout",
     "output_type": "stream",
     "text": [
      "8\n"
     ]
    }
   ],
   "source": [
    "from multiprocessing import cpu_count\n",
    "print cpu_count()"
   ]
  },
  {
   "cell_type": "markdown",
   "metadata": {},
   "source": [
    "### ipyparallel"
   ]
  },
  {
   "cell_type": "markdown",
   "metadata": {},
   "source": [
    "Для утилизации нескольких ядер (или машин) из IPython можно использовать библиотеку `ipyparallel`, предоставляющую набор инструментов для вычислений в нескольких запущенных процессах. Хитрые конфиги позволяют запускать этот пул воркеров не только на локальной машине, но и, например, по SSH."
   ]
  },
  {
   "cell_type": "markdown",
   "metadata": {},
   "source": [
    "```\n",
    "pip install ipyparallel\n",
    "```"
   ]
  },
  {
   "cell_type": "markdown",
   "metadata": {},
   "source": [
    "Пример: скачивание урлов (с эксепшнами), синхронное, асинхронное (с отслеживанием прогресса, перехода между тасками, завершений, возможностью паузы/прервать), балансировка задач, вычисления до первого успеха (брут хэша). Импорты, данные и функции из нотебука."
   ]
  },
  {
   "cell_type": "code",
   "execution_count": 2,
   "metadata": {
    "collapsed": true
   },
   "outputs": [],
   "source": [
    "import ipyparallel"
   ]
  },
  {
   "cell_type": "markdown",
   "metadata": {},
   "source": [
    "В отдельном окне с командной строкой исполнить \n",
    "\n",
    "    ipcluster start\n",
    "    \n",
    "или с указанием числа ядер\n",
    "\n",
    "    ipcluster start --n 7"
   ]
  },
  {
   "cell_type": "code",
   "execution_count": null,
   "metadata": {
    "collapsed": true
   },
   "outputs": [],
   "source": [
    "import delegator\n",
    "delegator.run('ipcluster start --n 7')"
   ]
  },
  {
   "cell_type": "markdown",
   "metadata": {},
   "source": [
    "Объект клиента предоставляет обертку над процессами-воркерами."
   ]
  },
  {
   "cell_type": "code",
   "execution_count": 4,
   "metadata": {
    "collapsed": false
   },
   "outputs": [],
   "source": [
    "client = ipyparallel.Client()"
   ]
  },
  {
   "cell_type": "code",
   "execution_count": 5,
   "metadata": {
    "collapsed": false
   },
   "outputs": [
    {
     "data": {
      "text/plain": [
       "[0, 1, 2, 3, 4, 5, 6, 7]"
      ]
     },
     "execution_count": 5,
     "metadata": {},
     "output_type": "execute_result"
    }
   ],
   "source": [
    "client.ids"
   ]
  },
  {
   "cell_type": "markdown",
   "metadata": {},
   "source": [
    "Объект View позволяет назначать задания одному, нескольким или всем воркерам кластера."
   ]
  },
  {
   "cell_type": "code",
   "execution_count": 6,
   "metadata": {
    "collapsed": true
   },
   "outputs": [],
   "source": [
    "view = client[:]"
   ]
  },
  {
   "cell_type": "code",
   "execution_count": 7,
   "metadata": {
    "collapsed": true
   },
   "outputs": [],
   "source": [
    "import os, time"
   ]
  },
  {
   "cell_type": "code",
   "execution_count": 8,
   "metadata": {
    "collapsed": false
   },
   "outputs": [
    {
     "data": {
      "text/plain": [
       "[5428, 5904, 5624, 3700, 756, 6140, 2008, 5644]"
      ]
     },
     "execution_count": 8,
     "metadata": {},
     "output_type": "execute_result"
    }
   ],
   "source": [
    "view.apply_sync(os.getpid)"
   ]
  },
  {
   "cell_type": "code",
   "execution_count": 11,
   "metadata": {
    "collapsed": true
   },
   "outputs": [],
   "source": [
    "def calc(x, y):\n",
    "    import time\n",
    "    time.sleep(0.5)\n",
    "    return x + y"
   ]
  },
  {
   "cell_type": "markdown",
   "metadata": {},
   "source": [
    "Задачи могут выполняться как синхронно (20 вызовов `calc` на 8 ядрах займут 3 * 0.5 секунд)"
   ]
  },
  {
   "cell_type": "code",
   "execution_count": 12,
   "metadata": {
    "collapsed": false
   },
   "outputs": [
    {
     "name": "stdout",
     "output_type": "stream",
     "text": [
      "[0, 2, 4, 6, 8, 10, 12, 14, 16, 18, 20, 22, 24, 26, 28, 30, 32, 34, 36, 38]\n",
      "Wall time: 1.54 s\n"
     ]
    }
   ],
   "source": [
    "%%time\n",
    "res = view.map_sync(calc, range(20), range(20))\n",
    "print res"
   ]
  },
  {
   "cell_type": "markdown",
   "metadata": {},
   "source": [
    "так и асинхронно (результат реализует концепцию future)."
   ]
  },
  {
   "cell_type": "code",
   "execution_count": 13,
   "metadata": {
    "collapsed": false
   },
   "outputs": [
    {
     "name": "stdout",
     "output_type": "stream",
     "text": [
      "[0, 2, 4, 6, 8, 10, 12, 14, 16, 18, 20, 22, 24, 26, 28, 30, 32, 34, 36, 38, 40, 42, 44, 46, 48, 50, 52, 54, 56, 58, 60, 62, 64, 66, 68, 70, 72, 74, 76, 78, 80, 82, 84, 86, 88, 90, 92, 94, 96, 98]\n",
      "Wall time: 3.51 s\n"
     ]
    }
   ],
   "source": [
    "%%time\n",
    "res = view.map_async(calc, range(50), range(50))\n",
    "print res.get()"
   ]
  },
  {
   "cell_type": "code",
   "execution_count": 16,
   "metadata": {
    "collapsed": false
   },
   "outputs": [
    {
     "name": "stdout",
     "output_type": "stream",
     "text": [
      "<AsyncMapResult: calc>\n",
      "Wall time: 28 ms\n"
     ]
    }
   ],
   "source": [
    "%%time\n",
    "res = view.map_async(calc, range(50), range(50))\n",
    "print res"
   ]
  },
  {
   "cell_type": "code",
   "execution_count": 17,
   "metadata": {
    "collapsed": false
   },
   "outputs": [
    {
     "name": "stdout",
     "output_type": "stream",
     "text": [
      "not yet done, 1.00099992752 s passed\n",
      "not yet done, 2.00099992752 s passed\n",
      "not yet done, 3.00099992752 s passed\n",
      "[0, 2, 4, 6, 8, 10, 12, 14, 16, 18, 20, 22, 24, 26, 28, 30, 32, 34, 36, 38, 40, 42, 44, 46, 48, 50, 52, 54, 56, 58, 60, 62, 64, 66, 68, 70, 72, 74, 76, 78, 80, 82, 84, 86, 88, 90, 92, 94, 96, 98]\n",
      "Wall time: 3.41 s\n"
     ]
    }
   ],
   "source": [
    "%%time\n",
    "t0 = time.time()\n",
    "while True:\n",
    "    try:\n",
    "        res.get(timeout=1.0)\n",
    "        print res.result()\n",
    "        break\n",
    "    except ipyparallel.TimeoutError:\n",
    "        print 'not yet done,', time.time() - t0, 's passed'\n",
    "        pass"
   ]
  },
  {
   "cell_type": "markdown",
   "metadata": {},
   "source": [
    "Если воркер в процессе исполнения кидает исключение, падает вся задача, `.result()` получить нельзя, потому что он перекидывает исключение в месте вызова, поэтому следует всегда оборачивать тело функции задачи в `try`-`except`."
   ]
  },
  {
   "cell_type": "code",
   "execution_count": 121,
   "metadata": {
    "collapsed": false
   },
   "outputs": [
    {
     "name": "stdout",
     "output_type": "stream",
     "text": [
      "<AsyncMapResult: raise7>\n",
      "[u'ok', u'ok', u'ok', u'ok', u'ok', u'error', u'ok', u'ok']\n",
      "one or more exceptions from call to method: raise7\n",
      "[Engine Exception]Exception: don't like seven\n"
     ]
    }
   ],
   "source": [
    "def raise7(n):\n",
    "    if n == 7:\n",
    "        raise Exception('don\\'t like seven')\n",
    "\n",
    "res = view.map_async(raise7, range(10))\n",
    "print res\n",
    "res.wait()\n",
    "print res.status\n",
    "try:\n",
    "    res.result()\n",
    "except Exception as e:\n",
    "    print e"
   ]
  },
  {
   "cell_type": "markdown",
   "metadata": {},
   "source": [
    "#### Балансировка нагрузки"
   ]
  },
  {
   "cell_type": "markdown",
   "metadata": {},
   "source": [
    "Если задачи занимают ощутимо разное количество времени, просто закидывать их в очередь к воркерам — не лучшая идея. Следует воспользоваться вместо `DirectView` `LoadBalancedView`, который будет распределять задания по свободным воркерам.\n",
    "\n",
    "Чтобы воркер импортировал нужные библиотеки, можно воспользоваться декоратором `@ipyparallel.require`."
   ]
  },
  {
   "cell_type": "code",
   "execution_count": 92,
   "metadata": {
    "collapsed": true
   },
   "outputs": [],
   "source": [
    "@ipyparallel.require('math', 'time')\n",
    "def isprime_chunk(a, b):\n",
    "    t0 = time.time()\n",
    "    print 'start at', t0, 'with', a, b\n",
    "\n",
    "    def isprime(n):\n",
    "        if n < 2:\n",
    "            return False\n",
    "        if n == 2:\n",
    "            return True\n",
    "        for i in range(2, int(math.sqrt(n)) + 1):\n",
    "            if n % i == 0:\n",
    "                return False\n",
    "        return True\n",
    "\n",
    "    result = None\n",
    "    try:\n",
    "        result = [isprime(n) for n in range(a, b)]\n",
    "    except Exception as e:\n",
    "        print 'exception', e\n",
    "\n",
    "    t1 = time.time()\n",
    "    print 'done at', t1, 'spent', t1 - t0, 's'\n",
    "    return result"
   ]
  },
  {
   "cell_type": "code",
   "execution_count": 93,
   "metadata": {
    "collapsed": false
   },
   "outputs": [
    {
     "name": "stdout",
     "output_type": "stream",
     "text": [
      "Wall time: 12 ms\n"
     ]
    }
   ],
   "source": [
    "%%time\n",
    "up = 1000000\n",
    "chunk = 100000\n",
    "res = client.load_balanced_view().map_async(isprime_chunk, range(0, up, chunk), range(chunk, up, chunk) + [up])"
   ]
  },
  {
   "cell_type": "code",
   "execution_count": 94,
   "metadata": {
    "collapsed": false
   },
   "outputs": [
    {
     "name": "stdout",
     "output_type": "stream",
     "text": [
      "  10/10 tasks finished after    2 s\n",
      "done\n"
     ]
    }
   ],
   "source": [
    "res.wait_interactive()"
   ]
  },
  {
   "cell_type": "code",
   "execution_count": 95,
   "metadata": {
    "collapsed": false
   },
   "outputs": [
    {
     "name": "stdout",
     "output_type": "stream",
     "text": [
      "78498\n",
      "78498\n"
     ]
    }
   ],
   "source": [
    "print sum(map(sum, res.result()))\n",
    "\n",
    "from sympy import primepi\n",
    "print primepi(up-1)"
   ]
  },
  {
   "cell_type": "code",
   "execution_count": 96,
   "metadata": {
    "collapsed": false
   },
   "outputs": [
    {
     "name": "stdout",
     "output_type": "stream",
     "text": [
      "[stdout:7] \n",
      "start at 1533660328.47 with 0 100000\n",
      "done at 1533660328.88 spent 0.413000106812 s\n",
      "[stdout:6] \n",
      "start at 1533660328.48 with 100000 200000\n",
      "done at 1533660329.32 spent 0.838000059128 s\n",
      "[stdout:4] \n",
      "start at 1533660328.49 with 200000 300000\n",
      "done at 1533660329.46 spent 0.974999904633 s\n",
      "[stdout:1] \n",
      "start at 1533660328.51 with 300000 400000\n",
      "done at 1533660329.69 spent 1.18099999428 s\n",
      "[stdout:3] \n",
      "start at 1533660328.59 with 400000 500000\n",
      "done at 1533660329.89 spent 1.29999995232 s\n",
      "[stdout:2] \n",
      "start at 1533660328.59 with 500000 600000\n",
      "done at 1533660330.04 spent 1.45000004768 s\n",
      "[stdout:5] \n",
      "start at 1533660328.59 with 600000 700000\n",
      "done at 1533660330.01 spent 1.42000007629 s\n",
      "[stdout:0] \n",
      "start at 1533660328.59 with 700000 800000\n",
      "done at 1533660330.1 spent 1.50999999046 s\n",
      "[stdout:7] \n",
      "start at 1533660329.12 with 800000 900000\n",
      "done at 1533660330.46 spent 1.33500003815 s\n",
      "[stdout:6] \n",
      "start at 1533660329.42 with 900000 1000000\n",
      "done at 1533660330.68 spent 1.257999897 s\n"
     ]
    }
   ],
   "source": [
    "res.display_outputs()"
   ]
  },
  {
   "cell_type": "markdown",
   "metadata": {},
   "source": [
    "Сколько времени заняла задача всего, суммарно по ядрам"
   ]
  },
  {
   "cell_type": "code",
   "execution_count": 97,
   "metadata": {
    "collapsed": false
   },
   "outputs": [
    {
     "name": "stdout",
     "output_type": "stream",
     "text": [
      "2.235 11.727\n"
     ]
    }
   ],
   "source": [
    "print res.wall_time, res.serial_time"
   ]
  },
  {
   "cell_type": "markdown",
   "metadata": {},
   "source": [
    "На одном ядре"
   ]
  },
  {
   "cell_type": "code",
   "execution_count": 98,
   "metadata": {
    "collapsed": true
   },
   "outputs": [],
   "source": [
    "import math"
   ]
  },
  {
   "cell_type": "code",
   "execution_count": 99,
   "metadata": {
    "collapsed": false
   },
   "outputs": [
    {
     "name": "stdout",
     "output_type": "stream",
     "text": [
      "Wall time: 7.15 s\n"
     ]
    }
   ],
   "source": [
    "%%time\n",
    "def isprime(n):\n",
    "    if n < 2:\n",
    "        return False\n",
    "    if n == 2:\n",
    "        return True\n",
    "    for i in range(2, int(math.sqrt(n)) + 1):\n",
    "        if n % i == 0:\n",
    "            return False\n",
    "    return True\n",
    "\n",
    "sync_res = [isprime(n) for n in range(up)]"
   ]
  },
  {
   "cell_type": "code",
   "execution_count": 100,
   "metadata": {
    "collapsed": false
   },
   "outputs": [
    {
     "data": {
      "text/plain": [
       "78498"
      ]
     },
     "execution_count": 100,
     "metadata": {},
     "output_type": "execute_result"
    }
   ],
   "source": [
    "sum(sync_res)"
   ]
  },
  {
   "cell_type": "markdown",
   "metadata": {},
   "source": [
    "#### Передача переменных на воркеры и обратно"
   ]
  },
  {
   "cell_type": "markdown",
   "metadata": {},
   "source": [
    "На воркеры можно копировать переменные или распределять по ним некоторый массив (полезно, чтобы не передавать данные при каждом вызове, если их несколько)."
   ]
  },
  {
   "cell_type": "code",
   "execution_count": 101,
   "metadata": {
    "collapsed": false
   },
   "outputs": [
    {
     "data": {
      "text/plain": [
       "[42, 42, 42, 42, 42, 42, 42, 42]"
      ]
     },
     "execution_count": 101,
     "metadata": {},
     "output_type": "execute_result"
    }
   ],
   "source": [
    "a = 42\n",
    "view['var'] = a\n",
    "view['var']"
   ]
  },
  {
   "cell_type": "code",
   "execution_count": 102,
   "metadata": {
    "collapsed": false
   },
   "outputs": [
    {
     "name": "stdout",
     "output_type": "stream",
     "text": [
      "<AsyncResult: scatter>\n",
      "[[0, 1], [2, 3], [4, 5], [6, 7], [8, 9], [10, 11], [12, 13], [14, 15]]\n",
      "[0, 1, 2, 3, 4, 5, 6, 7, 8, 9, 10, 11, 12, 13, 14, 15]\n"
     ]
    }
   ],
   "source": [
    "print view.scatter('var2', range(16))\n",
    "print view['var2']\n",
    "print view.gather('var2').get()"
   ]
  },
  {
   "cell_type": "code",
   "execution_count": 103,
   "metadata": {
    "collapsed": false
   },
   "outputs": [
    {
     "data": {
      "text/plain": [
       "[[0, 1, 0, 1],\n",
       " [2, 3, 2, 3],\n",
       " [4, 5, 4, 5],\n",
       " [6, 7, 6, 7],\n",
       " [8, 9, 8, 9],\n",
       " [10, 11, 10, 11],\n",
       " [12, 13, 12, 13],\n",
       " [14, 15, 14, 15]]"
      ]
     },
     "execution_count": 103,
     "metadata": {},
     "output_type": "execute_result"
    }
   ],
   "source": [
    "view.apply_sync(lambda: var2 * 2)"
   ]
  },
  {
   "cell_type": "markdown",
   "metadata": {},
   "source": [
    "#### Исполнение ячеек кода на воркерах"
   ]
  },
  {
   "cell_type": "markdown",
   "metadata": {},
   "source": [
    "Расшарить между нотебуком и воркерами импорты"
   ]
  },
  {
   "cell_type": "code",
   "execution_count": 104,
   "metadata": {
    "collapsed": false
   },
   "outputs": [
    {
     "name": "stdout",
     "output_type": "stream",
     "text": [
      "importing numpy on engine(s)\n",
      "importing hashlib on engine(s)\n",
      "importing string on engine(s)\n",
      "importing os on engine(s)\n"
     ]
    }
   ],
   "source": [
    "with view.sync_imports():\n",
    "    import numpy, hashlib, string, os"
   ]
  },
  {
   "cell_type": "markdown",
   "metadata": {},
   "source": [
    "Самый простой способ исполнить код на всех воркерах сразу, в том числе расшарить некоторые нужные для последующих задач функции, это исполнить ячейку с магией `%%px`. Она исполняет `view.execute('cell code')`.\n",
    "* `--local` исполняет код еще и в локальном ядре нотебука\n",
    "* `--targets 0,1` позволяет указать конкретный воркер\n",
    "* `--noblock` исполняет ячейку асинхронно, результат можно увидеть магией `%pxresult`\n",
    "* `--out var` кладет AsyncResult в переменную `var`"
   ]
  },
  {
   "cell_type": "code",
   "execution_count": 105,
   "metadata": {
    "collapsed": false
   },
   "outputs": [
    {
     "name": "stdout",
     "output_type": "stream",
     "text": [
      "[stdout:0] hello 8888 done\n",
      "[stdout:1] hello 5628 done\n",
      "[stdout:2] hello 6500 done\n",
      "[stdout:3] hello 3532 done\n",
      "[stdout:4] hello 2776 done\n",
      "[stdout:5] hello 9172 done\n",
      "[stdout:6] hello 996 done\n",
      "[stdout:7] hello 8868 done\n"
     ]
    }
   ],
   "source": [
    "%%px\n",
    "print 'hello', os.getpid(),\n",
    "time.sleep(1.0)\n",
    "print 'done'"
   ]
  },
  {
   "cell_type": "code",
   "execution_count": 106,
   "metadata": {
    "collapsed": false
   },
   "outputs": [],
   "source": [
    "%%px --local\n",
    "def md5(s):\n",
    "    return hashlib.md5(s).hexdigest()"
   ]
  },
  {
   "cell_type": "code",
   "execution_count": 107,
   "metadata": {
    "collapsed": false
   },
   "outputs": [
    {
     "data": {
      "text/plain": [
       "'d41d8cd98f00b204e9800998ecf8427e'"
      ]
     },
     "execution_count": 107,
     "metadata": {},
     "output_type": "execute_result"
    }
   ],
   "source": [
    "md5('')"
   ]
  },
  {
   "cell_type": "code",
   "execution_count": 108,
   "metadata": {
    "collapsed": false
   },
   "outputs": [
    {
     "data": {
      "text/plain": [
       "[<function md5>,\n",
       " <function md5>,\n",
       " <function md5>,\n",
       " <function md5>,\n",
       " <function md5>,\n",
       " <function md5>,\n",
       " <function md5>,\n",
       " <function md5>]"
      ]
     },
     "execution_count": 108,
     "metadata": {},
     "output_type": "execute_result"
    }
   ],
   "source": [
    "view['md5']"
   ]
  },
  {
   "cell_type": "code",
   "execution_count": 109,
   "metadata": {
    "collapsed": false
   },
   "outputs": [
    {
     "data": {
      "text/plain": [
       "['d41d8cd98f00b204e9800998ecf8427e',\n",
       " 'd41d8cd98f00b204e9800998ecf8427e',\n",
       " 'd41d8cd98f00b204e9800998ecf8427e',\n",
       " 'd41d8cd98f00b204e9800998ecf8427e',\n",
       " 'd41d8cd98f00b204e9800998ecf8427e',\n",
       " 'd41d8cd98f00b204e9800998ecf8427e',\n",
       " 'd41d8cd98f00b204e9800998ecf8427e',\n",
       " 'd41d8cd98f00b204e9800998ecf8427e']"
      ]
     },
     "execution_count": 109,
     "metadata": {},
     "output_type": "execute_result"
    }
   ],
   "source": [
    "view.apply_sync(lambda: md5(''))"
   ]
  },
  {
   "cell_type": "code",
   "execution_count": 110,
   "metadata": {
    "collapsed": false
   },
   "outputs": [
    {
     "data": {
      "text/plain": [
       "<AsyncResult: execute>"
      ]
     },
     "execution_count": 110,
     "metadata": {},
     "output_type": "execute_result"
    }
   ],
   "source": [
    "%%px --noblock --target 0,2 --out var0\n",
    "time.sleep(10.0)\n",
    "print 42"
   ]
  },
  {
   "cell_type": "code",
   "execution_count": 111,
   "metadata": {
    "collapsed": false
   },
   "outputs": [
    {
     "data": {
      "text/plain": [
       "<AsyncResult: execute>"
      ]
     },
     "execution_count": 111,
     "metadata": {},
     "output_type": "execute_result"
    }
   ],
   "source": [
    "%%px --noblock --target 1 --out var1\n",
    "time.sleep(10.0)\n",
    "print 43"
   ]
  },
  {
   "cell_type": "code",
   "execution_count": 112,
   "metadata": {
    "collapsed": false
   },
   "outputs": [
    {
     "name": "stdout",
     "output_type": "stream",
     "text": [
      "43\n"
     ]
    }
   ],
   "source": [
    "%pxresult"
   ]
  },
  {
   "cell_type": "code",
   "execution_count": 113,
   "metadata": {
    "collapsed": false
   },
   "outputs": [
    {
     "data": {
      "text/plain": [
       "<AsyncResult: finished>"
      ]
     },
     "execution_count": 113,
     "metadata": {},
     "output_type": "execute_result"
    }
   ],
   "source": [
    "var0"
   ]
  },
  {
   "cell_type": "code",
   "execution_count": 114,
   "metadata": {
    "collapsed": false
   },
   "outputs": [
    {
     "data": {
      "text/plain": [
       "<AsyncResult: finished>"
      ]
     },
     "execution_count": 114,
     "metadata": {},
     "output_type": "execute_result"
    }
   ],
   "source": [
    "var1"
   ]
  },
  {
   "cell_type": "code",
   "execution_count": 115,
   "metadata": {
    "collapsed": false
   },
   "outputs": [
    {
     "name": "stdout",
     "output_type": "stream",
     "text": [
      "[stdout:0] 42\n",
      "[stdout:2] 42\n"
     ]
    }
   ],
   "source": [
    "var0.display_outputs()"
   ]
  },
  {
   "cell_type": "code",
   "execution_count": 116,
   "metadata": {
    "collapsed": false
   },
   "outputs": [
    {
     "name": "stdout",
     "output_type": "stream",
     "text": [
      "43\n"
     ]
    }
   ],
   "source": [
    "var1.display_outputs()"
   ]
  },
  {
   "cell_type": "markdown",
   "metadata": {},
   "source": [
    "#### Получение результатов по мере их вычисления"
   ]
  },
  {
   "cell_type": "markdown",
   "metadata": {},
   "source": [
    "Если вычисления выполняются до первого успеха (например, при параллельном брутфорсе), можно получать результаты вычислений по мере их завершения и остановить все вычисления при получении подходящего ответа."
   ]
  },
  {
   "cell_type": "code",
   "execution_count": 117,
   "metadata": {
    "collapsed": false
   },
   "outputs": [],
   "source": [
    "def crack(prefix, begin, end, alpha=string.lowercase):\n",
    "    le = len(end)\n",
    "    cle = len(begin)\n",
    "    begin = map(alpha.find, begin)\n",
    "    end = map(alpha.find, end)\n",
    "    cur = [-1] * (le - cle) + begin\n",
    "    n = len(alpha)\n",
    "    while True:\n",
    "        s = ''.join(map(alpha.__getitem__, cur[-cle:]))\n",
    "        if md5(s).startswith(prefix):\n",
    "            return s\n",
    "        if cur == end:\n",
    "            break\n",
    "        i = le - 1\n",
    "        while i >= 0 and cur[i] == n - 1:\n",
    "            cur[i] = 0\n",
    "            i -= 1\n",
    "        cur[i] += 1\n",
    "        if i < le - cle:\n",
    "            cle += 1"
   ]
  },
  {
   "cell_type": "code",
   "execution_count": 118,
   "metadata": {
    "collapsed": false,
    "scrolled": true
   },
   "outputs": [
    {
     "name": "stdout",
     "output_type": "stream",
     "text": [
      "Wall time: 9.29 s\n"
     ]
    },
    {
     "data": {
      "text/plain": [
       "'kefir'"
      ]
     },
     "execution_count": 118,
     "metadata": {},
     "output_type": "execute_result"
    }
   ],
   "source": [
    "%%time\n",
    "crack(md5('kefir'), 'aaaaa', 'zzzzz')"
   ]
  },
  {
   "cell_type": "code",
   "execution_count": 119,
   "metadata": {
    "collapsed": false
   },
   "outputs": [],
   "source": [
    "ranges = [(chr(ord('a') + i) + 'aaaa', chr(ord('a') + i) + 'zzzz') for i in range(26)]"
   ]
  },
  {
   "cell_type": "code",
   "execution_count": 120,
   "metadata": {
    "collapsed": false
   },
   "outputs": [
    {
     "name": "stdout",
     "output_type": "stream",
     "text": [
      "None\n",
      "None\n",
      "None\n",
      "None\n",
      "None\n",
      "None\n",
      "kefir\n",
      "[u'ok', u'ok', u'ok', u'ok', u'ok', u'ok', u'ok', u'ok', u'ok', u'ok', u'ok', u'ok', u'ok', None, u'aborted', u'aborted', u'aborted', u'aborted', u'aborted', u'aborted', u'aborted', u'aborted', u'aborted', u'aborted', u'aborted', u'aborted']\n",
      "Wall time: 3.44 s\n"
     ]
    }
   ],
   "source": [
    "%%time\n",
    "res = client.load_balanced_view().map_async(crack, [md5('kefir')] * 26, *zip(*ranges), ordered=False)\n",
    "for answer in res:\n",
    "    print answer\n",
    "    if answer:\n",
    "        res.abort()\n",
    "        break\n",
    "print res.status"
   ]
  },
  {
   "cell_type": "markdown",
   "metadata": {},
   "source": [
    "### Мультитрединг"
   ]
  },
  {
   "cell_type": "markdown",
   "metadata": {},
   "source": [
    "Мультитрединг в Python (точнее, в основной реализации CPython) существенно ограничен GIL (Global Interpreter Lock), который не позволяет исполняться Python-коду одновременно в нескольких тредах. С другой стороны, значительное число врапперов над си-библиотеками снимает GIL на время исполнения си-кода, в том числе математических вычислений и различных системных асинхронных вызовов, что делает мультитрединг иногда осмысленным."
   ]
  },
  {
   "cell_type": "code",
   "execution_count": 122,
   "metadata": {
    "collapsed": false
   },
   "outputs": [
    {
     "name": "stdout",
     "output_type": "stream",
     "text": [
      "0\n",
      "1\n",
      "2\n",
      "3\n",
      "4\n",
      "all threads are running\n",
      "1302 \n",
      "\n",
      "\n",
      "\n",
      "4\n",
      "over\n",
      "Wall time: 1.01 s\n"
     ]
    }
   ],
   "source": [
    "%%time\n",
    "from threading import Thread\n",
    "import time\n",
    "\n",
    "class MyThread(Thread):\n",
    "    def __init__(self, n):\n",
    "        super(MyThread, self).__init__()\n",
    "        self.n = n\n",
    "    def run(self):\n",
    "        print self.n\n",
    "        time.sleep(1)\n",
    "        print self.n\n",
    "\n",
    "ts = [MyThread(i) for i in range(5)]\n",
    "for t in ts:\n",
    "    t.start()\n",
    "print 'all threads are running'\n",
    "for t in ts:\n",
    "    t.join()\n",
    "print 'over'"
   ]
  },
  {
   "cell_type": "markdown",
   "metadata": {},
   "source": [
    "Иногда нужно, чтобы некоторый скрипт (или его части) исполнялся только один одновременно. Помочь может библиотека `filelock`. Внутри одного скрипта достаточно `threading.Lock`."
   ]
  },
  {
   "cell_type": "markdown",
   "metadata": {},
   "source": [
    "```\n",
    "pip install filelock\n",
    "```"
   ]
  },
  {
   "cell_type": "code",
   "execution_count": 136,
   "metadata": {
    "collapsed": false
   },
   "outputs": [
    {
     "name": "stdout",
     "output_type": "stream",
     "text": [
      "1533660885.23 i am first 0.00400018692017\n",
      "1533660885.23 i am not first 0.00500011444092\n",
      "1533660885.23 i am not first 0.00499987602234\n",
      "1533660885.23 i am not first 0.00399994850159\n",
      "1533660885.23 i am not first 0.00500011444092\n",
      "1533660885.23 i am not first 0.00399994850159\n",
      "1533660885.23 i am not first 0.00399994850159\n"
     ]
    },
    {
     "name": "stderr",
     "output_type": "stream",
     "text": [
      "DEBUG:filelock:Attempting to acquire lock 217465240 on lock.txt\n",
      "DEBUG:filelock:Attempting to acquire lock 115931288 on lock.txt\n",
      "DEBUG:filelock:Attempting to acquire lock 215601504 on lock.txt\n",
      "DEBUG:filelock:Attempting to acquire lock 217632440 on lock.txt\n",
      "INFO:filelock:Lock 217465240 acquired on lock.txt\n",
      "DEBUG:filelock:Timeout on acquiring lock 115931288 on lock.txt\n",
      "DEBUG:filelock:Timeout on acquiring lock 215601504 on lock.txt\n",
      "DEBUG:filelock:Attempting to acquire lock 124347784 on lock.txt\n",
      "DEBUG:filelock:Timeout on acquiring lock 217632440 on lock.txt\n",
      "DEBUG:filelock:Attempting to acquire lock 217631320 on lock.txt\n",
      "DEBUG:filelock:Attempting to acquire lock 218073632 on lock.txt\n",
      "DEBUG:filelock:Timeout on acquiring lock 124347784 on lock.txt\n",
      "DEBUG:filelock:Timeout on acquiring lock 217631320 on lock.txt\n",
      "DEBUG:filelock:Timeout on acquiring lock 218073632 on lock.txt\n",
      "DEBUG:filelock:Attempting to release lock 217465240 on lock.txt\n",
      "INFO:filelock:Lock 217465240 released on lock.txt\n"
     ]
    }
   ],
   "source": [
    "import filelock, time, threading\n",
    "\n",
    "print_lock = threading.Lock()\n",
    "\n",
    "class MyThread(Thread):\n",
    "    def __init__(self):\n",
    "        super(MyThread, self).__init__()\n",
    "    def run(self):\n",
    "        t0 = time.time()\n",
    "        lock = filelock.FileLock(\"lock.txt\", 0)\n",
    "        try:\n",
    "            with lock:\n",
    "                with print_lock:\n",
    "                    print time.time(), 'i am first', time.time() - t0\n",
    "                time.sleep(1)\n",
    "        except filelock.Timeout:\n",
    "            with print_lock:\n",
    "                print time.time(), 'i am not first', time.time() - t0\n",
    "            \n",
    "threads = [MyThread() for i in range(7)]\n",
    "map(MyThread.start, threads)\n",
    "map(MyThread.join, threads);"
   ]
  },
  {
   "cell_type": "markdown",
   "metadata": {},
   "source": [
    "## Windows"
   ]
  },
  {
   "cell_type": "markdown",
   "metadata": {},
   "source": [
    "Для обращения к API-функциям Windows существует библиотека `pywin32`, входящая в Anaconda. Функции сгруппированы по модулям, неполный список:\n",
    "\n",
    "    win32api win32clipboard win32con win32console win32cred win32crypt win32cryptcon win32event win32file win32gui win32job win32pdh win32pipe win32print win32process win32profile win32ras win32rcparser win32security win32service win32trace win32ui winnt winxpgui\n",
    "\n",
    "Прототипы WinAPI модули `win32*` меняют на свое усмотрение. Как правило, возвращаемые по указателю структуры-аргументы возвращаются функцией как словари или структуры."
   ]
  },
  {
   "cell_type": "markdown",
   "metadata": {},
   "source": [
    "Ля второй октавы"
   ]
  },
  {
   "cell_type": "code",
   "execution_count": 18,
   "metadata": {
    "collapsed": true
   },
   "outputs": [],
   "source": [
    "from winsound import Beep\n",
    "Beep(880, 1000)"
   ]
  },
  {
   "cell_type": "markdown",
   "metadata": {},
   "source": [
    "Получить размеры заголовков окон"
   ]
  },
  {
   "cell_type": "code",
   "execution_count": 124,
   "metadata": {
    "collapsed": false
   },
   "outputs": [
    {
     "data": {
      "text/plain": [
       "{'iBorderWidth': 5,\n",
       " 'iCaptionHeight': 21,\n",
       " 'iCaptionWidth': 35,\n",
       " 'iMenuHeight': 19,\n",
       " 'iMenuWidth': 19,\n",
       " 'iScrollHeight': 17,\n",
       " 'iScrollWidth': 17,\n",
       " 'iSmCaptionHeight': 17,\n",
       " 'iSmCaptionWidth': 17,\n",
       " 'lfCaptionFont': <PyLOGFONT at 0xb92f3b0>,\n",
       " 'lfMenuFont': <PyLOGFONT at 0xb92f170>,\n",
       " 'lfMessageFont': <PyLOGFONT at 0xb92f350>,\n",
       " 'lfSmCaptionFont': <PyLOGFONT at 0xb92f410>,\n",
       " 'lfStatusFont': <PyLOGFONT at 0xb92f230>}"
      ]
     },
     "execution_count": 124,
     "metadata": {},
     "output_type": "execute_result"
    }
   ],
   "source": [
    "import win32gui, win32con\n",
    "win32gui.SystemParametersInfo(win32con.SPI_GETNONCLIENTMETRICS)"
   ]
  },
  {
   "cell_type": "markdown",
   "metadata": {},
   "source": [
    "Получить разрешение, перевернуть экран"
   ]
  },
  {
   "cell_type": "code",
   "execution_count": 23,
   "metadata": {
    "collapsed": false
   },
   "outputs": [
    {
     "name": "stdout",
     "output_type": "stream",
     "text": [
      "1920×1080 @ 120 Hz\n"
     ]
    }
   ],
   "source": [
    "res = win32api.EnumDisplaySettings(None, win32con.ENUM_CURRENT_SETTINGS)\n",
    "print '%d×%d @ %d Hz' % (res.PelsWidth, res.PelsHeight, res.DisplayFrequency)"
   ]
  },
  {
   "cell_type": "code",
   "execution_count": 24,
   "metadata": {
    "collapsed": false
   },
   "outputs": [
    {
     "data": {
      "text/plain": [
       "0L"
      ]
     },
     "execution_count": 24,
     "metadata": {},
     "output_type": "execute_result"
    }
   ],
   "source": [
    "res.DisplayOrientation = win32con.DMDO_180\n",
    "win32api.ChangeDisplaySettings(res, 0)\n",
    "\n",
    "time.sleep(1.0)\n",
    "\n",
    "res.DisplayOrientation = win32con.DMDO_DEFAULT\n",
    "win32api.ChangeDisplaySettings(res, 0)"
   ]
  },
  {
   "cell_type": "markdown",
   "metadata": {},
   "source": [
    "Вызывать произвольные функции из сишных DLL позволяет встроенная библиотека `ctypes`.\n",
    "\n",
    "```python\n",
    "import ctypes\n",
    "model = ctypes.cdll.LoadLibrary('libmodel.so')\n",
    "model.update.argtypes = [ctypes.c_double]\n",
    "model.init()\n",
    "model.update(1.0)\n",
    "```\n",
    "\n",
    "Следующий пример демонстрирует, как объявить и передать в произвольную C-функцию в некоторой DLL структуру. Эти функции перечисляют все NTFS ADS (alternate data streams) у некоторого файла."
   ]
  },
  {
   "cell_type": "code",
   "execution_count": 9,
   "metadata": {
    "collapsed": true
   },
   "outputs": [],
   "source": [
    "import ctypes\n",
    "from ctypes import c_wchar_p, c_void_p, c_ulong, c_wchar, c_longlong, Structure, Union, byref\n",
    "import sys, os\n",
    "\n",
    "LPSTR     = c_wchar_p\n",
    "DWORD     = c_ulong\n",
    "LONG      = c_ulong\n",
    "WCHAR     = c_wchar * 296\n",
    "LONGLONG  = c_longlong\n",
    "\n",
    "class LARGE_INTEGER_UNION(Structure):\n",
    "    _fields_ = [\n",
    "        (\"LowPart\", DWORD),\n",
    "        (\"HighPart\", LONG),\n",
    "    ]\n",
    "\n",
    "class LARGE_INTEGER(Union):\n",
    "    _fields_ = [\n",
    "        (\"large1\", LARGE_INTEGER_UNION),\n",
    "        (\"large2\", LARGE_INTEGER_UNION),\n",
    "        (\"QuadPart\", LONGLONG),\n",
    "    ]\n",
    "\n",
    "class WIN32_FIND_STREAM_DATA(Structure):\n",
    "    _fields_ = [\n",
    "        (\"StreamSize\", LARGE_INTEGER),\n",
    "        (\"cStreamName\", WCHAR),\n",
    "    ]\n",
    "    '''\n",
    "    typedef struct _WIN32_FIND_STREAM_DATA {\n",
    "      LARGE_INTEGER StreamSize;\n",
    "      WCHAR         cStreamName[MAX_PATH + 36];\n",
    "    } WIN32_FIND_STREAM_DATA, *PWIN32_FIND_STREAM_DATA;\n",
    "    '''\n",
    "\n",
    "\n",
    "def get_ntfs_streams(filename):\n",
    "    file_infos = WIN32_FIND_STREAM_DATA()\n",
    "    streamlist = []\n",
    "\n",
    "    ctypes.windll.kernel32.FindFirstStreamW.restype = c_void_p\n",
    "\n",
    "    myhandler = ctypes.windll.kernel32.FindFirstStreamW(LPSTR(filename), 0, byref(file_infos), 0)\n",
    "    '''\n",
    "    HANDLE WINAPI FindFirstStreamW(\n",
    "      __in        LPCWSTR lpFileName,\n",
    "      __in        STREAM_INFO_LEVELS InfoLevel, (0 standard, 1 max infos)\n",
    "      __out       LPVOID lpFindStreamData, (return information about file in a WIN32_FIND_STREAM_DATA if 0 is given in infos_level\n",
    "      __reserved  DWORD dwFlags (Reserved for future use. This parameter must be zero.) cf: doc\n",
    "    );\n",
    "    https://msdn.microsoft.com/en-us/library/aa364424(v=vs.85).aspx\n",
    "    '''\n",
    "    p = c_void_p(myhandler)\n",
    "\n",
    "    if file_infos.cStreamName:\n",
    "        streamname = file_infos.cStreamName.split(\":\")[1]\n",
    "        if streamname:\n",
    "            streamlist.append(streamname)\n",
    "\n",
    "        while ctypes.windll.kernel32.FindNextStreamW(p, byref(file_infos)):\n",
    "            streamlist.append(file_infos.cStreamName.split(\":\")[1])\n",
    "\n",
    "    ctypes.windll.kernel32.FindClose(p)\n",
    "\n",
    "    return streamlist"
   ]
  },
  {
   "cell_type": "code",
   "execution_count": 10,
   "metadata": {
    "collapsed": false
   },
   "outputs": [],
   "source": [
    "def file_get(filename):\n",
    "    with open(filename, 'rb') as fp:\n",
    "        return fp.read()"
   ]
  },
  {
   "cell_type": "code",
   "execution_count": 16,
   "metadata": {
    "collapsed": false
   },
   "outputs": [
    {
     "name": "stdout",
     "output_type": "stream",
     "text": [
      "?.mp4 [u'Zone.Identifier'] '[ZoneTransfer]\\r\\nZoneId=3\\r\\n'\n",
      "?.torrent [u'Zone.Identifier'] '[ZoneTransfer]\\r\\nZoneId=3\\r\\n'\n"
     ]
    }
   ],
   "source": [
    "d = \"C:\\\\Users\\\\User\\\\Downloads\"\n",
    "for f in os.listdir(d):\n",
    "    fn = os.path.join(d, f)\n",
    "    streams = get_ntfs_streams(fn)\n",
    "    if streams:\n",
    "        fn_with_stream = fn\n",
    "        stream_content = file_get(fn + ':' + streams[0])\n",
    "        print '?' + os.path.splitext(f)[1], streams, repr(stream_content)"
   ]
  },
  {
   "cell_type": "markdown",
   "metadata": {},
   "source": [
    "Конкретно для этой пары функций в `win32file` уже есть удобный биндинг."
   ]
  },
  {
   "cell_type": "code",
   "execution_count": 14,
   "metadata": {
    "collapsed": true
   },
   "outputs": [],
   "source": [
    "import win32file"
   ]
  },
  {
   "cell_type": "code",
   "execution_count": 17,
   "metadata": {
    "collapsed": false
   },
   "outputs": [
    {
     "data": {
      "text/plain": [
       "[(75602L, u'::$DATA'), (26L, u':Zone.Identifier:$DATA')]"
      ]
     },
     "execution_count": 17,
     "metadata": {},
     "output_type": "execute_result"
    }
   ],
   "source": [
    "win32file.FindStreams(fn_with_stream)"
   ]
  },
  {
   "cell_type": "markdown",
   "metadata": {},
   "source": [
    "Работа с COM в Python возможна посредством входящей в Anaconda библиотеки `comtypes`. Не известные ей интерфейсы описываются классами в стиле `ctypes`, достаточно прямолинейно получающимися из IDL-описаний. В качестве примера покажем уведомление в трее, используя `IUserNotification::Show` https://docs.microsoft.com/ru-ru/windows/desktop/api/shobjidl_core/nf-shobjidl_core-iusernotification-show .\n",
    "\n",
    "```\n",
    "[\n",
    "    uuid(ba9711ba-5893-4787-a7e1-41277151550b),\n",
    "    object,\n",
    "    pointer_default(unique)\n",
    "]\n",
    "interface IUserNotification : IUnknown\n",
    "{\n",
    "    HRESULT SetBalloonInfo(\n",
    "        [in, unique, string] LPCWSTR pszTitle,\n",
    "        [in, unique, string] LPCWSTR pszText,\n",
    "        [in] DWORD dwInfoFlags);\n",
    "\n",
    "    HRESULT SetBalloonRetry(\n",
    "        [in] DWORD dwShowTime,  // times in msec\n",
    "        [in] DWORD dwInterval,\n",
    "        [in] UINT cRetryCount);\n",
    "\n",
    "    HRESULT SetIconInfo(\n",
    "        [in, unique] HICON hIcon,\n",
    "        [in, unique, string] LPCWSTR pszToolTip);\n",
    "\n",
    "    HRESULT Show(\n",
    "        [in, unique] IQueryContinue *pqc,\n",
    "        [in] DWORD dwContinuePollInterval);\n",
    "\n",
    "    HRESULT PlaySound([in, string] LPCWSTR pszSoundName);\n",
    "}\n",
    "```"
   ]
  },
  {
   "cell_type": "code",
   "execution_count": 25,
   "metadata": {
    "collapsed": true
   },
   "outputs": [],
   "source": [
    "import comtypes\n",
    "import comtypes.client\n",
    "from comtypes import IUnknown, GUID, HRESULT, POINTER, COMMETHOD, c_wchar_p, c_ulong, c_uint"
   ]
  },
  {
   "cell_type": "code",
   "execution_count": 26,
   "metadata": {
    "collapsed": false
   },
   "outputs": [],
   "source": [
    "class IQueryContinue(IUnknown):\n",
    "    _iid_ = GUID('{7307055c-b24a-486b-9f25-163e597a28a9}')\n",
    "    _idlflags_ = []\n",
    "    \n",
    "IQueryContinue._methods_ = [\n",
    "    COMMETHOD([], HRESULT, 'QueryContinue'),\n",
    "]\n",
    "\n",
    "\n",
    "class IUserNotification(IUnknown):\n",
    "    _iid_ = GUID('{BA9711BA-5893-4787-A7E1-41277151550B}')\n",
    "    _idlflags_ = []\n",
    "\n",
    "IUserNotification._methods_ = [\n",
    "    COMMETHOD([], HRESULT, 'SetBalloonInfo',\n",
    "        ( ['in'], c_wchar_p, 'pszTitle' ),\n",
    "        ( ['in'], c_wchar_p, 'pszText' ),\n",
    "        ( ['in'], c_ulong, 'dwInfoFlags' ),\n",
    "    ),\n",
    "    COMMETHOD([], HRESULT, 'SetBalloonRetry',\n",
    "        ( ['in'], c_ulong, 'dwShowTime' ),\n",
    "        ( ['in'], c_ulong, 'dwInterval' ),\n",
    "        ( ['in'], c_uint, 'cRetryCount' ),\n",
    "    ),\n",
    "    COMMETHOD([], HRESULT, 'SetIconInfo',\n",
    "        ( ['in'], c_ulong, 'hIcon' ),\n",
    "        ( ['in'], c_wchar_p, 'pszToolTip' ),\n",
    "    ),\n",
    "    COMMETHOD([], HRESULT, 'Show',\n",
    "        ( ['in'], POINTER(IQueryContinue), 'pqc' ),\n",
    "        ( ['in'], c_ulong, 'dwContinuePollInterval' ),\n",
    "    ),\n",
    "    COMMETHOD([], HRESULT, 'PlaySound',\n",
    "        ( ['in'], c_wchar_p, 'pszSoundName' ),\n",
    "    ),\n",
    "]"
   ]
  },
  {
   "cell_type": "code",
   "execution_count": 27,
   "metadata": {
    "collapsed": false
   },
   "outputs": [
    {
     "data": {
      "text/plain": [
       "<POINTER(IUserNotification) ptr=0x423b10 at 17c1d748>"
      ]
     },
     "execution_count": 27,
     "metadata": {},
     "output_type": "execute_result"
    }
   ],
   "source": [
    "user_notification_clsid = '{0010890e-8789-413c-adbc-48f5b511b3af}'\n",
    "pUserNotification = comtypes.client.CreateObject(user_notification_clsid, interface=IUserNotification)\n",
    "pUserNotification"
   ]
  },
  {
   "cell_type": "code",
   "execution_count": 28,
   "metadata": {
    "collapsed": true
   },
   "outputs": [],
   "source": [
    "import win32gui, win32con"
   ]
  },
  {
   "cell_type": "code",
   "execution_count": 29,
   "metadata": {
    "collapsed": true
   },
   "outputs": [],
   "source": [
    "NIIF_INFO = 1"
   ]
  },
  {
   "cell_type": "code",
   "execution_count": 30,
   "metadata": {
    "collapsed": false
   },
   "outputs": [
    {
     "data": {
      "text/plain": [
       "0"
      ]
     },
     "execution_count": 30,
     "metadata": {},
     "output_type": "execute_result"
    }
   ],
   "source": [
    "pUserNotification.SetBalloonInfo(\n",
    "    u'Операция завершена',\n",
    "    u'Ваша нейросеть закончила оверфититься\\ntrain logloss: 0.001\\ntest logloss: 0.693',\n",
    "    NIIF_INFO\n",
    ")\n",
    "pUserNotification.SetIconInfo(win32gui.LoadIcon(None, win32con.IDI_ASTERISK), None)\n",
    "pUserNotification.Show(None, 1000)"
   ]
  },
  {
   "cell_type": "markdown",
   "metadata": {},
   "source": [
    "Некоторые популярные COM-интерфейсы уже описаны в `comtypes`"
   ]
  },
  {
   "cell_type": "code",
   "execution_count": 3,
   "metadata": {
    "collapsed": false
   },
   "outputs": [
    {
     "data": {
      "text/plain": [
       "{'{00000000-0000-0000-C000-000000000046}': comtypes.IUnknown,\n",
       " '{0000002F-0000-0000-C000-000000000046}': comtypes.typeinfo.IRecordInfo,\n",
       " '{0000010C-0000-0000-C000-000000000046}': comtypes.IPersist,\n",
       " '{00020400-0000-0000-C000-000000000046}': comtypes.automation.IDispatch,\n",
       " '{00020401-0000-0000-C000-000000000046}': comtypes.typeinfo.ITypeInfo,\n",
       " '{00020402-0000-0000-C000-000000000046}': comtypes.typeinfo.ITypeLib,\n",
       " '{00020403-0000-0000-C000-000000000046}': comtypes.typeinfo.ITypeComp,\n",
       " '{00020404-0000-0000-C000-000000000046}': comtypes.automation.IEnumVARIANT,\n",
       " '{00020405-0000-0000-C000-000000000046}': comtypes.typeinfo.ICreateTypeInfo,\n",
       " '{00020406-0000-0000-C000-000000000046}': comtypes.typeinfo.ICreateTypeLib,\n",
       " '{0002040F-0000-0000-C000-000000000046}': comtypes.typeinfo.ICreateTypeLib2,\n",
       " '{1CF2B120-547D-101B-8E65-08002B2BD119}': comtypes.errorinfo.IErrorInfo,\n",
       " '{22F03340-547D-101B-8E65-08002B2BD119}': comtypes.errorinfo.ICreateErrorInfo,\n",
       " '{6D5140C1-7436-11CE-8034-00AA006009FA}': comtypes.IServiceProvider,\n",
       " '{A6BC3AC0-DBAA-11CE-9DE3-00AA004BB851}': comtypes.typeinfo.IProvideClassInfo2,\n",
       " '{B196B283-BAB4-101A-B69C-00AA00341D07}': comtypes.typeinfo.IProvideClassInfo,\n",
       " '{B196B284-BAB4-101A-B69C-00AA00341D07}': comtypes.connectionpoints.IConnectionPointContainer,\n",
       " '{B196B285-BAB4-101A-B69C-00AA00341D07}': comtypes.connectionpoints.IEnumConnectionPoints,\n",
       " '{B196B286-BAB4-101A-B69C-00AA00341D07}': comtypes.connectionpoints.IConnectionPoint,\n",
       " '{B196B287-BAB4-101A-B69C-00AA00341D07}': comtypes.connectionpoints.IEnumConnections,\n",
       " '{DF0B3D60-548F-101B-8E65-08002B2BD119}': comtypes.errorinfo.ISupportErrorInfo}"
      ]
     },
     "execution_count": 3,
     "metadata": {},
     "output_type": "execute_result"
    }
   ],
   "source": [
    "comtypes.com_interface_registry"
   ]
  },
  {
   "cell_type": "markdown",
   "metadata": {},
   "source": [
    "### Реестр"
   ]
  },
  {
   "cell_type": "markdown",
   "metadata": {},
   "source": [
    "Реестр Windows хранит разнообразную системную информацию (о настройках системы, об ассоциациях файлов и многом другом) в древовидной структуре из ключей-папок и значений-листьев нескольких типов (строки `winreg.REG_SZ`, целые `winreg.REG_DWORD`, бинарные блобы `winreg.REG_BINARY` и еще несколько). Функции для работы с ним сгруппированы в библиотеке `winreg` https://docs.python.org/2.7/library/_winreg.html ."
   ]
  },
  {
   "cell_type": "markdown",
   "metadata": {},
   "source": [
    "todo hkey вроде поддерживает `__exit__`"
   ]
  },
  {
   "cell_type": "code",
   "execution_count": 125,
   "metadata": {
    "collapsed": true
   },
   "outputs": [],
   "source": [
    "import winreg, win32con\n",
    "def reg_hive(hive):\n",
    "    return {\n",
    "        'HKEY_CLASSES_ROOT': win32con.HKEY_CLASSES_ROOT,\n",
    "        'HKEY_CURRENT_CONFIG': win32con.HKEY_CURRENT_CONFIG,\n",
    "        'HKEY_CURRENT_USER': win32con.HKEY_CURRENT_USER,\n",
    "        'HKEY_LOCAL_MACHINE': win32con.HKEY_LOCAL_MACHINE,\n",
    "        'HKEY_USERS': win32con.HKEY_USERS,\n",
    "        'HKCR': win32con.HKEY_CLASSES_ROOT,\n",
    "        'HKCC': win32con.HKEY_CURRENT_CONFIG,\n",
    "        'HKCU': win32con.HKEY_CURRENT_USER,\n",
    "        'HKLM': win32con.HKEY_LOCAL_MACHINE,\n",
    "        'HKU': win32con.HKEY_USERS,\n",
    "    }[hive]\n",
    "\n",
    "def reg_read(path):\n",
    "    parts = path.split('\\\\')\n",
    "    hk = reg_hive(parts[0])\n",
    "    if len(parts) > 2:\n",
    "        hk = winreg.OpenKey(hk, '\\\\'.join(parts[1:-1]))\n",
    "    try:\n",
    "        return winreg.QueryValueEx(hk, parts[-1])\n",
    "    finally:\n",
    "        if len(parts) > 2:\n",
    "            winreg.CloseKey(hk)\n",
    "            \n",
    "def reg_enum_keys(path):\n",
    "    parts = path.split('\\\\')\n",
    "    hk = reg_hive(parts[0])\n",
    "    if len(parts) > 1:\n",
    "        hk = winreg.OpenKey(hk, '\\\\'.join(parts[1:]))\n",
    "    try:\n",
    "        result = []\n",
    "        try:\n",
    "            idx = 0\n",
    "            while True:\n",
    "                result.append(winreg.EnumKey(hk, idx))\n",
    "                idx += 1\n",
    "        except:\n",
    "            pass\n",
    "    finally:\n",
    "        if len(parts) > 1:\n",
    "            winreg.CloseKey(hk)\n",
    "    return result\n",
    "\n",
    "def reg_enum_values(path):\n",
    "    parts = path.split('\\\\')\n",
    "    hk = reg_hive(parts[0])\n",
    "    if len(parts) > 1:\n",
    "        hk = winreg.OpenKey(hk, '\\\\'.join(parts[1:]))\n",
    "    try:\n",
    "        result = []\n",
    "        try:\n",
    "            idx = 0\n",
    "            while True:\n",
    "                result.append(winreg.EnumValue(hk, idx))\n",
    "                idx += 1\n",
    "        except:\n",
    "            pass\n",
    "    finally:\n",
    "        if len(parts) > 1:\n",
    "            winreg.CloseKey(hk)\n",
    "    return result"
   ]
  },
  {
   "cell_type": "code",
   "execution_count": 126,
   "metadata": {
    "collapsed": false
   },
   "outputs": [
    {
     "name": "stdout",
     "output_type": "stream",
     "text": [
      "C:\\Users\\User\\AppData\\Roaming\\Microsoft\\Windows\\Themes\\TranscodedWallpaper.jpg\n"
     ]
    }
   ],
   "source": [
    "wallpaper, typ = reg_read('HKCU\\\\Control Panel\\\\Desktop\\\\Wallpaper')\n",
    "print wallpaper"
   ]
  },
  {
   "cell_type": "code",
   "execution_count": 127,
   "metadata": {
    "collapsed": false,
    "scrolled": true
   },
   "outputs": [
    {
     "data": {
      "image/png": "[encoded data removed]",
      "text/plain": [
       "<PIL.Image.Image image mode=RGB size=480x300 at 0xCFF89E8>"
      ]
     },
     "execution_count": 127,
     "metadata": {},
     "output_type": "execute_result"
    }
   ],
   "source": [
    "import PIL.Image\n",
    "im = PIL.Image.open(wallpaper)\n",
    "im.resize((im.size[0] / 4, im.size[1] / 4), resample=PIL.Image.LANCZOS)"
   ]
  },
  {
   "cell_type": "code",
   "execution_count": 128,
   "metadata": {
    "collapsed": false
   },
   "outputs": [
    {
     "name": "stdout",
     "output_type": "stream",
     "text": [
      "IPython.Notebook.File\n",
      "cmd.exe /K ipython notebook \"%1\"\n"
     ]
    }
   ],
   "source": [
    "ipynb_class = reg_read('HKCR\\\\.ipynb\\\\')[0]\n",
    "print ipynb_class\n",
    "ipynb_cmd = reg_read('HKCR\\\\' + ipynb_class + '\\\\shell\\\\open\\\\command\\\\')[0]\n",
    "print ipynb_cmd"
   ]
  },
  {
   "cell_type": "code",
   "execution_count": 129,
   "metadata": {
    "collapsed": false
   },
   "outputs": [
    {
     "data": {
      "text/plain": [
       "['AppEvents',\n",
       " 'Console',\n",
       " 'Control Panel',\n",
       " 'Environment',\n",
       " 'EUDC',\n",
       " 'Identities',\n",
       " 'Keyboard Layout',\n",
       " 'Network',\n",
       " 'Printers',\n",
       " 'Software',\n",
       " 'System',\n",
       " 'Uninstall',\n",
       " 'Volatile Environment']"
      ]
     },
     "execution_count": 129,
     "metadata": {},
     "output_type": "execute_result"
    }
   ],
   "source": [
    "reg_enum_keys('HKCU')"
   ]
  },
  {
   "cell_type": "code",
   "execution_count": 130,
   "metadata": {
    "collapsed": false
   },
   "outputs": [
    {
     "data": {
      "text/plain": [
       "[('', u'', 1),\n",
       " ('f.lux',\n",
       "  u'\"C:\\\\Users\\\\User\\\\AppData\\\\Local\\\\FluxSoftware\\\\Flux\\\\flux.exe\" /noshow',\n",
       "  1),\n",
       " ('TrueCrypt',\n",
       "  u'\"C:\\\\Program Files\\\\TrueCrypt\\\\TrueCrypt.exe\" /q preferences /a logon',\n",
       "  1),\n",
       " ('VeraCrypt',\n",
       "  u'\"C:\\\\Program Files\\\\VeraCrypt\\\\VeraCrypt.exe\" /q preferences /a logon',\n",
       "  1)]"
      ]
     },
     "execution_count": 130,
     "metadata": {},
     "output_type": "execute_result"
    }
   ],
   "source": [
    "reg_enum_values('HKCU\\\\Software\\\\Microsoft\\\\Windows\\\\CurrentVersion\\\\Run')"
   ]
  }
 ],
 "metadata": {
  "kernelspec": {
   "display_name": "Python 2",
   "language": "python",
   "name": "python2"
  },
  "language_info": {
   "codemirror_mode": {
    "name": "ipython",
    "version": 2
   },
   "file_extension": ".py",
   "mimetype": "text/x-python",
   "name": "python",
   "nbconvert_exporter": "python",
   "pygments_lexer": "ipython2",
   "version": "2.7.12"
  }
 },
 "nbformat": 4,
 "nbformat_minor": 2
}
